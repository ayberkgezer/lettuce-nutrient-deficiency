{
  "nbformat": 4,
  "nbformat_minor": 0,
  "metadata": {
    "colab": {
      "provenance": [],
      "gpuType": "L4",
      "machine_shape": "hm"
    },
    "kernelspec": {
      "name": "python3",
      "display_name": "Python 3"
    },
    "language_info": {
      "name": "python"
    },
    "accelerator": "GPU"
  },
  "cells": [
    {
      "cell_type": "code",
      "execution_count": 1,
      "metadata": {
        "colab": {
          "base_uri": "https://localhost:8080/"
        },
        "id": "iRGohlNhPyun",
        "outputId": "c83d4771-d882-4c8a-c2bf-a4e9c0462467"
      },
      "outputs": [
        {
          "output_type": "stream",
          "name": "stdout",
          "text": [
            "Tue Aug  6 07:54:21 2024       \n",
            "+---------------------------------------------------------------------------------------+\n",
            "| NVIDIA-SMI 535.104.05             Driver Version: 535.104.05   CUDA Version: 12.2     |\n",
            "|-----------------------------------------+----------------------+----------------------+\n",
            "| GPU  Name                 Persistence-M | Bus-Id        Disp.A | Volatile Uncorr. ECC |\n",
            "| Fan  Temp   Perf          Pwr:Usage/Cap |         Memory-Usage | GPU-Util  Compute M. |\n",
            "|                                         |                      |               MIG M. |\n",
            "|=========================================+======================+======================|\n",
            "|   0  NVIDIA L4                      Off | 00000000:00:03.0 Off |                    0 |\n",
            "| N/A   54C    P8              13W /  72W |      1MiB / 23034MiB |      0%      Default |\n",
            "|                                         |                      |                  N/A |\n",
            "+-----------------------------------------+----------------------+----------------------+\n",
            "                                                                                         \n",
            "+---------------------------------------------------------------------------------------+\n",
            "| Processes:                                                                            |\n",
            "|  GPU   GI   CI        PID   Type   Process name                            GPU Memory |\n",
            "|        ID   ID                                                             Usage      |\n",
            "|=======================================================================================|\n",
            "|  No running processes found                                                           |\n",
            "+---------------------------------------------------------------------------------------+\n"
          ]
        }
      ],
      "source": [
        "!nvidia-smi"
      ]
    },
    {
      "cell_type": "code",
      "source": [
        "from google.colab import drive\n",
        "drive.mount('/content/drive')"
      ],
      "metadata": {
        "colab": {
          "base_uri": "https://localhost:8080/"
        },
        "id": "ZXdkG0oTP4Fp",
        "outputId": "f7b43152-e61c-4595-9a34-7c9842c859b5"
      },
      "execution_count": 2,
      "outputs": [
        {
          "output_type": "stream",
          "name": "stdout",
          "text": [
            "Mounted at /content/drive\n"
          ]
        }
      ]
    },
    {
      "cell_type": "code",
      "source": [
        "!unzip /content/drive/MyDrive/NPK-Marul.v1i.mt-yolov6.zip"
      ],
      "metadata": {
        "id": "IdrfiHhUP6tY",
        "colab": {
          "base_uri": "https://localhost:8080/"
        },
        "outputId": "47c4771c-1b0f-4216-90b8-daff0d40a429"
      },
      "execution_count": 3,
      "outputs": [
        {
          "output_type": "stream",
          "name": "stdout",
          "text": [
            "\u001b[1;30;43mGörüntülenen çıkış son 5000 satıra kısaltıldı.\u001b[0m\n",
            " extracting: images/train/0605153852_jpg.rf.6221aad0c24299e598ec6d2b842434a5.jpg  \n",
            " extracting: images/train/0605153852_jpg.rf.64025c0ee56f01398af4ab080880eb84.jpg  \n",
            " extracting: images/train/0605153852_jpg.rf.9df2a65bb1181ce5b03eb04619704b06.jpg  \n",
            " extracting: images/train/0605153852_jpg.rf.f2bdc36b1bd0325c506685222aaefb38.jpg  \n",
            " extracting: images/train/0605153852_jpg.rf.fcb4ee7e43a1ed0d3e0951998805b617.jpg  \n",
            " extracting: images/train/0605153932_jpg.rf.03be68a0c844fbbcf1c22d4cedd1517f.jpg  \n",
            " extracting: images/train/0605153932_jpg.rf.0ce7021d51d0da4898b88803a5ee7eb6.jpg  \n",
            " extracting: images/train/0605153932_jpg.rf.42a7730b917bc109862425030dfa786f.jpg  \n",
            " extracting: images/train/0605153932_jpg.rf.515b24b3f5a296a13b06bd7a34bd38e0.jpg  \n",
            " extracting: images/train/0605153932_jpg.rf.9c877f87345f8fb31b1a24f2893844e0.jpg  \n",
            " extracting: images/train/0605153932_jpg.rf.a1b5c75ad60fc8c12e06b30d51853781.jpg  \n",
            " extracting: images/train/0605153932_jpg.rf.d041b3d981a7c1949e52a9186fe5d54e.jpg  \n",
            " extracting: images/train/0605153932_jpg.rf.d2fdbbc293b1f9254d417c764ed51f3e.jpg  \n",
            " extracting: images/train/0605153932_jpg.rf.fad8e627c5cf7b313a2bd86e63531138.jpg  \n",
            " extracting: images/train/0605154022_jpg.rf.14fe1b1d6c06bb7db44af3d913dcdf2f.jpg  \n",
            " extracting: images/train/0605154022_jpg.rf.4aec6d0ff633e39a98189b84f8ecb730.jpg  \n",
            " extracting: images/train/0605154022_jpg.rf.4d887fb4820f69a058e30df4f6fe54f1.jpg  \n",
            " extracting: images/train/0605154022_jpg.rf.58b7d23169f792e14f88e94adb01d210.jpg  \n",
            " extracting: images/train/0605154022_jpg.rf.9bd3541d771514e5663fb8fae11bd7d9.jpg  \n",
            " extracting: images/train/0605154022_jpg.rf.a421fa441607e78cfb61dabc00356ace.jpg  \n",
            " extracting: images/train/0605154022_jpg.rf.b0cd9a502e353bc7b0020b0dc2c43405.jpg  \n",
            " extracting: images/train/0605154022_jpg.rf.f19857c792a48f1860d986f96e8c15ea.jpg  \n",
            " extracting: images/train/0605154052_jpg.rf.275fc98eb0bf57ed44edc0814d84db10.jpg  \n",
            " extracting: images/train/0605154052_jpg.rf.290635d3572a9f28105bcaa4930c6af8.jpg  \n",
            " extracting: images/train/0605154052_jpg.rf.53cc7151bb2d13a12cb3456cbd20b5af.jpg  \n",
            " extracting: images/train/0605154052_jpg.rf.7225fb10c6fffba81137cbe4e4ffce98.jpg  \n",
            " extracting: images/train/0605154052_jpg.rf.93a2fa427e972aaf76f920c4ed69f464.jpg  \n",
            " extracting: images/train/0605154052_jpg.rf.c40125e67b80e98845ba225620a99afb.jpg  \n",
            " extracting: images/train/0605154052_jpg.rf.d5f0e8a145137983434ae41efa4f6356.jpg  \n",
            " extracting: images/train/0605154052_jpg.rf.d89c88c478373bf03cf997426216efeb.jpg  \n",
            " extracting: images/train/0605154052_jpg.rf.f05e1b4ec5291cec5f2e1fb4d069ee81.jpg  \n",
            " extracting: images/train/0605154201_jpg.rf.02de6e1eee9e832417a87504c3056d5b.jpg  \n",
            " extracting: images/train/0605154201_jpg.rf.7213b69da393a32f692b8c4b709b1f05.jpg  \n",
            " extracting: images/train/0605154201_jpg.rf.79e5da1c6aaea85daf2fed8e58c060ac.jpg  \n",
            " extracting: images/train/0605154201_jpg.rf.7dc5d884896430fa582bebed73b09ed0.jpg  \n",
            " extracting: images/train/0605154201_jpg.rf.8445193a55f52d3ed5b8e7e63ea5cf1b.jpg  \n",
            " extracting: images/train/0605154201_jpg.rf.bc7b3dd90f0a827e1a8cb7985994233d.jpg  \n",
            " extracting: images/train/0605154201_jpg.rf.c59abdfde2fc255e05b676a850043120.jpg  \n",
            " extracting: images/train/0605154201_jpg.rf.c6cca80da436ee471670738c51b405ab.jpg  \n",
            " extracting: images/train/0605154201_jpg.rf.fb55cf65cf83458d0a4e1f867cb22324.jpg  \n",
            " extracting: images/train/0605154250_jpg.rf.07003767f205aea0f56cb31d0c615c7a.jpg  \n",
            " extracting: images/train/0605154250_jpg.rf.38036e0f7ea119acb23661d1748e06d0.jpg  \n",
            " extracting: images/train/0605154250_jpg.rf.3c1fe7c7b9744bbf1647959aea22cd3e.jpg  \n",
            " extracting: images/train/0605154250_jpg.rf.6548f25104634720f11729fcb329a8ad.jpg  \n",
            " extracting: images/train/0605154250_jpg.rf.7b06a9f92f0ddae77d1b4b708c9f0299.jpg  \n",
            " extracting: images/train/0605154250_jpg.rf.a30a43e43d94cafd5bb8899b91ae0a21.jpg  \n",
            " extracting: images/train/0605154250_jpg.rf.d8abfcb00b7a164af206eaaca689da24.jpg  \n",
            " extracting: images/train/0605154250_jpg.rf.db39283edb79b17b5ea72adaedb54d1e.jpg  \n",
            " extracting: images/train/0605154330_jpg.rf.205991a04d944c7225c2742030254bf8.jpg  \n",
            " extracting: images/train/0605154330_jpg.rf.366fd7a14c25d53334d43099f0ced693.jpg  \n",
            " extracting: images/train/0605154330_jpg.rf.384b55f90736360515043c5cf890a965.jpg  \n",
            " extracting: images/train/0605154330_jpg.rf.3bb2d875b4bcbda8d911dbf65ed6bd5e.jpg  \n",
            " extracting: images/train/0605154330_jpg.rf.46d2ca478784bc819b043f2fa1c85557.jpg  \n",
            " extracting: images/train/0605154330_jpg.rf.602877528f4fd28625bb2ae3c63091c1.jpg  \n",
            " extracting: images/train/0605154330_jpg.rf.8757924f129fe7f567d77134355b77a2.jpg  \n",
            " extracting: images/train/0605154330_jpg.rf.d52eceb67febfde8958d8b2224e60f21.jpg  \n",
            " extracting: images/train/0605154330_jpg.rf.ed1d242b84ad2d6dd2e05a463a5b050f.jpg  \n",
            " extracting: images/train/0605154445_jpg.rf.5a43773d6b69e85f561c1324c7ec683e.jpg  \n",
            " extracting: images/train/0605154445_jpg.rf.b2d55fc36775a978a4df23cb0ff97134.jpg  \n",
            " extracting: images/train/0605154445_jpg.rf.beba27ce43791a4a3a4908aaa1318da3.jpg  \n",
            " extracting: images/train/IMG20230517093626_01_jpg.rf.2beb2c5196582392897c98640865080a.jpg  \n",
            " extracting: images/train/IMG20230517093626_01_jpg.rf.bee7e44f92998f47c08a1696c1faa935.jpg  \n",
            " extracting: images/train/IMG20230517093626_01_jpg.rf.ee8dc75a9e6a2ead91d7d410f37ab8d8.jpg  \n",
            " extracting: images/train/IMG20230517093633_01_jpg.rf.3b39a6e5bdedd79a3ac9bf18535790cd.jpg  \n",
            " extracting: images/train/IMG20230517093633_01_jpg.rf.5471fecd60aeb984341a32b988c21ec6.jpg  \n",
            " extracting: images/train/IMG20230517093633_01_jpg.rf.9f2222195bf26d0ee1c7077d8655a659.jpg  \n",
            " extracting: images/train/IMG20230517093649_01_jpg.rf.23bd155e7a892d79a2e8e5f2a902d708.jpg  \n",
            " extracting: images/train/IMG20230517093649_01_jpg.rf.a610525f9c44254858d8e38e62c92db4.jpg  \n",
            " extracting: images/train/IMG20230517093649_01_jpg.rf.c09ecc4a06ac256e116b49abc76d8ed9.jpg  \n",
            " extracting: images/train/IMG20230527072155_01_jpg.rf.1626d53eeed524582879f57498bb53f8.jpg  \n",
            " extracting: images/train/IMG20230527072155_01_jpg.rf.3acb2a07c9afa173e756c708a7906262.jpg  \n",
            " extracting: images/train/IMG20230527072155_01_jpg.rf.c711883329adf45aaa7dedca8940949c.jpg  \n",
            " extracting: images/train/IMG20230527072203_01_jpg.rf.2997fbeda650b6c58940c8b2b36c1b2e.jpg  \n",
            " extracting: images/train/IMG20230527072203_01_jpg.rf.33b07bf6394eb725110485e3ec457147.jpg  \n",
            " extracting: images/train/IMG20230527072203_01_jpg.rf.49c3641176ae47acd9b4ce2c42343eb8.jpg  \n",
            " extracting: images/train/IMG20230527072203_01_jpg.rf.5b505ee5d414d6d665b6dfa685279e34.jpg  \n",
            " extracting: images/train/IMG20230527072203_01_jpg.rf.9e19bed254c442c56f459c5d768f4752.jpg  \n",
            " extracting: images/train/IMG20230527072203_01_jpg.rf.f67bc0b31d8bd4cc40efef6b66b1eb78.jpg  \n",
            " extracting: images/train/IMG20230527072207_01_jpg.rf.05072aa078b8ec3a7668de73bf76b39c.jpg  \n",
            " extracting: images/train/IMG20230527072207_01_jpg.rf.193165b994a15cc754312d4b418b51cf.jpg  \n",
            " extracting: images/train/IMG20230527072207_01_jpg.rf.31823bbc30d2f2afc87bcaf72abb9b3f.jpg  \n",
            " extracting: images/train/IMG20230527072207_01_jpg.rf.60830677edc5c5903b966de9bb8f10a6.jpg  \n",
            " extracting: images/train/IMG20230527072207_01_jpg.rf.72d6776273cbdcc1521d216e28e48af6.jpg  \n",
            " extracting: images/train/IMG20230527072207_01_jpg.rf.9c512e4909a64938d5679e27c5de9399.jpg  \n",
            " extracting: images/train/IMG20230527072207_01_jpg.rf.d51363656d5ebc0f0709fa809542277a.jpg  \n",
            " extracting: images/train/IMG20230527072207_01_jpg.rf.dd6ece09f2af3650bb7cb254a757b53a.jpg  \n",
            " extracting: images/train/IMG20230527072207_01_jpg.rf.edc1902f8bcfaad2365d8efe775e8647.jpg  \n",
            " extracting: images/train/IMG20230527072207_01_jpg.rf.f34441bd0ad96d29126cd96aa35aa800.jpg  \n",
            " extracting: images/train/IMG20230527072207_01_jpg.rf.f3bc581996816386d3aab5f0c44ac3ca.jpg  \n",
            " extracting: images/train/IMG20230527072207_01_jpg.rf.f86235a8a1979971318cab3d37369d00.jpg  \n",
            " extracting: images/train/IMG20230527072240_01_jpg.rf.0cd3c86c9f2df1352d526beabcb64bf1.jpg  \n",
            " extracting: images/train/IMG20230527072240_01_jpg.rf.12c61279e3948dff5d8dc638b0515efb.jpg  \n",
            " extracting: images/train/IMG20230527072240_01_jpg.rf.8a5d485af3e136b0061237de16d7bc3f.jpg  \n",
            " extracting: images/train/IMG20230529174246_01_jpg.rf.7d853a65d7369721e6ba4a7cec44d1e0.jpg  \n",
            " extracting: images/train/IMG20230529174246_01_jpg.rf.cd9abdbad62edc677ab1792816bbb0e4.jpg  \n",
            " extracting: images/train/IMG20230529174246_01_jpg.rf.e3af0ca54ca56f7c2b8abeb71d1299f1.jpg  \n",
            " extracting: images/train/IMG20230529174313_01_jpg.rf.93c19c0489456d70bace95632304506d.jpg  \n",
            " extracting: images/train/IMG20230529174313_01_jpg.rf.ce664c2a17a864b5c0fe0c442bfe00bb.jpg  \n",
            " extracting: images/train/IMG20230529174313_01_jpg.rf.dc4597da5797b625577c2ec3e448fb78.jpg  \n",
            " extracting: images/train/IMG20230529175002_02_jpg.rf.0bf6445f6e7e77faf13e69f65e28e0ba.jpg  \n",
            " extracting: images/train/IMG20230529175002_02_jpg.rf.488081f31f94b6de7a7a339f8e02fdfe.jpg  \n",
            " extracting: images/train/IMG20230529175002_02_jpg.rf.b1db4e7bd6f18b6bad58f4f59c877785.jpg  \n",
            " extracting: images/train/IMG20230529175008_01_jpg.rf.0001626dc192a79a3dffc6c36682a741.jpg  \n",
            " extracting: images/train/IMG20230529175008_01_jpg.rf.41d3b457f251bc2bca0928f99b5f8665.jpg  \n",
            " extracting: images/train/IMG20230529175008_01_jpg.rf.e8e351cc5744ddb24ae4414765ea9711.jpg  \n",
            " extracting: images/train/IMG20230529175011_01_jpg.rf.09ada34ddf61c99efdd682a8476a838a.jpg  \n",
            " extracting: images/train/IMG20230529175011_01_jpg.rf.a3f8c046349318588ad7dbb05482a83b.jpg  \n",
            " extracting: images/train/IMG20230529175011_01_jpg.rf.e0f8efd4ab81df963b752906656006b7.jpg  \n",
            " extracting: images/train/IMG20230529175012_01_jpg.rf.160b56c0c502fce41fe1bc24c9e2f62d.jpg  \n",
            " extracting: images/train/IMG20230529175012_01_jpg.rf.a4cb88422790415ac1a91f9c36c4ce7a.jpg  \n",
            " extracting: images/train/IMG20230529175012_01_jpg.rf.be805679618bc1b21387a34c3d0b5596.jpg  \n",
            " extracting: images/train/IMG20230529175016_01_jpg.rf.64e8058bb23fea0defa9bbaae4bbb248.jpg  \n",
            " extracting: images/train/IMG20230529175016_01_jpg.rf.717c4b78013376ccc48395a866061eee.jpg  \n",
            " extracting: images/train/IMG20230529175016_01_jpg.rf.cc5eb4326c8eed25723014ded7f5ebf3.jpg  \n",
            " extracting: images/train/IMG20230529175058_01_jpg.rf.689ec6c2def314ca4a179b708d4e6646.jpg  \n",
            " extracting: images/train/IMG20230529175058_01_jpg.rf.7349d456f89582e02e06c000060c6993.jpg  \n",
            " extracting: images/train/IMG20230529175104_01_jpg.rf.09d8d0010d0d9fad80afcb28273288f2.jpg  \n",
            " extracting: images/train/IMG20230529175104_01_jpg.rf.5184bf6afe1b2ccb508c49bd85808fbe.jpg  \n",
            " extracting: images/train/IMG20230529175104_01_jpg.rf.e44735978776b58a33aec463e08eed99.jpg  \n",
            " extracting: images/train/IMG20230529175109_01_jpg.rf.5070dd9d8c2b824ed963283689b4b34e.jpg  \n",
            " extracting: images/train/IMG20230529175109_01_jpg.rf.6c606c0642b9e52f687fdc40f2ee6357.jpg  \n",
            " extracting: images/train/IMG20230529175109_01_jpg.rf.caa7f933a1d12f962762b671b6062134.jpg  \n",
            " extracting: images/train/IMG20230529175118_01_jpg.rf.8af997dd5f0a57ee2d1cf460b4634125.jpg  \n",
            " extracting: images/train/IMG20230529175118_01_jpg.rf.990ebe6f0e623808da508fa27740913f.jpg  \n",
            " extracting: images/train/IMG20230529175118_01_jpg.rf.a558fe2d957ff9cf3492d356ac06066f.jpg  \n",
            " extracting: images/train/IMG20230529175118_03_jpg.rf.1d37791299da0ffa2f9f850ba0b5619a.jpg  \n",
            " extracting: images/train/IMG20230529175118_03_jpg.rf.5819b103629c8df61888feafd1b3e528.jpg  \n",
            " extracting: images/train/IMG20230529175118_03_jpg.rf.f2f8e1bf66053214232e6098fd8c05d4.jpg  \n",
            " extracting: images/train/IMG20230529175125_01_jpg.rf.58231489a218201ba62593d5cf3b25b7.jpg  \n",
            " extracting: images/train/IMG20230529175125_01_jpg.rf.5bbf71d70b278d1d8e588ada65b7bb62.jpg  \n",
            " extracting: images/train/IMG20230529175125_01_jpg.rf.8ad7f3ae86dda4f78ea2d32a5fe6003c.jpg  \n",
            " extracting: images/train/IMG20230529175127_01_jpg.rf.07a24eaa9f228ae3ee0a1144c6d501f5.jpg  \n",
            " extracting: images/train/IMG20230529175127_01_jpg.rf.6e85b866baa7cc9e743702958dee46e4.jpg  \n",
            " extracting: images/train/IMG20230529175127_01_jpg.rf.93147193a4ca0cf790221b1a37f3374f.jpg  \n",
            " extracting: images/train/IMG20230529175131_jpg.rf.a023d8ab66e6a13818a2cc130be8930b.jpg  \n",
            " extracting: images/train/IMG20230529175131_jpg.rf.aff577ac82cb9f5ca664388f66f92559.jpg  \n",
            " extracting: images/train/IMG20230529175131_jpg.rf.f9fa7e52a472dc15e42a7331a5a3b81d.jpg  \n",
            " extracting: images/train/IMG20230530065407_01_jpg.rf.02a2b0f4b8a06d97ce59b8b1c60a58fd.jpg  \n",
            " extracting: images/train/IMG20230530065407_01_jpg.rf.865b1ce3c8cead9f2a35303f991aef3d.jpg  \n",
            " extracting: images/train/IMG20230530065407_01_jpg.rf.ad04bb9bb98aeb858553305f83ea7ea9.jpg  \n",
            " extracting: images/train/IMG20230530065431_01_jpg.rf.a692e1ae47504ecd53a9ce81b931bc72.jpg  \n",
            " extracting: images/train/IMG20230530065431_01_jpg.rf.d91f02f714db54b511eaa9f0b6c87112.jpg  \n",
            " extracting: images/train/IMG20230530065431_01_jpg.rf.fcf02577a2d676b95f1ffaac30e51167.jpg  \n",
            " extracting: images/train/IMG20230530065431_03_jpg.rf.1b509d09ed00533e576a712973c23804.jpg  \n",
            " extracting: images/train/IMG20230530065431_03_jpg.rf.9090447e98e6781d588647fb0cec8b1b.jpg  \n",
            " extracting: images/train/IMG20230530065431_03_jpg.rf.d12db6184cc87847f0b7b04d85eb195c.jpg  \n",
            " extracting: images/train/IMG20230530065432_01_jpg.rf.07d3b426d2b68f0bb8c4e624b377b0ec.jpg  \n",
            " extracting: images/train/IMG20230530065432_01_jpg.rf.452908dc2acb937f2344e94228c1331b.jpg  \n",
            " extracting: images/train/IMG20230530065432_01_jpg.rf.b8cb949143b16cb9a2afcd63c0ce6b9b.jpg  \n",
            " extracting: images/train/IMG20230530065435_01_jpg.rf.32ec55b4ba1beaf168b2d5d7805e2f51.jpg  \n",
            " extracting: images/train/IMG20230530065435_01_jpg.rf.49c9fdcd2dd2b390723ccf680d7de297.jpg  \n",
            " extracting: images/train/IMG20230530065435_01_jpg.rf.67f85e155218dd80cee6490f13d8948c.jpg  \n",
            " extracting: images/train/IMG20230530065435_03_jpg.rf.ac38ce733cad9d1cc794ec36cadc31e5.jpg  \n",
            " extracting: images/train/IMG20230530065435_03_jpg.rf.b98a70a296a15072d44819c3423f6785.jpg  \n",
            " extracting: images/train/IMG20230530065435_03_jpg.rf.c1af8efdb5a225095a6d3987a4d3dc07.jpg  \n",
            " extracting: images/train/IMG20230530065442_02_jpg.rf.2320b36629e08e57cebb969aa193ddd7.jpg  \n",
            " extracting: images/train/IMG20230530065442_02_jpg.rf.b5b1fe69d3b052a5350f97c04331999a.jpg  \n",
            " extracting: images/train/IMG20230530065442_02_jpg.rf.dfca6b62e3dea6c4a4a696337fc21fd5.jpg  \n",
            " extracting: images/train/IMG20230530065442_jpg.rf.684cfd0cee0536041d45ce5ffc502127.jpg  \n",
            " extracting: images/train/IMG20230530065442_jpg.rf.691decf51ea4ff074df9b5de93d67a71.jpg  \n",
            " extracting: images/train/IMG20230530065442_jpg.rf.edb026a8081c95b5bebd874eebe5bdc7.jpg  \n",
            " extracting: images/train/IMG20230530065443_01_jpg.rf.36c19fc69b9b4b8bd54032d277460da7.jpg  \n",
            " extracting: images/train/IMG20230530065443_01_jpg.rf.4c6fac6c24d583524f3481a04928dbdf.jpg  \n",
            " extracting: images/train/IMG20230530065443_01_jpg.rf.9cc4c75c5974675b901bb38aa022c42c.jpg  \n",
            " extracting: images/train/IMG20230530065454_01_jpg.rf.2e9b243f42e0461b85b641e709c61725.jpg  \n",
            " extracting: images/train/IMG20230530065454_01_jpg.rf.5594f492fc8b92856c4e03e962528032.jpg  \n",
            " extracting: images/train/IMG20230530065454_01_jpg.rf.ef3effab7f99794363f8fc88e0a7e4b6.jpg  \n",
            " extracting: images/train/IMG20230530065455_01_jpg.rf.57b7014b0bfac9728c0982eae49a4dd3.jpg  \n",
            " extracting: images/train/IMG20230530065455_01_jpg.rf.67577cfa17d25d50bfcc34d188da78d7.jpg  \n",
            " extracting: images/train/IMG20230530065455_01_jpg.rf.8e743d65f5cb0267dde8dd48f2a2eb48.jpg  \n",
            " extracting: images/train/IMG20230530065456_01_jpg.rf.a331eb9dc4850cd63889c9e0d8db0462.jpg  \n",
            " extracting: images/train/IMG20230530065456_01_jpg.rf.c5f1d0017f3b3c4292b6b60839e48600.jpg  \n",
            " extracting: images/train/IMG20230530065456_01_jpg.rf.fe99c66d912535c8c7f915489fd7884f.jpg  \n",
            " extracting: images/train/IMG20230530065457_01_jpg.rf.2568e8b96d7e59ce3741ca99e46e31c4.jpg  \n",
            " extracting: images/train/IMG20230530065457_01_jpg.rf.80982dfbebc40b25149be5f4356a9170.jpg  \n",
            " extracting: images/train/IMG20230530065457_01_jpg.rf.e33117f701b6515619d37b6d759f901a.jpg  \n",
            " extracting: images/train/IMG20230530065459_01_jpg.rf.3361b258f6e7df48b3e08b429a8b480b.jpg  \n",
            " extracting: images/train/IMG20230530065459_01_jpg.rf.4d9df9d0af3940a5db6933b89de49b91.jpg  \n",
            " extracting: images/train/IMG20230530065500_01_jpg.rf.5e83cc61108963c8211a68ddad43ec2a.jpg  \n",
            " extracting: images/train/IMG20230530065500_01_jpg.rf.bcf65dfb54eed0b2d3886a2313fbea1d.jpg  \n",
            " extracting: images/train/IMG20230530065500_01_jpg.rf.d4517376b1b06ac25123e7c1c52268c0.jpg  \n",
            " extracting: images/train/IMG20230530065501_01_jpg.rf.ca15d19d5a00b8f6c4d96ea7e0abd657.jpg  \n",
            " extracting: images/train/IMG20230530065501_01_jpg.rf.e375c94242e2ba4857da148d43719a1a.jpg  \n",
            " extracting: images/train/IMG20230530065501_01_jpg.rf.ec7e24e69460a748dd3ec37887029c0e.jpg  \n",
            " extracting: images/train/IMG20230530065502_01_jpg.rf.19bef274cea0cd4b0cdb64cab29fc7fa.jpg  \n",
            " extracting: images/train/IMG20230530065502_01_jpg.rf.832491a562d1d33e79584178f51fcbcf.jpg  \n",
            " extracting: images/train/IMG20230530065502_01_jpg.rf.ee35178c16701c38deff9803bd22a660.jpg  \n",
            " extracting: images/train/IMG20230530065519_01_jpg.rf.311cb457ac3785c8e150645e7525a771.jpg  \n",
            " extracting: images/train/IMG20230530065519_01_jpg.rf.a4ac157abd1741ef8ef852906f237c6c.jpg  \n",
            " extracting: images/train/IMG20230530065519_03_jpg.rf.2e69f2e8a7decff9e1b50efacdec1693.jpg  \n",
            " extracting: images/train/IMG20230530065519_03_jpg.rf.3d6569d039279df79eaf2d0716869a55.jpg  \n",
            " extracting: images/train/IMG20230530065519_03_jpg.rf.e0d0842e513e2060b11fa2f3f3763174.jpg  \n",
            " extracting: images/train/IMG20230530065521_01_jpg.rf.14512f0b03c6d51331d912dca4657395.jpg  \n",
            " extracting: images/train/IMG20230530065521_01_jpg.rf.3a2b165ff6bd446a1eb6a9034d92929d.jpg  \n",
            " extracting: images/train/IMG20230530065521_01_jpg.rf.f0b73e6761cf426453bb2acb4b5f26d3.jpg  \n",
            " extracting: images/train/IMG20230530065538_01_jpg.rf.6fe92175586ba715b5c999d23a9ac1b2.jpg  \n",
            " extracting: images/train/IMG20230530065538_01_jpg.rf.9ebadc33bba014d34a35effbc2e822f2.jpg  \n",
            " extracting: images/train/IMG20230530065538_01_jpg.rf.b45504b3e9cb837d84d71eb90628a388.jpg  \n",
            " extracting: images/train/IMG20230530065538_03_jpg.rf.0d769c408b18c0c1df84e5ff71e2ff84.jpg  \n",
            " extracting: images/train/IMG20230530065538_03_jpg.rf.67364ed68a34a091b37708dba6f45cfc.jpg  \n",
            " extracting: images/train/IMG20230530065538_03_jpg.rf.8423217aed1d2f98b16b061c40a40f0c.jpg  \n",
            " extracting: images/train/IMG20230530065540_jpg.rf.5c135d5afe06b02c94e7651efdbbee73.jpg  \n",
            " extracting: images/train/IMG20230530065540_jpg.rf.5eb2783a008783ec3ddd0f3f299f8887.jpg  \n",
            " extracting: images/train/IMG20230530065540_jpg.rf.ceeefc7260dfcf973396dfab621d81b7.jpg  \n",
            " extracting: images/train/IMG20230530065541_01_jpg.rf.3913c3f6b0211b2b5b9efa6804b81d9f.jpg  \n",
            " extracting: images/train/IMG20230530065541_01_jpg.rf.6b432196de40440bf92ef8114a50e488.jpg  \n",
            " extracting: images/train/IMG20230530065541_01_jpg.rf.e25aaa953760ab132d0d9f77c7cdd884.jpg  \n",
            " extracting: images/train/IMG20230530065542_01_jpg.rf.69ccb5c8160afa57e68708b15e6ac33b.jpg  \n",
            " extracting: images/train/IMG20230530065542_01_jpg.rf.758cb1e03855cbbd209984fe2bf909bc.jpg  \n",
            " extracting: images/train/IMG20230530065542_01_jpg.rf.e9d1e57433bd3e5e68726eb715a101d9.jpg  \n",
            " extracting: images/train/IMG20230530065543_01_jpg.rf.19d0899bb4c45f728746faf35684799b.jpg  \n",
            " extracting: images/train/IMG20230530065543_01_jpg.rf.b41481bc72123413ac9917a821042191.jpg  \n",
            " extracting: images/train/IMG20230530065544_01_jpg.rf.2f15bb1f0645da9df1188f14d935f3c7.jpg  \n",
            " extracting: images/train/IMG20230530065544_01_jpg.rf.64f53032bafb46583deb966aef5064a5.jpg  \n",
            " extracting: images/train/IMG20230530065544_01_jpg.rf.890639a10cf9e2b353dc8db3112b8a2d.jpg  \n",
            " extracting: images/train/IMG20230530065545_01_jpg.rf.04c40c04fe36a334e4d79480f76e8a1e.jpg  \n",
            " extracting: images/train/IMG20230530065545_01_jpg.rf.a96ae5c796a1275c8a1b3b80e97ef7e5.jpg  \n",
            " extracting: images/train/IMG20230530065545_01_jpg.rf.c4f1e8b4e7f86ecf3d27d7c049ac7803.jpg  \n",
            " extracting: images/train/IMG20230530065553_01_jpg.rf.0e8b54a2abac22d9f2a4b739f1c2f0ef.jpg  \n",
            " extracting: images/train/IMG20230530065553_01_jpg.rf.5b61b3866ae86633ec5c54eb917c2436.jpg  \n",
            " extracting: images/train/IMG20230530065553_01_jpg.rf.ba387470b6d2dd61a89951bae9cd0a96.jpg  \n",
            " extracting: images/train/IMG20230530065643_01_jpg.rf.4e61d2890b08a3095643658c48487f82.jpg  \n",
            " extracting: images/train/IMG20230530065643_01_jpg.rf.f7352310e7cd052650ed56dd2692dbd2.jpg  \n",
            " extracting: images/train/IMG20230530065644_01_jpg.rf.8e60c98890736d8f2aced0d78cb2aca5.jpg  \n",
            " extracting: images/train/IMG20230530065644_01_jpg.rf.cecac55c8c3242870712e22772eb3f85.jpg  \n",
            " extracting: images/train/IMG20230530065645_01_jpg.rf.3d4ebf8ca913e13cae95025bd1ce023c.jpg  \n",
            " extracting: images/train/IMG20230530065645_01_jpg.rf.840c16cfb040e82ed343d7a8e77424aa.jpg  \n",
            " extracting: images/train/IMG20230530065655_jpg.rf.102fb6cd37e1fc9cf4d7ad157819bf51.jpg  \n",
            " extracting: images/train/IMG20230530065655_jpg.rf.33ca362ebf6d88ace1cfbadeb4898b7a.jpg  \n",
            " extracting: images/train/IMG20230530065655_jpg.rf.f1f0811e04602b56f38b4de5e7dca51c.jpg  \n",
            " extracting: images/train/IMG20230530065657_01_jpg.rf.02e7f6ef12d7776530b2a94ac5b968ad.jpg  \n",
            " extracting: images/train/IMG20230530065657_01_jpg.rf.2ef84d18012b8502c8221251c0ffb7d9.jpg  \n",
            " extracting: images/train/IMG20230530065657_01_jpg.rf.c108be58cdbbdb47a8d8aa6ace5b8ca4.jpg  \n",
            " extracting: images/train/IMG20230530065713_01_jpg.rf.191595b766e0d37769e3d467516b7a28.jpg  \n",
            " extracting: images/train/IMG20230530065713_01_jpg.rf.a637628603e4c2859907f89bdc001626.jpg  \n",
            " extracting: images/train/IMG20230530065713_01_jpg.rf.c51941db9e056dad7936f6229f708db0.jpg  \n",
            " extracting: images/train/IMG20230530065746_01_jpg.rf.4ee8c62f278c59fba53ca51fb3e18e79.jpg  \n",
            " extracting: images/train/IMG20230530065746_01_jpg.rf.a73c0d71c030296f0169147c20477ac9.jpg  \n",
            " extracting: images/train/IMG20230530065746_01_jpg.rf.a9171a6d6f2f619140fdc4f434e6a10a.jpg  \n",
            " extracting: images/train/IMG20230530065751_01_jpg.rf.081413085d25907ed68b43f02c12fd13.jpg  \n",
            " extracting: images/train/IMG20230530065751_01_jpg.rf.54bc8543c2143921500f214da7a3b933.jpg  \n",
            " extracting: images/train/IMG20230530065751_01_jpg.rf.d65f5184ddf881d813c3f60842778860.jpg  \n",
            " extracting: images/train/IMG20230530065754_01_jpg.rf.1b2f5b83336f9298572e464410b03df4.jpg  \n",
            " extracting: images/train/IMG20230530065754_01_jpg.rf.b2cfab7466c1084033c2df23ab228d31.jpg  \n",
            " extracting: images/train/IMG20230530065754_01_jpg.rf.c90c8b15dd8b0a2c764963ad1d1b90a6.jpg  \n",
            " extracting: images/train/IMG20230530065756_01_jpg.rf.6c041dc25308f0e2b7ff608c119295dd.jpg  \n",
            " extracting: images/train/IMG20230530065756_01_jpg.rf.707b0d5f332b2d82b5e61cfcecc281e1.jpg  \n",
            " extracting: images/train/IMG20230530065756_01_jpg.rf.be4bc21fb0c7fef2b614cded924c0732.jpg  \n",
            " extracting: images/train/IMG20230530065800_01_jpg.rf.5cd8d7189c97acf70a72958e2bd0c903.jpg  \n",
            " extracting: images/train/IMG20230530065800_01_jpg.rf.7f95e6f981409a0f0e2dddf400eae1fe.jpg  \n",
            " extracting: images/train/IMG20230530065800_01_jpg.rf.d49edbcb22200b697637abe5d114ad74.jpg  \n",
            " extracting: images/train/IMG20230530065806_01_jpg.rf.1740d972b465c4c788e9824578a3f2eb.jpg  \n",
            " extracting: images/train/IMG20230530065806_01_jpg.rf.a1e2f3d74811b1528e1f0f027bd54bb8.jpg  \n",
            " extracting: images/train/IMG20230530065806_01_jpg.rf.c86659dccff8af0fc95c928be8405b58.jpg  \n",
            " extracting: images/train/IMG20230530065810_01_jpg.rf.33138442e5cd52feef178eaa8daf81ee.jpg  \n",
            " extracting: images/train/IMG20230530065810_01_jpg.rf.6e788ea83210cb8b4ac11ba615b73770.jpg  \n",
            " extracting: images/train/IMG20230530065810_01_jpg.rf.7c7756187fafb73913d3035115e81963.jpg  \n",
            " extracting: images/train/IMG20230530065833_01_jpg.rf.681c4ff0cd2df74b4d314bb93263d823.jpg  \n",
            " extracting: images/train/IMG20230530065833_01_jpg.rf.81286f6cff07f1f00f91496aa7455812.jpg  \n",
            " extracting: images/train/IMG20230530065833_01_jpg.rf.c51f5969d6e0a8824b7a1c8d571bb965.jpg  \n",
            " extracting: images/train/IMG20230530065850_01_jpg.rf.89e57c32eb9bd0dd53effa67cb90d405.jpg  \n",
            " extracting: images/train/IMG20230530065850_01_jpg.rf.949e0cddcaae3ba7d61c6f89f028b477.jpg  \n",
            " extracting: images/train/IMG20230530065850_01_jpg.rf.ce1ef7581d1521a52a06daa852b84428.jpg  \n",
            " extracting: images/train/IMG20230530065852_01_jpg.rf.17ec224cf4773e631fdee7bfd1d0af86.jpg  \n",
            " extracting: images/train/IMG20230530065852_01_jpg.rf.1d25e21f3561af11d9076eb89febb1bb.jpg  \n",
            " extracting: images/train/IMG20230530065852_01_jpg.rf.cb463dc48d297246c44825233851d04a.jpg  \n",
            " extracting: images/train/IMG20230530065858_01_jpg.rf.3ef2c3bb17b01d9909c06267c9762bf6.jpg  \n",
            " extracting: images/train/IMG20230530065858_01_jpg.rf.c5b8ca018b3d3769d305f01413316a4e.jpg  \n",
            " extracting: images/train/IMG20230530065858_01_jpg.rf.eb024d28e096e196367f3e87792eeac9.jpg  \n",
            " extracting: images/train/IMG20230530065901_01_jpg.rf.26f9c97c80039ac49ca61164f6555650.jpg  \n",
            " extracting: images/train/IMG20230530065901_01_jpg.rf.885ec3e81c50d52aa687a1ab7acd4b66.jpg  \n",
            " extracting: images/train/IMG20230530065901_01_jpg.rf.96251f4444044c1ce5e7467d78fddf06.jpg  \n",
            " extracting: images/train/IMG20230530065906_01_jpg.rf.2a3213258fa7f8b2e639f0400399992c.jpg  \n",
            " extracting: images/train/IMG20230530065906_01_jpg.rf.3b20fb36a13fd19bff98098c6df20e7e.jpg  \n",
            " extracting: images/train/IMG20230530065906_01_jpg.rf.be7e5dab7b653baad1c35788340257ed.jpg  \n",
            " extracting: images/train/IMG20230530065921_jpg.rf.26abbb165fda741264a7cd22571d347a.jpg  \n",
            " extracting: images/train/IMG20230530065921_jpg.rf.c59e787c20690c587207a156d50c500c.jpg  \n",
            " extracting: images/train/IMG20230530065921_jpg.rf.de4e3fc1c53ba12a6250b745651c06f6.jpg  \n",
            " extracting: images/train/IMG20230530065926_01_jpg.rf.0f797e14a97d8d9ead74b0dfed2dcfdd.jpg  \n",
            " extracting: images/train/IMG20230530065926_01_jpg.rf.6a4ebb78046fb98f8ceebde7cf1c5953.jpg  \n",
            " extracting: images/train/IMG20230530065926_01_jpg.rf.9f2316ccaa9909be1209eb1fab9f5b66.jpg  \n",
            " extracting: images/train/IMG20230530065954_jpg.rf.00fe4c107f0df16e6dccd2b504a71bd6.jpg  \n",
            " extracting: images/train/IMG20230530065954_jpg.rf.afe70d05153fc02f35de63f0193e86f6.jpg  \n",
            " extracting: images/train/IMG20230530065954_jpg.rf.d03ccf2994c5092d364f3cdab2fb1412.jpg  \n",
            " extracting: images/train/IMG20230530065955_01_jpg.rf.7763c1ccfa9625338e4a618871274eac.jpg  \n",
            " extracting: images/train/IMG20230530065955_01_jpg.rf.8ef705d121af03a12fe96fd162461ff5.jpg  \n",
            " extracting: images/train/IMG20230530065955_01_jpg.rf.d885ea54dd6431b70b176bee1848a49f.jpg  \n",
            " extracting: images/train/IMG20230530065957_01_jpg.rf.4ef3b604f32e71f916f6c608d9628119.jpg  \n",
            " extracting: images/train/IMG20230530065957_01_jpg.rf.76a3bd210561ca4e0994cff3d4f1789d.jpg  \n",
            " extracting: images/train/IMG20230530065957_01_jpg.rf.c71eeca7d036929e22948bc4c9538d5b.jpg  \n",
            " extracting: images/train/IMG20230530065959_jpg.rf.0d2e16f2fe572d3587ba711dbb247601.jpg  \n",
            " extracting: images/train/IMG20230530065959_jpg.rf.3c9690e838268a98385a947ebcc2320e.jpg  \n",
            " extracting: images/train/IMG20230530065959_jpg.rf.d62f76f7e7a4f593abfa892efb1fd465.jpg  \n",
            " extracting: images/train/IMG20230530070000_01_jpg.rf.52c47115be2bd8946c86ae08ec86488d.jpg  \n",
            " extracting: images/train/IMG20230530070000_01_jpg.rf.87fb0f85da9cf03bc108be35dafe77b0.jpg  \n",
            " extracting: images/train/IMG20230530070000_01_jpg.rf.f005bc21862d74257a9d05c27bb07d22.jpg  \n",
            " extracting: images/train/IMG20230530070020_01_jpg.rf.4a6e51c3ca40e712fbd733635c3e227f.jpg  \n",
            " extracting: images/train/IMG20230530070020_01_jpg.rf.96dd056d81c45844147ecb19d4e7740f.jpg  \n",
            " extracting: images/train/IMG20230530070020_01_jpg.rf.aefbdd32c37c1e61b64cb984bd49e9f9.jpg  \n",
            " extracting: images/train/IMG20230530070024_01_jpg.rf.13f41b27d1295dedb7500942fe2f0ada.jpg  \n",
            " extracting: images/train/IMG20230530070024_01_jpg.rf.a9a80965eaf072faa3f000e79b81ae89.jpg  \n",
            " extracting: images/train/IMG20230530070024_01_jpg.rf.c5b924655b1964a63dd97d416abb424d.jpg  \n",
            " extracting: images/train/IMG20230530070025_01_jpg.rf.3a3a430998e59d2d4602b56388abb09d.jpg  \n",
            " extracting: images/train/IMG20230530070025_01_jpg.rf.3fd444baec2d26b7ead89f60466c77c2.jpg  \n",
            " extracting: images/train/IMG20230530070025_01_jpg.rf.8dd97318f70555608289cfea0267c250.jpg  \n",
            " extracting: images/train/IMG20230530070028_jpg.rf.2a13a399e032b7d36f6c17f325b98491.jpg  \n",
            " extracting: images/train/IMG20230530070028_jpg.rf.4139d498b8660a53aa68f32e47a62b65.jpg  \n",
            " extracting: images/train/IMG20230530070028_jpg.rf.9bcc1d62beddeec0194dfb5a1741c3d0.jpg  \n",
            " extracting: images/train/IMG20230530181226_01_jpg.rf.39bfc8c4857232610a930c1a661bab52.jpg  \n",
            " extracting: images/train/IMG20230530181226_01_jpg.rf.3dfe6880d9d3e655f294e932159135d3.jpg  \n",
            " extracting: images/train/IMG20230530181226_01_jpg.rf.ad998fb9f962fc83cb47d39161ccbc18.jpg  \n",
            " extracting: images/train/IMG20230530181228_01_jpg.rf.3dd546bc632e3a3ac59c4fd9d5ee03b5.jpg  \n",
            " extracting: images/train/IMG20230530181228_01_jpg.rf.cae4060b50d8b3628a6d840933698ca7.jpg  \n",
            " extracting: images/train/IMG20230530181228_03_jpg.rf.aed52a4b483ef93b17615a25587e4d7b.jpg  \n",
            " extracting: images/train/IMG20230530181228_03_jpg.rf.f2a263b01c8aa96fa35283fd094db083.jpg  \n",
            " extracting: images/train/IMG20230530181228_03_jpg.rf.f54146483d1f802760e93c14419729ed.jpg  \n",
            " extracting: images/train/IMG20230530181233_jpg.rf.5c9f9bc4c05a569532e59d4526df0d58.jpg  \n",
            " extracting: images/train/IMG20230530181233_jpg.rf.85c3109a32022d7f22f89b72d43bc090.jpg  \n",
            " extracting: images/train/IMG20230530181233_jpg.rf.b214b4216c2396f34fe5da88529a6cf1.jpg  \n",
            " extracting: images/train/IMG20230530181234_01_jpg.rf.6df2d7497844fabf8588303eeb348c30.jpg  \n",
            " extracting: images/train/IMG20230530181234_01_jpg.rf.8fd2d81a5b94fc6b052b4e5a26965ec0.jpg  \n",
            " extracting: images/train/IMG20230530181234_01_jpg.rf.f666391cfb88b92fc9e800907f074bec.jpg  \n",
            " extracting: images/train/IMG20230530181236_01_jpg.rf.6254be3650f5f7359333bfe72a5acee6.jpg  \n",
            " extracting: images/train/IMG20230530181236_01_jpg.rf.833600d65d88372e0a6964597ff7a854.jpg  \n",
            " extracting: images/train/IMG20230530181236_01_jpg.rf.f32f4888ff7fb3175e5cc8998b83c1fe.jpg  \n",
            " extracting: images/train/IMG20230530181238_01_jpg.rf.4a08fd08731de6713fa88a3f22ff95b6.jpg  \n",
            " extracting: images/train/IMG20230530181238_01_jpg.rf.5147177e8a9eb9c7fbbbb1e9420e8e79.jpg  \n",
            " extracting: images/train/IMG20230530181238_01_jpg.rf.d064c2ab38185b564ebe16632877cc22.jpg  \n",
            " extracting: images/train/IMG20230530181239_01_jpg.rf.35e205dd093ea8e81516749a0dc1c0ef.jpg  \n",
            " extracting: images/train/IMG20230530181239_01_jpg.rf.80426356c4684782d49091c4eab43c8d.jpg  \n",
            " extracting: images/train/IMG20230530181239_01_jpg.rf.92c7a19f72f743235d530b81060bde57.jpg  \n",
            " extracting: images/train/IMG20230530181243_01_jpg.rf.262a058c17a840c313e31497eb732699.jpg  \n",
            " extracting: images/train/IMG20230530181243_01_jpg.rf.520e3f0c72454e4d467da8084850a787.jpg  \n",
            " extracting: images/train/IMG20230530181243_01_jpg.rf.a72f9c4893fb635496ce0081ca5ae172.jpg  \n",
            " extracting: images/train/IMG20230530181245_01_jpg.rf.105e51cb73d050279103e9398dfe72b9.jpg  \n",
            " extracting: images/train/IMG20230530181245_01_jpg.rf.3d9e52e1c06ee1267b60db74f6d6b723.jpg  \n",
            " extracting: images/train/IMG20230530181245_01_jpg.rf.97640d6dfdaab2eb5fe25923015b4a08.jpg  \n",
            " extracting: images/train/IMG20230530181248_01_jpg.rf.199581fa950ed05f2e73e1f93214cd37.jpg  \n",
            " extracting: images/train/IMG20230530181248_01_jpg.rf.3a76fd210ca3e382c895f79a49fbc0eb.jpg  \n",
            " extracting: images/train/IMG20230530181248_01_jpg.rf.f6daa4e29f2c33600da7c0b9ba198014.jpg  \n",
            " extracting: images/train/IMG20230530181250_01_jpg.rf.544c06dba601f134c941bc84e08daec9.jpg  \n",
            " extracting: images/train/IMG20230530181250_01_jpg.rf.61497b4d9203ea8de77c44dbdb87d50d.jpg  \n",
            " extracting: images/train/IMG20230530181250_03_jpg.rf.916a4176e27025627d2465824199c18f.jpg  \n",
            " extracting: images/train/IMG20230530181250_03_jpg.rf.d160d18d6b4e5bf60d9cd243f7f98d7e.jpg  \n",
            " extracting: images/train/IMG20230530181252_01_jpg.rf.a065fc6752005d34ed44a21a2cfd3d29.jpg  \n",
            " extracting: images/train/IMG20230530181252_01_jpg.rf.db49410235a5c6aeb6c1a559b5c9c311.jpg  \n",
            " extracting: images/train/IMG20230530181252_01_jpg.rf.e6c307d3b3859e58ec813f9bc4d5dbff.jpg  \n",
            " extracting: images/train/IMG20230530181414_01_jpg.rf.0415755de758983ff2f8e4f27d15e312.jpg  \n",
            " extracting: images/train/IMG20230530181414_01_jpg.rf.5ca6bcbae289e9f6c201dfa9daef12ad.jpg  \n",
            " extracting: images/train/IMG20230530181414_01_jpg.rf.66efa02efa232b4b9369daaaf35c9946.jpg  \n",
            " extracting: images/train/IMG20230530181415_01_jpg.rf.9698e9e26385b4e5157403046cf82b33.jpg  \n",
            " extracting: images/train/IMG20230530181415_01_jpg.rf.a3b06f111bf6262734c26b4faedc2ad1.jpg  \n",
            " extracting: images/train/IMG20230530181415_01_jpg.rf.a8453bbedc238eb6785e086b67bc9f8b.jpg  \n",
            " extracting: images/train/IMG20230530181418_01_jpg.rf.4331b30aae0e20daac97bcb961e193af.jpg  \n",
            " extracting: images/train/IMG20230530181418_01_jpg.rf.78b34aa8a1a494deec6b67d8d0529125.jpg  \n",
            " extracting: images/train/IMG20230530181418_01_jpg.rf.db05b7ffb14e41326b570915fef94fe0.jpg  \n",
            " extracting: images/train/IMG20230530181420_jpg.rf.05555c3b7dd0f08db00cfa8612899b99.jpg  \n",
            " extracting: images/train/IMG20230530181420_jpg.rf.cc9bd7e7980ba94d827448e598863d96.jpg  \n",
            " extracting: images/train/IMG20230530181420_jpg.rf.ec152c1c73a19afad6e8d58b2d936273.jpg  \n",
            " extracting: images/train/IMG20230530181421_01_jpg.rf.3333837b1999eab4d89137d12fbe63b1.jpg  \n",
            " extracting: images/train/IMG20230530181421_01_jpg.rf.e85fcb92a227190b788510fdb4822618.jpg  \n",
            " extracting: images/train/IMG20230530181421_01_jpg.rf.e95377826f18551ee53626fd0188cee4.jpg  \n",
            " extracting: images/train/IMG20230530181422_01_jpg.rf.0a243a81e9db9240b903f93614ac3eac.jpg  \n",
            " extracting: images/train/IMG20230530181422_01_jpg.rf.fbee445da86b105a9fa820db01b46d66.jpg  \n",
            " extracting: images/train/IMG20230530181422_01_jpg.rf.fc0c00c333ef71518dd6dbfe7364e4a7.jpg  \n",
            " extracting: images/train/IMG20230530181425_03_jpg.rf.0733e751e6b0acd6fc06e2484202c3fe.jpg  \n",
            " extracting: images/train/IMG20230530181425_03_jpg.rf.8675e6ac9df368bb6bc4864a35e37b4c.jpg  \n",
            " extracting: images/train/IMG20230530181425_03_jpg.rf.ef710c5697208fb424cf66d36e0fab16.jpg  \n",
            " extracting: images/train/IMG20230530181427_01_jpg.rf.15121c20eff82d7a5df9b5891a5fdcd2.jpg  \n",
            " extracting: images/train/IMG20230530181427_01_jpg.rf.5754ad4b771197df9331de65ed86838b.jpg  \n",
            " extracting: images/train/IMG20230530181427_01_jpg.rf.894ae338d056c29b9cdca331f75946c0.jpg  \n",
            " extracting: images/train/IMG20230530181428_01_jpg.rf.2d756a7f4354bde3c5affd196cba6f57.jpg  \n",
            " extracting: images/train/IMG20230530181428_01_jpg.rf.5361339d7f978b30897c8c23dd1673c5.jpg  \n",
            " extracting: images/train/IMG20230530181428_01_jpg.rf.aa0690fde38fdb8ad5b48924a3c721db.jpg  \n",
            " extracting: images/train/IMG20230530181429_01_jpg.rf.0fd95775872aeea4299f1a4edf54341f.jpg  \n",
            " extracting: images/train/IMG20230530181429_01_jpg.rf.ca5758d8b276875a2369fef0d1c714a1.jpg  \n",
            " extracting: images/train/IMG20230530181429_01_jpg.rf.db98ec743450cfb9a1456ab18e92f7eb.jpg  \n",
            " extracting: images/train/IMG20230530181430_01_jpg.rf.73b23c027d2a1a8c58a4d5a84cff7f79.jpg  \n",
            " extracting: images/train/IMG20230530181430_01_jpg.rf.92681cb97f012ae889c01c23b4cb4d1a.jpg  \n",
            " extracting: images/train/IMG20230530181430_01_jpg.rf.b5cc5bb56452ff28dd6bd9357b298990.jpg  \n",
            " extracting: images/train/IMG20230530181434_02_jpg.rf.4191fc09ff3dfb41534a30649eadc17c.jpg  \n",
            " extracting: images/train/IMG20230530181434_02_jpg.rf.5c8182b5a075a526b0a93e1b0d2121c2.jpg  \n",
            " extracting: images/train/IMG20230530181434_02_jpg.rf.bc6f33fa9e02477c0f40094a8d3b0b40.jpg  \n",
            " extracting: images/train/IMG20230530181438_01_jpg.rf.3a1daafb016c2a1adf3de701ae9f8ae5.jpg  \n",
            " extracting: images/train/IMG20230530181438_01_jpg.rf.4cac9b7f7c84e60666898da564bf558c.jpg  \n",
            " extracting: images/train/IMG20230530181438_01_jpg.rf.711f4de89fdf9022021bbfdf35c466d6.jpg  \n",
            " extracting: images/train/IMG20230530181438_01_jpg.rf.8985f7c72ec7a76dc50694cc1085740e.jpg  \n",
            " extracting: images/train/IMG20230530181438_01_jpg.rf.c292079fc1c3741893218d8b31fc272d.jpg  \n",
            " extracting: images/train/IMG20230530181438_01_jpg.rf.c5a36bf9923d4fc03e41f89e3d79c0e5.jpg  \n",
            " extracting: images/train/IMG20230530181438_01_jpg.rf.ccdfaf6c020cce0b9a15cf4a57e55a12.jpg  \n",
            " extracting: images/train/IMG20230530181438_01_jpg.rf.d3430f946d0938bd8bd11505b211a2ec.jpg  \n",
            " extracting: images/train/IMG20230530181438_01_jpg.rf.d99cffdfcb72abddc5ba9e0bf90ff86d.jpg  \n",
            " extracting: images/train/IMG20230530181441_01_jpg.rf.08958359189e49526a25a50c8e383245.jpg  \n",
            " extracting: images/train/IMG20230530181441_01_jpg.rf.16f8128cb89969bae8eebb69e5fcbe17.jpg  \n",
            " extracting: images/train/IMG20230530181441_01_jpg.rf.1bfdcd295a38df63e395841d1974f8f2.jpg  \n",
            " extracting: images/train/IMG20230530181441_01_jpg.rf.42035a3dc5d5282a0cf5f7b084efb89a.jpg  \n",
            " extracting: images/train/IMG20230530181441_01_jpg.rf.7e053e8f9d3c681b1fd322646afe4c4f.jpg  \n",
            " extracting: images/train/IMG20230530181441_01_jpg.rf.a267429edbc69592c99608db0826c6fa.jpg  \n",
            " extracting: images/train/IMG20230530181441_01_jpg.rf.c528bb9b10487b5f39c2bad6ef675990.jpg  \n",
            " extracting: images/train/IMG20230530181441_01_jpg.rf.e07bfe649fa3db3347e21bd710952a09.jpg  \n",
            " extracting: images/train/IMG20230530181441_01_jpg.rf.e1418333c4d819367277fc96badd1635.jpg  \n",
            " extracting: images/train/IMG20230530181443_01_jpg.rf.39ec0a09807d9dade5774f834c76d9b6.jpg  \n",
            " extracting: images/train/IMG20230530181443_01_jpg.rf.a69f06d52f124a00f648cb3c8869296f.jpg  \n",
            " extracting: images/train/IMG20230530181443_01_jpg.rf.e5f8d71c42b132ded4245ba860da8a59.jpg  \n",
            " extracting: images/train/IMG20230531132305_01_jpg.rf.4895fb69a15be715ccfde78c567055f7.jpg  \n",
            " extracting: images/train/IMG20230531132305_01_jpg.rf.576041e331625926beec619be21b0b67.jpg  \n",
            " extracting: images/train/IMG20230531132306_01_jpg.rf.2ff444b06075545b81f1f698bee14cea.jpg  \n",
            " extracting: images/train/IMG20230531132306_01_jpg.rf.a8993fcfebfb057b3d2a26b6a5de535c.jpg  \n",
            " extracting: images/train/IMG20230531132306_01_jpg.rf.dc59d4773db1add48c6b675061b16d92.jpg  \n",
            " extracting: images/train/IMG20230531132308_01_jpg.rf.74d03df50af38ba2bf9affbc7dbfad28.jpg  \n",
            " extracting: images/train/IMG20230531132308_01_jpg.rf.b077d9e7c940c601262667995aaedefc.jpg  \n",
            " extracting: images/train/IMG20230531132308_01_jpg.rf.f633128188c2da9eec08676ceac45901.jpg  \n",
            " extracting: images/train/IMG20230531132309_01_jpg.rf.2d4285360ccdd295e49b920f7f336195.jpg  \n",
            " extracting: images/train/IMG20230531132309_01_jpg.rf.a0a04ed232d4bb50c2ca377d1513bb50.jpg  \n",
            " extracting: images/train/IMG20230531132309_01_jpg.rf.aaf275ad8a6944c71ddf91fb4d24667f.jpg  \n",
            " extracting: images/train/IMG20230531132311_01_jpg.rf.2048e439a2a0f1aca046328b826cc3a4.jpg  \n",
            " extracting: images/train/IMG20230531132311_01_jpg.rf.be8d20d179e4cb8d0a4d5626b768788e.jpg  \n",
            " extracting: images/train/IMG20230531132311_01_jpg.rf.d2a7cd1320cc531e66fdd762940be94d.jpg  \n",
            " extracting: images/train/IMG20230531132312_01_jpg.rf.3bc258ff09d8afd79070b400ad9e46a1.jpg  \n",
            " extracting: images/train/IMG20230531132312_01_jpg.rf.68de39067b4311d2be406c93dd9094d7.jpg  \n",
            " extracting: images/train/IMG20230531132312_01_jpg.rf.96c54a50c20e9301f9d9b2509d9bd57e.jpg  \n",
            " extracting: images/train/IMG20230531132313_01_jpg.rf.303669e8400d989a2b22c5081dabb46e.jpg  \n",
            " extracting: images/train/IMG20230531132313_01_jpg.rf.525693e7a5d2af96d289e6e350f7f2a4.jpg  \n",
            " extracting: images/train/IMG20230531132313_01_jpg.rf.af638a7890158ae2bf9c707340ca9226.jpg  \n",
            " extracting: images/train/IMG20230531132314_01_jpg.rf.496613be6f964fc2d92785935c146d0a.jpg  \n",
            " extracting: images/train/IMG20230531132314_01_jpg.rf.cf9475b8cbc18b848c7d637c5a2db81c.jpg  \n",
            " extracting: images/train/IMG20230531132314_01_jpg.rf.e7551cb55a857c4573eaaf877d884116.jpg  \n",
            " extracting: images/train/IMG20230531132318_01_jpg.rf.12ba4db62da4608546c57760a3a275d8.jpg  \n",
            " extracting: images/train/IMG20230531132318_01_jpg.rf.79999f033d3ac34fca4c7f90eaf50ec1.jpg  \n",
            " extracting: images/train/IMG20230531132318_01_jpg.rf.9921eba52223e35fea4d2b7a8a5ba37b.jpg  \n",
            " extracting: images/train/IMG20230531132318_03_jpg.rf.436fcb9692270c5e479154ab27fd99d9.jpg  \n",
            " extracting: images/train/IMG20230531132318_03_jpg.rf.7b771c6b8290614ec996ea797f800331.jpg  \n",
            " extracting: images/train/IMG20230531132318_03_jpg.rf.7e8612bc0343be37276da6eb07f326dd.jpg  \n",
            " extracting: images/train/IMG20230531132319_01_jpg.rf.1e15ff670a9f3a7b4c3d0f84aff1e958.jpg  \n",
            " extracting: images/train/IMG20230531132319_01_jpg.rf.230000846455700aaab807e4323fea89.jpg  \n",
            " extracting: images/train/IMG20230531132319_01_jpg.rf.3332d6e5ef9ede3ac7d53e5cc22ae7ad.jpg  \n",
            " extracting: images/train/IMG20230531132319_01_jpg.rf.3ef50477d20fb852486969806e8f72b5.jpg  \n",
            " extracting: images/train/IMG20230531132319_01_jpg.rf.5bf3b973656b70a79a6d02c7cc08b603.jpg  \n",
            " extracting: images/train/IMG20230531132319_01_jpg.rf.972c33da5ea5a8fa67c8b29723a175e7.jpg  \n",
            " extracting: images/train/IMG20230531132319_01_jpg.rf.a202a76294e81759b2e6b0072b7bc08e.jpg  \n",
            " extracting: images/train/IMG20230531132319_01_jpg.rf.a896d383231c0abed3d2d4861b801a3c.jpg  \n",
            " extracting: images/train/IMG20230531132319_01_jpg.rf.c385b87f18a14db854d6e701c51336c1.jpg  \n",
            " extracting: images/train/IMG20230531132319_01_jpg.rf.e822850b985b54dc81df25fd0f07555a.jpg  \n",
            " extracting: images/train/IMG20230531132319_01_jpg.rf.ebaa5f325feeffffb42fca9e446095ef.jpg  \n",
            " extracting: images/train/IMG20230531132319_01_jpg.rf.fb0c8da31f5e7bc49b235efbe5405e6d.jpg  \n",
            " extracting: images/train/IMG20230531132321_01_jpg.rf.0e9c115ab5031cbb2ee111e4b6fbfcee.jpg  \n",
            " extracting: images/train/IMG20230531132321_01_jpg.rf.3c9f2b6803a2be4ba9c825422f1e1aa7.jpg  \n",
            " extracting: images/train/IMG20230531132321_01_jpg.rf.e6b5dad3f6d4c7ba9f83e0b813d264dd.jpg  \n",
            " extracting: images/train/IMG20230531132322_01_jpg.rf.18b32a325edea44ff7e3493139feb788.jpg  \n",
            " extracting: images/train/IMG20230531132322_01_jpg.rf.7ba5d737dbda422245d338077b17a75b.jpg  \n",
            " extracting: images/train/IMG20230531132322_01_jpg.rf.997793c363dbc5353bf575e5dc8ff8c9.jpg  \n",
            " extracting: images/train/IMG20230531132324_01_jpg.rf.05e8b24143a6a1e7c10c7faf7581d754.jpg  \n",
            " extracting: images/train/IMG20230531132324_01_jpg.rf.0d661ee587cec7e855556cf706d5a4b2.jpg  \n",
            " extracting: images/train/IMG20230531132324_01_jpg.rf.79c79ddbe3d8809f721598107b6c8bef.jpg  \n",
            " extracting: images/train/IMG20230531132325_01_jpg.rf.0ce8afafd4d5e67bdf62d74d06af4341.jpg  \n",
            " extracting: images/train/IMG20230531132325_01_jpg.rf.3be94fe9047a099eb4b536160e6c7b06.jpg  \n",
            " extracting: images/train/IMG20230531132325_01_jpg.rf.847b2c5136173f34dacfc67b640b0e6a.jpg  \n",
            " extracting: images/train/IMG20230531132326_01_jpg.rf.69ff5ff48af455980f26fc61b4e24aaf.jpg  \n",
            " extracting: images/train/IMG20230531132326_01_jpg.rf.ae6cf1dc04ae2340b14be0207fbc2482.jpg  \n",
            " extracting: images/train/IMG20230531132326_01_jpg.rf.c51bee62ae1a822f2bba5fb8e46a598f.jpg  \n",
            " extracting: images/train/IMG20230531132328_01_jpg.rf.1fa66438bd5998f912ddc46a46ac6da0.jpg  \n",
            " extracting: images/train/IMG20230531132328_01_jpg.rf.861d4795a2763d12f2e8d2622dacbd19.jpg  \n",
            " extracting: images/train/IMG20230531132328_01_jpg.rf.c261dc0726f4272c98680f85f175b90b.jpg  \n",
            " extracting: images/train/IMG20230531132330_01_jpg.rf.3563de32fc156539187f1eb3d99778bb.jpg  \n",
            " extracting: images/train/IMG20230531132330_01_jpg.rf.e52dae6b63743fe0af05358a0e033ef6.jpg  \n",
            " extracting: images/train/IMG20230531132331_01_jpg.rf.4d560907d9060fead0561215f9361f63.jpg  \n",
            " extracting: images/train/IMG20230531132331_01_jpg.rf.5674593b866bd63dfdb829789aa61fbd.jpg  \n",
            " extracting: images/train/IMG20230531132331_01_jpg.rf.a6697e92c4e867cd8f194467930116ac.jpg  \n",
            " extracting: images/train/IMG20230531132332_01_jpg.rf.5912d435e2fd9d0277cde1ffaf44c299.jpg  \n",
            " extracting: images/train/IMG20230531132332_01_jpg.rf.a9de852767fdddf9b67956f5127225c3.jpg  \n",
            " extracting: images/train/IMG20230531132332_01_jpg.rf.ecb1c62f14f1280dbdd5c0eb14d0be87.jpg  \n",
            " extracting: images/train/IMG20230531132335_01_jpg.rf.2ffedaa46cbc29b8a9ebec5014755c18.jpg  \n",
            " extracting: images/train/IMG20230531132335_01_jpg.rf.cffeadecd3439d0e3ce7c17e90492135.jpg  \n",
            " extracting: images/train/IMG20230531132335_03_jpg.rf.0de3eab11fb2efdfd4ef13646ebf570d.jpg  \n",
            " extracting: images/train/IMG20230531132335_03_jpg.rf.a39f63e8a3885ddb88dd67013df4b3e3.jpg  \n",
            " extracting: images/train/IMG20230531132335_03_jpg.rf.a4d15ef25edd8914462f5553282a1d3b.jpg  \n",
            " extracting: images/train/IMG20230531132352_jpg.rf.5cec219a187823a1eb6f056e9607a27f.jpg  \n",
            " extracting: images/train/IMG20230531132352_jpg.rf.c75653c9eab7554ab1bbff1eacaa2c36.jpg  \n",
            " extracting: images/train/IMG20230531132352_jpg.rf.f03ab02bb122f500e3dea9b0670fb0b7.jpg  \n",
            " extracting: images/train/IMG20230531132354_01_jpg.rf.6f730b2fa33ab0bb08934dcf7de97731.jpg  \n",
            " extracting: images/train/IMG20230531132354_01_jpg.rf.b46d981eb43c232e207d578e8c424c24.jpg  \n",
            " extracting: images/train/IMG20230531132354_01_jpg.rf.bf0748e443e9aadbf07525fb7fa22686.jpg  \n",
            " extracting: images/train/IMG20230531132356_jpg.rf.0377964f7984ff16966fe1425abd7763.jpg  \n",
            " extracting: images/train/IMG20230531132356_jpg.rf.5e26229bf5cd76dccdd1c15661f2906b.jpg  \n",
            " extracting: images/train/IMG20230531132356_jpg.rf.c45f84e8f9d58fcc64101a470c3edbb6.jpg  \n",
            " extracting: images/train/IMG20230531132359_01_jpg.rf.22eda6a05159af5ef7572549dc667f13.jpg  \n",
            " extracting: images/train/IMG20230531132359_01_jpg.rf.8647754104c36fee0c1adf5bb78be7e0.jpg  \n",
            " extracting: images/train/IMG20230531132359_01_jpg.rf.ac5a970cb9c5e34e77c75d234534658e.jpg  \n",
            " extracting: images/train/IMG20230531132400_01_jpg.rf.2d50b19cf41151bc317021445383f3a8.jpg  \n",
            " extracting: images/train/IMG20230531132400_01_jpg.rf.b8c5831e6970704c64e5446fe2d8a0ee.jpg  \n",
            " extracting: images/train/IMG20230531132400_01_jpg.rf.ba9e04a5047e761ae43fd64dca0d0486.jpg  \n",
            " extracting: images/train/IMG20230531132402_01_jpg.rf.3f0e46a1c491e32e08c85ea844931979.jpg  \n",
            " extracting: images/train/IMG20230531132402_01_jpg.rf.56718ef2a022bb381f759e54d4af29f9.jpg  \n",
            " extracting: images/train/IMG20230531132402_01_jpg.rf.d101871f3a33998dbbc1bb9a9f6c60e0.jpg  \n",
            " extracting: images/train/IMG20230531132405_01_jpg.rf.635461fc2b8337c41445c55c6f1d384f.jpg  \n",
            " extracting: images/train/IMG20230531132405_01_jpg.rf.76b6a38219daa8b88aaba85fffa61f3b.jpg  \n",
            " extracting: images/train/IMG20230531132405_01_jpg.rf.bb73c725193e3f233148c51c3234f4c1.jpg  \n",
            " extracting: images/train/IMG20230531132408_01_jpg.rf.72ca2171b506580d59996e41a0bf79ad.jpg  \n",
            " extracting: images/train/IMG20230531132408_01_jpg.rf.b28712bee5d6e026b46051736fdd9918.jpg  \n",
            " extracting: images/train/IMG20230531132408_01_jpg.rf.f4e83a5102931801924783839cf1aa2a.jpg  \n",
            " extracting: images/train/IMG20230531133628_01_jpg.rf.0ba3e353fd4937349d8e469a1f481483.jpg  \n",
            " extracting: images/train/IMG20230531133628_01_jpg.rf.249707fe45d6fb7aac8dfa00c658ad83.jpg  \n",
            " extracting: images/train/IMG20230531133628_01_jpg.rf.c63bb65cae99d01b3ce8f93f74deeae5.jpg  \n",
            " extracting: images/train/IMG20230531133631_01_jpg.rf.59af96cd943f746e414eaa980db95d5a.jpg  \n",
            " extracting: images/train/IMG20230531133631_01_jpg.rf.a97653d7cb0bb0af4fe640ac7e40cdb8.jpg  \n",
            " extracting: images/train/IMG20230531133631_01_jpg.rf.d1df99022c9034a06737f35b704db1dc.jpg  \n",
            " extracting: images/train/IMG20230531133631_03_jpg.rf.5beaa4a9dd87811a55205687e9bb3e3a.jpg  \n",
            " extracting: images/train/IMG20230531133631_03_jpg.rf.abdaa60ff9cf57125cd2fdefbfa609a2.jpg  \n",
            " extracting: images/train/IMG20230531133631_03_jpg.rf.c50edd5b7df58c7e75a28164141d1020.jpg  \n",
            " extracting: images/train/IMG20230531133632_01_jpg.rf.44510173c41087eca58376d975044980.jpg  \n",
            " extracting: images/train/IMG20230531133632_01_jpg.rf.bc72ad64d0b3ecb9058c4cd4685153e0.jpg  \n",
            " extracting: images/train/IMG20230531133634_01_jpg.rf.54fde7a76fcaffb41f05ec8c8838f357.jpg  \n",
            " extracting: images/train/IMG20230531133634_01_jpg.rf.590cc30734155da4e455af50eb0deeb4.jpg  \n",
            " extracting: images/train/IMG20230531133634_01_jpg.rf.b279f67fe24af230e8573327e53de390.jpg  \n",
            " extracting: images/train/IMG20230531133636_jpg.rf.1767f509516c6e56c6e80149085b484b.jpg  \n",
            " extracting: images/train/IMG20230531133636_jpg.rf.47b8ada0277ba192e2959df9d5a28cd3.jpg  \n",
            " extracting: images/train/IMG20230531133636_jpg.rf.ff25a08ebeb7af3e619eb3959c9cc756.jpg  \n",
            " extracting: images/train/IMG20230531133637_01_jpg.rf.50e31f9ab1ac7fece128defc9cad09b4.jpg  \n",
            " extracting: images/train/IMG20230531133637_01_jpg.rf.73563bd2633b5d8f5043689d773187ef.jpg  \n",
            " extracting: images/train/IMG20230531133637_01_jpg.rf.783b75574154c138d3ce07ba5753aae0.jpg  \n",
            " extracting: images/train/IMG20230531133638_01_jpg.rf.03d43acf35e190756c082f7fc1e0c9e1.jpg  \n",
            " extracting: images/train/IMG20230531133638_01_jpg.rf.3adc404b0a44cde7f14c5061a796b9c0.jpg  \n",
            " extracting: images/train/IMG20230531133638_01_jpg.rf.ec0f8a12055d9828a2fa61435b42d987.jpg  \n",
            " extracting: images/train/IMG20230531133639_01_jpg.rf.066cfaa6de74f1673571b454c4e84739.jpg  \n",
            " extracting: images/train/IMG20230531133639_01_jpg.rf.0dc9be4df718217c4664dafcb560d497.jpg  \n",
            " extracting: images/train/IMG20230531133639_01_jpg.rf.1891aa25bf47dac3ef4faefa5d15e151.jpg  \n",
            " extracting: images/train/IMG20230531133639_01_jpg.rf.1e4bfce62aa8ed044101319fc8baaf3c.jpg  \n",
            " extracting: images/train/IMG20230531133639_01_jpg.rf.2a4ff01a24426ff34a5d467557bd4c21.jpg  \n",
            " extracting: images/train/IMG20230531133639_01_jpg.rf.2bc73528b4e20e6a22549c9ee399f803.jpg  \n",
            " extracting: images/train/IMG20230531133639_01_jpg.rf.2d56520b4e5b87275d018ede79f7232c.jpg  \n",
            " extracting: images/train/IMG20230531133639_01_jpg.rf.41519ffb9c16f2b37f181e328ae2feb5.jpg  \n",
            " extracting: images/train/IMG20230531133639_01_jpg.rf.4243c21db5808b81559cb53b7c50a168.jpg  \n",
            " extracting: images/train/IMG20230531133639_01_jpg.rf.43b6acc65f9990c04025c4af4ef94989.jpg  \n",
            " extracting: images/train/IMG20230531133639_01_jpg.rf.614bfcf42c2c5647b7ddce82b091f006.jpg  \n",
            " extracting: images/train/IMG20230531133639_01_jpg.rf.653b8505ca1276ca2c2555af55bcc494.jpg  \n",
            " extracting: images/train/IMG20230531133639_01_jpg.rf.65497630c77b8193a043672d8af39568.jpg  \n",
            " extracting: images/train/IMG20230531133639_01_jpg.rf.88b0dc4bc4a56fa5340f39aa6712cb06.jpg  \n",
            " extracting: images/train/IMG20230531133639_01_jpg.rf.8ea1b0c6403ec8da9f394c0168c9c11f.jpg  \n",
            " extracting: images/train/IMG20230531133639_01_jpg.rf.93961879c1aa3bf5ceb9ff1c792ec4ec.jpg  \n",
            " extracting: images/train/IMG20230531133639_01_jpg.rf.aa6f68a31e5c56f4b82880998273fc13.jpg  \n",
            " extracting: images/train/IMG20230531133639_01_jpg.rf.c5a8606e9ac1d882fd1f4c3d54f11bd0.jpg  \n",
            " extracting: images/train/IMG20230531133640_01_jpg.rf.61a2ab70ed056a897357494f4ef45d1a.jpg  \n",
            " extracting: images/train/IMG20230531133640_01_jpg.rf.8e11f1c16512ce144649f285ee651b85.jpg  \n",
            " extracting: images/train/IMG20230531133640_01_jpg.rf.d01ffb5be4f21be2f67f6aeaa95dea4f.jpg  \n",
            " extracting: images/train/IMG20230531133641_01_jpg.rf.1282d3493b5eea16dc3b26bef7357ed8.jpg  \n",
            " extracting: images/train/IMG20230531133641_01_jpg.rf.1289aa790de55d89047c156b0b477c7d.jpg  \n",
            " extracting: images/train/IMG20230531133641_01_jpg.rf.a30c84805768373dc238a7197e918b26.jpg  \n",
            " extracting: images/train/IMG20230531133643_01_jpg.rf.07f2d1835bddb1075552360097fe74cd.jpg  \n",
            " extracting: images/train/IMG20230531133643_01_jpg.rf.32d0ab35b6863df3d26372a262fab671.jpg  \n",
            " extracting: images/train/IMG20230531133643_01_jpg.rf.66649cd347ff0beadbd9a4b7deae5ec6.jpg  \n",
            " extracting: images/train/IMG20230531133645_01_jpg.rf.2050507cae0f8c5dc41bac2890736665.jpg  \n",
            " extracting: images/train/IMG20230531133645_01_jpg.rf.711969a1872df648aa3cf3f5848ab48c.jpg  \n",
            " extracting: images/train/IMG20230531133645_01_jpg.rf.b614b39f37373528fee492d76542235e.jpg  \n",
            " extracting: images/train/IMG20230531133647_01_jpg.rf.3058a6f1e0d53c25eb8a998341722b39.jpg  \n",
            " extracting: images/train/IMG20230531133647_01_jpg.rf.794bf9cee73ed03f2d271dd42674d863.jpg  \n",
            " extracting: images/train/IMG20230531133647_01_jpg.rf.9dcd0d1947bbdf5b6e3ae21b4694d671.jpg  \n",
            " extracting: images/train/IMG20230531133647_03_jpg.rf.005d2bbf4139087e668f14ea69fb74a9.jpg  \n",
            " extracting: images/train/IMG20230531133647_03_jpg.rf.2ad464a33490891226272541330ab766.jpg  \n",
            " extracting: images/train/IMG20230531133647_03_jpg.rf.68821b50555c2e8a5874a9200eda5397.jpg  \n",
            " extracting: images/train/IMG20230531133648_01_jpg.rf.5989a15aae4e86b0fb65190803620846.jpg  \n",
            " extracting: images/train/IMG20230531133648_01_jpg.rf.659ce62cac8a40a200b84297ce396f88.jpg  \n",
            " extracting: images/train/IMG20230531133648_01_jpg.rf.67235efd8b4b559efc1d20f453939bcc.jpg  \n",
            " extracting: images/train/IMG20230531133650_01_jpg.rf.23fe8cfe115738c04cb4d5a698b9fc8d.jpg  \n",
            " extracting: images/train/IMG20230531133650_01_jpg.rf.4863f23e79fdf61afa5c0c4378f64b9a.jpg  \n",
            " extracting: images/train/IMG20230531133650_01_jpg.rf.85ddafddc3ea752d72cbe4745889c884.jpg  \n",
            " extracting: images/train/IMG20230531133651_01_jpg.rf.3eda9847d0172f50410d6fa75b6587e3.jpg  \n",
            " extracting: images/train/IMG20230531133651_01_jpg.rf.90376df9bdf75164cbca77721d1005f1.jpg  \n",
            " extracting: images/train/IMG20230531133651_01_jpg.rf.b97a5f6d6ad78c02f3632f567177460f.jpg  \n",
            " extracting: images/train/IMG20230531133652_01_jpg.rf.1adc20844d6970d80b8b64564343a406.jpg  \n",
            " extracting: images/train/IMG20230531133652_01_jpg.rf.5d540edf7ab1c22660ae54efa50c15eb.jpg  \n",
            " extracting: images/train/IMG20230531133655_01_jpg.rf.6abe724bc783893b7c0c62193eda06dd.jpg  \n",
            " extracting: images/train/IMG20230531133655_01_jpg.rf.6ff92d1035ff284e260fe24b3a7cf555.jpg  \n",
            " extracting: images/train/IMG20230531133655_01_jpg.rf.edb680230c1e2fd4f9a34dbfce4404a2.jpg  \n",
            " extracting: images/train/IMG20230531133657_01_jpg.rf.2d8ad8f38e7efefc96b0eb7dfaba3d95.jpg  \n",
            " extracting: images/train/IMG20230531133657_01_jpg.rf.47e63c1d1952c24ba6f06526fd8ab0be.jpg  \n",
            " extracting: images/train/IMG20230531133657_01_jpg.rf.7c1ab1cc213bc58f25401eb40d52846e.jpg  \n",
            " extracting: images/train/IMG20230531133702_01_jpg.rf.9f1e5d86c22cb7619494363b19980e98.jpg  \n",
            " extracting: images/train/IMG20230531133702_01_jpg.rf.be8394785f21ff218654aa0577ed9329.jpg  \n",
            " extracting: images/train/IMG20230531133702_01_jpg.rf.d54cc023f5db40bc5bf118bb7e31ae4a.jpg  \n",
            " extracting: images/train/IMG20230531133708_jpg.rf.84f35a3e971169ff3d4b76fae2b78f95.jpg  \n",
            " extracting: images/train/IMG20230531133708_jpg.rf.c2a501e72fb0a9c729757b5cc20af041.jpg  \n",
            " extracting: images/train/IMG20230531133708_jpg.rf.dbeba81f5f23472682dc8e0a5bad8857.jpg  \n",
            " extracting: images/train/IMG20230531133710_01_jpg.rf.01296903f16ffb4656a417ee0e63bcb0.jpg  \n",
            " extracting: images/train/IMG20230531133710_01_jpg.rf.11b74064582acd1f157016bfba5405b3.jpg  \n",
            " extracting: images/train/IMG20230531133710_01_jpg.rf.35783903913be5a4511323549c9aa5b4.jpg  \n",
            " extracting: images/train/IMG20230531133711_01_jpg.rf.93be8661e336e19f3b0652b899fb61a5.jpg  \n",
            " extracting: images/train/IMG20230531133711_01_jpg.rf.a96dc73acda78f43bce946b457b79f02.jpg  \n",
            " extracting: images/train/IMG20230531133712_01_jpg.rf.67a90990104eb2395e7c3db88b3e4c5d.jpg  \n",
            " extracting: images/train/IMG20230531133712_01_jpg.rf.a917e36efd02ac621b08756830784fb4.jpg  \n",
            " extracting: images/train/IMG20230531133712_01_jpg.rf.c466f1444b49d9681c88be72d80ca8f8.jpg  \n",
            " extracting: images/train/IMG20230531133714_01_jpg.rf.012e4dfa639df82b202dacc996a338a0.jpg  \n",
            " extracting: images/train/IMG20230531133714_01_jpg.rf.0349e237ae95f75beb18149cbdf51077.jpg  \n",
            " extracting: images/train/IMG20230531133714_01_jpg.rf.12e43d10345da79e7bdfc0e83e55a61d.jpg  \n",
            " extracting: images/train/IMG20230531133714_01_jpg.rf.24192935e499e31f9c5a5be158dc572c.jpg  \n",
            " extracting: images/train/IMG20230531133714_01_jpg.rf.24353df0ef4555d53ea2edb89f483a78.jpg  \n",
            " extracting: images/train/IMG20230531133714_01_jpg.rf.454131fb32024643426165291015f55d.jpg  \n",
            " extracting: images/train/IMG20230531133714_01_jpg.rf.4f7b391893d8464a0279089f547f5426.jpg  \n",
            " extracting: images/train/IMG20230531133714_01_jpg.rf.572a515e823169a8f2e6d4f6d9e00c22.jpg  \n",
            " extracting: images/train/IMG20230531133714_01_jpg.rf.6d0544baa1bc77c9e3414585520f195d.jpg  \n",
            " extracting: images/train/IMG20230531133714_01_jpg.rf.75cc518a442715b31c2fd427b7782d64.jpg  \n",
            " extracting: images/train/IMG20230531133714_01_jpg.rf.79d6e04f7982e34e4d713a9accdb6a7b.jpg  \n",
            " extracting: images/train/IMG20230531133714_01_jpg.rf.7d4e2d7f6e6366bc93010a8b12a16e48.jpg  \n",
            " extracting: images/train/IMG20230531133714_01_jpg.rf.8e5307bb0010c42524f7ccc2c30bf55f.jpg  \n",
            " extracting: images/train/IMG20230531133714_01_jpg.rf.9a88e489c0f42a985b5ce931ff01d258.jpg  \n",
            " extracting: images/train/IMG20230531133714_01_jpg.rf.e71a556170205e2629c6d60eb4466961.jpg  \n",
            " extracting: images/train/IMG20230531133717_02_jpg.rf.06053f1ec45748b522f0304bcc5696de.jpg  \n",
            " extracting: images/train/IMG20230531133717_02_jpg.rf.1360cbceaab4bd69287008f2d5775b2b.jpg  \n",
            " extracting: images/train/IMG20230531133717_02_jpg.rf.15c1f52e146ae2ab27bce73d216fb20f.jpg  \n",
            " extracting: images/train/IMG20230531133717_02_jpg.rf.20ba950042a967895f3ca2040dea0a01.jpg  \n",
            " extracting: images/train/IMG20230531133717_02_jpg.rf.271ca7e24c3e9a99b570a3481fd6fe2d.jpg  \n",
            " extracting: images/train/IMG20230531133717_02_jpg.rf.7cc5f1aa1be8a489243110968110b1c4.jpg  \n",
            " extracting: images/train/IMG20230531133717_02_jpg.rf.877bd593fba7a17a9526143e8214b513.jpg  \n",
            " extracting: images/train/IMG20230531133717_02_jpg.rf.8d88e0e355c702145ba29130cb08adce.jpg  \n",
            " extracting: images/train/IMG20230531133717_02_jpg.rf.92f269b633ab9e46005bd8dcd6b6d61d.jpg  \n",
            " extracting: images/train/IMG20230531133717_02_jpg.rf.9b2429285c7490417cdaa8b82403ff9c.jpg  \n",
            " extracting: images/train/IMG20230531133717_02_jpg.rf.abf2b512a35b200ef1e7591fe715e0ed.jpg  \n",
            " extracting: images/train/IMG20230531133717_02_jpg.rf.b63c463e42c39a50892674f06e06f3a6.jpg  \n",
            " extracting: images/train/IMG20230531133717_02_jpg.rf.cdb2a62a2d182b5045889e050e664086.jpg  \n",
            " extracting: images/train/IMG20230531133717_02_jpg.rf.fa20f08207951cadf8daa99f55ee8518.jpg  \n",
            " extracting: images/train/IMG20230531133717_02_jpg.rf.fb6e94f7f36e4d8a7fb496073e980e1c.jpg  \n",
            " extracting: images/train/IMG20230531133719_01_jpg.rf.7308730bb88c940c62f33713eb930703.jpg  \n",
            " extracting: images/train/IMG20230531133719_01_jpg.rf.dfc1ac86b03f4ac4f160a7ac8d4f3fa7.jpg  \n",
            " extracting: images/train/IMG20230531133719_01_jpg.rf.ee132003afd4ffd3d8510523c70549f3.jpg  \n",
            " extracting: images/train/IMG20230531133720_01_jpg.rf.07bfe33107b6c54a0deac43156fb68bd.jpg  \n",
            " extracting: images/train/IMG20230531133720_01_jpg.rf.714c1c4978320dc6539de9d84cd9aab4.jpg  \n",
            " extracting: images/train/IMG20230531133720_01_jpg.rf.f659552a80a0e07478e7894b22d0c769.jpg  \n",
            " extracting: images/train/IMG20230531133721_01_jpg.rf.3aa6fb8287ab04f10baed0fafddcf1ca.jpg  \n",
            " extracting: images/train/IMG20230531133721_01_jpg.rf.863ae02b61b12484289c5a4c6f97cd4f.jpg  \n",
            " extracting: images/train/IMG20230531133721_01_jpg.rf.d86885c40bc6b8e70551771a4ed17448.jpg  \n",
            " extracting: images/train/IMG20230531133722_01_jpg.rf.334fe417e6ff509a28bd68d21aae75ed.jpg  \n",
            " extracting: images/train/IMG20230531133722_01_jpg.rf.7bb290e92ba3efe37e29e4fc2799a296.jpg  \n",
            " extracting: images/train/IMG20230531133722_01_jpg.rf.e3aa447542979372ddf45c46b16e16c2.jpg  \n",
            " extracting: images/train/IMG20230531161343_01_jpg.rf.49c797c60e1f4a435d4e1ec09d854a22.jpg  \n",
            " extracting: images/train/IMG20230531161343_01_jpg.rf.874662d56aa8da97bc44ba80ca039b7d.jpg  \n",
            " extracting: images/train/IMG20230531161343_01_jpg.rf.a14cef8bede7fc623d2ff74a21bb0b33.jpg  \n",
            " extracting: images/train/IMG20230531161348_01_jpg.rf.cda7b049b605fde67ea485439d48863e.jpg  \n",
            " extracting: images/train/IMG20230531161348_01_jpg.rf.cecf22610b99feed4afbb3ffff76b4a9.jpg  \n",
            " extracting: images/train/IMG20230531161348_01_jpg.rf.d1d47db3bd85ef1c7eeb1b260c7db9f8.jpg  \n",
            " extracting: images/train/IMG20230531161349_01_jpg.rf.00c9b47224b0ff66dbc03ad65bd11889.jpg  \n",
            " extracting: images/train/IMG20230531161349_01_jpg.rf.210e10c32b3beac100ff97cf563d59d6.jpg  \n",
            " extracting: images/train/IMG20230531161349_01_jpg.rf.ad0579a2337a35fb4725905b23d07c17.jpg  \n",
            " extracting: images/train/IMG20230531161401_01_jpg.rf.059cf8b3f0003982ae5464ac27f27c59.jpg  \n",
            " extracting: images/train/IMG20230531161401_01_jpg.rf.3ad54c54f5f5556f88f589fd6f6942a4.jpg  \n",
            " extracting: images/train/IMG20230531161401_01_jpg.rf.beda8a315805bb281106282b46800236.jpg  \n",
            " extracting: images/train/IMG20230531161402_01_jpg.rf.46cb9292ebe9d6a4090df948139aea1d.jpg  \n",
            " extracting: images/train/IMG20230531161402_01_jpg.rf.a4d1ed9a8acd3478c9bea63b6f17efac.jpg  \n",
            " extracting: images/train/IMG20230531161402_01_jpg.rf.eca2218499aaf5d51180e1b1b39f3fac.jpg  \n",
            " extracting: images/train/IMG20230531161404_01_jpg.rf.6d0ffa6fe86500e9cb790e68be272ef6.jpg  \n",
            " extracting: images/train/IMG20230531161404_01_jpg.rf.87760a9be1a8e816dd9bd2c885974da1.jpg  \n",
            " extracting: images/train/IMG20230531161404_01_jpg.rf.b574c806ec99d279e44f91b9e46fc7c1.jpg  \n",
            " extracting: images/train/IMG20230531161405_01_jpg.rf.51cdf46a8cc204ae348e6350b0951377.jpg  \n",
            " extracting: images/train/IMG20230531161405_01_jpg.rf.8f404ef6a8200f3e0f6e6d49713218c2.jpg  \n",
            " extracting: images/train/IMG20230531161405_01_jpg.rf.d67c2dd24fdf046eab6bdcdbb88c77e4.jpg  \n",
            " extracting: images/train/IMG20230531161407_01_jpg.rf.1fc9385799b96e49423fc7b7c12f1aa7.jpg  \n",
            " extracting: images/train/IMG20230531161407_01_jpg.rf.c76cba8aa14b8606328822ad455fa45b.jpg  \n",
            " extracting: images/train/IMG20230531161407_01_jpg.rf.f574a5203eb9133f65ca313e816cab3d.jpg  \n",
            " extracting: images/train/IMG20230531161409_01_jpg.rf.1e1bcd84b3551e935135ef5884f4c361.jpg  \n",
            " extracting: images/train/IMG20230531161409_01_jpg.rf.9beb4a8aa664386b38478c85538637a7.jpg  \n",
            " extracting: images/train/IMG20230531161409_01_jpg.rf.f44d0b9b0082c0d0585c2eecff4448d0.jpg  \n",
            " extracting: images/train/IMG20230531161410_01_jpg.rf.034126054b72b3c2669e2d86a786f767.jpg  \n",
            " extracting: images/train/IMG20230531161410_01_jpg.rf.07b221ed507cadcc14e0a6036f7f164e.jpg  \n",
            " extracting: images/train/IMG20230531161410_01_jpg.rf.0f6934a05583101cfbe6cf5dc9f0c35d.jpg  \n",
            " extracting: images/train/IMG20230531161410_01_jpg.rf.1c1a5d48a131fb4a213a4bffc76ef010.jpg  \n",
            " extracting: images/train/IMG20230531161410_01_jpg.rf.244ee50f881f43ba1fe221e58d18c298.jpg  \n",
            " extracting: images/train/IMG20230531161410_01_jpg.rf.52d175f93aa38dcdb105649ba057032c.jpg  \n",
            " extracting: images/train/IMG20230531161410_01_jpg.rf.60b0a74b03a1942c1c2f17c7ec78375e.jpg  \n",
            " extracting: images/train/IMG20230531161410_01_jpg.rf.7bd65df3805d07f5f2e522946b1a05ce.jpg  \n",
            " extracting: images/train/IMG20230531161410_01_jpg.rf.9dd2126d33983061394e1ec3c69ea639.jpg  \n",
            " extracting: images/train/IMG20230531161410_01_jpg.rf.aa737e483cf1675dca9b959abc64c134.jpg  \n",
            " extracting: images/train/IMG20230531161410_01_jpg.rf.b0a75ea0fa43061c2e9d43491985c9fd.jpg  \n",
            " extracting: images/train/IMG20230531161410_01_jpg.rf.b6bede02c908e464d2053c194a0f74da.jpg  \n",
            " extracting: images/train/IMG20230531161410_01_jpg.rf.bc55a667e5ec4dc1b4361b1e6f3a5beb.jpg  \n",
            " extracting: images/train/IMG20230531161410_01_jpg.rf.c6007f7c04ba996f8c1a40aa27590ee3.jpg  \n",
            " extracting: images/train/IMG20230531161410_01_jpg.rf.dfc318743c7c92d1608f5cb29a03ddbc.jpg  \n",
            " extracting: images/train/IMG20230531161422_01_jpg.rf.4b5c1c2daabcd76cd40e35f9db1a1e19.jpg  \n",
            " extracting: images/train/IMG20230531161422_01_jpg.rf.9d648120e179e7038fb1c91e65257336.jpg  \n",
            " extracting: images/train/IMG20230531161422_01_jpg.rf.c2f2b8c418b588f9709ca101bf1b3864.jpg  \n",
            " extracting: images/train/IMG20230531161426_01_jpg.rf.14d36010361deb706fe1e888b1be7001.jpg  \n",
            " extracting: images/train/IMG20230531161426_01_jpg.rf.2054b5240f5f0d2cbc5d8fd0fc7c5c80.jpg  \n",
            " extracting: images/train/IMG20230531161426_01_jpg.rf.43ba9fd2a0c51f9f8e734768a03f3680.jpg  \n",
            " extracting: images/train/IMG20230531161426_01_jpg.rf.4959ef77b91a010e0d4768c9a968a2a0.jpg  \n",
            " extracting: images/train/IMG20230531161426_01_jpg.rf.49ba948502d31b1f2b47acbe772efd89.jpg  \n",
            " extracting: images/train/IMG20230531161426_01_jpg.rf.5697fbe94a99ea231fe8c4028b53045b.jpg  \n",
            " extracting: images/train/IMG20230531161426_01_jpg.rf.77a02fcf567c651fe1b5d61ced68d6be.jpg  \n",
            " extracting: images/train/IMG20230531161426_01_jpg.rf.77fe3f0642ccd5bd3215b9eaa86c5421.jpg  \n",
            " extracting: images/train/IMG20230531161426_01_jpg.rf.a773e4dcef0336902bd4079243933299.jpg  \n",
            " extracting: images/train/IMG20230531161430_jpg.rf.0fa6e3de1b8361f1ea3527f061a6a4ed.jpg  \n",
            " extracting: images/train/IMG20230531161430_jpg.rf.e0c9b46fbf03fcdcf6478de01d5ad821.jpg  \n",
            " extracting: images/train/IMG20230531161430_jpg.rf.f4a903b91ad26e9155184a8caf380cdf.jpg  \n",
            " extracting: images/train/IMG20230531161432_01_jpg.rf.4effd1941ef2260b5edb615bf2839064.jpg  \n",
            " extracting: images/train/IMG20230531161432_01_jpg.rf.747200c94d902bb745a5de8800cca421.jpg  \n",
            " extracting: images/train/IMG20230531161432_01_jpg.rf.80333ba8273be0e34fb12c4c0f7d5709.jpg  \n",
            " extracting: images/train/IMG20230531161435_01_jpg.rf.4eeb2d413edcab83136cd63b2d0bc96e.jpg  \n",
            " extracting: images/train/IMG20230531161435_01_jpg.rf.803b351153528b231875228a29a712e5.jpg  \n",
            " extracting: images/train/IMG20230531161435_01_jpg.rf.c26a293169563e2c3cbd84aa27b511de.jpg  \n",
            " extracting: images/train/IMG20230531161437_01_jpg.rf.4bf2d4f382a98b40ea5097f40d65d895.jpg  \n",
            " extracting: images/train/IMG20230531161437_01_jpg.rf.58ab8c2e7a8ce6a4dbd0dd8ec0d2b050.jpg  \n",
            " extracting: images/train/IMG20230531161437_01_jpg.rf.9dff9dd4cc4320ca28cc5e0a223e4a0a.jpg  \n",
            " extracting: images/train/IMG20230531161439_01_jpg.rf.0fb4fa87e5f39265f8b37dacc2b1d2ab.jpg  \n",
            " extracting: images/train/IMG20230531161439_01_jpg.rf.12540d6d4d3d94a51fea32e577a58680.jpg  \n",
            " extracting: images/train/IMG20230531161439_01_jpg.rf.332e86dcdd62424718403840c7ca8c08.jpg  \n",
            " extracting: images/train/IMG20230531161439_01_jpg.rf.418a89db062c4edd85330154518b84fc.jpg  \n",
            " extracting: images/train/IMG20230531161439_01_jpg.rf.67b5c6abd7b82c202a41be1c1d6cfb6a.jpg  \n",
            " extracting: images/train/IMG20230531161439_01_jpg.rf.6e5c99b62843334ace29aadacd9c8b31.jpg  \n",
            " extracting: images/train/IMG20230531161439_01_jpg.rf.82b448f4f2227960aec0da6d72a3f366.jpg  \n",
            " extracting: images/train/IMG20230531161439_01_jpg.rf.8c40c905432e878f4624a6d9948227bd.jpg  \n",
            " extracting: images/train/IMG20230531161439_01_jpg.rf.909aecabeaab07c97d2a2b12adc03702.jpg  \n",
            " extracting: images/train/IMG20230531161439_01_jpg.rf.957c1dc837743c87ae81b3a89ac8f9e2.jpg  \n",
            " extracting: images/train/IMG20230531161439_01_jpg.rf.9adc0120df176c4c95cd3795e2f9c093.jpg  \n",
            " extracting: images/train/IMG20230531161439_01_jpg.rf.ac0a0b218928a011b6e718528627f050.jpg  \n",
            " extracting: images/train/IMG20230531161439_01_jpg.rf.b6a4f6dbd2c264ae620238dd75730b71.jpg  \n",
            " extracting: images/train/IMG20230531161439_01_jpg.rf.e66eb7db29ed4c6ce78e06aeb717afbc.jpg  \n",
            " extracting: images/train/IMG20230531161439_01_jpg.rf.f10ef24277a9fbbea34b8fa60a94ba10.jpg  \n",
            " extracting: images/train/IMG20230531161442_01_jpg.rf.83e3a76fece49534431db8c116936644.jpg  \n",
            " extracting: images/train/IMG20230531161442_01_jpg.rf.856ae24a77b2b8152f7972af6eb3e6d5.jpg  \n",
            " extracting: images/train/IMG20230531161442_01_jpg.rf.b42e58cce34ad1d1fd19e6ca5ec5b12d.jpg  \n",
            " extracting: images/train/IMG20230531161444_01_jpg.rf.0bc32f814803a7aa132b1eccf4ffc56d.jpg  \n",
            " extracting: images/train/IMG20230531161444_01_jpg.rf.353aef87c3c9e0729c0b79ecaa90564d.jpg  \n",
            " extracting: images/train/IMG20230531161444_01_jpg.rf.8698167ceddbcb0365a46a9511a7cb90.jpg  \n",
            " extracting: images/train/IMG20230531161451_01_jpg.rf.2cd45e2b75de52cf634b2772765d3836.jpg  \n",
            " extracting: images/train/IMG20230531161451_01_jpg.rf.5d01be8393ba48db94d93583ce12bfad.jpg  \n",
            " extracting: images/train/IMG20230531161451_01_jpg.rf.e834f9e2b8a0f2606748ddfb9be62f72.jpg  \n",
            " extracting: images/train/IMG20230531161452_01_jpg.rf.2b9d6db13926fa3fdaa0e5e2dcb7f6fc.jpg  \n",
            " extracting: images/train/IMG20230531161452_01_jpg.rf.5f5680167175e16f772f9b5a24e1f121.jpg  \n",
            " extracting: images/train/IMG20230531161452_01_jpg.rf.ebe63b48015e66344d1a1be28753c441.jpg  \n",
            " extracting: images/train/IMG20230531161457_01_jpg.rf.561a0501c8fadb9bfb9847f51b77fd94.jpg  \n",
            " extracting: images/train/IMG20230531161457_01_jpg.rf.7e73ab212c9fc0b1c308c672e5acfc7a.jpg  \n",
            " extracting: images/train/IMG20230531161457_01_jpg.rf.f21ab48243b9184a0583fb027d012eda.jpg  \n",
            " extracting: images/train/IMG20230531161458_01_jpg.rf.24e491e215988fba33d06f099482ccde.jpg  \n",
            " extracting: images/train/IMG20230531161458_01_jpg.rf.6203a8e7e5a4a5e43b5f966b70666eb6.jpg  \n",
            " extracting: images/train/IMG20230531161458_01_jpg.rf.b6dafc054fa7b24bbd94ca8bd3fe793d.jpg  \n",
            " extracting: images/train/IMG20230531161459_01_jpg.rf.2132ff184470983b6a7590db531a6eda.jpg  \n",
            " extracting: images/train/IMG20230531161459_01_jpg.rf.8e94600bd9478deeff74404525e02037.jpg  \n",
            " extracting: images/train/IMG20230531161459_01_jpg.rf.967071c63a39b48ca5c7a5bc0034752b.jpg  \n",
            " extracting: images/train/IMG20230531161520_01_jpg.rf.06facd10b26365b4462691f4952ec9df.jpg  \n",
            " extracting: images/train/IMG20230531161520_01_jpg.rf.22bbaac88a26f5df68f0b9d21c4ca57b.jpg  \n",
            " extracting: images/train/IMG20230531161520_01_jpg.rf.39013dd1d2d00ad6621a9dfc815ada32.jpg  \n",
            " extracting: images/train/IMG20230531161520_01_jpg.rf.3a87d5a74ea25c9b8ca5da01e431fced.jpg  \n",
            " extracting: images/train/IMG20230531161520_01_jpg.rf.3acd3058e04de3b576c1ab69cc75b9fd.jpg  \n",
            " extracting: images/train/IMG20230531161520_01_jpg.rf.7e41511d10da81df54d18b64f9de9fe4.jpg  \n",
            " extracting: images/train/IMG20230531161520_01_jpg.rf.9c179ab0c947f9ad50b69d4517fb03fd.jpg  \n",
            " extracting: images/train/IMG20230531161520_01_jpg.rf.b2f17b071baba42c672d3d80e725b3d3.jpg  \n",
            " extracting: images/train/IMG20230531161520_01_jpg.rf.c25a37b4dde70c1fcd46703f9823eca2.jpg  \n",
            " extracting: images/train/IMG20230531161529_01_jpg.rf.0477716b86fec2a79e21fed7a9b23023.jpg  \n",
            " extracting: images/train/IMG20230531161529_01_jpg.rf.06e75ac669b6dfe431db383bdb000444.jpg  \n",
            " extracting: images/train/IMG20230531161529_01_jpg.rf.23c8e51fa9964b07f2365d0f3cd8277a.jpg  \n",
            " extracting: images/train/IMG20230531161529_01_jpg.rf.2590e3d210aae95bd765ba50b1c94dfe.jpg  \n",
            " extracting: images/train/IMG20230531161529_01_jpg.rf.649cf9c1774a5c9da91ec06eddf9125e.jpg  \n",
            " extracting: images/train/IMG20230531161529_01_jpg.rf.6ca21814678f0163fd564fbbe0dadfe7.jpg  \n",
            " extracting: images/train/IMG20230531161529_01_jpg.rf.80e94ba6a9b6601c2e89a0a3cadf131f.jpg  \n",
            " extracting: images/train/IMG20230531161529_01_jpg.rf.bed8731b4b9a78c45750fbd91760db68.jpg  \n",
            " extracting: images/train/IMG20230531161529_01_jpg.rf.c5265ced2d2f8ea3091e5315458f824f.jpg  \n",
            " extracting: images/train/IMG20230531161550_jpg.rf.7b0a2fed9a7fb71936cf42e2c57593d2.jpg  \n",
            " extracting: images/train/IMG20230531161550_jpg.rf.d6dd6edc0bcd9b5768375112e3c4e3c3.jpg  \n",
            " extracting: images/train/IMG20230531161550_jpg.rf.d725fb2fac25f4f091c008142cd4238e.jpg  \n",
            " extracting: images/train/IMG20230531161554_jpg.rf.488e28d49d21c7804613dae58fc1f123.jpg  \n",
            " extracting: images/train/IMG20230531161554_jpg.rf.e27a820a634352d057021e08c40082b0.jpg  \n",
            " extracting: images/train/IMG20230531161558_jpg.rf.73185b3926b1c476f7aaee4bad5acf91.jpg  \n",
            " extracting: images/train/IMG20230531161558_jpg.rf.a1628c964433fdd15487238b42fae870.jpg  \n",
            " extracting: images/train/IMG20230531161558_jpg.rf.c8ee07375df3ba3ed851dd5673d978da.jpg  \n",
            " extracting: images/train/IMG20230531161602_jpg.rf.39162949b58c85829baed15cf4d231b2.jpg  \n",
            " extracting: images/train/IMG20230531161602_jpg.rf.e6ba7fa0dbd67197152abb1a7c295020.jpg  \n",
            " extracting: images/train/IMG20230531161606_jpg.rf.0267085476a2ab7def90068747627dfc.jpg  \n",
            " extracting: images/train/IMG20230531161606_jpg.rf.3632f94a16fd7a1e412055dc579d5262.jpg  \n",
            " extracting: images/train/IMG20230531161606_jpg.rf.679316fe9424fa634b7f9cc04b52aeef.jpg  \n",
            " extracting: images/train/IMG20230531161611_jpg.rf.68b78bee6ef8415988bc9b93374e65ea.jpg  \n",
            " extracting: images/train/IMG20230531161611_jpg.rf.c98a63787ec02b284739be749cd642a3.jpg  \n",
            " extracting: images/train/IMG20230531161611_jpg.rf.d516759edcc06de67a4f5d503e8038b6.jpg  \n",
            " extracting: images/train/IMG20230531161615_jpg.rf.05827e677b192938aa2b36aa8e620590.jpg  \n",
            " extracting: images/train/IMG20230531161615_jpg.rf.83222d5f76d2809eeba7eeec8fcf9814.jpg  \n",
            " extracting: images/train/IMG20230531161615_jpg.rf.a3171c89cfafbe8aaa8a4da3b13b3a62.jpg  \n",
            " extracting: images/train/IMG20230531161629_jpg.rf.34c152a638e102e314e71b6409747df9.jpg  \n",
            " extracting: images/train/IMG20230531161629_jpg.rf.42e7782854a326653a9ea404ecdfd619.jpg  \n",
            " extracting: images/train/IMG20230531161629_jpg.rf.df1c8139cc3b74e2afbcdd4d790224b4.jpg  \n",
            " extracting: images/train/IMG20230531161634_jpg.rf.4226cb9b66c94d4f91e67745f21b31a8.jpg  \n",
            " extracting: images/train/IMG20230531161634_jpg.rf.73d1a334dd0d1f869a8ab2c026d2f13b.jpg  \n",
            " extracting: images/train/IMG20230531161640_jpg.rf.0a35532f13e9a513d6d6f3bd0506052a.jpg  \n",
            " extracting: images/train/IMG20230531161640_jpg.rf.23dc27fa4ea029cf04e2ea3a71a2ab58.jpg  \n",
            " extracting: images/train/IMG20230531161640_jpg.rf.7585889ce2188a20ebdf0a606b654ae5.jpg  \n",
            " extracting: images/train/IMG20230531161701_jpg.rf.2d7157a91b91982b9b3b4bb39b55c8bd.jpg  \n",
            " extracting: images/train/IMG20230531161701_jpg.rf.3efc8c23ae95ad2bc482bf24fa714b34.jpg  \n",
            " extracting: images/train/IMG20230531161701_jpg.rf.50e2d44887a1f62726e4d6602bd8b84a.jpg  \n",
            " extracting: images/train/IMG20230531161716_jpg.rf.116101225f8ccd3a63a0592bcab63429.jpg  \n",
            " extracting: images/train/IMG20230531161716_jpg.rf.e0de6b7670dab3ca664cc30686b4ae0f.jpg  \n",
            " extracting: images/train/IMG20230531161716_jpg.rf.f0fde45ff267dfd0e984940b12edd044.jpg  \n",
            " extracting: images/train/IMG20230531161721_jpg.rf.827dc36fc9405e453ed730dd644b20d3.jpg  \n",
            " extracting: images/train/IMG20230531161721_jpg.rf.83fd7ffb218b1872196357e91e8a6700.jpg  \n",
            " extracting: images/train/IMG20230531161721_jpg.rf.944026c2914d63d77b42bddcde2e6319.jpg  \n",
            " extracting: images/train/IMG20230531161746_jpg.rf.a2b403638e6ce8fc2f64d3d7f7e7a3c9.jpg  \n",
            " extracting: images/train/IMG20230531161746_jpg.rf.a6c89b2f543da6699cb657ac0b672104.jpg  \n",
            " extracting: images/train/IMG20230531161746_jpg.rf.e055477de3aa98050873670355f9b1c3.jpg  \n",
            " extracting: images/train/IMG20230531161749_jpg.rf.018af5fac7beb9cf8849aa59fbbcbcca.jpg  \n",
            " extracting: images/train/IMG20230531161749_jpg.rf.03c5134ba81c86a5e6bb480cc08c03da.jpg  \n",
            " extracting: images/train/IMG20230531161749_jpg.rf.10a3acf1f546544773a5ebf67f57a4a4.jpg  \n",
            " extracting: images/train/IMG20230531161749_jpg.rf.3122d34b9fbbc0deaa584f54bb9d1be6.jpg  \n",
            " extracting: images/train/IMG20230531161749_jpg.rf.770012b646e255d0d4ccce9a7d25056e.jpg  \n",
            " extracting: images/train/IMG20230531161749_jpg.rf.a18d92f2665a5528d5adefe085ae69ef.jpg  \n",
            " extracting: images/train/IMG20230531161752_jpg.rf.4de95dba9c91e87a6aa494122725acc0.jpg  \n",
            " extracting: images/train/IMG20230531161752_jpg.rf.66b6b176b2938feadd2f9a9479d49fea.jpg  \n",
            " extracting: images/train/IMG20230531161752_jpg.rf.b49e6416a1ff69eb12099fa89296598e.jpg  \n",
            " extracting: images/train/IMG20230531161809_jpg.rf.08f0d76d7395f35c7f86770e82fbbfc7.jpg  \n",
            " extracting: images/train/IMG20230531161809_jpg.rf.22f50f52defd3ab6c7827ca58409307d.jpg  \n",
            " extracting: images/train/IMG20230531161809_jpg.rf.7722421758b8c442e02b46bc485f6981.jpg  \n",
            " extracting: images/train/IMG20230531161809_jpg.rf.82037054579a095d3f691974d08fb235.jpg  \n",
            " extracting: images/train/IMG20230531161809_jpg.rf.ce1fff3e459f85b84db69fa9b2369c13.jpg  \n",
            " extracting: images/train/IMG20230531161809_jpg.rf.e4140b2a73e277b2b39436f8e74fa831.jpg  \n",
            " extracting: images/train/IMG20230531161815_jpg.rf.361e18b3fe25c4281f28a683fc3afa0a.jpg  \n",
            " extracting: images/train/IMG20230531161815_jpg.rf.5826ecc40dbb6ddabec5ad91b0a16958.jpg  \n",
            " extracting: images/train/IMG20230531161815_jpg.rf.7739773289c6e4e346159067bb19cf1a.jpg  \n",
            " extracting: images/train/IMG20230531161815_jpg.rf.898d72a84bd1a051c3adbd03a547a5d6.jpg  \n",
            " extracting: images/train/IMG20230531161815_jpg.rf.b6f358268bdcf4eb94e4ec8c28381310.jpg  \n",
            " extracting: images/train/IMG20230531161815_jpg.rf.bc0cc1863776759058f614b4dfe0bd16.jpg  \n",
            " extracting: images/train/IMG20230531161815_jpg.rf.dab891a95af876cb0ac8e131fd69a449.jpg  \n",
            " extracting: images/train/IMG20230531161815_jpg.rf.fe3eadcdf282ba60a206a91dc69177f2.jpg  \n",
            " extracting: images/train/IMG20230531161817_jpg.rf.4464a618dc353e7f62584860b813cf42.jpg  \n",
            " extracting: images/train/IMG20230531161817_jpg.rf.8865b0a095b7a643546f546dcf23f6c7.jpg  \n",
            " extracting: images/train/IMG20230531161817_jpg.rf.f305199af7e902c949de126667c03839.jpg  \n",
            " extracting: images/train/IMG20230531161822_jpg.rf.15abd1c0db6431a475851102215c5b52.jpg  \n",
            " extracting: images/train/IMG20230531161822_jpg.rf.49df64b483322c5de17c6126b9d950b9.jpg  \n",
            " extracting: images/train/IMG20230531161822_jpg.rf.aa563ab65eab11ba3ce8afb2f4c02d46.jpg  \n",
            " extracting: images/train/IMG20230531161822_jpg.rf.b3d9d148d678e991184bb62d10e1de30.jpg  \n",
            " extracting: images/train/IMG20230531161822_jpg.rf.e99d443e268f173fd2cf33bb9636fc82.jpg  \n",
            " extracting: images/train/IMG20230531161822_jpg.rf.f49d4c09b8649c730c31cc7143e94005.jpg  \n",
            " extracting: images/train/IMG20230531161823_jpg.rf.0bca3e2df1ab1c144e8113acc7629c90.jpg  \n",
            " extracting: images/train/IMG20230531161823_jpg.rf.204817b9d81917e8c7af9f074ef170f0.jpg  \n",
            " extracting: images/train/IMG20230531161823_jpg.rf.5f655e01119e1af8010d8957710a58ba.jpg  \n",
            " extracting: images/train/IMG20230531161823_jpg.rf.662aef7702130d1f373ecf9d1ab75427.jpg  \n",
            " extracting: images/train/IMG20230531161823_jpg.rf.700545805f59858af594eaff188ec9b6.jpg  \n",
            " extracting: images/train/IMG20230531161823_jpg.rf.9555ba77edf8a5799332a6d1fafc43b7.jpg  \n",
            " extracting: images/train/IMG20230531161823_jpg.rf.abc979e82287dad324ebb65abfa0b1ed.jpg  \n",
            " extracting: images/train/IMG20230531161823_jpg.rf.b037f9911457c96aa12ca2ab217c9303.jpg  \n",
            " extracting: images/train/IMG20230531161823_jpg.rf.be670ce0ba18f46135983d0c2222b654.jpg  \n",
            " extracting: images/train/IMG20230531161827_jpg.rf.0670efbc0a11b4cc5caf0e9bb5ce696c.jpg  \n",
            " extracting: images/train/IMG20230531161827_jpg.rf.15a0baf57bad48c5ab6a4ff8837891a4.jpg  \n",
            " extracting: images/train/IMG20230531161827_jpg.rf.399251151c859ad3c6b70f164dcae2f8.jpg  \n",
            " extracting: images/train/IMG20230531161829_jpg.rf.6c87d41adb5096ef8db340fe3f0d7f63.jpg  \n",
            " extracting: images/train/IMG20230531161829_jpg.rf.cb7b88e637ba68e6ca8febcd28a29a66.jpg  \n",
            " extracting: images/train/IMG20230531161829_jpg.rf.f8b3161951dd413ccbe47fa03dfd2f58.jpg  \n",
            " extracting: images/train/IMG20230601104218_jpg.rf.23517fa944c3046e1d27c328f2739a90.jpg  \n",
            " extracting: images/train/IMG20230601104218_jpg.rf.3df8a0ff08c8b29967d12b5b41b76691.jpg  \n",
            " extracting: images/train/IMG20230601104218_jpg.rf.4a2eef83f2fda6167f424b02105abef6.jpg  \n",
            " extracting: images/train/IMG20230601104218_jpg.rf.4f5c29a82b229447312f79c1f0926f48.jpg  \n",
            " extracting: images/train/IMG20230601104218_jpg.rf.54d159686740195ad6508aee55cd06d4.jpg  \n",
            " extracting: images/train/IMG20230601104218_jpg.rf.5b64c3a66d49ef4050bfa5682403b525.jpg  \n",
            " extracting: images/train/IMG20230601104218_jpg.rf.6418b9306c12e57550f200dadaae3775.jpg  \n",
            " extracting: images/train/IMG20230601104218_jpg.rf.6aa785837d5ec5370556893c0efa9868.jpg  \n",
            " extracting: images/train/IMG20230601104218_jpg.rf.6b01997a420beeee98f6c01dccc9d6f4.jpg  \n",
            " extracting: images/train/IMG20230601104218_jpg.rf.7effa615d326f6fb028a4b9ea8f4e7ce.jpg  \n",
            " extracting: images/train/IMG20230601104218_jpg.rf.87cecf76607e146cea6717769d46a5b2.jpg  \n",
            " extracting: images/train/IMG20230601104218_jpg.rf.8c7264e2caaedf4df27293cc0b600eb8.jpg  \n",
            " extracting: images/train/IMG20230601104218_jpg.rf.9a872e6c9327027265439a8dcfee40ab.jpg  \n",
            " extracting: images/train/IMG20230601104218_jpg.rf.b9a6caef17f0504f5e220dc9856d36b4.jpg  \n",
            " extracting: images/train/IMG20230601104218_jpg.rf.c4dc1d1515e096d14bd4a9ce60144240.jpg  \n",
            " extracting: images/train/IMG20230601104218_jpg.rf.d30117f60f4e5806379b847c72e34b61.jpg  \n",
            " extracting: images/train/IMG20230601104218_jpg.rf.f1e61a13650ce521efcbadb614a05e91.jpg  \n",
            " extracting: images/train/IMG20230601104221_jpg.rf.29518405a32e5e7ad6be39d47566e0d7.jpg  \n",
            " extracting: images/train/IMG20230601104221_jpg.rf.2c1fd3e5444e4ffd9633804f1be84116.jpg  \n",
            " extracting: images/train/IMG20230601104221_jpg.rf.b067651dd8a869b8caa79acba5a73d23.jpg  \n",
            " extracting: images/train/IMG20230601104222_jpg.rf.ba82cc35155e28b5f469cf19d53b9e27.jpg  \n",
            " extracting: images/train/IMG20230601104222_jpg.rf.c3803fc6c3692712ee3b4d97763bb42b.jpg  \n",
            " extracting: images/train/IMG20230601104222_jpg.rf.dc7592f4e96cbe7ac13240e135843132.jpg  \n",
            " extracting: images/train/IMG20230601104258_jpg.rf.4e9287390408ee09e4ea2d45a6c78590.jpg  \n",
            " extracting: images/train/IMG20230601104258_jpg.rf.5d0b60b5be9092dd97f155a37429b5de.jpg  \n",
            " extracting: images/train/IMG20230601104258_jpg.rf.a731b2e780bed7add3fd14104f5bfe16.jpg  \n",
            " extracting: images/train/IMG20230601104306_jpg.rf.793c9b874dc78fa3b2dabbd8585543ba.jpg  \n",
            " extracting: images/train/IMG20230601104306_jpg.rf.d919e0aebadb863429ebf76c307b711b.jpg  \n",
            " extracting: images/train/IMG20230601104306_jpg.rf.f42a7e3b6a896009948f55721c866db7.jpg  \n",
            " extracting: images/train/IMG20230601104307_jpg.rf.6bae44e79b459bd6bf5fa24c3cbe0da6.jpg  \n",
            " extracting: images/train/IMG20230601104307_jpg.rf.b8ebd5d751dd46a2d228639aee0eaea1.jpg  \n",
            " extracting: images/train/IMG20230601104307_jpg.rf.efd926b55e5022c636366d76e5954d3f.jpg  \n",
            " extracting: images/train/IMG20230601104309_jpg.rf.19bea5c19be3d1235154c02125f65a63.jpg  \n",
            " extracting: images/train/IMG20230601104309_jpg.rf.7554be0167e85eb8870111853f2a59a3.jpg  \n",
            " extracting: images/train/IMG20230601104309_jpg.rf.d6fbac0dcfc6a26803c90618cee5d14d.jpg  \n",
            " extracting: images/train/IMG20230601104310_jpg.rf.24b11a20b440f8bc86a15da8d4219512.jpg  \n",
            " extracting: images/train/IMG20230601104310_jpg.rf.49f32ad0fc49d008231eee285bed0ef5.jpg  \n",
            " extracting: images/train/IMG20230601104310_jpg.rf.a80bc001c218ef7a9685cf80b0128b58.jpg  \n",
            " extracting: images/train/IMG20230601104315_jpg.rf.55c68809f9ad25ebea79ccea8acf1dac.jpg  \n",
            " extracting: images/train/IMG20230601104315_jpg.rf.7ee38817c7001feb3594de1185d9731e.jpg  \n",
            " extracting: images/train/IMG20230601104315_jpg.rf.a8fab2c55f3c8d05197bea910a3c5aa6.jpg  \n",
            " extracting: images/train/IMG20230601104319_jpg.rf.226d0c5c29313db0a9a9cc9cc2967186.jpg  \n",
            " extracting: images/train/IMG20230601104319_jpg.rf.2eeffd2f7519cfb99539eb873baa1eac.jpg  \n",
            " extracting: images/train/IMG20230601104319_jpg.rf.57bee9fbfc95e97744212b829cc08bf5.jpg  \n",
            " extracting: images/train/IMG20230601104321_jpg.rf.23084d600f692ad0c509bef04f6f6aa0.jpg  \n",
            " extracting: images/train/IMG20230601104321_jpg.rf.3897648097c78da612ddcbf1841e0612.jpg  \n",
            " extracting: images/train/IMG20230601104321_jpg.rf.efff67a969931755377085dc1d0bd597.jpg  \n",
            " extracting: images/train/IMG20230601104323_jpg.rf.2fba31b604375e294ca9d0f16bdc1b93.jpg  \n",
            " extracting: images/train/IMG20230601104323_jpg.rf.7bd97ce22e2349c6452b08bbdc0fc1b3.jpg  \n",
            " extracting: images/train/IMG20230601104324_jpg.rf.1d4d99bc0e3958d234c5781f69793116.jpg  \n",
            " extracting: images/train/IMG20230601104324_jpg.rf.7af169423be1951235e69695eca9c858.jpg  \n",
            " extracting: images/train/IMG20230601104324_jpg.rf.8e3428c7fa1ffff73c1e38c17c967be4.jpg  \n",
            " extracting: images/train/IMG20230601104329_jpg.rf.3c524cd676e67a2c3a5a5c4e9dccf04e.jpg  \n",
            " extracting: images/train/IMG20230601104329_jpg.rf.d564f25dc9c1ae69bf5b24a8afa83b3a.jpg  \n",
            " extracting: images/train/IMG20230601104329_jpg.rf.e50e584babd138e725df5c0f3b6f6ac8.jpg  \n",
            " extracting: images/train/IMG20230601104331_jpg.rf.67d0059302b8dfa728713681be0c9ae4.jpg  \n",
            " extracting: images/train/IMG20230601104331_jpg.rf.7dfb07a3595e7b3ea3b9163b3472b980.jpg  \n",
            " extracting: images/train/IMG20230601104331_jpg.rf.89f48d65b901dc8404c19db2a3534326.jpg  \n",
            " extracting: images/train/IMG20230601104336_jpg.rf.1582944ab1265b0a4a7217157266e37e.jpg  \n",
            " extracting: images/train/IMG20230601104336_jpg.rf.7dde43a4bf55f993e387ce0b4715a2de.jpg  \n",
            " extracting: images/train/IMG20230601104336_jpg.rf.c341ccbc311e15c1d10b3199f7622be5.jpg  \n",
            " extracting: images/train/IMG20230601104339_jpg.rf.1f43dad41f77388ce33cf83b11fe475b.jpg  \n",
            " extracting: images/train/IMG20230601104339_jpg.rf.21f0a6521aa2ccfada49a4c328599606.jpg  \n",
            " extracting: images/train/IMG20230601104339_jpg.rf.24939071bb35e38ad3c946fbd0c68c7b.jpg  \n",
            " extracting: images/train/IMG20230601104339_jpg.rf.3bcfdbef7142a3a6621c67150f2484f2.jpg  \n",
            " extracting: images/train/IMG20230601104339_jpg.rf.7e05420a9b09a81d5fdd26f66836e3d2.jpg  \n",
            " extracting: images/train/IMG20230601104339_jpg.rf.9fea06da8f7347330e603243c0f99e36.jpg  \n",
            " extracting: images/train/IMG20230601104341_jpg.rf.2d2d7392978bd24cef8d8a710e574f70.jpg  \n",
            " extracting: images/train/IMG20230601104341_jpg.rf.33a7ccc200c6c5ae1530bc2e84d62f84.jpg  \n",
            " extracting: images/train/IMG20230601104341_jpg.rf.a4fcb2300d556ff7ce2b9e55ae75ca87.jpg  \n",
            " extracting: images/train/IMG20230601104348_jpg.rf.4555bcf0ae27abd64cfbe93162f9840c.jpg  \n",
            " extracting: images/train/IMG20230601104348_jpg.rf.5242b6077d4148e312dead3a607f808e.jpg  \n",
            " extracting: images/train/IMG20230601104348_jpg.rf.6d9f4183be3f3ce26767c9e5da5c4dc6.jpg  \n",
            " extracting: images/train/IMG20230601104348_jpg.rf.81e71e81b5bb666804eb47f053f9217e.jpg  \n",
            " extracting: images/train/IMG20230601104348_jpg.rf.88c794d6c9f2df67d1bff24da52e6d24.jpg  \n",
            " extracting: images/train/IMG20230601104348_jpg.rf.97b4d49a288cc60086d2a443df33b1e0.jpg  \n",
            " extracting: images/train/IMG20230601104348_jpg.rf.aa07ac38e0099d6087566b51fb53fe9d.jpg  \n",
            " extracting: images/train/IMG20230601104348_jpg.rf.c0f20dd49cfaa737249a9cb6ad3422a1.jpg  \n",
            " extracting: images/train/IMG20230601104348_jpg.rf.d9595372ebe2a9471ae01a5e39b76fa4.jpg  \n",
            " extracting: images/train/IMG20230601104354_jpg.rf.4c2050f52a93ed482f3e5f0953e0c629.jpg  \n",
            " extracting: images/train/IMG20230601104354_jpg.rf.76a5e7c9281e21ebd576d38a72ffbb64.jpg  \n",
            " extracting: images/train/IMG20230601104354_jpg.rf.ff8017d44bd204dbe7967e63c2d7f0ab.jpg  \n",
            " extracting: images/train/IMG20230601104357_jpg.rf.3652e40fff8e97f4a1e69580449ee423.jpg  \n",
            " extracting: images/train/IMG20230601104357_jpg.rf.45e6b7ef51eca655dbe17b9fc2d1e042.jpg  \n",
            " extracting: images/train/IMG20230601104357_jpg.rf.ff2c1f2026ebf3858bfee5129a316f23.jpg  \n",
            " extracting: images/train/IMG20230601104408_jpg.rf.2f5ff1ad38bc01e4ff5efb7d03b07edd.jpg  \n",
            " extracting: images/train/IMG20230601104408_jpg.rf.5a767349e4e87f571dbbdc2437845d87.jpg  \n",
            " extracting: images/train/IMG20230601104408_jpg.rf.93c3938f2a4ee9d5790633c0fc090444.jpg  \n",
            " extracting: images/train/IMG20230601104410_jpg.rf.2fe6eb5a733b870f376e54b9cd860efe.jpg  \n",
            " extracting: images/train/IMG20230601104410_jpg.rf.369b8703d77f2ca94ecc43d43e7eadde.jpg  \n",
            " extracting: images/train/IMG20230601104410_jpg.rf.3f48a408402007efd3de9e4168d5bf40.jpg  \n",
            " extracting: images/train/IMG20230601104411_jpg.rf.147e45b36156dbe9ab626cbe4f77fdd6.jpg  \n",
            " extracting: images/train/IMG20230601104411_jpg.rf.c5585b4be0bdcba8baccbe9982ed0db0.jpg  \n",
            " extracting: images/train/IMG20230601104411_jpg.rf.ead3b4ce3a0f8b912e705f6b0c5ba231.jpg  \n",
            " extracting: images/train/IMG20230601104414_jpg.rf.3aa5392458bd594f0160aa8c6058ef55.jpg  \n",
            " extracting: images/train/IMG20230601104414_jpg.rf.8da21504ac8131fdb3a67204aa3b9d22.jpg  \n",
            " extracting: images/train/IMG20230601104414_jpg.rf.ad6b5cbc492b00639ea0f6df706689eb.jpg  \n",
            " extracting: images/train/IMG20230601104416_jpg.rf.2e5677beff436290e70a586768f71584.jpg  \n",
            " extracting: images/train/IMG20230601104416_jpg.rf.798fee3d1e5f0dae67998e1f468ae1d1.jpg  \n",
            " extracting: images/train/IMG20230601104416_jpg.rf.aba6b05326a2d6f1d57defd8d9ae335e.jpg  \n",
            " extracting: images/train/IMG20230601104418_jpg.rf.69503bfb521e3154144c7b6c7d010348.jpg  \n",
            " extracting: images/train/IMG20230601104418_jpg.rf.7445a85cafcea19d23b87e190db4e914.jpg  \n",
            " extracting: images/train/IMG20230601104418_jpg.rf.c365f571ecc411d50f76e505c3e6c24d.jpg  \n",
            " extracting: images/train/IMG20230601104420_jpg.rf.3b19582552f9d55db567f1d323b14476.jpg  \n",
            " extracting: images/train/IMG20230601104420_jpg.rf.bf97f2fe85ea9350ea6632a20355b3a6.jpg  \n",
            " extracting: images/train/IMG20230601104422_jpg.rf.1723d946180c4a9a648a68e5c45d3731.jpg  \n",
            " extracting: images/train/IMG20230601104422_jpg.rf.268afe0500f4b61a039e8dfd33c9e961.jpg  \n",
            " extracting: images/train/IMG20230601104422_jpg.rf.c9cf6f0bb5119d58bcd32c6597504d20.jpg  \n",
            " extracting: images/train/IMG20230601104426_jpg.rf.1a5dddacff6608c4ac22753e20aa1969.jpg  \n",
            " extracting: images/train/IMG20230601104426_jpg.rf.35d7acab7e032be3d0ba9bfb48c1cb8c.jpg  \n",
            " extracting: images/train/IMG20230601104426_jpg.rf.84f0013086ba32f7a7c3d73d5979d951.jpg  \n",
            " extracting: images/train/IMG20230601104428_jpg.rf.7a266c8675638ffb10237b1667aa749e.jpg  \n",
            " extracting: images/train/IMG20230601104428_jpg.rf.b4a0a74befe4d6486ef0873e2771173f.jpg  \n",
            " extracting: images/train/IMG20230601104428_jpg.rf.dd549533e34ec1cc7a8f31ece5efe9d3.jpg  \n",
            " extracting: images/train/IMG20230601104440_jpg.rf.14b9742351d04abc01ad1f515cea1f39.jpg  \n",
            " extracting: images/train/IMG20230601104440_jpg.rf.2fc4a77c8bbc2583c4097c166b6bb9c3.jpg  \n",
            " extracting: images/train/IMG20230601104440_jpg.rf.c3e4ea8d390c8427e4b97749e882454d.jpg  \n",
            " extracting: images/train/IMG20230601104442_jpg.rf.1bc380ba65a32b13741b5d5cb0d36e7c.jpg  \n",
            " extracting: images/train/IMG20230601104442_jpg.rf.1f616345215824b8f689465e18363340.jpg  \n",
            " extracting: images/train/IMG20230601104442_jpg.rf.293cccee3bd246ba7d1be35782275df5.jpg  \n",
            " extracting: images/train/IMG20230601104442_jpg.rf.990c8a9f77a7e2da4a679845dbd905b0.jpg  \n",
            " extracting: images/train/IMG20230601104442_jpg.rf.a34c7eb58b5ea8ee4f885b9d588ecad1.jpg  \n",
            " extracting: images/train/IMG20230601104442_jpg.rf.b393c523b7430bab7f3b47c11aa39bae.jpg  \n",
            " extracting: images/train/IMG20230601104442_jpg.rf.c7bd104c44b87d02a9187540a76f1a1a.jpg  \n",
            " extracting: images/train/IMG20230601104442_jpg.rf.d877bf67f7fd5b5fd82a90468dc556c9.jpg  \n",
            " extracting: images/train/IMG20230601104442_jpg.rf.fb84e9fda475af7b3b62a6a1f4891119.jpg  \n",
            " extracting: images/train/IMG20230601104444_jpg.rf.3afc83aefdbc99bd8967da8cde864437.jpg  \n",
            " extracting: images/train/IMG20230601104444_jpg.rf.595e72af8aed916520931152c38dd645.jpg  \n",
            " extracting: images/train/IMG20230601104444_jpg.rf.e6dff90b08ce3dced6b5b6e2d9d5b0bb.jpg  \n",
            " extracting: images/train/IMG20230601104446_jpg.rf.1b05d0046f87d562251b88c218140faa.jpg  \n",
            " extracting: images/train/IMG20230601104446_jpg.rf.30525a6cdee9398261a6b89ac04345bc.jpg  \n",
            " extracting: images/train/IMG20230601104446_jpg.rf.4f4446094caaa4aa0e1e3e0adb606611.jpg  \n",
            " extracting: images/train/IMG20230601104446_jpg.rf.6fa4a4757525a417ae011f5743da1a9f.jpg  \n",
            " extracting: images/train/IMG20230601104446_jpg.rf.8e1cb3b5e338ce4a10c755df4478eb7a.jpg  \n",
            " extracting: images/train/IMG20230601104446_jpg.rf.94e4d72e6388e837d56edae68925a782.jpg  \n",
            " extracting: images/train/IMG20230601104446_jpg.rf.a0695ccb6f66eb4cc2038db0e80d52d1.jpg  \n",
            " extracting: images/train/IMG20230601104446_jpg.rf.ab884bcbe8356ee9f363eb6d07a50593.jpg  \n",
            " extracting: images/train/IMG20230601104446_jpg.rf.e23bb2d273d6a770ac15af052d4b0b87.jpg  \n",
            " extracting: images/train/IMG20230601104448_jpg.rf.2918a0581cbf92daa168cda460d2ab51.jpg  \n",
            " extracting: images/train/IMG20230601104448_jpg.rf.62408c84230f843b8298e98f148e1870.jpg  \n",
            " extracting: images/train/IMG20230601104448_jpg.rf.7985d86db8769b01d02e367cad981ae5.jpg  \n",
            " extracting: images/train/IMG20230601104450_jpg.rf.6d1444419841a7183c6cb1aae34229e2.jpg  \n",
            " extracting: images/train/IMG20230601104450_jpg.rf.7790946920b653f4cfb84b48aa8df0e3.jpg  \n",
            " extracting: images/train/IMG20230601104450_jpg.rf.b1ed5417841d8cf8aad41dd513a13b56.jpg  \n",
            " extracting: images/train/IMG20230601104453_jpg.rf.1b7ec0669680a2e8b68665a7cacd8954.jpg  \n",
            " extracting: images/train/IMG20230601104453_jpg.rf.9e35165118305acab9281d5a838f91f5.jpg  \n",
            " extracting: images/train/IMG20230601104453_jpg.rf.cafbe506efcd0908567d0706c62afa41.jpg  \n",
            " extracting: images/train/IMG20230601104455_jpg.rf.0e7bbaf61443c3ef85b0241ba524ecfe.jpg  \n",
            " extracting: images/train/IMG20230601104455_jpg.rf.ca263d45f023fafbca8e0b616043bdf5.jpg  \n",
            " extracting: images/train/IMG20230601104455_jpg.rf.f18f8e4e1ed191107b954a66f09e7b24.jpg  \n",
            " extracting: images/train/IMG20230601104457_jpg.rf.7cca8003564e0cca4e476d5184af9610.jpg  \n",
            " extracting: images/train/IMG20230601104457_jpg.rf.a0f0aa05aa53bd899c676902bed7670a.jpg  \n",
            " extracting: images/train/IMG20230601104457_jpg.rf.c2c9ba335c52fb626e8d8de8881df889.jpg  \n",
            " extracting: images/train/IMG20230601140138_jpg.rf.0800d0e974115e4e5a35259957648f96.jpg  \n",
            " extracting: images/train/IMG20230601140138_jpg.rf.412d2c59fd0b6848c54cab9ef5036578.jpg  \n",
            " extracting: images/train/IMG20230601140138_jpg.rf.735d005888db8316064f0d22f8ee1673.jpg  \n",
            " extracting: images/train/IMG20230601140138_jpg.rf.98061c278c74f263f9d3b924587672a9.jpg  \n",
            " extracting: images/train/IMG20230601140138_jpg.rf.aa4364be0429623da6b441e54c5e3d53.jpg  \n",
            " extracting: images/train/IMG20230601140138_jpg.rf.ff5b49474aafcfaf0bd59f973d5192e1.jpg  \n",
            " extracting: images/train/IMG20230601140147_jpg.rf.3fd073e4ecb067d0d252e9463839d8d8.jpg  \n",
            " extracting: images/train/IMG20230601140147_jpg.rf.46822b5fa59b5222ff92234cb608c9ea.jpg  \n",
            " extracting: images/train/IMG20230601140147_jpg.rf.4c1484715998fbd87bba23edb1839c70.jpg  \n",
            " extracting: images/train/IMG20230601140147_jpg.rf.72f42542b40c3a160b8c973f8af8a892.jpg  \n",
            " extracting: images/train/IMG20230601140147_jpg.rf.77c4a6637e12a024b6f737de6523eafd.jpg  \n",
            " extracting: images/train/IMG20230601140147_jpg.rf.8d12c1c1f67207d259b0e5fb4585fb87.jpg  \n",
            " extracting: images/train/IMG20230601140147_jpg.rf.ba639ce89a2dfc9b172cdaf0f531465f.jpg  \n",
            " extracting: images/train/IMG20230601140147_jpg.rf.cc8942ad10032cf0bb49d506ea2843b5.jpg  \n",
            " extracting: images/train/IMG20230601140147_jpg.rf.d18a793a0baf792c8d713b95843fce8d.jpg  \n",
            " extracting: images/train/IMG20230601140149_jpg.rf.49bea061af88f7e1e130d107438cd1da.jpg  \n",
            " extracting: images/train/IMG20230601140149_jpg.rf.a11718051db92d8af3612e4cbd181089.jpg  \n",
            " extracting: images/train/IMG20230601140149_jpg.rf.e675fa672e68474c5bd384f064e562e3.jpg  \n",
            " extracting: images/train/IMG20230601140217_jpg.rf.170fe09b54edabfc32734bd6267ee3d6.jpg  \n",
            " extracting: images/train/IMG20230601140217_jpg.rf.1c150361ab9bea7a76a210a772ec71bf.jpg  \n",
            " extracting: images/train/IMG20230601140217_jpg.rf.1f27866f3cbcf7dbf1775e451378307c.jpg  \n",
            " extracting: images/train/IMG20230601140217_jpg.rf.54f3950e65035877eea606c729bb5233.jpg  \n",
            " extracting: images/train/IMG20230601140217_jpg.rf.ac7981f90a92d53bda8a94cdc8bd3afd.jpg  \n",
            " extracting: images/train/IMG20230601140217_jpg.rf.b7db1d7bb5162ee95e409dca5b937a62.jpg  \n",
            " extracting: images/train/IMG20230601140217_jpg.rf.df1aa81471fb82f326b65dce186a2225.jpg  \n",
            " extracting: images/train/IMG20230601140226_jpg.rf.267854f88c363ee87b81015d7b8f2be3.jpg  \n",
            " extracting: images/train/IMG20230601140226_jpg.rf.83173f874ee8cd03a917f3626ce395c9.jpg  \n",
            " extracting: images/train/IMG20230601140226_jpg.rf.b1b79f14f2cc2d3c72260a1b01719ac9.jpg  \n",
            " extracting: images/train/IMG20230601140226_jpg.rf.b85a8d211f01b3d4b98ea8c5b9f49c41.jpg  \n",
            " extracting: images/train/IMG20230601140226_jpg.rf.f4d5e757361206592b13f1bc6443e3cb.jpg  \n",
            " extracting: images/train/IMG20230601140239_jpg.rf.0ee8a73cc424657f21ad73139c28b4b4.jpg  \n",
            " extracting: images/train/IMG20230601140239_jpg.rf.19db580cfa5289863e151939452c73c6.jpg  \n",
            " extracting: images/train/IMG20230601140239_jpg.rf.2eb31843b1f8c8f0ca62d712e1b10fdc.jpg  \n",
            " extracting: images/train/IMG20230601140239_jpg.rf.c327a829f4d8d0cf1acbfeb7ec26d7c5.jpg  \n",
            " extracting: images/train/IMG20230601140239_jpg.rf.e613d65352798de921d5a8bfd92246a1.jpg  \n",
            " extracting: images/train/IMG20230601140239_jpg.rf.eeb813309072f22a388808fc1d43daeb.jpg  \n",
            " extracting: images/train/IMG20230601140241_jpg.rf.935f597bea17c1187a4ff7de5ee88e8b.jpg  \n",
            " extracting: images/train/IMG20230601140241_jpg.rf.a14a6fee2bb28cedabce28862010b4d3.jpg  \n",
            " extracting: images/train/IMG20230601140241_jpg.rf.c50b3486fb813ae0fbc09be27184d1cf.jpg  \n",
            " extracting: images/train/IMG20230601140244_jpg.rf.1cf4d89ff3d2158abdce119f2669fa52.jpg  \n",
            " extracting: images/train/IMG20230601140244_jpg.rf.9bbcba13365ac7fda7a562dc9d32b68d.jpg  \n",
            " extracting: images/train/IMG20230601165319_jpg.rf.179481d6aba409c39599c43ecb13a8de.jpg  \n",
            " extracting: images/train/IMG20230601165319_jpg.rf.3d10bcdee50e29e7e831126e6d826f9e.jpg  \n",
            " extracting: images/train/IMG20230601165319_jpg.rf.9c3baf18f5c77aade0036cac7900ee49.jpg  \n",
            " extracting: images/train/IMG20230601165324_jpg.rf.19724d152276d41060fc5569a884f7a2.jpg  \n",
            " extracting: images/train/IMG20230601165324_jpg.rf.6dc706fb2ccbcd2caff4e9dc91f86e0d.jpg  \n",
            " extracting: images/train/IMG20230601165324_jpg.rf.e12194e56d66d0a91637a36c663dd06b.jpg  \n",
            " extracting: images/train/IMG20230601165329_jpg.rf.1d437fb17e47afde5f696ee6cd445d85.jpg  \n",
            " extracting: images/train/IMG20230601165329_jpg.rf.457115149ce3b94696eb189416c85114.jpg  \n",
            " extracting: images/train/IMG20230601165329_jpg.rf.a9dd40a011a1f85fbe688065c4c330ac.jpg  \n",
            " extracting: images/train/IMG20230601165338_jpg.rf.2951f0439f4ad6a6f88dbc413f1be33d.jpg  \n",
            " extracting: images/train/IMG20230601165338_jpg.rf.31caafd4e6247b4c1ef4cccf8e00309e.jpg  \n",
            " extracting: images/train/IMG20230601165338_jpg.rf.3709497eaab7d42c19cd91faebf57864.jpg  \n",
            " extracting: images/train/IMG20230601165338_jpg.rf.74f1716e23474efa9fad5c86edca0aeb.jpg  \n",
            " extracting: images/train/IMG20230601165338_jpg.rf.9375fc6faec9c68701478c8e195a8711.jpg  \n",
            " extracting: images/train/IMG20230601165338_jpg.rf.ff950eda7ab1181ccd7ce95adfe563e0.jpg  \n",
            " extracting: images/train/IMG20230601165343_jpg.rf.3de201773101c3eb4e128cc8c4ff242d.jpg  \n",
            " extracting: images/train/IMG20230601165343_jpg.rf.70e3c15783b51c89f0923708e27402fd.jpg  \n",
            " extracting: images/train/IMG20230601165343_jpg.rf.8259383c8d3fc7581f0c159d487ec60c.jpg  \n",
            " extracting: images/train/IMG20230601165343_jpg.rf.d2fcc2dac1fbaff2c5193fa1728be9f8.jpg  \n",
            " extracting: images/train/IMG20230601165343_jpg.rf.fd6fa56d0888f42597f245f8afc05285.jpg  \n",
            " extracting: images/train/IMG20230601165344_jpg.rf.08080a138e9a0e8c66d0ac97ded04359.jpg  \n",
            " extracting: images/train/IMG20230601165344_jpg.rf.a8b0426dc2966ce591f37843845d50dc.jpg  \n",
            " extracting: images/train/IMG20230601165344_jpg.rf.c82679263e2b5f1dd2090469d626af43.jpg  \n",
            " extracting: images/train/IMG20230601165349_jpg.rf.59be1deca06939c1b1f89902419809e5.jpg  \n",
            " extracting: images/train/IMG20230601165349_jpg.rf.83b59e7a91ab900779bb13bb0f104b22.jpg  \n",
            " extracting: images/train/IMG20230601165349_jpg.rf.8819c726903315155092de91001051aa.jpg  \n",
            " extracting: images/train/IMG20230601165355_jpg.rf.7be7be1134f97ef544b356d87637448c.jpg  \n",
            " extracting: images/train/IMG20230601165355_jpg.rf.8aa62a678f9de80aa0cc58edfae332c3.jpg  \n",
            " extracting: images/train/IMG20230601165355_jpg.rf.f9de600de478ec0a16c010bab819b3de.jpg  \n",
            " extracting: images/train/IMG20230601165514_jpg.rf.061e37d1dc95ccd18ca08c9d39dd2b7d.jpg  \n",
            " extracting: images/train/IMG20230601165514_jpg.rf.72b3a2cc6770483b564a06eddec52199.jpg  \n",
            " extracting: images/train/IMG20230601165514_jpg.rf.d8aeeea3863993fcafe0a3ea648c72aa.jpg  \n",
            " extracting: images/train/IMG20230601165520_jpg.rf.bd2a05c88069ba367897a029914d1419.jpg  \n",
            " extracting: images/train/IMG20230601165520_jpg.rf.bfd4bec400995fe99cf93024a2337b50.jpg  \n",
            " extracting: images/train/IMG20230601165520_jpg.rf.c6ae867fd06f5cfef689adf48070bf22.jpg  \n",
            " extracting: images/train/IMG20230601165522_jpg.rf.7482e53c5f062f76e302b39ba6f3a508.jpg  \n",
            " extracting: images/train/IMG20230601165522_jpg.rf.a8c5feb7c02582aa34e1912dc8bc9ff6.jpg  \n",
            " extracting: images/train/IMG20230601165522_jpg.rf.d126210d1be99a87466d5bb49f9c6cbb.jpg  \n",
            " extracting: images/train/IMG20230601165525_jpg.rf.7338f04432822d10045bca608e4dd5dc.jpg  \n",
            " extracting: images/train/IMG20230601165525_jpg.rf.823f3408da11eacece4602428a817107.jpg  \n",
            " extracting: images/train/IMG20230601165525_jpg.rf.fb6bab5bc5017f64b4743c613dc9f731.jpg  \n",
            " extracting: images/train/IMG20230601165528_jpg.rf.5d4d21b135e0320def4dd7fae9675cf0.jpg  \n",
            " extracting: images/train/IMG20230601165528_jpg.rf.dd7793adc821f2301fa3e27c6511acf7.jpg  \n",
            " extracting: images/train/IMG20230601165528_jpg.rf.ec74108362a9696cfca5399db17e765f.jpg  \n",
            " extracting: images/train/IMG20230601165529_jpg.rf.07bc9a45115dee08ff0370fbcf7765df.jpg  \n",
            " extracting: images/train/IMG20230601165529_jpg.rf.57267ab4967cbe6f44e65389b928bb60.jpg  \n",
            " extracting: images/train/IMG20230601165529_jpg.rf.fcaf1f3972399a55e5a2f199581979b0.jpg  \n",
            " extracting: images/train/IMG20230601165531_jpg.rf.1416a1d106bae86bb2aa46bdd273b8e0.jpg  \n",
            " extracting: images/train/IMG20230601165531_jpg.rf.3381e3eb62ba1fcc6d73822b226ed1bb.jpg  \n",
            " extracting: images/train/IMG20230601165531_jpg.rf.d0c115463374113928e5dc1fc7235d98.jpg  \n",
            " extracting: images/train/IMG20230601165541_jpg.rf.05832f14f286d0a6623419d90797d135.jpg  \n",
            " extracting: images/train/IMG20230601165541_jpg.rf.32255ab005f1ba7a8329fab861d5e791.jpg  \n",
            " extracting: images/train/IMG20230601165541_jpg.rf.3bd3628d8a1116ed618cbaf2b7c043e9.jpg  \n",
            " extracting: images/train/IMG20230601165541_jpg.rf.6d59986dcc23336e027a2eb3f4e660a6.jpg  \n",
            " extracting: images/train/IMG20230601165541_jpg.rf.b7dfde6a5b922c255528f394de233ac0.jpg  \n",
            " extracting: images/train/IMG20230601165541_jpg.rf.e8e9bc0fed1284b4c316b9e0cdc61387.jpg  \n",
            " extracting: images/train/IMG20230601165548_jpg.rf.26e1956a921aa2de63bc48b3132d0ced.jpg  \n",
            " extracting: images/train/IMG20230601165548_jpg.rf.4aed7b466335a4d726df85e716e19b4f.jpg  \n",
            " extracting: images/train/IMG20230601165548_jpg.rf.d64a6ed57a239d31a3d000e4b8743068.jpg  \n",
            " extracting: images/train/IMG20230601165553_jpg.rf.6b0bda91aa4a1fef5d25ddced810dcf5.jpg  \n",
            " extracting: images/train/IMG20230601165553_jpg.rf.84c33172e78f4bb92ef61d6ebb0c6501.jpg  \n",
            " extracting: images/train/IMG20230601165553_jpg.rf.bdae3a28d585fe542ab910a7f39be8f8.jpg  \n",
            " extracting: images/train/IMG20230601165556_jpg.rf.2969060e5cbc4eabd516ea8e1ee90f3d.jpg  \n",
            " extracting: images/train/IMG20230601165556_jpg.rf.8a195f8c113384641b1bbdd7d13d8558.jpg  \n",
            " extracting: images/train/IMG20230601165556_jpg.rf.953925e85b6cf07ff586a39ac24fc283.jpg  \n",
            " extracting: images/train/IMG20230601165558_jpg.rf.20fd1b196a82f79005b8559dc3a8dbc3.jpg  \n",
            " extracting: images/train/IMG20230601165558_jpg.rf.4dfbc85a193031a4a34f8e2865da7ea9.jpg  \n",
            " extracting: images/train/IMG20230601165558_jpg.rf.8458b13ee5204bdb0518568df88356e0.jpg  \n",
            " extracting: images/train/IMG20230601165611_jpg.rf.18e009172628e5fd28591b09cb91bffb.jpg  \n",
            " extracting: images/train/IMG20230601165611_jpg.rf.3082f0cbc76d0f587764c8c7c9e3dd87.jpg  \n",
            " extracting: images/train/IMG20230601165611_jpg.rf.35848a64a2107c8cfcd5e6a53716803c.jpg  \n",
            " extracting: images/train/IMG20230601165611_jpg.rf.40601b504a3c7e778bf89a59bb61933e.jpg  \n",
            " extracting: images/train/IMG20230601165611_jpg.rf.69a882738b68e344f08cb9ba4f9b623d.jpg  \n",
            " extracting: images/train/IMG20230601165611_jpg.rf.8282b23dbd754c5087b52f4adae9bae4.jpg  \n",
            " extracting: images/train/IMG20230601165611_jpg.rf.9a8884410fd0b69a1135955bc36a9afd.jpg  \n",
            " extracting: images/train/IMG20230601165611_jpg.rf.b717d501fd138cbab9cfc59583cb5455.jpg  \n",
            " extracting: images/train/IMG20230601165611_jpg.rf.eafa65cabbab7e1dbac57ec7e67b380d.jpg  \n",
            " extracting: images/train/IMG20230601165618_jpg.rf.2476a0d59621c576885577cf3458f79a.jpg  \n",
            " extracting: images/train/IMG20230601165618_jpg.rf.b98e25fd60da12a4408f19349e5fb0a2.jpg  \n",
            " extracting: images/train/IMG20230601165618_jpg.rf.ccacaa15dfc53d707e5cec55b302c1fa.jpg  \n",
            " extracting: images/train/IMG20230601165620_jpg.rf.1910f31e0871eba389b50d91941ad247.jpg  \n",
            " extracting: images/train/IMG20230601165620_jpg.rf.2468ff70877230385db34463b8b81e99.jpg  \n",
            " extracting: images/train/IMG20230601165620_jpg.rf.8b6cb3f56e654ed286047637d2f3ecef.jpg  \n",
            " extracting: images/train/IMG20230601165620_jpg.rf.a22d33c0d75888ee90a582e05ae244e8.jpg  \n",
            " extracting: images/train/IMG20230601165620_jpg.rf.bc6c7cf321f84063c664a3d8a8ee4296.jpg  \n",
            " extracting: images/train/IMG20230601165620_jpg.rf.bfeaeb51aae344c46dc376b035e8156f.jpg  \n",
            " extracting: images/train/IMG20230601165620_jpg.rf.cb9f8dcfffe31e365772e8ce970e2a5f.jpg  \n",
            " extracting: images/train/IMG20230601165620_jpg.rf.d2676d22eb1d48667638e2cfa318e468.jpg  \n",
            " extracting: images/train/IMG20230602082109_jpg.rf.3c45834f06e39d12f9c1dd3e7841c2ea.jpg  \n",
            " extracting: images/train/IMG20230602082109_jpg.rf.5364551d853f14d8d57fe2763be76a5e.jpg  \n",
            " extracting: images/train/IMG20230602082109_jpg.rf.fcdeae9002a0d8a29dc32a824541883b.jpg  \n",
            " extracting: images/train/IMG20230602082111_jpg.rf.0267a2d50ddfe50b7c10307f6bcc6fcb.jpg  \n",
            " extracting: images/train/IMG20230602082111_jpg.rf.8c5138b7fb7a9dc4431ffd497e09f208.jpg  \n",
            " extracting: images/train/IMG20230602082111_jpg.rf.a7a70d8fa5a41a1605d002d0ffa6be6a.jpg  \n",
            " extracting: images/train/IMG20230602082116_jpg.rf.19127e9ef2d5e01b881b0992c1e0bba6.jpg  \n",
            " extracting: images/train/IMG20230602082116_jpg.rf.5f71e79d1222eec1e57a6bbac9f3ae22.jpg  \n",
            " extracting: images/train/IMG20230602082116_jpg.rf.dd1ddbb0ceb8d0205fad3dc64ca86c30.jpg  \n",
            " extracting: images/train/IMG20230602082118_jpg.rf.86acd39875a0fd44b4c233835aeb1b78.jpg  \n",
            " extracting: images/train/IMG20230602082118_jpg.rf.9ac15ab0c7e5375a8fee813c5139fa77.jpg  \n",
            " extracting: images/train/IMG20230602082118_jpg.rf.eb57d8dfded05d5be03bcba0aab23566.jpg  \n",
            " extracting: images/train/IMG20230602082121_jpg.rf.16d35bfb8a21d76dd702fcc04271980f.jpg  \n",
            " extracting: images/train/IMG20230602082121_jpg.rf.3120e905f3a6dddb83a7987370317f96.jpg  \n",
            " extracting: images/train/IMG20230602082121_jpg.rf.e687536222f5f512c6fd281350b5c4fa.jpg  \n",
            " extracting: images/train/IMG20230602082122_jpg.rf.043eae53f307557a6fae39f8f4cec8ae.jpg  \n",
            " extracting: images/train/IMG20230602082122_jpg.rf.0f00090671591a2ac865168da720d0a4.jpg  \n",
            " extracting: images/train/IMG20230602082122_jpg.rf.201df8417aad74a2a32cc3ff14d54522.jpg  \n",
            " extracting: images/train/IMG20230602082122_jpg.rf.50374af1871b4954735b69abbcabbb1f.jpg  \n",
            " extracting: images/train/IMG20230602082122_jpg.rf.52ec929602ad1b56abb033994a23fb8b.jpg  \n",
            " extracting: images/train/IMG20230602082122_jpg.rf.692258205320f7fb505871a09f1c6d5f.jpg  \n",
            " extracting: images/train/IMG20230602082122_jpg.rf.6acb755f820cd19f58db28c27724d32b.jpg  \n",
            " extracting: images/train/IMG20230602082122_jpg.rf.73bb3d38621ef4f983603da742c989c4.jpg  \n",
            " extracting: images/train/IMG20230602082122_jpg.rf.851c704dd4eccbe5b9ad8df6ed58b14b.jpg  \n",
            " extracting: images/train/IMG20230602082122_jpg.rf.bbbb4b54f10c782c32d2e92b5982dbde.jpg  \n",
            " extracting: images/train/IMG20230602082122_jpg.rf.bc3c25a1a6627cfd10128ce102fec415.jpg  \n",
            " extracting: images/train/IMG20230602082122_jpg.rf.d8d8cf5e03d1ef47ff3cbcd0399620db.jpg  \n",
            " extracting: images/train/IMG20230602082122_jpg.rf.d94bf2d6fd02b0de699e6b704ef766d6.jpg  \n",
            " extracting: images/train/IMG20230602082122_jpg.rf.e5662ae15476de21b9ab5eafdc723cc1.jpg  \n",
            " extracting: images/train/IMG20230602082122_jpg.rf.f81ca17010eaaab02780542c711af498.jpg  \n",
            " extracting: images/train/IMG20230602082125_jpg.rf.056c67ad03c8a0ce19bcb1d4b9f33485.jpg  \n",
            " extracting: images/train/IMG20230602082125_jpg.rf.1f8eee608f6012c95facfb0ccd9cdee9.jpg  \n",
            " extracting: images/train/IMG20230602082125_jpg.rf.e2819a543f9a995f810cf20b55bc8964.jpg  \n",
            " extracting: images/train/IMG20230602082127_jpg.rf.24e4965e44cb38c15351c53f318c532b.jpg  \n",
            " extracting: images/train/IMG20230602082127_jpg.rf.866e6847a9083bf32f9dc7255d920963.jpg  \n",
            " extracting: images/train/IMG20230602082127_jpg.rf.b81d9f12953a539a3f8f5d15bab1b7bd.jpg  \n",
            " extracting: images/train/IMG20230602082130_jpg.rf.453ffdffde5c4ebabc810cad36802e46.jpg  \n",
            " extracting: images/train/IMG20230602082130_jpg.rf.7a2698a350d6c38a6a07acc5dd77a470.jpg  \n",
            " extracting: images/train/IMG20230602082130_jpg.rf.865a60b7620e99841ca6cc93bb112b5d.jpg  \n",
            " extracting: images/train/IMG20230602082130_jpg.rf.86e680fd8ce4049bcac343deeffdb933.jpg  \n",
            " extracting: images/train/IMG20230602082130_jpg.rf.a36fe9cd9fd89a0c085c4a9d9ec00cf4.jpg  \n",
            " extracting: images/train/IMG20230602082130_jpg.rf.ba5e2d1f50b1d23009d584c25eaee499.jpg  \n",
            " extracting: images/train/IMG20230602082132_jpg.rf.0f127a65aed2fe350bd0b01b595897a7.jpg  \n",
            " extracting: images/train/IMG20230602082132_jpg.rf.e42a827987d2984a25e1d80958de37d1.jpg  \n",
            " extracting: images/train/IMG20230602082134_jpg.rf.1f685d22bd60c8f96dd3b55dd0d0acfc.jpg  \n",
            " extracting: images/train/IMG20230602082134_jpg.rf.7709133fa9536e33787fa832a30c6545.jpg  \n",
            " extracting: images/train/IMG20230602082134_jpg.rf.e025a81847c84581db9c171c42b6dafd.jpg  \n",
            " extracting: images/train/IMG20230602082137_jpg.rf.14f734e2ee83f1137ec4e2471e717588.jpg  \n",
            " extracting: images/train/IMG20230602082137_jpg.rf.81b0e4756ad384064711d680eb76630f.jpg  \n",
            " extracting: images/train/IMG20230602082137_jpg.rf.ed0117cf1af684784e87421532517daf.jpg  \n",
            " extracting: images/train/IMG20230602082138_jpg.rf.3ad5fe65f33e44fe1332294ee166bfc6.jpg  \n",
            " extracting: images/train/IMG20230602082138_jpg.rf.4321c937d814b142063ba88f706cf91c.jpg  \n",
            " extracting: images/train/IMG20230602082138_jpg.rf.4d9ef122d53abdb659777b07b6487ee2.jpg  \n",
            " extracting: images/train/IMG20230602082138_jpg.rf.5d0ed324d1f7b635948d58da22fe0f03.jpg  \n",
            " extracting: images/train/IMG20230602082138_jpg.rf.5dcdcb33e87b10a43e9215886f5d87c9.jpg  \n",
            " extracting: images/train/IMG20230602082138_jpg.rf.626b2819ae191215fd32fe7d7f3f44c4.jpg  \n",
            " extracting: images/train/IMG20230602082138_jpg.rf.7412cdda1ec061075564c836bad05b43.jpg  \n",
            " extracting: images/train/IMG20230602082138_jpg.rf.ba9fe1a0e78d695732269cb27e07b769.jpg  \n",
            " extracting: images/train/IMG20230602082138_jpg.rf.d458d9697830b13f04092135d2850809.jpg  \n",
            " extracting: images/train/IMG20230602082138_jpg.rf.d90c6f0ab139a0a343c749dec35dcf46.jpg  \n",
            " extracting: images/train/IMG20230602082138_jpg.rf.f5252e41f88fb7b505d4ad993c4e65c6.jpg  \n",
            " extracting: images/train/IMG20230602082141_jpg.rf.5686282206c01a283dbececf3b503d43.jpg  \n",
            " extracting: images/train/IMG20230602082141_jpg.rf.b1d7cd8d5f66a4a17ff493de47b599db.jpg  \n",
            " extracting: images/train/IMG20230602082141_jpg.rf.bc8f0b5d5be84a1c0ba715aad26bbf9d.jpg  \n",
            " extracting: images/train/IMG20230602082142_jpg.rf.2e0bcdc9dbfb80fb91964d0ab95d7733.jpg  \n",
            " extracting: images/train/IMG20230602082142_jpg.rf.6127ea9a94c8a74d25a57d1ea2a3301e.jpg  \n",
            " extracting: images/train/IMG20230602082142_jpg.rf.7b67560cf968b61509448b618baa4c3f.jpg  \n",
            " extracting: images/train/IMG20230602082142_jpg.rf.897227cdd08513ffe32195e060e38159.jpg  \n",
            " extracting: images/train/IMG20230602082142_jpg.rf.a8e3b9ac1606b6a30c3cc61bc5cec8a8.jpg  \n",
            " extracting: images/train/IMG20230602082142_jpg.rf.a9fdde910389732bc301aa99b2b11784.jpg  \n",
            " extracting: images/train/IMG20230602082142_jpg.rf.aa821322fad010f8663c036ccd8b4c8b.jpg  \n",
            " extracting: images/train/IMG20230602082142_jpg.rf.b10a2d5a839bac1af3843fdc66b89954.jpg  \n",
            " extracting: images/train/IMG20230602082142_jpg.rf.b7c5860f140e93fc26e7d3a2b3d11f16.jpg  \n",
            " extracting: images/train/IMG20230602082142_jpg.rf.d0b3723003ccc82a86a1c45f226e57fa.jpg  \n",
            " extracting: images/train/IMG20230602082142_jpg.rf.d4bf454314bb42ddbc60153c3b857001.jpg  \n",
            " extracting: images/train/IMG20230602082142_jpg.rf.f49f28d3910657a64a6bb0817bc16ad0.jpg  \n",
            " extracting: images/train/IMG20230602082144_jpg.rf.18d8e6d4efde02e02ecc122bda37b6ab.jpg  \n",
            " extracting: images/train/IMG20230602082144_jpg.rf.407efc3d34266388fcddb62a0bf73fd8.jpg  \n",
            " extracting: images/train/IMG20230602082144_jpg.rf.41f2553e94aa8269d4114a21864b5254.jpg  \n",
            " extracting: images/train/IMG20230602082144_jpg.rf.7283d21456a84ebfc7e372f8ec4efcbc.jpg  \n",
            " extracting: images/train/IMG20230602082144_jpg.rf.9adb575a7eaec9a3f5ee6828b46fc714.jpg  \n",
            " extracting: images/train/IMG20230602082144_jpg.rf.c33d08b55656e3092a540d329e11159c.jpg  \n",
            " extracting: images/train/IMG20230602082147_jpg.rf.210f1a7e286beab03ed2ab4ed0d6a6d5.jpg  \n",
            " extracting: images/train/IMG20230602082147_jpg.rf.262984cadf2cee64598bb9b37d3359be.jpg  \n",
            " extracting: images/train/IMG20230602082147_jpg.rf.32ab323306053cd91c4bebda38c845cf.jpg  \n",
            " extracting: images/train/IMG20230602082147_jpg.rf.474eb9452d5582796b2c2dacf568427f.jpg  \n",
            " extracting: images/train/IMG20230602082147_jpg.rf.5612e30916ee2e1c326bf8dd68965669.jpg  \n",
            " extracting: images/train/IMG20230602082147_jpg.rf.60eb9da3e0951ac7d15e2295466c9f29.jpg  \n",
            " extracting: images/train/IMG20230602082147_jpg.rf.cb394e467b9174e73cdd0ceb1fff4e9f.jpg  \n",
            " extracting: images/train/IMG20230602082147_jpg.rf.dcdd9f7c4650aec73fa2c23eded6d604.jpg  \n",
            " extracting: images/train/IMG20230602082147_jpg.rf.e868912c63a50859c5f60518daccbaf7.jpg  \n",
            " extracting: images/train/IMG20230602082150_jpg.rf.4a715253beeb03ab1b3ac30c28dd2ad0.jpg  \n",
            " extracting: images/train/IMG20230602082150_jpg.rf.e4be71afef8d113a2c28606ce6bc7828.jpg  \n",
            " extracting: images/train/IMG20230602082153_jpg.rf.0b3a982d7a789e9bb0a402657b8658d7.jpg  \n",
            " extracting: images/train/IMG20230602082153_jpg.rf.0fa1914dd4b06e85e2eb64a85c13a857.jpg  \n",
            " extracting: images/train/IMG20230602082153_jpg.rf.37a4ce911b2eebe41b466c6228431e2b.jpg  \n",
            " extracting: images/train/IMG20230602082153_jpg.rf.7b25dad2bd1b9a079c61ca7a4a858496.jpg  \n",
            " extracting: images/train/IMG20230602082153_jpg.rf.8163bf4d273ca5317329620696f25bec.jpg  \n",
            " extracting: images/train/IMG20230602082153_jpg.rf.82d00cb83b75bb589179479cc915bc85.jpg  \n",
            " extracting: images/train/IMG20230602082153_jpg.rf.833b18ea00f234580d58fe60c328124f.jpg  \n",
            " extracting: images/train/IMG20230602082153_jpg.rf.8d712cb3777e43283480849c53744410.jpg  \n",
            " extracting: images/train/IMG20230602082153_jpg.rf.93ce9bb8bbe1f158b17cef61ab040ff6.jpg  \n",
            " extracting: images/train/IMG20230602082153_jpg.rf.95deacb3e6c452f025d2b5695c44451d.jpg  \n",
            " extracting: images/train/IMG20230602082153_jpg.rf.d653b22cba6439c3dc2616a1931b235b.jpg  \n",
            " extracting: images/train/IMG20230602082153_jpg.rf.dc17ef86769637910f0e54510e52ee94.jpg  \n",
            " extracting: images/train/IMG20230602082154_jpg.rf.51e945b2fa1e12a631ec9e6ced05a6dd.jpg  \n",
            " extracting: images/train/IMG20230602082154_jpg.rf.7f0d60575fd13b9cde33795467bc1cc5.jpg  \n",
            " extracting: images/train/IMG20230602082154_jpg.rf.a03e9776c6704ab69bcc603699c161fa.jpg  \n",
            " extracting: images/train/IMG20230602082154_jpg.rf.a86e0a07ec38f8cef44cc3977d38d446.jpg  \n",
            " extracting: images/train/IMG20230602082154_jpg.rf.bbe931485e3b48740f96f7c4784e8641.jpg  \n",
            " extracting: images/train/IMG20230602082154_jpg.rf.c33d701dd669e97dabaf4891528d94a9.jpg  \n",
            " extracting: images/train/IMG20230602082158_jpg.rf.11df13e842ad277c2fedb978da9af3e2.jpg  \n",
            " extracting: images/train/IMG20230602082158_jpg.rf.29b62f607707a78c905ad1a152bbad94.jpg  \n",
            " extracting: images/train/IMG20230602082158_jpg.rf.2b8bd0df92cef9fab7beb94ebef81fa8.jpg  \n",
            " extracting: images/train/IMG20230602082158_jpg.rf.2bcc6cea636857ed4418f7a684c4ad84.jpg  \n",
            " extracting: images/train/IMG20230602082158_jpg.rf.35322ccd115f35d64cad7636c0c45e0c.jpg  \n",
            " extracting: images/train/IMG20230602082158_jpg.rf.5d3a9f41554e5400a653cd113b8fbdd7.jpg  \n",
            " extracting: images/train/IMG20230602082158_jpg.rf.632f77444b980287bb7a256b7147956b.jpg  \n",
            " extracting: images/train/IMG20230602082158_jpg.rf.66eae8b499fda98208aca192dc2eedfe.jpg  \n",
            " extracting: images/train/IMG20230602082158_jpg.rf.87ff6317ba6c6aced5a06941d2e6f19e.jpg  \n",
            " extracting: images/train/IMG20230602082158_jpg.rf.a37f7ec5970f278d5e420add5e65aec4.jpg  \n",
            " extracting: images/train/IMG20230602082158_jpg.rf.d7875e6ba7f7c11f6f7c0489a43e1c7c.jpg  \n",
            " extracting: images/train/IMG20230602082158_jpg.rf.e5a7815576b7dc6244c66eb85eaaed2d.jpg  \n",
            " extracting: images/train/IMG20230602082201_jpg.rf.0883d83a524a5626f8cd904e5d941c39.jpg  \n",
            " extracting: images/train/IMG20230602082201_jpg.rf.2c6a0257c6abb4098592919d4886ebe5.jpg  \n",
            " extracting: images/train/IMG20230602082201_jpg.rf.412279bd799a43df02115efc616c1953.jpg  \n",
            " extracting: images/train/IMG20230602082201_jpg.rf.92ab2eaeb18a96cad418f46fbbbf0c49.jpg  \n",
            " extracting: images/train/IMG20230602082201_jpg.rf.f7e0c897873e94ba9b880b2873741aae.jpg  \n",
            " extracting: images/train/IMG20230602082201_jpg.rf.ffb473fc90471d207db7c3e738941dc1.jpg  \n",
            " extracting: images/train/IMG20230602082220_jpg.rf.4d26f6c1e436b4f7a2cc89e4c8c67cac.jpg  \n",
            " extracting: images/train/IMG20230602082220_jpg.rf.6d9f396652bb1a67de9a1445b8f55ab9.jpg  \n",
            " extracting: images/train/IMG20230602082220_jpg.rf.a14107342328a7f70093a9a6be0d0d99.jpg  \n",
            " extracting: images/train/IMG20230602082223_jpg.rf.249ff39b09332e4fcff26919c6357709.jpg  \n",
            " extracting: images/train/IMG20230602082223_jpg.rf.88b7bcc1599208816307abdfd53e4cc6.jpg  \n",
            " extracting: images/train/IMG20230602082223_jpg.rf.c7e14745059cb93d0774a4fa4467e489.jpg  \n",
            " extracting: images/train/IMG20230602082227_jpg.rf.039a14c9049754da9e900e5b1f038336.jpg  \n",
            " extracting: images/train/IMG20230602082227_jpg.rf.0d42a16431c767b1b8030424a322a8b0.jpg  \n",
            " extracting: images/train/IMG20230602082227_jpg.rf.1e7e5ef06aa2d83d321e0083762bda4e.jpg  \n",
            " extracting: images/train/IMG20230602082227_jpg.rf.1ef24f1cd11a811fb0d6b454a193399a.jpg  \n",
            " extracting: images/train/IMG20230602082227_jpg.rf.afc20d802b4a3c519e69c87ead22771b.jpg  \n",
            " extracting: images/train/IMG20230602082227_jpg.rf.fcb4788011f1b69413c18ad0fab07800.jpg  \n",
            " extracting: images/train/IMG20230602082229_jpg.rf.51d492fed12ebe3eb6f8398211acd398.jpg  \n",
            " extracting: images/train/IMG20230602082229_jpg.rf.5ca36a4d89f9e720a00c99b762eac4f4.jpg  \n",
            " extracting: images/train/IMG20230602082229_jpg.rf.881ebfebb6562ff28bbff7d198a2d009.jpg  \n",
            " extracting: images/train/IMG20230602082229_jpg.rf.ae074ccd27745b75be5806a93d37c42a.jpg  \n",
            " extracting: images/train/IMG20230602082229_jpg.rf.ea6b74274e94cd3a51fc41555827a5d5.jpg  \n",
            " extracting: images/train/IMG20230602082229_jpg.rf.efc6eade4e48c49d3e094d932106f043.jpg  \n",
            " extracting: images/train/IMG20230602082231_jpg.rf.055814eb28f713814b6ce4b2f47135c3.jpg  \n",
            " extracting: images/train/IMG20230602082231_jpg.rf.11b87e5d19af954cb925c492f9a69ba5.jpg  \n",
            " extracting: images/train/IMG20230602082231_jpg.rf.1f76cbd344fca9a86f9947fccdfa1cea.jpg  \n",
            " extracting: images/train/IMG20230602082231_jpg.rf.93f4e04d7a991f5ddf51867c5b40ffcc.jpg  \n",
            " extracting: images/train/IMG20230602082231_jpg.rf.a2df6320e26c0811ee67c586bb1e23e0.jpg  \n",
            " extracting: images/train/IMG20230602082231_jpg.rf.e3424eb505022a4345623be2cdde9f42.jpg  \n",
            " extracting: images/train/IMG20230602082234_jpg.rf.1f3095a3aabf9863cfbea8d5074c50b0.jpg  \n",
            " extracting: images/train/IMG20230602082234_jpg.rf.43dfb62b216cc7ee82d93327454d5d6e.jpg  \n",
            " extracting: images/train/IMG20230602082234_jpg.rf.c428d42f520c4908b967946e4d50b79d.jpg  \n",
            " extracting: images/train/IMG20230602082236_jpg.rf.7688972270117a6315a94e2418931f71.jpg  \n",
            " extracting: images/train/IMG20230602082236_jpg.rf.889d2ce728341f6f4779a9b897d3e235.jpg  \n",
            " extracting: images/train/IMG20230602082236_jpg.rf.9f4e4f8b85a05e3471946e8a9f046bc6.jpg  \n",
            " extracting: images/train/IMG20230602082236_jpg.rf.a9f53e7c31a45e056863873be898a4c2.jpg  \n",
            " extracting: images/train/IMG20230602082236_jpg.rf.b29318ce4bb452d2e256ff6013cee74c.jpg  \n",
            " extracting: images/train/IMG20230602082236_jpg.rf.b3570177f3fcdcd81aada610f2e9e2b0.jpg  \n",
            " extracting: images/train/IMG20230602082236_jpg.rf.b6db4fbcf5f28ebc1b466a8230697c84.jpg  \n",
            " extracting: images/train/IMG20230602082236_jpg.rf.b72ee2aacbb2d9df187922a27bf4967e.jpg  \n",
            " extracting: images/train/IMG20230602082242_jpg.rf.1ee31939f2f05e65a6f884cf5907f99f.jpg  \n",
            " extracting: images/train/IMG20230602082242_jpg.rf.3488f174ffd38802a318af8414dde198.jpg  \n",
            " extracting: images/train/IMG20230602082242_jpg.rf.50be9fdcc8074f06d233da238cb4b0f1.jpg  \n",
            " extracting: images/train/IMG20230602082242_jpg.rf.72f536b31cb4337c1f015246011e5215.jpg  \n",
            " extracting: images/train/IMG20230602082242_jpg.rf.756fd50587c71949afc875e22d2d44ce.jpg  \n",
            " extracting: images/train/IMG20230602082242_jpg.rf.a8546e6782d333f7ac7c8fb001379302.jpg  \n",
            " extracting: images/train/IMG20230602082242_jpg.rf.ccc39b566c8dbf8a1c615d661fe5dd90.jpg  \n",
            " extracting: images/train/IMG20230602082242_jpg.rf.d46a1054f19c4fd9316f7e582dad5885.jpg  \n",
            " extracting: images/train/IMG20230602082242_jpg.rf.de4dabb6de212d57df6c912e38300790.jpg  \n",
            " extracting: images/train/IMG20230602082250_jpg.rf.2964842789cd27d531e43a851b0b786c.jpg  \n",
            " extracting: images/train/IMG20230602082250_jpg.rf.5b4d71db9ec4d80bd4107dc11c57e39e.jpg  \n",
            " extracting: images/train/IMG20230602082250_jpg.rf.785ddd5c49c046a0883208d5a8fed8aa.jpg  \n",
            " extracting: images/train/IMG20230602082253_jpg.rf.112a0d498bd397dc9199edd9df3ef1d2.jpg  \n",
            " extracting: images/train/IMG20230602082253_jpg.rf.221bf5a9101686a47ca758a959b0d924.jpg  \n",
            " extracting: images/train/IMG20230602082253_jpg.rf.7640674144066f37c6ce63a34e9e87d0.jpg  \n",
            " extracting: images/train/IMG20230602082253_jpg.rf.980bda9a16fd19529861dc68bd7aec95.jpg  \n",
            " extracting: images/train/IMG20230602082253_jpg.rf.bd1ab5190181facdd407c5365843d441.jpg  \n",
            " extracting: images/train/IMG20230602082253_jpg.rf.bd95bc5ccd93b8d1f427c44d37515578.jpg  \n",
            " extracting: images/train/IMG20230602082253_jpg.rf.ef0f39eaaa6e7db7563fd9862abbec2e.jpg  \n",
            " extracting: images/train/IMG20230602082253_jpg.rf.fe3ed1b882fca8fb9eb50342cba26fc1.jpg  \n",
            " extracting: images/train/IMG20230602082256_jpg.rf.2eee9a9b8fb7f53fb665ba732743bfaa.jpg  \n",
            " extracting: images/train/IMG20230602082256_jpg.rf.54abecbbf64ed63117bf42fe3a28a3b8.jpg  \n",
            " extracting: images/train/IMG20230602082256_jpg.rf.749f32d240bfb8ea355975b839a2f8be.jpg  \n",
            " extracting: images/train/IMG20230602082309_jpg.rf.27b7d4b5714f0897220cc2f8ef02f79e.jpg  \n",
            " extracting: images/train/IMG20230602082309_jpg.rf.6319149182b054531a6c25c69ab3a2f2.jpg  \n",
            " extracting: images/train/IMG20230602082309_jpg.rf.c2f19b656ce3d7ad7d02e8ff60e8ae43.jpg  \n",
            " extracting: images/train/IMG20230602082402_jpg.rf.0326586fa14bf511b697c308a284ab28.jpg  \n",
            " extracting: images/train/IMG20230602082402_jpg.rf.7d0cef6dd137c9d18a0c7dae626cd9bd.jpg  \n",
            " extracting: images/train/IMG20230602082402_jpg.rf.7e1cd668d9c6bac075b05d23dddd8b98.jpg  \n",
            " extracting: images/train/IMG20230602082405_jpg.rf.0c29b115c5218e25f873b4315218228c.jpg  \n",
            " extracting: images/train/IMG20230602082405_jpg.rf.3e0fec6db34de09847c52dffa360dbdb.jpg  \n",
            " extracting: images/train/IMG20230602082405_jpg.rf.81c83fb4648f2d28c2f4e51a948b3ef8.jpg  \n",
            " extracting: images/train/IMG20230602082405_jpg.rf.c1b8dd1bc97a1b153af7f24cf91ef873.jpg  \n",
            " extracting: images/train/IMG20230602082405_jpg.rf.cb25f5d40fae0af220eefdf3071fcd56.jpg  \n",
            " extracting: images/train/IMG20230602082405_jpg.rf.d5bdf4661fd8b4b9eb2010d4adebe536.jpg  \n",
            " extracting: images/train/IMG20230602082406_jpg.rf.0d3bea3320571b2dcbda20b6235ba02a.jpg  \n",
            " extracting: images/train/IMG20230602082406_jpg.rf.0f0dfc2b65d994f20accc385f438db15.jpg  \n",
            " extracting: images/train/IMG20230602082406_jpg.rf.1bb5f22c3b2f2a1189f4437815cdf612.jpg  \n",
            " extracting: images/train/IMG20230602082406_jpg.rf.6c5eba1bf1c43a1e0f472987d7e45335.jpg  \n",
            " extracting: images/train/IMG20230602082406_jpg.rf.8019cfdb9cad26d0ee1a37ed45e72af7.jpg  \n",
            " extracting: images/train/IMG20230602082406_jpg.rf.94e880ce19bfe0fcb1f735be32b03912.jpg  \n",
            " extracting: images/train/IMG20230602082406_jpg.rf.bde0c2a11f35d467da30f00bd95c3002.jpg  \n",
            " extracting: images/train/IMG20230602082406_jpg.rf.edf0df09cb9327eb863a061d32f4c4a1.jpg  \n",
            " extracting: images/train/IMG20230602082409_jpg.rf.1b14ad1b440e43918ecfdb63716084bc.jpg  \n",
            " extracting: images/train/IMG20230602082409_jpg.rf.5fd1ead82a7daf84c8a60aec449d7db7.jpg  \n",
            " extracting: images/train/IMG20230602082409_jpg.rf.68e35243513bda6da0f442a832e24ee2.jpg  \n",
            " extracting: images/train/IMG20230602082409_jpg.rf.aaf029fbbd0877da7d27da8a0f9211df.jpg  \n",
            " extracting: images/train/IMG20230602082409_jpg.rf.bf5082bf1e25acc2b14fd7e94f71195a.jpg  \n",
            " extracting: images/train/IMG20230602082409_jpg.rf.dec12713338194e6084e601e7964623f.jpg  \n",
            " extracting: images/train/IMG20230602082411_jpg.rf.3bbe3f58efdbb47db3782a7b2c8d3ec4.jpg  \n",
            " extracting: images/train/IMG20230602082411_jpg.rf.8b5654d079b2a5cbb4da466af17baa6b.jpg  \n",
            " extracting: images/train/IMG20230602082411_jpg.rf.b8485fc1abb1dd6f78eabbd93b59247d.jpg  \n",
            " extracting: images/train/IMG20230602082414_jpg.rf.0379c83a83ad49f37f82e92f0694c94f.jpg  \n",
            " extracting: images/train/IMG20230602082414_jpg.rf.20039408d132dca2fe92447611ef310a.jpg  \n",
            " extracting: images/train/IMG20230602082414_jpg.rf.7da54e62b489a685bbd0b00bf9dd6bd2.jpg  \n",
            " extracting: images/train/IMG20230602082421_jpg.rf.2b4f3fc7ebd068e9382b4008447562b5.jpg  \n",
            " extracting: images/train/IMG20230602082421_jpg.rf.b6d993cdf1bcf1c599d678d102b95ecb.jpg  \n",
            " extracting: images/train/IMG20230602082421_jpg.rf.c7018d1fa1838a7597093e6e8b4c0460.jpg  \n",
            " extracting: images/train/IMG20230602082421_jpg.rf.dbc35e199eaed6dda362189b4fda7689.jpg  \n",
            " extracting: images/train/IMG20230602082421_jpg.rf.f5b6eea5f6ac77e393de6a6653db118e.jpg  \n",
            " extracting: images/train/IMG20230602082421_jpg.rf.ffc48f3eed14ca2bee4d4ab4393e778e.jpg  \n",
            " extracting: images/train/IMG20230602082423_jpg.rf.89ee94d880fbdc5b16d0de1bd65f925b.jpg  \n",
            " extracting: images/train/IMG20230602082423_jpg.rf.e0d8a6192242be9a67b7a1e49d0a95f2.jpg  \n",
            " extracting: images/train/IMG20230602082425_jpg.rf.48ec1456094bc6a443d23f3cd6993af9.jpg  \n",
            " extracting: images/train/IMG20230602082425_jpg.rf.78c6b686d71920231cff9a99fe79c37d.jpg  \n",
            " extracting: images/train/IMG20230602082425_jpg.rf.eb70fd477409bfd71149ff8657304db0.jpg  \n",
            " extracting: images/train/IMG20230602082427_jpg.rf.29e4366d06f0e713f1296d1527d51ede.jpg  \n",
            " extracting: images/train/IMG20230602082427_jpg.rf.446012285e28d4d94003b48dd10b9558.jpg  \n",
            " extracting: images/train/IMG20230602082427_jpg.rf.6b07ab978614d830920413cb8723ab95.jpg  \n",
            " extracting: images/train/IMG20230602082429_jpg.rf.4b8b86cf85b0e2fbea9110cfe80510bd.jpg  \n",
            " extracting: images/train/IMG20230602082429_jpg.rf.4cfbfef6265fde69a08363354d1bc4dd.jpg  \n",
            " extracting: images/train/IMG20230602082429_jpg.rf.5162ecff74ca0e79e35af31a338c5410.jpg  \n",
            " extracting: images/train/IMG20230602082429_jpg.rf.72911f5423944fa7431a2c60f0f5fb64.jpg  \n",
            " extracting: images/train/IMG20230602082429_jpg.rf.8bbf17e653198ffdc5298d0af62c9119.jpg  \n",
            " extracting: images/train/IMG20230602082429_jpg.rf.c8d7240439db36466386238d44f28d50.jpg  \n",
            " extracting: images/train/IMG20230602082432_jpg.rf.6504310fa34a9eafdf677271d3ffabda.jpg  \n",
            " extracting: images/train/IMG20230602082432_jpg.rf.99a3cf9d7ed8ebda6b5f5b73e9ebfc68.jpg  \n",
            " extracting: images/train/IMG20230602082432_jpg.rf.bb99d01c00b9b408078fabe669570133.jpg  \n",
            " extracting: images/train/IMG20230602082435_jpg.rf.33efdbd29bb0a4396c11ac765442703f.jpg  \n",
            " extracting: images/train/IMG20230602082435_jpg.rf.3a1900723cb1a79dfaad8a7d32512fd7.jpg  \n",
            " extracting: images/train/IMG20230602082437_jpg.rf.29e4d8852b0b59f00bddb839b932dd92.jpg  \n",
            " extracting: images/train/IMG20230602082437_jpg.rf.37dc8bfa88ace424aebf7237e0f61c75.jpg  \n",
            " extracting: images/train/IMG20230602082437_jpg.rf.9da9584b6262877d66e985fbaf84d01a.jpg  \n",
            " extracting: images/train/IMG20230602082439_jpg.rf.be6a18f12273be8595995ce00c820ba9.jpg  \n",
            " extracting: images/train/IMG20230602082439_jpg.rf.d64d12553e343012d907910945974571.jpg  \n",
            " extracting: images/train/IMG20230602082439_jpg.rf.dae658814c4ad8bd06b62c283dfd4048.jpg  \n",
            " extracting: images/train/IMG20230602082441_jpg.rf.19e31d018310281576a74c29d2281c3e.jpg  \n",
            " extracting: images/train/IMG20230602082441_jpg.rf.4cb0769ce97e2cc841eb22520bb8d421.jpg  \n",
            " extracting: images/train/IMG20230602082443_jpg.rf.7b912c9810e623870e03409d4ea5026c.jpg  \n",
            " extracting: images/train/IMG20230602082443_jpg.rf.7fe558f205253da1d0ee7a5e98ba4fa5.jpg  \n",
            " extracting: images/train/IMG20230602082443_jpg.rf.c2747bd9741d5e6754f9f1960fa126ac.jpg  \n",
            " extracting: images/train/IMG20230602082445_jpg.rf.38b97e3e9560c4b3014a8c165b897e6e.jpg  \n",
            " extracting: images/train/IMG20230602082445_jpg.rf.aa300ab6b50b6c381a6cd26453622679.jpg  \n",
            " extracting: images/train/IMG20230602082445_jpg.rf.e4238f307783568b00cdd361b6c1a728.jpg  \n",
            " extracting: images/train/IMG20230602082446_jpg.rf.49e702374d1cf5a3f84463ef578d670e.jpg  \n",
            " extracting: images/train/IMG20230602082446_jpg.rf.7670afbae0eb6b7d8c90e173c2f27cc3.jpg  \n",
            " extracting: images/train/IMG20230602082446_jpg.rf.c7e481f226268cd21aecaa3d9194eecf.jpg  \n",
            " extracting: images/train/IMG20230602082449_jpg.rf.0f844d38f2f1a98c6537410947686390.jpg  \n",
            " extracting: images/train/IMG20230602082449_jpg.rf.69d4598a62fcc02bae281ddc72b843e1.jpg  \n",
            " extracting: images/train/IMG20230602082449_jpg.rf.875f0a3b3685255dfd12603ad778f87a.jpg  \n",
            " extracting: images/train/IMG20230602082453_jpg.rf.6319340d1ba01ae94a70b75031c581c1.jpg  \n",
            " extracting: images/train/IMG20230602082453_jpg.rf.6b1f1c7a9e5506ea0baacd2a5839101f.jpg  \n",
            " extracting: images/train/IMG20230602082453_jpg.rf.aad7e6a6e501c10b122db86a9754e035.jpg  \n",
            " extracting: images/train/IMG20230602082455_jpg.rf.1074db42732097af6c55ee1828cd1512.jpg  \n",
            " extracting: images/train/IMG20230602082455_jpg.rf.7cad362c5e9e910c6e001c561df66b0e.jpg  \n",
            " extracting: images/train/IMG20230602082455_jpg.rf.b89f5848b2e463246956cd79f9921cb1.jpg  \n",
            " extracting: images/train/IMG20230602082456_jpg.rf.0fed75530c7eb21fa3b0ab4b6f555829.jpg  \n",
            " extracting: images/train/IMG20230602082456_jpg.rf.2b97431ea08d9cf89fd261114291406e.jpg  \n",
            " extracting: images/train/IMG20230602082456_jpg.rf.e16c6df4b7b9825f3dd942c6a1ddf024.jpg  \n",
            " extracting: images/train/IMG20230602082501_jpg.rf.2d9d963389b105c5545b3e7ec2b79a06.jpg  \n",
            " extracting: images/train/IMG20230602082501_jpg.rf.5a0f3666084a2f56b592105e810721d8.jpg  \n",
            " extracting: images/train/IMG20230602082501_jpg.rf.5ce2c1e963aad4a11aac70eaf652f977.jpg  \n",
            " extracting: images/train/IMG20230602082501_jpg.rf.677c0b249c0ce88b8e224fb994985a34.jpg  \n",
            " extracting: images/train/IMG20230602082501_jpg.rf.ed72106e41338a007734f8ab65607d52.jpg  \n",
            " extracting: images/train/IMG20230602082501_jpg.rf.fb15a288286dfc0f93303e0d4f679861.jpg  \n",
            " extracting: images/train/IMG20230602082506_jpg.rf.6ae52d9c676d83a304dd31bb8e9b34cf.jpg  \n",
            " extracting: images/train/IMG20230602082506_jpg.rf.6b3eb00ac4443ec1d295909a5d1db39a.jpg  \n",
            " extracting: images/train/IMG20230602082506_jpg.rf.8ae64e40d7644675abebf6a03c81985d.jpg  \n",
            " extracting: images/train/IMG20230602082511_jpg.rf.13e9e54e6655da6c57423e3bd8c46971.jpg  \n",
            " extracting: images/train/IMG20230602082511_jpg.rf.80ecdef688a7537608d915e708d41463.jpg  \n",
            " extracting: images/train/IMG20230602082511_jpg.rf.933893c6bb6347f548185c1f9a95a6df.jpg  \n",
            " extracting: images/train/IMG20230602082513_jpg.rf.111ff1a04cb4b0e43e8337cb75c68f15.jpg  \n",
            " extracting: images/train/IMG20230602082513_jpg.rf.cd83833c172260f4dc459e697b74dee5.jpg  \n",
            " extracting: images/train/IMG20230602082513_jpg.rf.f5c9cb96cb6571660c2ceb5431e961bf.jpg  \n",
            " extracting: images/train/IMG20230602082515_jpg.rf.337855d629a1891b29cc9471ae2e2544.jpg  \n",
            " extracting: images/train/IMG20230602082515_jpg.rf.5c3de0b76c223caf445771429a1e8c49.jpg  \n",
            " extracting: images/train/IMG20230602082515_jpg.rf.5e1bc63a7d799f57c3baf50add7f9449.jpg  \n",
            " extracting: images/train/IMG20230602082517_jpg.rf.555abc8ba526105d10906260598ae0f9.jpg  \n",
            " extracting: images/train/IMG20230602082517_jpg.rf.67de65e79c68106e103714e1c8ed7776.jpg  \n",
            " extracting: images/train/IMG20230602082517_jpg.rf.7168f030a4d38f04d9a2d6059608bd0e.jpg  \n",
            " extracting: images/train/IMG20230602082521_jpg.rf.0866227a63d09840b6ee0049c11efa4f.jpg  \n",
            " extracting: images/train/IMG20230602082521_jpg.rf.4754af6920013f4ebeec41722afeef48.jpg  \n",
            " extracting: images/train/IMG20230602082521_jpg.rf.c9668a100aaff71f6c7c50df93ef4400.jpg  \n",
            " extracting: images/train/IMG20230602082523_jpg.rf.62f9d30dbd507cd35cea1c28b6666554.jpg  \n",
            " extracting: images/train/IMG20230602082523_jpg.rf.6df1eb31a88490578c3465ccca0f9739.jpg  \n",
            " extracting: images/train/IMG20230602082523_jpg.rf.d0706f0cee0ae82cbf77a84e36bb7e40.jpg  \n",
            " extracting: images/train/IMG20230602082526_jpg.rf.2fa2d7352e3017fdf60c2ef170c2ff87.jpg  \n",
            " extracting: images/train/IMG20230602082526_jpg.rf.42bbf1763771dfd3c487941c8702d8e9.jpg  \n",
            " extracting: images/train/IMG20230602082526_jpg.rf.91f292e2b0167a337fd207f7b05060b1.jpg  \n",
            " extracting: images/train/IMG20230602082527_jpg.rf.729510d76e56a27651b6a34e7fb6ecc9.jpg  \n",
            " extracting: images/train/IMG20230602082527_jpg.rf.c6062a62e395258a42ec5b56df3dbcdc.jpg  \n",
            " extracting: images/train/IMG20230602082527_jpg.rf.d62cb5114cf0efd848f5aca9b4e10ac1.jpg  \n",
            " extracting: images/train/IMG20230602082529_jpg.rf.1875c773b4ec3f54e96f3c4cd9876722.jpg  \n",
            " extracting: images/train/IMG20230602082529_jpg.rf.51b2f8bc24b7ffdc81ed20a1843cf149.jpg  \n",
            " extracting: images/train/IMG20230602082529_jpg.rf.f4faa271305fcc59b8264cf9e86d9565.jpg  \n",
            " extracting: images/train/IMG20230602082538_jpg.rf.5d9bc21050466f106bd9246111549517.jpg  \n",
            " extracting: images/train/IMG20230602082538_jpg.rf.a763b074ad38f7297fb9f0e32ea24d0c.jpg  \n",
            " extracting: images/train/IMG20230602082538_jpg.rf.ebfedf95d91ccbe0421131be5aec7b5d.jpg  \n",
            " extracting: images/train/IMG20230602082540_jpg.rf.0bf3a5cc7b63632913541caf017ad4a6.jpg  \n",
            " extracting: images/train/IMG20230602082540_jpg.rf.4d8205e6eadeaf97b3d64ea2e3abe16b.jpg  \n",
            " extracting: images/train/IMG20230602082540_jpg.rf.f7f7fc5b21fe1d238c2f4941ed270f3d.jpg  \n",
            " extracting: images/train/IMG20230602082545_jpg.rf.0eb4ded164fa89c9e992c8782a150d19.jpg  \n",
            " extracting: images/train/IMG20230602082545_jpg.rf.1cd2dcb00ea8221f10b12eadb08229c1.jpg  \n",
            " extracting: images/train/IMG20230602082545_jpg.rf.6deb0a69629944e988a2e8f61faa1e5d.jpg  \n",
            " extracting: images/train/IMG20230602082549_jpg.rf.1acd08b18d7266952e4f81c2a18243ee.jpg  \n",
            " extracting: images/train/IMG20230602082549_jpg.rf.1d83ed22cd7c549ddf0d4f547a342b07.jpg  \n",
            " extracting: images/train/IMG20230602082549_jpg.rf.be38325b241ad9605cf52a486351a18a.jpg  \n",
            " extracting: images/train/IMG20230602082551_jpg.rf.243cf6e8cc102f20bce4452142af1782.jpg  \n",
            " extracting: images/train/IMG20230602082551_jpg.rf.4349371824e3548c35b6c1f0cc79e6aa.jpg  \n",
            " extracting: images/train/IMG20230602082551_jpg.rf.d8dcd032dce440fc429b1b9536978bed.jpg  \n",
            " extracting: images/train/IMG20230602082557_jpg.rf.0f780058137c26eb4cf76412ffc6014a.jpg  \n",
            " extracting: images/train/IMG20230602082557_jpg.rf.7453603bda14316660430242445430e2.jpg  \n",
            " extracting: images/train/IMG20230602082557_jpg.rf.c842565b3a17ac38706a90b6ecbb1f9b.jpg  \n",
            " extracting: images/train/IMG20230602082600_jpg.rf.b5465f56f5931e68a9a11f1f72a34776.jpg  \n",
            " extracting: images/train/IMG20230602082600_jpg.rf.c0f3570149bc39c97b56d866bc0fd501.jpg  \n",
            " extracting: images/train/IMG20230602082600_jpg.rf.ed527f35e5cca4727354b78a7c888d91.jpg  \n",
            " extracting: images/train/IMG20230602082603_jpg.rf.251437af3b831cbe1e0c16da94082960.jpg  \n",
            " extracting: images/train/IMG20230602082603_jpg.rf.78e3da2effa13231761c0bd4b740c632.jpg  \n",
            " extracting: images/train/IMG20230602082603_jpg.rf.d0050c9fea25fa14061d85a3ca6f1680.jpg  \n",
            " extracting: images/train/IMG20230602082605_jpg.rf.5b6b589e2d54f5bf5539076dccf7048a.jpg  \n",
            " extracting: images/train/IMG20230602082605_jpg.rf.95cef403f1f7115d3e08a5c343ca3419.jpg  \n",
            " extracting: images/train/IMG20230602082605_jpg.rf.a3d7673a9b27bdf2462b0ec7110aee9d.jpg  \n",
            " extracting: images/train/IMG20230602082608_jpg.rf.43e1cfe10fd29b863464c7463e721e12.jpg  \n",
            " extracting: images/train/IMG20230602082608_jpg.rf.a703eb54f764fba0b3a5d305b99e90bb.jpg  \n",
            " extracting: images/train/IMG20230602082608_jpg.rf.bc7213b90dbb4ece7f3906f921774251.jpg  \n",
            " extracting: images/train/IMG20230602082812_jpg.rf.890d6d66072d9404f26f9ddab5f9e049.jpg  \n",
            " extracting: images/train/IMG20230602082812_jpg.rf.b55b7047bede87deec5acf36ce0b118b.jpg  \n",
            " extracting: images/train/IMG20230602082812_jpg.rf.d7eb97b3276caa2155226f59199b40d4.jpg  \n",
            " extracting: images/train/IMG20230602082814_jpg.rf.0df64baf53b7433448ebb810076e9fea.jpg  \n",
            " extracting: images/train/IMG20230602082814_jpg.rf.7725502b5b8707d46f4300d64252b112.jpg  \n",
            " extracting: images/train/IMG20230602082814_jpg.rf.dc9ea501cf2af8e343a45511f2b70122.jpg  \n",
            " extracting: images/train/IMG20230602082817_jpg.rf.1293ff378a604285f9944f266e5a9481.jpg  \n",
            " extracting: images/train/IMG20230602082817_jpg.rf.7d38c23b91bd3562123dd3ec00db3832.jpg  \n",
            " extracting: images/train/IMG20230602082817_jpg.rf.e88b5492128e4a3b7fad68f8455c0e72.jpg  \n",
            " extracting: images/train/IMG20230602082822_jpg.rf.52f99338a23e4fa235011363b5577815.jpg  \n",
            " extracting: images/train/IMG20230602082822_jpg.rf.9a49d4ee40b6c85c7002e839c71f1603.jpg  \n",
            " extracting: images/train/IMG20230602082822_jpg.rf.9efea1329c56cde0714048b99b2ca79f.jpg  \n",
            " extracting: images/train/IMG20230605082429_jpg.rf.077791037d10b2c1f7fd81d741c10b8c.jpg  \n",
            " extracting: images/train/IMG20230605082429_jpg.rf.9266eb671714092c976e4ce0e3f06a1f.jpg  \n",
            " extracting: images/train/IMG20230605082429_jpg.rf.ac08203565fe1c07e0a4933bf8982a66.jpg  \n",
            " extracting: images/train/IMG20230605082429_jpg.rf.ca4f9510205a55b797fa01e628558b19.jpg  \n",
            " extracting: images/train/IMG20230605082429_jpg.rf.d96e785faf26e05847d2ee86010ea818.jpg  \n",
            " extracting: images/train/IMG20230605082429_jpg.rf.f6b7dc37612f69e31168df09ada9cdda.jpg  \n",
            " extracting: images/train/IMG20230605082431_jpg.rf.07b00e33b207ee3eb67b7ec391cf669a.jpg  \n",
            " extracting: images/train/IMG20230605082431_jpg.rf.0ab12f06441218599f0bc45e9a68eb4d.jpg  \n",
            " extracting: images/train/IMG20230605082431_jpg.rf.1021a19581d68102c64df84936189e5f.jpg  \n",
            " extracting: images/train/IMG20230605082431_jpg.rf.2088ad34adfee7cf6916b07c8c07e48b.jpg  \n",
            " extracting: images/train/IMG20230605082431_jpg.rf.37b49c947f0a1cfae02b4efb496c8335.jpg  \n",
            " extracting: images/train/IMG20230605082431_jpg.rf.3899624c8d79449852da9e2ec5084c2d.jpg  \n",
            " extracting: images/train/IMG20230605082431_jpg.rf.3cc009980b0ac5d9b567b01e8ebd26fa.jpg  \n",
            " extracting: images/train/IMG20230605082431_jpg.rf.4fdb3577c8b08a69d77dd9e2d3547ac9.jpg  \n",
            " extracting: images/train/IMG20230605082431_jpg.rf.51522c06938b7bd1b2f5ff2e32e0b277.jpg  \n",
            " extracting: images/train/IMG20230605082431_jpg.rf.5dc29f23895825712c891801532c67e9.jpg  \n",
            " extracting: images/train/IMG20230605082431_jpg.rf.6afe7e6668fa67e80b2e9f1dd60e314c.jpg  \n",
            " extracting: images/train/IMG20230605082431_jpg.rf.9674268bc7460497244c69d62d3a20c4.jpg  \n",
            " extracting: images/train/IMG20230605082431_jpg.rf.b4f5226b2fa02499bacfa0d920cdc60c.jpg  \n",
            " extracting: images/train/IMG20230605082431_jpg.rf.b999673a05cad949bc6b83b79e2c64d2.jpg  \n",
            " extracting: images/train/IMG20230605082431_jpg.rf.bd9b0f0a7df7a76d931f90e8f53cc0a0.jpg  \n",
            " extracting: images/train/IMG20230605082431_jpg.rf.c31ff6e12ffe4770354c626107827c38.jpg  \n",
            " extracting: images/train/IMG20230605082431_jpg.rf.c51110123fa1f75c07a5b5669c85a942.jpg  \n",
            " extracting: images/train/IMG20230605082431_jpg.rf.d7d84d1cf8ca7a6454c51642bf895a1e.jpg  \n",
            " extracting: images/train/IMG20230605082436_jpg.rf.2c46853bb09b22eda1243da2c1edcd5d.jpg  \n",
            " extracting: images/train/IMG20230605082436_jpg.rf.3b3ea8547f2297819c33a895455ca588.jpg  \n",
            " extracting: images/train/IMG20230605082436_jpg.rf.3eb0589eea59cf5445239ceea0820a57.jpg  \n",
            " extracting: images/train/IMG20230605082436_jpg.rf.4f104e1fd6dde60bd65fd8ddd0b1cd96.jpg  \n",
            " extracting: images/train/IMG20230605082436_jpg.rf.5a2f22c6b0f32618889a6e0ca79c47a7.jpg  \n",
            " extracting: images/train/IMG20230605082436_jpg.rf.5e53888f92a214eb4808b275ce673a7f.jpg  \n",
            " extracting: images/train/IMG20230605082436_jpg.rf.764e52bc606164f76971f439488540c5.jpg  \n",
            " extracting: images/train/IMG20230605082436_jpg.rf.780041613fcd88c8515fda996d0e606d.jpg  \n",
            " extracting: images/train/IMG20230605082436_jpg.rf.81b2151dafa6a1b6f2e5dbf493f6727e.jpg  \n",
            " extracting: images/train/IMG20230605082436_jpg.rf.8bdda0c352e303f2920814c7753d28f6.jpg  \n",
            " extracting: images/train/IMG20230605082436_jpg.rf.970b82c6ed749ce442e4a2e29d382976.jpg  \n",
            " extracting: images/train/IMG20230605082436_jpg.rf.9c20da0c2396fec6fcbf1a9a78c37187.jpg  \n",
            " extracting: images/train/IMG20230605082436_jpg.rf.a6e0fe856574672297f091744d58ce1b.jpg  \n",
            " extracting: images/train/IMG20230605082436_jpg.rf.ac6a94d0a567f06c38ee04011a8d0e64.jpg  \n",
            " extracting: images/train/IMG20230605082436_jpg.rf.acde46bf52183d4251a2fbd4f1549357.jpg  \n",
            " extracting: images/train/IMG20230605082436_jpg.rf.ad8b9419fbb296db08aa941141cd628c.jpg  \n",
            " extracting: images/train/IMG20230605082436_jpg.rf.bb04d739b8909830e3a8f48f568d6baf.jpg  \n",
            " extracting: images/train/IMG20230605082436_jpg.rf.bbf7f1a0c858eb239129fcd086a68345.jpg  \n",
            " extracting: images/train/IMG20230605082436_jpg.rf.bc6afb46fd93180c87b7d0a915583b00.jpg  \n",
            " extracting: images/train/IMG20230605082436_jpg.rf.ca59c1df5a8cbed76b16f21a7394586d.jpg  \n",
            " extracting: images/train/IMG20230605082436_jpg.rf.cfe234e1d23322da68c5c23952d72762.jpg  \n",
            " extracting: images/train/IMG20230605082436_jpg.rf.d9c37b002064d5cfed68bc3ed594e810.jpg  \n",
            " extracting: images/train/IMG20230605082436_jpg.rf.ef6c4ca1130c45b171d297c032a982ec.jpg  \n",
            " extracting: images/train/IMG20230605082439_jpg.rf.063e9e2b39c6af79052b10e3d488fd7b.jpg  \n",
            " extracting: images/train/IMG20230605082439_jpg.rf.2353f2a29ab285137f97139f0839ccf4.jpg  \n",
            " extracting: images/train/IMG20230605082439_jpg.rf.269496aada88736ccbde31daa96a0f13.jpg  \n",
            " extracting: images/train/IMG20230605082439_jpg.rf.2f08a24a9c23709c4c5bced272768f7d.jpg  \n",
            " extracting: images/train/IMG20230605082439_jpg.rf.308ac05db43304a033d4cd5d2b19c55f.jpg  \n",
            " extracting: images/train/IMG20230605082439_jpg.rf.3e49e36736da71df71c3211cfc5849f2.jpg  \n",
            " extracting: images/train/IMG20230605082439_jpg.rf.3f43fccff7d84ae78ec964e5764109f8.jpg  \n",
            " extracting: images/train/IMG20230605082439_jpg.rf.481ce19585a907c5e5dd481d8eb64712.jpg  \n",
            " extracting: images/train/IMG20230605082439_jpg.rf.50290406e5cfe960fad8ce5318d1c676.jpg  \n",
            " extracting: images/train/IMG20230605082439_jpg.rf.707f9f814642581d3cc0a30c8c453bc7.jpg  \n",
            " extracting: images/train/IMG20230605082439_jpg.rf.7ab7800fd72130b984f8558661e0b6fd.jpg  \n",
            " extracting: images/train/IMG20230605082439_jpg.rf.88bdb8f459f1a4f20766b67a5e485225.jpg  \n",
            " extracting: images/train/IMG20230605082439_jpg.rf.88c547338ff0a0741cc4348ca262e50d.jpg  \n",
            " extracting: images/train/IMG20230605082439_jpg.rf.8b43df618a756d718b43fdefef6cf40a.jpg  \n",
            " extracting: images/train/IMG20230605082439_jpg.rf.91622ad170fe2adb208af55a375e3838.jpg  \n",
            " extracting: images/train/IMG20230605082439_jpg.rf.95860b1a5857cb5cc6dbe40d0b6534e8.jpg  \n",
            " extracting: images/train/IMG20230605082439_jpg.rf.9f03c04f0f1d63ef74e3d872de828c4e.jpg  \n",
            " extracting: images/train/IMG20230605082439_jpg.rf.a672bee246433c1d87b3bd5ee0e6cb7f.jpg  \n",
            " extracting: images/train/IMG20230605082439_jpg.rf.a99980d526c3ae46b88311afed7a2429.jpg  \n",
            " extracting: images/train/IMG20230605082439_jpg.rf.b7dc403c990e1fd860783a0a240d806c.jpg  \n",
            " extracting: images/train/IMG20230605082439_jpg.rf.c452367821d570c57a1e7b2181ec098a.jpg  \n",
            " extracting: images/train/IMG20230605082439_jpg.rf.df33e57664848754490d3079c6e4bc21.jpg  \n",
            " extracting: images/train/IMG20230605082439_jpg.rf.e54cbd18115a8787f3640b79fa0ec434.jpg  \n",
            " extracting: images/train/IMG20230605082439_jpg.rf.e577bc8afac2b6dd32a971c5e5edd5ec.jpg  \n",
            " extracting: images/train/IMG20230605082444_jpg.rf.269c53e62ccacc00a1fc46a5f3541fb9.jpg  \n",
            " extracting: images/train/IMG20230605082444_jpg.rf.2c791402cd044f483fd355fddf6e512a.jpg  \n",
            " extracting: images/train/IMG20230605082444_jpg.rf.318ab36189333cdecb82aa8c2d0f0014.jpg  \n",
            " extracting: images/train/IMG20230605082444_jpg.rf.6325b0548a9d089e7e67ae01546a627b.jpg  \n",
            " extracting: images/train/IMG20230605082444_jpg.rf.8682bbebf6bf38ccffccbcf66a270fba.jpg  \n",
            " extracting: images/train/IMG20230605082444_jpg.rf.a2fd57f4a224cc525ce7f3948788fa61.jpg  \n",
            " extracting: images/train/IMG20230605082444_jpg.rf.ca2683921cb8bb81b3a29ca02a5c83f7.jpg  \n",
            " extracting: images/train/IMG20230605082444_jpg.rf.d4cd10c57cc59cda4018a7a6fa1697d3.jpg  \n",
            " extracting: images/train/IMG20230605082444_jpg.rf.df7341d4f1dee4fe38fe47886ed45e48.jpg  \n",
            " extracting: images/train/IMG20230605082453_jpg.rf.001c00096524702a9e3db5d535c2c964.jpg  \n",
            " extracting: images/train/IMG20230605082453_jpg.rf.00ab95088b8466eb30139e62657ab0c9.jpg  \n",
            " extracting: images/train/IMG20230605082453_jpg.rf.0297a5a7e9c538b1bda02fc2fdb9fee6.jpg  \n",
            " extracting: images/train/IMG20230605082453_jpg.rf.05a8ce2e315ca9b31fa68ef504affb22.jpg  \n",
            " extracting: images/train/IMG20230605082453_jpg.rf.07086eec21ad40c972442c55c434d2b3.jpg  \n",
            " extracting: images/train/IMG20230605082453_jpg.rf.08c651bb80612878eac5d5037fe05adc.jpg  \n",
            " extracting: images/train/IMG20230605082453_jpg.rf.0b35b1f8147c964f96e7759b79c4b1af.jpg  \n",
            " extracting: images/train/IMG20230605082453_jpg.rf.0b7fe5a6639b1ead4bfb11a294c340d6.jpg  \n",
            " extracting: images/train/IMG20230605082453_jpg.rf.0de8f53db4cd6ecc647660c73a27c9fc.jpg  \n",
            " extracting: images/train/IMG20230605082453_jpg.rf.125731868389a92b67aa79e5ee1321b1.jpg  \n",
            " extracting: images/train/IMG20230605082453_jpg.rf.196997fb4179e47dacca02674b9264d1.jpg  \n",
            " extracting: images/train/IMG20230605082453_jpg.rf.1d96733509caca6461b237287438d24d.jpg  \n",
            " extracting: images/train/IMG20230605082453_jpg.rf.24835ccc12b83724c6bd3d48824e11bf.jpg  \n",
            " extracting: images/train/IMG20230605082453_jpg.rf.24d3ea45c339f5fe97d7ee0cd2deab9b.jpg  \n",
            " extracting: images/train/IMG20230605082453_jpg.rf.2bb93045d2a4f7fad659e733926a1834.jpg  \n",
            " extracting: images/train/IMG20230605082453_jpg.rf.3a86386e84925658d8f004c9b86fb480.jpg  \n",
            " extracting: images/train/IMG20230605082453_jpg.rf.3b367a04e81c298f8b4be2c45e0e4eea.jpg  \n",
            " extracting: images/train/IMG20230605082453_jpg.rf.472ff464f9940e4b1b45fc883a17f38d.jpg  \n",
            " extracting: images/train/IMG20230605082453_jpg.rf.47bff51491f412097627798882952d5c.jpg  \n",
            " extracting: images/train/IMG20230605082453_jpg.rf.4e14171d9d3f51f0bbf84c436707671e.jpg  \n",
            " extracting: images/train/IMG20230605082453_jpg.rf.581e84afdfd411737f1bf511f02670a3.jpg  \n",
            " extracting: images/train/IMG20230605082453_jpg.rf.5e4238ac99db35c580ef59f3d410368a.jpg  \n",
            " extracting: images/train/IMG20230605082453_jpg.rf.62abaafc9ff85fde310ec372f8a58118.jpg  \n",
            " extracting: images/train/IMG20230605082453_jpg.rf.8a34c1319f387e21fbad9340a5ba7635.jpg  \n",
            " extracting: images/train/IMG20230605082453_jpg.rf.8a736cda6c3534b973946138691ae2b2.jpg  \n",
            " extracting: images/train/IMG20230605082453_jpg.rf.980da1d98827458699a5d7c6c409b931.jpg  \n",
            " extracting: images/train/IMG20230605082453_jpg.rf.99db0a31fc3c431909efd5574ad413db.jpg  \n",
            " extracting: images/train/IMG20230605082453_jpg.rf.a0ffe621119adfea12df9027f18754aa.jpg  \n",
            " extracting: images/train/IMG20230605082453_jpg.rf.a4bd129be77eb6077323dd790008ef2e.jpg  \n",
            " extracting: images/train/IMG20230605082453_jpg.rf.afeda9f2194d6043aae9617c4366e46f.jpg  \n",
            " extracting: images/train/IMG20230605082453_jpg.rf.ba5c941c71fa4e5a81226571e71d9e39.jpg  \n",
            " extracting: images/train/IMG20230605082453_jpg.rf.bcdd7ecf1709f4dfedf29fa53b762054.jpg  \n",
            " extracting: images/train/IMG20230605082453_jpg.rf.bf8d2df444a19a50417dbbe815e918dc.jpg  \n",
            " extracting: images/train/IMG20230605082453_jpg.rf.c79b339326b950acade37198fc1739cd.jpg  \n",
            " extracting: images/train/IMG20230605082453_jpg.rf.c9da7556e249fc463e2766ac8f39b2ab.jpg  \n",
            " extracting: images/train/IMG20230605082453_jpg.rf.ce8b8954dabf49b5683823d6681a2bed.jpg  \n",
            " extracting: images/train/IMG20230605082453_jpg.rf.d0b3af8457169f958f51bbaa6224f1c6.jpg  \n",
            " extracting: images/train/IMG20230605082453_jpg.rf.d4e974d278633f71423a4cf6fb0ea44f.jpg  \n",
            " extracting: images/train/IMG20230605082453_jpg.rf.dcaf015ee42d2a5201af8c00ce300f1f.jpg  \n",
            " extracting: images/train/IMG20230605082453_jpg.rf.ddd31fe684e630f56f2821ddcd5ef437.jpg  \n",
            " extracting: images/train/IMG20230605082453_jpg.rf.e5016c957de70e6f16016a52504db84f.jpg  \n",
            " extracting: images/train/IMG20230605082453_jpg.rf.fbaf5957aae7a626da8912c1b154af73.jpg  \n",
            " extracting: images/train/IMG20230605082456_jpg.rf.328d35c840822147f8cf8227bca18fb4.jpg  \n",
            " extracting: images/train/IMG20230605082456_jpg.rf.74e0bef1dc6054aa5816eb3e36a54144.jpg  \n",
            " extracting: images/train/IMG20230605082456_jpg.rf.7ea54b30a832927d2bedca1ccb297542.jpg  \n",
            " extracting: images/train/IMG20230605082456_jpg.rf.9c902819cdbf1395ea607c8715818b93.jpg  \n",
            " extracting: images/train/IMG20230605082456_jpg.rf.9eb1a542ea3b1c07182ef2f9719a5cd6.jpg  \n",
            " extracting: images/train/IMG20230605082456_jpg.rf.b7f1be9d758f0d539f0657779e8d333a.jpg  \n",
            " extracting: images/train/IMG20230605082500_jpg.rf.02517c694e8e177e44db8d206c78aece.jpg  \n",
            " extracting: images/train/IMG20230605082500_jpg.rf.049e8981b5d81e4ad1d6a87170825397.jpg  \n",
            " extracting: images/train/IMG20230605082500_jpg.rf.16811071af6f61a51173dc8eafb8ee55.jpg  \n",
            " extracting: images/train/IMG20230605082500_jpg.rf.1ac2f50f72c865cc435f7b9ba57ffdc3.jpg  \n",
            " extracting: images/train/IMG20230605082500_jpg.rf.22aa55e11baca6a53f373b3dbe24e0c9.jpg  \n",
            " extracting: images/train/IMG20230605082500_jpg.rf.3389afeacd16c43bc39147aa98df6153.jpg  \n",
            " extracting: images/train/IMG20230605082500_jpg.rf.69e15da1aa11b7f6af82dba8865234de.jpg  \n",
            " extracting: images/train/IMG20230605082500_jpg.rf.6e42957f91c0c16ab85be1d8f97c2086.jpg  \n",
            " extracting: images/train/IMG20230605082500_jpg.rf.766ba4cc16939b324798c89642c8577c.jpg  \n",
            " extracting: images/train/IMG20230605082500_jpg.rf.827b0369a0396b788e7229f8e49193cb.jpg  \n",
            " extracting: images/train/IMG20230605082500_jpg.rf.8bdf2d4bc6c416730994c8b614bbb12b.jpg  \n",
            " extracting: images/train/IMG20230605082500_jpg.rf.a734cec2bb764ce86063d64bf752a7f9.jpg  \n",
            " extracting: images/train/IMG20230605082500_jpg.rf.afea091dc23a63e62ebeef2f8727564a.jpg  \n",
            " extracting: images/train/IMG20230605082500_jpg.rf.b7abb4209e6e088bfada292dea1fab1a.jpg  \n",
            " extracting: images/train/IMG20230605082500_jpg.rf.cd6651b2ae59debc426737225a562215.jpg  \n",
            " extracting: images/train/IMG20230605082500_jpg.rf.cfb55b0d2f1ed63e3cf1e4aa003554ba.jpg  \n",
            " extracting: images/train/IMG20230605082500_jpg.rf.d11cde2f8dfd9f64e237a7ee75a6fe51.jpg  \n",
            " extracting: images/train/IMG20230605082500_jpg.rf.def40492a6304fdeb5826b3b819218ec.jpg  \n",
            " extracting: images/train/IMG20230605082502_jpg.rf.0891944779465468c6c6fc7aeffdc08c.jpg  \n",
            " extracting: images/train/IMG20230605082502_jpg.rf.43284f9136012881321dcf82213eb84f.jpg  \n",
            " extracting: images/train/IMG20230605082502_jpg.rf.969365c01e0db75638b564a1e1441da6.jpg  \n",
            " extracting: images/train/IMG20230605082507_jpg.rf.117100bd41a396bc2ef0614ed70fe4b1.jpg  \n",
            " extracting: images/train/IMG20230605082507_jpg.rf.203ed3cbd1314e39437920e4a847b14b.jpg  \n",
            " extracting: images/train/IMG20230605082507_jpg.rf.3fba10b97e764cc300ed638fefdec7ca.jpg  \n",
            " extracting: images/train/IMG20230605082507_jpg.rf.436576329f748d12b9c741863f44344e.jpg  \n",
            " extracting: images/train/IMG20230605082507_jpg.rf.47d8fa710514a6dc57974eea6e2f7842.jpg  \n",
            " extracting: images/train/IMG20230605082507_jpg.rf.4a0fe7b723a7f0dc59832f8fcb98d58b.jpg  \n",
            " extracting: images/train/IMG20230605082507_jpg.rf.4afb0424504003a879c94a349b59f198.jpg  \n",
            " extracting: images/train/IMG20230605082507_jpg.rf.5e0c18d9fb6b467469c8b452b3819418.jpg  \n",
            " extracting: images/train/IMG20230605082507_jpg.rf.6074213664f8aeb87e339c04aeb436b8.jpg  \n",
            " extracting: images/train/IMG20230605082507_jpg.rf.8ce2811d6e5d4ef594119978f73f4820.jpg  \n",
            " extracting: images/train/IMG20230605082507_jpg.rf.a8a87b31f86bf527178acc9ffd0bb5d4.jpg  \n",
            " extracting: images/train/IMG20230605082507_jpg.rf.f44302439832e5b7b6f462277c75d60e.jpg  \n",
            " extracting: images/train/IMG20230605082511_jpg.rf.11a1561ce2e7ee02f5d6161828e27387.jpg  \n",
            " extracting: images/train/IMG20230605082511_jpg.rf.1a59831872493f4706c68f0ac8c05f14.jpg  \n",
            " extracting: images/train/IMG20230605082511_jpg.rf.23538b537ee3d9f828a84fe55d407f98.jpg  \n",
            " extracting: images/train/IMG20230605082511_jpg.rf.2e8fa77fada17835c58ec372dc42e81b.jpg  \n",
            " extracting: images/train/IMG20230605082511_jpg.rf.3d423d63cdeadb97b3474a35377ad9f9.jpg  \n",
            " extracting: images/train/IMG20230605082511_jpg.rf.41ec9819911aee4304d71d024761bf41.jpg  \n",
            " extracting: images/train/IMG20230605082511_jpg.rf.5ce4460fbe2d28d0f8964329c8650a50.jpg  \n",
            " extracting: images/train/IMG20230605082511_jpg.rf.71c35678fc02852e8223826b52293535.jpg  \n",
            " extracting: images/train/IMG20230605082511_jpg.rf.764b73257fb43220cdc268aa3736011a.jpg  \n",
            " extracting: images/train/IMG20230605082511_jpg.rf.87547bba7076eff759314e1a0c47cbb5.jpg  \n",
            " extracting: images/train/IMG20230605082511_jpg.rf.8c4de42d947882090357226304408f87.jpg  \n",
            " extracting: images/train/IMG20230605082511_jpg.rf.baaa710687deb3b99afc6ddbf5feaffe.jpg  \n",
            " extracting: images/train/IMG20230605082511_jpg.rf.dc0a835e40813b4ab4392408d569d97b.jpg  \n",
            " extracting: images/train/IMG20230605082511_jpg.rf.ea736e69b11f8435a7e911ea97d1522c.jpg  \n",
            " extracting: images/train/IMG20230605082511_jpg.rf.f58c10e56097f8d94a22131526fe8218.jpg  \n",
            " extracting: images/train/IMG20230605082516_jpg.rf.080087a39fc2e2480f20a71143cbb669.jpg  \n",
            " extracting: images/train/IMG20230605082516_jpg.rf.27710ef5f99524436b0ecea44f1a5d67.jpg  \n",
            " extracting: images/train/IMG20230605082516_jpg.rf.28d7affe821931df78c75f1697624288.jpg  \n",
            " extracting: images/train/IMG20230605082516_jpg.rf.2d4c07f3c5817d81d70155258fab8289.jpg  \n",
            " extracting: images/train/IMG20230605082516_jpg.rf.68dd437b022440e9e4f428914b013dca.jpg  \n",
            " extracting: images/train/IMG20230605082516_jpg.rf.7d0ef72071ef49b8c23e0759fbe97f73.jpg  \n",
            " extracting: images/train/IMG20230605082516_jpg.rf.95bc7dc6c2fcfcff305fa4ed1c6b0236.jpg  \n",
            " extracting: images/train/IMG20230605082516_jpg.rf.9d096645372614b75cb351a2edde5b70.jpg  \n",
            " extracting: images/train/IMG20230605082516_jpg.rf.ad40fbebffeb4f44d470ca14ad4c831d.jpg  \n",
            " extracting: images/train/IMG20230605082516_jpg.rf.bbbbf1e53e8d0adba1444ee40a7b0a85.jpg  \n",
            " extracting: images/train/IMG20230605082516_jpg.rf.cbff39cace51ed0961a6faf6c35a3881.jpg  \n",
            " extracting: images/train/IMG20230605082516_jpg.rf.cc0195b66ea3bbb00a62744c45c0fd69.jpg  \n",
            " extracting: images/train/IMG20230605082516_jpg.rf.ce640524efa23e0d8050d9fc25b157bd.jpg  \n",
            " extracting: images/train/IMG20230605082516_jpg.rf.d415705abdd1d0425a61636399525c22.jpg  \n",
            " extracting: images/train/IMG20230605082516_jpg.rf.d5055363ac38cb60e967ca79a63efbe0.jpg  \n",
            " extracting: images/train/IMG20230605082516_jpg.rf.df3eeb53133a7f2c6857eb03b26f8d15.jpg  \n",
            " extracting: images/train/IMG20230605082516_jpg.rf.f962fab1a729e570f5cb1415dbb398f1.jpg  \n",
            " extracting: images/train/IMG20230605082518_jpg.rf.03c25c477f49e92f853ebb5d840d1435.jpg  \n",
            " extracting: images/train/IMG20230605082518_jpg.rf.14c21a6e309165788f761404b3cead87.jpg  \n",
            " extracting: images/train/IMG20230605082518_jpg.rf.1aa363c7f082fdd91738f84eaed30d15.jpg  \n",
            " extracting: images/train/IMG20230605082518_jpg.rf.27b64c5e3759f5402437c9e0f0e655f2.jpg  \n",
            " extracting: images/train/IMG20230605082518_jpg.rf.2e1a9589da91178a476e87348b3bc045.jpg  \n",
            " extracting: images/train/IMG20230605082518_jpg.rf.30bc65995ee3d23389db0bcb853a73f8.jpg  \n",
            " extracting: images/train/IMG20230605082518_jpg.rf.31a6362764f632208c08dbf6453b9438.jpg  \n",
            " extracting: images/train/IMG20230605082518_jpg.rf.3536a07f9bc6a0df7bd96de82d8fc8ad.jpg  \n",
            " extracting: images/train/IMG20230605082518_jpg.rf.3817c832b604f620609f5f634d8b6c54.jpg  \n",
            " extracting: images/train/IMG20230605082518_jpg.rf.4005b24c6ac320fe2a69581bbc919c2c.jpg  \n",
            " extracting: images/train/IMG20230605082518_jpg.rf.4b7b9f56b9884c3f9566e9b5d0e9b649.jpg  \n",
            " extracting: images/train/IMG20230605082518_jpg.rf.4c362d0e79c3a4defc1f45e6d5be8db4.jpg  \n",
            " extracting: images/train/IMG20230605082518_jpg.rf.555f8bcdb937262c71a02cf912cb9dde.jpg  \n",
            " extracting: images/train/IMG20230605082518_jpg.rf.58a30bab97be3149a4679639886b6bad.jpg  \n",
            " extracting: images/train/IMG20230605082518_jpg.rf.59747fd17a614eeee7f88c2946b7b9f0.jpg  \n",
            " extracting: images/train/IMG20230605082518_jpg.rf.657446ed86f72ac2fe35edefe635da27.jpg  \n",
            " extracting: images/train/IMG20230605082518_jpg.rf.6ccda598d6ec2ef506d2367e87636311.jpg  \n",
            " extracting: images/train/IMG20230605082518_jpg.rf.6f858d3f6abfa24b54afab506a750bea.jpg  \n",
            " extracting: images/train/IMG20230605082518_jpg.rf.720d6d9a2f071577f4ea2f5a1064f287.jpg  \n",
            " extracting: images/train/IMG20230605082518_jpg.rf.80a0cade0d10bb324f425401b4c0d2aa.jpg  \n",
            " extracting: images/train/IMG20230605082518_jpg.rf.8f128cf91bd410d93d4f0cdb833f1ae7.jpg  \n",
            " extracting: images/train/IMG20230605082518_jpg.rf.9905892ce204c287f5dcf182748aa8ae.jpg  \n",
            " extracting: images/train/IMG20230605082518_jpg.rf.9d3e02cffb3a9a07c6ead961b0e0a984.jpg  \n",
            " extracting: images/train/IMG20230605082518_jpg.rf.a4199b65ac77fb232b52d3d4dab39baa.jpg  \n",
            " extracting: images/train/IMG20230605082518_jpg.rf.a987f2975d6079887a550af89ec9c49e.jpg  \n",
            " extracting: images/train/IMG20230605082518_jpg.rf.aea2368f195130530ede24a7755b5e54.jpg  \n",
            " extracting: images/train/IMG20230605082518_jpg.rf.b2a805d0baea12e503caff0976d5936f.jpg  \n",
            " extracting: images/train/IMG20230605082518_jpg.rf.c0743e98bef8609977b659ff71c7c4b5.jpg  \n",
            " extracting: images/train/IMG20230605082518_jpg.rf.c7a4fe316340cc1849b2add6fb1890cd.jpg  \n",
            " extracting: images/train/IMG20230605082518_jpg.rf.e36e1cb979e82d9e5c98dab87c409f66.jpg  \n",
            " extracting: images/train/IMG20230605082518_jpg.rf.e427276c919e848f05f2a51642e07bb4.jpg  \n",
            " extracting: images/train/IMG20230605082518_jpg.rf.f05efc61e5f9832dbfafd381e09b7e58.jpg  \n",
            " extracting: images/train/IMG20230605082520_jpg.rf.0d6893da6038559affd5ba1277d5339d.jpg  \n",
            " extracting: images/train/IMG20230605082520_jpg.rf.0fabad62a06b3a61a4df5a628df7bf15.jpg  \n",
            " extracting: images/train/IMG20230605082520_jpg.rf.21d430b627df54c6700b6a06eaa0f795.jpg  \n",
            " extracting: images/train/IMG20230605082520_jpg.rf.24e6cbc7b660f9f8e257870ddae9496a.jpg  \n",
            " extracting: images/train/IMG20230605082520_jpg.rf.48b8de1128a2c0a0f1b99b0eb2db49b5.jpg  \n",
            " extracting: images/train/IMG20230605082520_jpg.rf.497ab61efa2d2a9bf7ce71665f330274.jpg  \n",
            " extracting: images/train/IMG20230605082520_jpg.rf.4d32066712fb774c5bf00a082f435685.jpg  \n",
            " extracting: images/train/IMG20230605082520_jpg.rf.54408b021f1a19fcc1856819d60b5c34.jpg  \n",
            " extracting: images/train/IMG20230605082520_jpg.rf.5869e8dd40ac41a51a66170346c000b8.jpg  \n",
            " extracting: images/train/IMG20230605082520_jpg.rf.5a404ef8842374aee5153bbc8d1be2ab.jpg  \n",
            " extracting: images/train/IMG20230605082520_jpg.rf.69c3bf6543420cc4f4d5e9edb2156421.jpg  \n",
            " extracting: images/train/IMG20230605082520_jpg.rf.7d3676c4b7f87e44c5765e21879d2b21.jpg  \n",
            " extracting: images/train/IMG20230605082520_jpg.rf.8385c5d2df6a0d835dac50bf51a6b2e0.jpg  \n",
            " extracting: images/train/IMG20230605082520_jpg.rf.a1c3ad4c281db5220d5791f46618d8dc.jpg  \n",
            " extracting: images/train/IMG20230605082520_jpg.rf.a2819c602eea14bd9b9dac7d919a2212.jpg  \n",
            " extracting: images/train/IMG20230605082520_jpg.rf.b4b1d6472d1e016432edc14bc03f0148.jpg  \n",
            " extracting: images/train/IMG20230605082520_jpg.rf.cfc671413ba8032372b4cbd3ddafbdd7.jpg  \n",
            " extracting: images/train/IMG20230605082520_jpg.rf.f2682248aa21d2e88eddc3d1391e874d.jpg  \n",
            " extracting: images/train/IMG20230605082526_jpg.rf.04f82029933faca148c4513e29e52e8a.jpg  \n",
            " extracting: images/train/IMG20230605082526_jpg.rf.1cc7a3f2b4462977fd4bfbbf99371c96.jpg  \n",
            " extracting: images/train/IMG20230605082526_jpg.rf.272640b4a62d3f4127c07e13452eb7f7.jpg  \n",
            " extracting: images/train/IMG20230605082526_jpg.rf.35e61c460a87de80e7d78685ff7953ed.jpg  \n",
            " extracting: images/train/IMG20230605082526_jpg.rf.3a1f48d9f24d459312cf1f8a4993a633.jpg  \n",
            " extracting: images/train/IMG20230605082526_jpg.rf.4780c47f4cac6f581d516776fabec5d4.jpg  \n",
            " extracting: images/train/IMG20230605082526_jpg.rf.49bb52359bfc2791f8a3ab7763a95306.jpg  \n",
            " extracting: images/train/IMG20230605082526_jpg.rf.657006a692f6168c3ecf1514a76f1bf6.jpg  \n",
            " extracting: images/train/IMG20230605082526_jpg.rf.85d5521edf9e561f4ef4e6b85d91154c.jpg  \n",
            " extracting: images/train/IMG20230605082526_jpg.rf.968a530afaeb69bc3025724bdce1e634.jpg  \n",
            " extracting: images/train/IMG20230605082526_jpg.rf.a07c44b5081b8bd159f4173ba50c2efe.jpg  \n",
            " extracting: images/train/IMG20230605082526_jpg.rf.b675fa192ff5eab8a34f69c3965d574d.jpg  \n",
            " extracting: images/train/IMG20230605082526_jpg.rf.c0244cdbb9d005ae860a68720d7e124e.jpg  \n",
            " extracting: images/train/IMG20230605082526_jpg.rf.d7561b3982d666b7fb7c60cc89d4bb8f.jpg  \n",
            " extracting: images/train/IMG20230605082526_jpg.rf.dce92b9073f3ae328b2bb416e2278000.jpg  \n",
            " extracting: images/train/IMG20230605082526_jpg.rf.e904b758e72d209199da4b0dbaf5e8ce.jpg  \n",
            " extracting: images/train/IMG20230605082526_jpg.rf.f0e7e98f929c7248dcc1d675bff8124f.jpg  \n",
            " extracting: images/train/IMG20230605082526_jpg.rf.f77afd9ae970897006170b3928569401.jpg  \n",
            " extracting: images/train/IMG20230605082531_jpg.rf.0c2529f247a648caf924acabd268280b.jpg  \n",
            " extracting: images/train/IMG20230605082531_jpg.rf.40693a57824ab24ad49fdaac8748804f.jpg  \n",
            " extracting: images/train/IMG20230605082531_jpg.rf.48c76f4e276fecdf7b1d5d81b59cc379.jpg  \n",
            " extracting: images/train/IMG20230605082531_jpg.rf.4e1649b7fb870d839405effedc64fa76.jpg  \n",
            " extracting: images/train/IMG20230605082531_jpg.rf.4e9953955a46701c02bce71b3ea68c01.jpg  \n",
            " extracting: images/train/IMG20230605082531_jpg.rf.e3617db9c9fa96bd5abc60f10e285ab5.jpg  \n",
            " extracting: images/train/IMG20230605082534_jpg.rf.08a38e92e2cd7d1b86fe2374238c0875.jpg  \n",
            " extracting: images/train/IMG20230605082534_jpg.rf.0faa77834ef45a49538d8601007ae645.jpg  \n",
            " extracting: images/train/IMG20230605082534_jpg.rf.2edfb4ee2e71e375aac32b11f7f3e98c.jpg  \n",
            " extracting: images/train/IMG20230605082534_jpg.rf.34f040f1d8f149bc885eddcc567f93dc.jpg  \n",
            " extracting: images/train/IMG20230605082534_jpg.rf.6106561b8a0da3cb2f2acf58ac3e59da.jpg  \n",
            " extracting: images/train/IMG20230605082534_jpg.rf.9c645c434ac3164afbf52942abdb14df.jpg  \n",
            " extracting: images/train/IMG20230605082534_jpg.rf.9ed080f0943c28c7e6626bb3cfbca5fe.jpg  \n",
            " extracting: images/train/IMG20230605082534_jpg.rf.cbe69f45c199a59b2854f89dfceb9179.jpg  \n",
            " extracting: images/train/IMG20230605082534_jpg.rf.cfed2ce1ce00acebf3eaa5ec09c736d7.jpg  \n",
            " extracting: images/train/IMG20230605082534_jpg.rf.d3759f5cc12155830d0f20a6e0734f20.jpg  \n",
            " extracting: images/train/IMG20230605082534_jpg.rf.f2bbdfd58faa2fb104b968ff74aa2b95.jpg  \n",
            " extracting: images/train/IMG20230605082534_jpg.rf.f4871070f99d5f2febcd685c55d697a5.jpg  \n",
            " extracting: images/train/IMG20230605082536_jpg.rf.02868f91999c11215be79a0a3e963201.jpg  \n",
            " extracting: images/train/IMG20230605082536_jpg.rf.0bc64bdf7de731558b5d9219165557b0.jpg  \n",
            " extracting: images/train/IMG20230605082536_jpg.rf.32ccabcfdee39c2d3827316feb4138cc.jpg  \n",
            " extracting: images/train/IMG20230605082536_jpg.rf.341cf454bd2d9e406518991b9712d337.jpg  \n",
            " extracting: images/train/IMG20230605082536_jpg.rf.357405808a2d95834fcc0fefdd17551a.jpg  \n",
            " extracting: images/train/IMG20230605082536_jpg.rf.42f7bf2343bfd1f54faef09854b54d3f.jpg  \n",
            " extracting: images/train/IMG20230605082536_jpg.rf.466c2fc6495819d0179afe491bc18171.jpg  \n",
            " extracting: images/train/IMG20230605082536_jpg.rf.5d91447432bd8153bee6f4bc40072313.jpg  \n",
            " extracting: images/train/IMG20230605082536_jpg.rf.5ef3acbd6d019d87a21b5c5afe3317cb.jpg  \n",
            " extracting: images/train/IMG20230605082536_jpg.rf.7f74df53dee428d1f6d0263633d4ab77.jpg  \n",
            " extracting: images/train/IMG20230605082536_jpg.rf.854c4958a378dc73fcd7f40b727bf766.jpg  \n",
            " extracting: images/train/IMG20230605082536_jpg.rf.8cdb638def8d5ac1f38cba88089e3f86.jpg  \n",
            " extracting: images/train/IMG20230605082536_jpg.rf.9551ffefd6090d6b13ca7ef25b278b5a.jpg  \n",
            " extracting: images/train/IMG20230605082536_jpg.rf.9f243669ec920fde7424629445de4ad6.jpg  \n",
            " extracting: images/train/IMG20230605082536_jpg.rf.b9d24de3e86e47ebf6a2b712777df31f.jpg  \n",
            " extracting: images/train/IMG20230605082536_jpg.rf.d5ffedeef077695fcb4848a4a6358437.jpg  \n",
            " extracting: images/train/IMG20230605082536_jpg.rf.dfe324acda7719cade983e8d6584b8ae.jpg  \n",
            " extracting: images/train/IMG20230605082536_jpg.rf.fc689cd28e9b89d72f7d9ab64c4bc7e1.jpg  \n",
            " extracting: images/train/IMG20230605082538_jpg.rf.0c84482252258c46c29be2bcb50357ee.jpg  \n",
            " extracting: images/train/IMG20230605082538_jpg.rf.1d1ad74fc770c9ae48fdd8e7b4c351d3.jpg  \n",
            " extracting: images/train/IMG20230605082538_jpg.rf.29dd60541eeec9209103902e24dfe4e6.jpg  \n",
            " extracting: images/train/IMG20230605082538_jpg.rf.3c4bb315dd8abdb8f0a48593067b264e.jpg  \n",
            " extracting: images/train/IMG20230605082538_jpg.rf.4879308a5f3db82d7367b14e59842924.jpg  \n",
            " extracting: images/train/IMG20230605082538_jpg.rf.51b4d73bc6338a497d1f84d83330c4e6.jpg  \n",
            " extracting: images/train/IMG20230605082538_jpg.rf.73443381e651a09fe759c29a2749dda5.jpg  \n",
            " extracting: images/train/IMG20230605082538_jpg.rf.9ebc1a1d0649fec85209538ad7cfd210.jpg  \n",
            " extracting: images/train/IMG20230605082538_jpg.rf.b2f44e081172d3aaeea59e15626beda9.jpg  \n",
            " extracting: images/train/IMG20230605082538_jpg.rf.e89352886769a5be2fd0acb612e4b5d8.jpg  \n",
            " extracting: images/train/IMG20230605082538_jpg.rf.f536f277ee178ee752c596cde2f0c4e4.jpg  \n",
            " extracting: images/train/IMG20230605082538_jpg.rf.ff3c7dafcd72e78d451639089fc7c9ce.jpg  \n",
            " extracting: images/train/IMG20230605082540_jpg.rf.02e4cd2d7f3b56c25bac202e57bcd6bc.jpg  \n",
            " extracting: images/train/IMG20230605082540_jpg.rf.0b25161ad0a84b4fbe0b9bf4165c99d2.jpg  \n",
            " extracting: images/train/IMG20230605082540_jpg.rf.23f111b741a53ae854699733dc6b8f61.jpg  \n",
            " extracting: images/train/IMG20230605082540_jpg.rf.2d5439100cc35219ba46dafc813a82b7.jpg  \n",
            " extracting: images/train/IMG20230605082540_jpg.rf.39d85f4e48e71f0cf6fcd34e0b7f5292.jpg  \n",
            " extracting: images/train/IMG20230605082540_jpg.rf.4225472e76a1b0f3ca016423d4759662.jpg  \n",
            " extracting: images/train/IMG20230605082540_jpg.rf.439adfcb7d7a88d4eb478eb99ac74a0a.jpg  \n",
            " extracting: images/train/IMG20230605082540_jpg.rf.456e86a3adc23b929d5dcb2f9db1a5ae.jpg  \n",
            " extracting: images/train/IMG20230605082540_jpg.rf.465f8e9aaee68234efa878d9b7d1a4b2.jpg  \n",
            " extracting: images/train/IMG20230605082540_jpg.rf.5c0f0423c189be3ebda89e72a804b21c.jpg  \n",
            " extracting: images/train/IMG20230605082540_jpg.rf.5d9f6b920a72fe4d66e58959f1d397c6.jpg  \n",
            " extracting: images/train/IMG20230605082540_jpg.rf.5ef868e711a1443f9fd29e1317608458.jpg  \n",
            " extracting: images/train/IMG20230605082540_jpg.rf.6101f33642086d1ad2881354d196e116.jpg  \n",
            " extracting: images/train/IMG20230605082540_jpg.rf.6289e12d738c0584cf0266bd83552bdc.jpg  \n",
            " extracting: images/train/IMG20230605082540_jpg.rf.64a3c6f4154db84ac6575710d2880166.jpg  \n",
            " extracting: images/train/IMG20230605082540_jpg.rf.64c040b132d8875d37c59734f1a46312.jpg  \n",
            " extracting: images/train/IMG20230605082540_jpg.rf.6fcc2861bc2fa81baf64d6892e0ab7a5.jpg  \n",
            " extracting: images/train/IMG20230605082540_jpg.rf.71eb87c3099392138d9d4d454a9a98ee.jpg  \n",
            " extracting: images/train/IMG20230605082540_jpg.rf.7875eaae90743836e4ebd637f4300cb7.jpg  \n",
            " extracting: images/train/IMG20230605082540_jpg.rf.8a2b3a59c852468d30cf40185ba6ce3e.jpg  \n",
            " extracting: images/train/IMG20230605082540_jpg.rf.8bf53f99ebaf5d32894315455f844457.jpg  \n",
            " extracting: images/train/IMG20230605082540_jpg.rf.8c70e17e2d6dc45e1c014c2da503c1f8.jpg  \n",
            " extracting: images/train/IMG20230605082540_jpg.rf.9027875d1a7bdee2cc01127d1712f62e.jpg  \n",
            " extracting: images/train/IMG20230605082540_jpg.rf.9389782e1e91f9b06b808a2dfaaf1245.jpg  \n",
            " extracting: images/train/IMG20230605082540_jpg.rf.99c7c20210a2cb016dbff1914ba42681.jpg  \n",
            " extracting: images/train/IMG20230605082540_jpg.rf.99e60a8459a44db166f3c9547623b057.jpg  \n",
            " extracting: images/train/IMG20230605082540_jpg.rf.9a636f818babdfa09f8f281db79574dc.jpg  \n",
            " extracting: images/train/IMG20230605082540_jpg.rf.ad62f5602f352cd5eca79a585b8e4420.jpg  \n",
            " extracting: images/train/IMG20230605082540_jpg.rf.b731d10871fa9e61ea657b8000d0d72e.jpg  \n",
            " extracting: images/train/IMG20230605082540_jpg.rf.c27255aae5629620e7c10c3e334c351a.jpg  \n",
            " extracting: images/train/IMG20230605082540_jpg.rf.ce8825492a32a537aa3a649544fe717b.jpg  \n",
            " extracting: images/train/IMG20230605082540_jpg.rf.eabe31d1bf50be8e0688eb9b29c12d73.jpg  \n",
            " extracting: images/train/IMG20230605082540_jpg.rf.f24c76701e617768632fc1f3162619b6.jpg  \n",
            " extracting: images/train/IMG20230605082540_jpg.rf.f548d045b5f688acc86cf588fee8679d.jpg  \n",
            " extracting: images/train/IMG20230605082540_jpg.rf.ff1e16fdfafcdf821468bb31d6099d75.jpg  \n",
            " extracting: images/train/IMG20230605082540_jpg.rf.ffbf3c60ca5b72fe82605e9e65163a93.jpg  \n",
            " extracting: images/train/IMG20230605082545_jpg.rf.0144eab5c9bd9ffe165e8d6553e47e4d.jpg  \n",
            " extracting: images/train/IMG20230605082545_jpg.rf.0c2cc602d7fab887128bee6d0faf1b46.jpg  \n",
            " extracting: images/train/IMG20230605082545_jpg.rf.0d49b3ead611a0ed87e7b21e781d4f6d.jpg  \n",
            " extracting: images/train/IMG20230605082545_jpg.rf.10fe2c382814d4aa4fe8ab947004e09e.jpg  \n",
            " extracting: images/train/IMG20230605082545_jpg.rf.3295e5bfd4f7180012263123af6325e2.jpg  \n",
            " extracting: images/train/IMG20230605082545_jpg.rf.366ed52a5ba9008727fb3ada1211b705.jpg  \n",
            " extracting: images/train/IMG20230605082545_jpg.rf.6324d83d52ace174c70ca02a4de44538.jpg  \n",
            " extracting: images/train/IMG20230605082545_jpg.rf.7f9a86a7aa348a70718502e7b414bcb7.jpg  \n",
            " extracting: images/train/IMG20230605082545_jpg.rf.a2bac21f439357fc82878f3a2bb027c6.jpg  \n",
            " extracting: images/train/IMG20230605082545_jpg.rf.b16aba277e5118c34764f4326dd5fbb8.jpg  \n",
            " extracting: images/train/IMG20230605082545_jpg.rf.b736511f42312246834e6a8bee2eded5.jpg  \n",
            " extracting: images/train/IMG20230605082545_jpg.rf.beb8cc986b72ea6534f5fd9d0254c7a4.jpg  \n",
            " extracting: images/train/IMG20230605082545_jpg.rf.ceeb7b9e55b1aa3e76d4ba9a4dcb35b1.jpg  \n",
            " extracting: images/train/IMG20230605082545_jpg.rf.dac6110725c7751927a172b0bda3545e.jpg  \n",
            " extracting: images/train/IMG20230605082545_jpg.rf.de9423943329edc7285ee8dc21ea2454.jpg  \n",
            " extracting: images/train/IMG20230605082545_jpg.rf.e06833d3662016821eb7a3bc80858f39.jpg  \n",
            " extracting: images/train/IMG20230605082545_jpg.rf.e50b026782d0d83e0a89ae0a4ad4fb89.jpg  \n",
            " extracting: images/train/IMG20230605082545_jpg.rf.f643a0cf94a69f5551933f38351714c2.jpg  \n",
            " extracting: images/train/IMG20230605082547_jpg.rf.03c8902cd9cdae18db0302440f41e212.jpg  \n",
            " extracting: images/train/IMG20230605082547_jpg.rf.0d9e97adc9f0da362a1f4aa927ed6bec.jpg  \n",
            " extracting: images/train/IMG20230605082547_jpg.rf.17ef2bebac99313509c2a3d283c2712c.jpg  \n",
            " extracting: images/train/IMG20230605082547_jpg.rf.1e98fae7f4faf60e5851bc07e79a8a58.jpg  \n",
            " extracting: images/train/IMG20230605082547_jpg.rf.2114e820444bbf73eb7d615539a208b0.jpg  \n",
            " extracting: images/train/IMG20230605082547_jpg.rf.47e6ca6c1ccbb8f00e39318d3d386ab7.jpg  \n",
            " extracting: images/train/IMG20230605082547_jpg.rf.4efea92f26804a7ada9d11f940a532c5.jpg  \n",
            " extracting: images/train/IMG20230605082547_jpg.rf.7476822a99510c59c253d558f3ec7c32.jpg  \n",
            " extracting: images/train/IMG20230605082547_jpg.rf.779c4853aa16ebdf6aae055e2ec19acf.jpg  \n",
            " extracting: images/train/IMG20230605082547_jpg.rf.87ca1cb4e6a85724b5512249d54d513c.jpg  \n",
            " extracting: images/train/IMG20230605082547_jpg.rf.a1b939e60649c20463db0703fe58b865.jpg  \n",
            " extracting: images/train/IMG20230605082547_jpg.rf.be21f32a0fc60f0ae8df0e6b1a098416.jpg  \n",
            " extracting: images/train/IMG20230605082547_jpg.rf.dd664ec7bda2f3cc192ffd06a075043d.jpg  \n",
            " extracting: images/train/IMG20230605082547_jpg.rf.ee8f91d4f63458b5e9e39068e2774d31.jpg  \n",
            " extracting: images/train/IMG20230605082547_jpg.rf.ef838ae716efe38f03e9e83b2176eb0d.jpg  \n",
            " extracting: images/train/IMG20230605082548_jpg.rf.0afebb9af4af0f890315e8c510f61d28.jpg  \n",
            " extracting: images/train/IMG20230605082548_jpg.rf.0fcaf0d345b62f07905e903cc339f89b.jpg  \n",
            " extracting: images/train/IMG20230605082548_jpg.rf.1670dd306eca21e546596d3eea9d803c.jpg  \n",
            " extracting: images/train/IMG20230605082548_jpg.rf.2136789e18544465fe86cd41880a709f.jpg  \n",
            " extracting: images/train/IMG20230605082548_jpg.rf.5a522829bd847a8736393bd64fc51b3d.jpg  \n",
            " extracting: images/train/IMG20230605082548_jpg.rf.732aac525521c4a265e47e972d6f4c30.jpg  \n",
            " extracting: images/train/IMG20230605082548_jpg.rf.8530bd9b233f1eb963c33551ce243ce3.jpg  \n",
            " extracting: images/train/IMG20230605082548_jpg.rf.8d8647248e7ce372466fcc32ec2471a2.jpg  \n",
            " extracting: images/train/IMG20230605082548_jpg.rf.d18abd62148f2fcc13f59a76697b60e7.jpg  \n",
            " extracting: images/train/IMG20230605082548_jpg.rf.d45e7ecb1ccc131af38abc9d08a55396.jpg  \n",
            " extracting: images/train/IMG20230605082548_jpg.rf.de1e8fa61e2acf3536f03a1a1a92a548.jpg  \n",
            " extracting: images/train/IMG20230605082548_jpg.rf.e024774e67ed4349657b71abf19df46f.jpg  \n",
            " extracting: images/train/IMG20230605082548_jpg.rf.e296c7ca4ef3ab90976b538ca7369c3c.jpg  \n",
            " extracting: images/train/IMG20230605082548_jpg.rf.e3e7ed1d222f1e251a6a79fab7d72588.jpg  \n",
            " extracting: images/train/IMG20230605082548_jpg.rf.f52f03973ff846ab04d99d70387627ed.jpg  \n",
            " extracting: images/train/IMG20230605082548_jpg.rf.f5546bf70cc9811a6465de0c613e0198.jpg  \n",
            " extracting: images/train/IMG20230605082552_jpg.rf.04669d1dc7b8391311bb356ed7908364.jpg  \n",
            " extracting: images/train/IMG20230605082552_jpg.rf.0e2cd931f3f59142f09c9522a311fb76.jpg  \n",
            " extracting: images/train/IMG20230605082552_jpg.rf.2e24eb57f725a45ff39c46a0460cfff4.jpg  \n",
            " extracting: images/train/IMG20230605082552_jpg.rf.380f50243c04712236d36eaa2512dee8.jpg  \n",
            " extracting: images/train/IMG20230605082552_jpg.rf.484bc805ada2fe82a25b8be978ecde9c.jpg  \n",
            " extracting: images/train/IMG20230605082552_jpg.rf.4e22e76fba9673d7b441999d67346420.jpg  \n",
            " extracting: images/train/IMG20230605082552_jpg.rf.5bfc8709c81e0ec1f4e2612781ffb9ff.jpg  \n",
            " extracting: images/train/IMG20230605082552_jpg.rf.7c08db2d789ca47f75c01167b9be5df0.jpg  \n",
            " extracting: images/train/IMG20230605082552_jpg.rf.9521fb9d33b30b5a92f8e2821e83958c.jpg  \n",
            " extracting: images/train/IMG20230605082552_jpg.rf.a1b800b07b83a8735c794fedac48e5c8.jpg  \n",
            " extracting: images/train/IMG20230605082552_jpg.rf.a25e1aeb8f0745169c22fdfd3dc2347b.jpg  \n",
            " extracting: images/train/IMG20230605082552_jpg.rf.a65687ec7a3fb5ea6b0931e30ee4505f.jpg  \n",
            " extracting: images/train/IMG20230605082552_jpg.rf.acfde3052dd64996c3c5f90ba987c4bc.jpg  \n",
            " extracting: images/train/IMG20230605082552_jpg.rf.b17d655de39a0a558a710ca2c4d23662.jpg  \n",
            " extracting: images/train/IMG20230605082552_jpg.rf.dba79767ef80791cb8ebd8069e5af743.jpg  \n",
            " extracting: images/train/IMG20230605082557_jpg.rf.14d913f2775ec0eae0aa30539b318cb1.jpg  \n",
            " extracting: images/train/IMG20230605082557_jpg.rf.24ac49f1d04305aa4472e6a3b110f272.jpg  \n",
            " extracting: images/train/IMG20230605082557_jpg.rf.2612434ce109f4ec7e06d57d13c6a705.jpg  \n",
            " extracting: images/train/IMG20230605082557_jpg.rf.386fd601ec4f524d7b9c482ae2281c1b.jpg  \n",
            " extracting: images/train/IMG20230605082557_jpg.rf.48d18cf466031c8893e58a9d1ad8708a.jpg  \n",
            " extracting: images/train/IMG20230605082557_jpg.rf.7e9ddc2e4512146e00f64cc4810e8fd3.jpg  \n",
            " extracting: images/train/IMG20230605082557_jpg.rf.835ce0c3c286e49e737aee6c84300eee.jpg  \n",
            " extracting: images/train/IMG20230605082557_jpg.rf.8497ed4a6df91c7cf6c61582786eca45.jpg  \n",
            " extracting: images/train/IMG20230605082557_jpg.rf.922a1c464459b55044df8d938b2f844e.jpg  \n",
            " extracting: images/train/IMG20230605082557_jpg.rf.93e110de462430d08f584116eadd3435.jpg  \n",
            " extracting: images/train/IMG20230605082557_jpg.rf.b1a780f485bdfaba765f00fa4131b402.jpg  \n",
            " extracting: images/train/IMG20230605082557_jpg.rf.c584a90e77c4c4946007596027d73823.jpg  \n",
            " extracting: images/train/IMG20230605082557_jpg.rf.cd1f1a81d80cd50ac8a9076cbdc8a669.jpg  \n",
            " extracting: images/train/IMG20230605082557_jpg.rf.cff22eda61fbe533abafb8e906bb71c6.jpg  \n",
            " extracting: images/train/IMG20230605082557_jpg.rf.d568c6ae9845765021104775746a0815.jpg  \n",
            " extracting: images/train/IMG20230605082557_jpg.rf.d7e4c2d7b42d67a723da83d4ba4bef38.jpg  \n",
            " extracting: images/train/IMG20230605082557_jpg.rf.da2ededd973f07bcbe9a18d24e53e96f.jpg  \n",
            " extracting: images/train/IMG20230605082557_jpg.rf.fdd108213679fd59e7f918b2d8fa892e.jpg  \n",
            " extracting: images/train/IMG20230605082603_jpg.rf.1d708e8e102071e5dc066cd8ea9b5a0d.jpg  \n",
            " extracting: images/train/IMG20230605082603_jpg.rf.30ee306c2474e817a20927338b878de2.jpg  \n",
            " extracting: images/train/IMG20230605082603_jpg.rf.78ca888787263801858b4af433241369.jpg  \n",
            " extracting: images/train/IMG20230605082603_jpg.rf.c10cc4ac703d1c73a6ffb158e0c4c12a.jpg  \n",
            " extracting: images/train/IMG20230605082603_jpg.rf.ee301c85cac791c0802725601b821fe7.jpg  \n",
            " extracting: images/train/IMG20230605082603_jpg.rf.f0de564e4720ad0973c8de5fa9cb5851.jpg  \n",
            " extracting: images/train/received_219022264192477_jpeg.rf.0bd8ee29d01d5382e161353ab4bc7152.jpg  \n",
            " extracting: images/train/received_219022264192477_jpeg.rf.eece4a166ef7b17503e48a159140cbb3.jpg  \n",
            " extracting: images/train/received_219022264192477_jpeg.rf.ef1cc6d826bf3444eb60b35002cb04d0.jpg  \n",
            " extracting: images/train/received_258006716758125_jpeg.rf.1964f655ead0bfefd8698cc0d37c43e4.jpg  \n",
            " extracting: images/train/received_258006716758125_jpeg.rf.23858a90aa2e71127c87d417831d83b2.jpg  \n",
            " extracting: images/train/received_258006716758125_jpeg.rf.6c3f5153ab752043a8efdb71aad3d161.jpg  \n",
            "   creating: images/valid/\n",
            " extracting: images/valid/0603180314_jpg.rf.f6c9493f2b4c113dee4e7da2c5ff0cdf.jpg  \n",
            " extracting: images/valid/0603180528_jpg.rf.03e539301b7939f457419e1f892c3234.jpg  \n",
            " extracting: images/valid/0603181354_jpg.rf.a66e0313db0de17692b0faa761b9ed14.jpg  \n",
            " extracting: images/valid/0603184341_jpg.rf.1e5fcab56e8bfcc99be0567578b70048.jpg  \n",
            " extracting: images/valid/0603190849_jpg.rf.3255b352cda2e903f2a03eec3a42754b.jpg  \n",
            " extracting: images/valid/0603191053_jpg.rf.0c417c89143938fa5113f7b4d54354f5.jpg  \n",
            " extracting: images/valid/0603192222_jpg.rf.0914c37145c4c9eb438e164d023a033d.jpg  \n",
            " extracting: images/valid/0603192708_jpg.rf.099c15d9abffade8cf46a67b9fe85bb8.jpg  \n",
            " extracting: images/valid/0603192708_jpg.rf.28a7d58c1b58f058f772d93a0fc216a8.jpg  \n",
            " extracting: images/valid/0603192819_jpg.rf.475abebc6c72cc4b51fc9d253f626c48.jpg  \n",
            " extracting: images/valid/0603192819_jpg.rf.8b206b9fd307195de1661dee1a51ceb9.jpg  \n",
            " extracting: images/valid/0603192939_jpg.rf.704bb0f88772fa68d747e9cbd8df4070.jpg  \n",
            " extracting: images/valid/0603193242_jpg.rf.ae27a5c005cad673c8832a4a88696e2b.jpg  \n",
            " extracting: images/valid/0603193501_jpg.rf.1a695c465022c148d0554b1b9b1f29e9.jpg  \n",
            " extracting: images/valid/0603193753_jpg.rf.60a67698f38c98c4f886bb012dfc2b15.jpg  \n",
            " extracting: images/valid/0603193945_jpg.rf.21e2a1a6aa5f578d1c2e19f7d2fec53c.jpg  \n",
            " extracting: images/valid/0603193945_jpg.rf.e19bf3546dff33d4feadb195928a8fee.jpg  \n",
            " extracting: images/valid/0603194442_jpg.rf.1b9d13e2feac41899a2d4ebed7d172df.jpg  \n",
            " extracting: images/valid/0603201622_jpg.rf.419646c80ae9955c4cbcda4f1ceb370d.jpg  \n",
            " extracting: images/valid/0605135356_jpg.rf.67f824c515f3b2483cf2d33a62007313.jpg  \n",
            " extracting: images/valid/0605140704_jpg.rf.da61889dac2d98f01600cc2f92bdf927.jpg  \n",
            " extracting: images/valid/0605140954_jpg.rf.0ce5c2a5c48cfcd1ea4b988bd0c32c54.jpg  \n",
            " extracting: images/valid/0605142626_jpg.rf.7388c48b85cd562d882217012c072246.jpg  \n",
            " extracting: images/valid/0605143016_jpg.rf.ab9961babe1480c02b546f2cfa0f6259.jpg  \n",
            " extracting: images/valid/0605143016_jpg.rf.d10cb2aea638dacf3a522e28f21d47f2.jpg  \n",
            " extracting: images/valid/0605143058_jpg.rf.3cf417dabfb644d21e8c1cf31cf1fa10.jpg  \n",
            " extracting: images/valid/0605144029_jpg.rf.488005d2a2d56bd4af21827564646cb9.jpg  \n",
            " extracting: images/valid/0605144029_jpg.rf.7b9e3791ff0c21d12494cb81d16b32fb.jpg  \n",
            " extracting: images/valid/0605144222_jpg.rf.ae130c24f86fb6511740dd51e6a35197.jpg  \n",
            " extracting: images/valid/0605144431_jpg.rf.9322ae1b39f7f60141c77018250edd8f.jpg  \n",
            " extracting: images/valid/0605144520_jpg.rf.771c75d45e1adf71deb590db5a454aa1.jpg  \n",
            " extracting: images/valid/0605150243_jpg.rf.2a684c89e71f6ea4bac9716763e4fa9e.jpg  \n",
            " extracting: images/valid/0605150757_jpg.rf.715bea810927cd133fdfbd8eaf0fe2e0.jpg  \n",
            " extracting: images/valid/0605151359_jpg.rf.960ab9279d0de083e838247717506fa6.jpg  \n",
            " extracting: images/valid/0605151550_jpg.rf.b70364a5252ef83397c7a2390024baff.jpg  \n",
            " extracting: images/valid/0605153108_jpg.rf.13f18a78946a59251958165cd34be999.jpg  \n",
            " extracting: images/valid/0605153622_jpg.rf.ec5f99e67786c7229748fe247cd3cdd8.jpg  \n",
            " extracting: images/valid/0605153813_jpg.rf.091be2a8a372f40b1278369ee6b41b98.jpg  \n",
            " extracting: images/valid/0605153852_jpg.rf.8e83987d8d247fdca26e05d40a43626e.jpg  \n",
            " extracting: images/valid/0605154445_jpg.rf.cf89794cd87c1c5b8bd7e622d970d0e3.jpg  \n",
            " extracting: images/valid/0605154445_jpg.rf.d803be6d48b6a5890d7d2812eb4f8072.jpg  \n",
            " extracting: images/valid/IMG20230525120403_01_jpg.rf.8517c120a1c7d3d92d676bd778324c44.jpg  \n",
            " extracting: images/valid/IMG20230529174311_01_jpg.rf.861bac8fefe0f320d65c60cbfdba7443.jpg  \n",
            " extracting: images/valid/IMG20230529175015_jpg.rf.8f02eca05bb2b4eb53151630199d3f26.jpg  \n",
            " extracting: images/valid/IMG20230529175117_jpg.rf.d61940765d7e5dcb23e19ce3081ddf44.jpg  \n",
            " extracting: images/valid/IMG20230529175121_jpg.rf.35fce5d47da82fd7b170efe68c32a676.jpg  \n",
            " extracting: images/valid/IMG20230530065409_01_jpg.rf.69c88859ebe7fc742eb41fb73e4c86a4.jpg  \n",
            " extracting: images/valid/IMG20230530065640_01_jpg.rf.c9a8a62699bb52258062fdbbcb5eb74b.jpg  \n",
            " extracting: images/valid/IMG20230530065759_01_jpg.rf.c9190b05826aa7a3d0480e876f469fe5.jpg  \n",
            " extracting: images/valid/IMG20230530065808_01_jpg.rf.49db2ea65cde87a5869c8bed3d8c7e9e.jpg  \n",
            " extracting: images/valid/IMG20230530065816_01_jpg.rf.8c452a3a40ab434fb57cc85694558a12.jpg  \n",
            " extracting: images/valid/IMG20230530065907_01_jpg.rf.40d786cff2624d7194f76e8f0c53b9de.jpg  \n",
            " extracting: images/valid/IMG20230530065922_01_jpg.rf.3c051daa9e5a8f291c710a0f04b57b95.jpg  \n",
            " extracting: images/valid/IMG20230530070020_03_jpg.rf.c6adc5fcf8bd08ef96527066cc4423d7.jpg  \n",
            " extracting: images/valid/IMG20230530181231_01_jpg.rf.760b4794e09d11dd932003b484252c73.jpg  \n",
            " extracting: images/valid/IMG20230530181254_jpg.rf.da64e66018bb59f9ce02a22d6be77b50.jpg  \n",
            " extracting: images/valid/IMG20230530181417_01_jpg.rf.461e6af20e025576382d04510e96c171.jpg  \n",
            " extracting: images/valid/IMG20230530181423_01_jpg.rf.8ed31a98fd72fcb6cf4c7143a2eb4356.jpg  \n",
            " extracting: images/valid/IMG20230530181425_01_jpg.rf.0f87c74f0ebdbe0717e14cfeda4eb133.jpg  \n",
            " extracting: images/valid/IMG20230530181439_01_jpg.rf.0519c21edc87da7832686d92a48e50df.jpg  \n",
            " extracting: images/valid/IMG20230531132323_01_jpg.rf.f2cb147995647f0b86872fe0891a1e13.jpg  \n",
            " extracting: images/valid/IMG20230531132350_01_jpg.rf.b9e0ca5933f2a6bc0fcb96776345de81.jpg  \n",
            " extracting: images/valid/IMG20230531132357_01_jpg.rf.6650d10b7539c175f8d30ee5263658a1.jpg  \n",
            " extracting: images/valid/IMG20230531133642_01_jpg.rf.7860de59655b99a0dc80016062796d8b.jpg  \n",
            " extracting: images/valid/IMG20230531133655_jpg.rf.05a19ff7c1604b5399dd2a202b9f57c9.jpg  \n",
            " extracting: images/valid/IMG20230531133713_01_jpg.rf.9a72cf5f67b258370656623cd27e023c.jpg  \n",
            " extracting: images/valid/IMG20230531133714_01_jpg.rf.ad90ad22d42b2e122f78d0765db61052.jpg  \n",
            " extracting: images/valid/IMG20230531161412_01_jpg.rf.25468dc7fad4e4d82ce4239141e48f9d.jpg  \n",
            " extracting: images/valid/IMG20230531161426_01_jpg.rf.cae9132131f65966e4335facb7bacf1a.jpg  \n",
            " extracting: images/valid/IMG20230531161439_01_jpg.rf.f8ab968e699f97b3d23d3647ce807cfd.jpg  \n",
            " extracting: images/valid/IMG20230531161746_jpg.rf.b4d3b4b61807d69a0e9a973d570e55bf.jpg  \n",
            " extracting: images/valid/IMG20230531161809_jpg.rf.e141fc422f65d1916b6879250336f334.jpg  \n",
            " extracting: images/valid/IMG20230531161822_jpg.rf.0c99af895dfb6422956e84bc522596f5.jpg  \n",
            " extracting: images/valid/IMG20230601104217_jpg.rf.6de90a9aeb3990e00c01db11a3fd671f.jpg  \n",
            " extracting: images/valid/IMG20230601104312_jpg.rf.d939ca6eee43c37c32d42fd76eb22187.jpg  \n",
            " extracting: images/valid/IMG20230601104314_jpg.rf.9cb9bb1ecb125e69385ea26353bb725d.jpg  \n",
            " extracting: images/valid/IMG20230601104333_jpg.rf.5e0084e129e2044bbe4f359aa985cf18.jpg  \n",
            " extracting: images/valid/IMG20230601104339_jpg.rf.71949c48233256d582fc61bf917a1cf6.jpg  \n",
            " extracting: images/valid/IMG20230601104350_jpg.rf.174574d2f524c68e39ea315f0211f58e.jpg  \n",
            " extracting: images/valid/IMG20230601140239_jpg.rf.eaafb6f125ac10d6b3f8894750cffd19.jpg  \n",
            " extracting: images/valid/IMG20230601165344_jpg.rf.21b005e3a6fcba3d8eb611c27a9f8b2b.jpg  \n",
            " extracting: images/valid/IMG20230601165516_jpg.rf.94283d2c678d597428d715370ab8f8ee.jpg  \n",
            " extracting: images/valid/IMG20230601165541_jpg.rf.e88a1de31ea2acf46019d2d487667cbc.jpg  \n",
            " extracting: images/valid/IMG20230601165543_jpg.rf.8b7e2bc91ac75bd204c3907f3626b8a4.jpg  \n",
            " extracting: images/valid/IMG20230601165604_jpg.rf.0e57aa05df177c7b7a1ea8f893536007.jpg  \n",
            " extracting: images/valid/IMG20230602082147_jpg.rf.21bd29f4333d2292c97dd6b7f8a2424d.jpg  \n",
            " extracting: images/valid/IMG20230602082158_jpg.rf.15bb30af3795ac5191b8377bb739cedb.jpg  \n",
            " extracting: images/valid/IMG20230602082231_jpg.rf.03aeeb3e7ccb3b53c3da1a949621516f.jpg  \n",
            " extracting: images/valid/IMG20230602082245_jpg.rf.bfcb74b69bf125d214ee5e37f36cd6c7.jpg  \n",
            " extracting: images/valid/IMG20230602082256_jpg.rf.2ec625e8065b32a979081511349d132c.jpg  \n",
            " extracting: images/valid/IMG20230602082256_jpg.rf.ac9e43de730bfa84db0ca8b0f759df81.jpg  \n",
            " extracting: images/valid/IMG20230602082305_jpg.rf.b43f6a56f12552d283a5e93f31abe717.jpg  \n",
            " extracting: images/valid/IMG20230602082421_jpg.rf.5038836fd09a0d10485311f73b7b0498.jpg  \n",
            " extracting: images/valid/IMG20230602082423_jpg.rf.01a7acd169f46dd5b63e2ae945a0982e.jpg  \n",
            " extracting: images/valid/IMG20230602082532_jpg.rf.a68b91475ec678c75973232704d084da.jpg  \n",
            " extracting: images/valid/IMG20230602082534_jpg.rf.0f9b17bfdb990800d14579ee6e0a4d4e.jpg  \n",
            " extracting: images/valid/IMG20230605082436_jpg.rf.f8632ca692e546bcde39413d1344f01d.jpg  \n",
            " extracting: images/valid/IMG20230605082439_jpg.rf.b593d25d223c8a6c93b909275007e31e.jpg  \n",
            " extracting: images/valid/IMG20230605082453_jpg.rf.eb25abc8b17aa1155bb9f5e7d7070c33.jpg  \n",
            " extracting: images/valid/IMG20230605082502_jpg.rf.31c80e63429a9e54480f806ed95204e9.jpg  \n",
            " extracting: images/valid/IMG20230605082507_jpg.rf.9e9be21d4b2e4284db709ce692811db1.jpg  \n",
            " extracting: images/valid/IMG20230605082507_jpg.rf.e9a6e755c0af1285b0663880335cb5a4.jpg  \n",
            " extracting: images/valid/IMG20230605082511_jpg.rf.cb3afe585b477a3554377c1b7a04c0b4.jpg  \n",
            " extracting: images/valid/IMG20230605082518_jpg.rf.ed7daa20cc6b33a3895346ac8e4cd54b.jpg  \n",
            " extracting: images/valid/IMG20230605082534_jpg.rf.e7c8e603dafad103197a4e59c45f73a1.jpg  \n",
            " extracting: images/valid/IMG20230605082538_jpg.rf.49aed11b819901d95ccaca28393407a4.jpg  \n",
            " extracting: images/valid/IMG20230605082538_jpg.rf.e6bb8ec330ebb7d122682256df3986e4.jpg  \n",
            " extracting: images/valid/IMG20230605082552_jpg.rf.936ba50d687c14b7c9f32d36011d6072.jpg  \n",
            "   creating: labels/\n",
            "   creating: labels/train/\n",
            "  inflating: labels/train/0603174142_jpg.rf.0e25a2e0cff9d6455672f6e919bc9e06.txt  \n",
            "  inflating: labels/train/0603174142_jpg.rf.87591c19718bc9f6071719e0642aaac4.txt  \n",
            "  inflating: labels/train/0603174142_jpg.rf.923453874a90e9e952c1e76e7ed4a8fb.txt  \n",
            "  inflating: labels/train/0603174204_jpg.rf.2d4f5d1b6247d4f502f8c55ded2fc599.txt  \n",
            "  inflating: labels/train/0603174204_jpg.rf.799d3ffad059a20b7e556ef5dc29799d.txt  \n",
            "  inflating: labels/train/0603174204_jpg.rf.a64602a74e088db572e523a7dbfdc0ff.txt  \n",
            "  inflating: labels/train/0603175207_jpg.rf.3261b6383308f1cf702853e33eb7a87c.txt  \n",
            "  inflating: labels/train/0603175207_jpg.rf.96884bf104b3b46b00eb61280018e7cb.txt  \n",
            "  inflating: labels/train/0603175207_jpg.rf.f80605bfda1dd9b895cfcafb9cc6e9be.txt  \n",
            "  inflating: labels/train/0603175338_jpg.rf.14277ef0d86831305d5d2e09d493509d.txt  \n",
            "  inflating: labels/train/0603175338_jpg.rf.6f97800975e83b35a938f6677c553ae2.txt  \n",
            "  inflating: labels/train/0603175338_jpg.rf.8690fd2c930b9471b7c533ad31bb8c7c.txt  \n",
            "  inflating: labels/train/0603175540_jpg.rf.065eb381770719112b85d5387446b1cf.txt  \n",
            "  inflating: labels/train/0603175540_jpg.rf.2d0b8b6466cf157d1fcbbf46de35a385.txt  \n",
            "  inflating: labels/train/0603175540_jpg.rf.9a2e86722613c3dab72d5a9c5e61eaaa.txt  \n",
            "  inflating: labels/train/0603175810_jpg.rf.24846be4475fec0fd1ed9ceb77538709.txt  \n",
            "  inflating: labels/train/0603175810_jpg.rf.5692e2130b8852d43274794e3e75e014.txt  \n",
            "  inflating: labels/train/0603175810_jpg.rf.791eb31b0a231a34b095146195308cfe.txt  \n",
            "  inflating: labels/train/0603180237_jpg.rf.638d80a43b727d6a130826a496be1081.txt  \n",
            "  inflating: labels/train/0603180237_jpg.rf.ec583aacc8d5baa30b122683deab97e9.txt  \n",
            "  inflating: labels/train/0603180237_jpg.rf.fb373fa1f439dbdce9531c835d19f921.txt  \n",
            "  inflating: labels/train/0603180508_jpg.rf.1e8007ae6cb44dd949c2f09c558ec4d3.txt  \n",
            "  inflating: labels/train/0603180508_jpg.rf.308b72c0b2c8d0f696fc5e68ffc21e21.txt  \n",
            "  inflating: labels/train/0603180508_jpg.rf.4c24c74d0e6c4823edf7eda22cbf645c.txt  \n",
            "  inflating: labels/train/0603180624_jpg.rf.8cd05744eecd44f4760163afeb2e061e.txt  \n",
            "  inflating: labels/train/0603180624_jpg.rf.9a5a293121e1b5fd720eeda7e298d88d.txt  \n",
            "  inflating: labels/train/0603180624_jpg.rf.d005dcbe5b5ef27d1f88856a1c71f0da.txt  \n",
            "  inflating: labels/train/0603180735_jpg.rf.83c9d5318fab0ce7f389db92c1231c05.txt  \n",
            "  inflating: labels/train/0603180735_jpg.rf.99e0b20d24c9089ea9a73d40d59c44d8.txt  \n",
            "  inflating: labels/train/0603180735_jpg.rf.fde642fc523eb756108c4c1253e4b7d2.txt  \n",
            "  inflating: labels/train/0603180758_jpg.rf.9eebcdf694919d12f8f893e5b11d54c2.txt  \n",
            "  inflating: labels/train/0603180758_jpg.rf.dc33f851a2a3d63b8a0b78cb76dc276c.txt  \n",
            "  inflating: labels/train/0603180758_jpg.rf.fc69fde9ccee792ce0a5c6b173b59d3b.txt  \n",
            "  inflating: labels/train/0603180905_jpg.rf.1c171759f822f7abd6eeb62b55f84efe.txt  \n",
            "  inflating: labels/train/0603180905_jpg.rf.2690a2fbb87cf1ad2df313e045a00c4d.txt  \n",
            "  inflating: labels/train/0603180905_jpg.rf.af929ea3658c6d7b509a72a07b6990ea.txt  \n",
            "  inflating: labels/train/0603180927_jpg.rf.63f722fe0518e1c57df5e07fc5c8b4da.txt  \n",
            "  inflating: labels/train/0603180927_jpg.rf.add574abed9deb978f30f98d9103fc08.txt  \n",
            "  inflating: labels/train/0603180927_jpg.rf.cd4a8cb36bef3c9ba4f863180c716173.txt  \n",
            "  inflating: labels/train/0603181051_jpg.rf.29f7a4f2249866e9de094b730c6bebae.txt  \n",
            "  inflating: labels/train/0603181051_jpg.rf.eff9cd2b9d4df8a162480620a14edcaf.txt  \n",
            "  inflating: labels/train/0603181051_jpg.rf.f14dd5bb048fd9f254f71a54b5b5c2fb.txt  \n",
            "  inflating: labels/train/0603181105_jpg.rf.2a30236be6ab7623bdadd581103119c7.txt  \n",
            "  inflating: labels/train/0603181105_jpg.rf.6867842e3e91f6c2a9a188bb0f5357c7.txt  \n",
            "  inflating: labels/train/0603181105_jpg.rf.daf81e817611bfeb97e0d9c4d1edd9d2.txt  \n",
            "  inflating: labels/train/0603181532_jpg.rf.91942442b19415697c81a72ac49fea35.txt  \n",
            "  inflating: labels/train/0603181532_jpg.rf.9b1eb9cffd77e8d65787d4c4ef9169b5.txt  \n",
            "  inflating: labels/train/0603181532_jpg.rf.b4b0edbc171acd493fd5a1e11bcfa0cf.txt  \n",
            "  inflating: labels/train/0603183552_jpg.rf.45abd90b615cff562baffadacfeccf46.txt  \n",
            "  inflating: labels/train/0603183552_jpg.rf.85d9025b2f270697d870d128e5a996a3.txt  \n",
            "  inflating: labels/train/0603183552_jpg.rf.97ee0842095991fdae60ef6732661ceb.txt  \n",
            "  inflating: labels/train/0603183852_jpg.rf.4feaf5b576fb9ec0009bd55dc303871b.txt  \n",
            "  inflating: labels/train/0603183852_jpg.rf.58898dc28c9214920acc2796ed35d293.txt  \n",
            "  inflating: labels/train/0603183852_jpg.rf.7ebe01e325d3cd0ecefcc0c67658ff52.txt  \n",
            "  inflating: labels/train/0603190849_jpg.rf.0067eddbbb4d84d9ec75e6c933a2851b.txt  \n",
            "  inflating: labels/train/0603190849_jpg.rf.07a915a267dc64844e4394476dc359c8.txt  \n",
            "  inflating: labels/train/0603190849_jpg.rf.13ef2802e949f95541af5e0958f229ea.txt  \n",
            "  inflating: labels/train/0603190849_jpg.rf.33425244258ba3d33bcefb3d40222c97.txt  \n",
            "  inflating: labels/train/0603190849_jpg.rf.46f340ad25fdda8346711dedec467ea3.txt  \n",
            "  inflating: labels/train/0603190849_jpg.rf.4ad09b6b6982866ee942380fe073535a.txt  \n",
            "  inflating: labels/train/0603190849_jpg.rf.5c1486177405899d70be64fd94a15567.txt  \n",
            "  inflating: labels/train/0603190849_jpg.rf.6fce2b7022a5f66cad5a0aa4be86c56f.txt  \n",
            "  inflating: labels/train/0603190849_jpg.rf.71e58e8fc6bf164ac7c764e45d1ea414.txt  \n",
            "  inflating: labels/train/0603190849_jpg.rf.7ca50025da3110c00e9fcf92cec13e7f.txt  \n",
            "  inflating: labels/train/0603190849_jpg.rf.9c580a7d32544ae54beaadc59b645459.txt  \n",
            "  inflating: labels/train/0603190849_jpg.rf.a6a43821c46033badce6f25039d90e7e.txt  \n",
            "  inflating: labels/train/0603190849_jpg.rf.b2e1bc5162edf8b8c7540852e0faf8c3.txt  \n",
            "  inflating: labels/train/0603190849_jpg.rf.efd2b51cb494bfc532da21377866290f.txt  \n",
            "  inflating: labels/train/0603190849_jpg.rf.f01be5bca35325a262525905560d230f.txt  \n",
            "  inflating: labels/train/0603190849_jpg.rf.f2964963010da22ae1d398fdccf2ec1a.txt  \n",
            "  inflating: labels/train/0603191053_jpg.rf.24e2bd2472e8a0bfbf9e88261d55ae3d.txt  \n",
            "  inflating: labels/train/0603191053_jpg.rf.2daba9ba65c0e6a91404f3ac355e182e.txt  \n",
            "  inflating: labels/train/0603191053_jpg.rf.3b109f453c16985f48a20df192d43b7a.txt  \n",
            "  inflating: labels/train/0603191053_jpg.rf.3db3f30b9adbc3431ad9bc4531bc1807.txt  \n",
            "  inflating: labels/train/0603191053_jpg.rf.3f6d504592060ca7137f6324a0af1b6e.txt  \n",
            "  inflating: labels/train/0603191053_jpg.rf.4ceead7601dfa021a669988fa56981eb.txt  \n",
            "  inflating: labels/train/0603191053_jpg.rf.4f48d3435331060ff6c5ef2705f02bf7.txt  \n",
            "  inflating: labels/train/0603191053_jpg.rf.59da2a78cf4085392acb5dceef265a05.txt  \n",
            "  inflating: labels/train/0603191053_jpg.rf.7884458f3e80d22c9afaae18d281bf7b.txt  \n",
            "  inflating: labels/train/0603191053_jpg.rf.8a5f8b02e9520c0cf4e97bbe84c1c422.txt  \n",
            "  inflating: labels/train/0603191053_jpg.rf.8e9417cbf25de76d11408fb1a44c1ad3.txt  \n",
            "  inflating: labels/train/0603191053_jpg.rf.8fad141e9674e299dec159e07eee7523.txt  \n",
            "  inflating: labels/train/0603191053_jpg.rf.95efd9f1b6207a8d5a83ef04b1057c27.txt  \n",
            "  inflating: labels/train/0603191053_jpg.rf.bbff2482e03a161c318f2dd584552547.txt  \n",
            "  inflating: labels/train/0603191053_jpg.rf.bc030ef3a4e0c41708ac8142db8c47a1.txt  \n",
            "  inflating: labels/train/0603191053_jpg.rf.c3ea8f03464afe021f916503b6ec3ee5.txt  \n",
            "  inflating: labels/train/0603191053_jpg.rf.d75065f126e58a67f3457f081c30f995.txt  \n",
            "  inflating: labels/train/0603191053_jpg.rf.d7d90bf43e4032f7eb91c5f74718001c.txt  \n",
            "  inflating: labels/train/0603192222_jpg.rf.04b0816541e7e06814006cb00ec3115f.txt  \n",
            "  inflating: labels/train/0603192222_jpg.rf.10876167e786afcac5bad30e287ef7c7.txt  \n",
            "  inflating: labels/train/0603192222_jpg.rf.34cc118be9c7099e5d0ca101bd1a0dc9.txt  \n",
            "  inflating: labels/train/0603192222_jpg.rf.53fe796284bd99dd8765e8be71640103.txt  \n",
            "  inflating: labels/train/0603192222_jpg.rf.573f4953409343dc334e10e87e5230f6.txt  \n",
            "  inflating: labels/train/0603192222_jpg.rf.5cbb0e6aa0569f385926d8b41fdf18b9.txt  \n",
            "  inflating: labels/train/0603192222_jpg.rf.681b8aa35a963fe4584e4163ee180432.txt  \n",
            "  inflating: labels/train/0603192222_jpg.rf.8eb2bec6ac769ba164f86269fd5b05c8.txt  \n",
            "  inflating: labels/train/0603192222_jpg.rf.99e2d44fcd70e8e5fd7fa0d11a17a8aa.txt  \n",
            "  inflating: labels/train/0603192222_jpg.rf.a2e5920beea36d75420563165b43e208.txt  \n",
            "  inflating: labels/train/0603192222_jpg.rf.b547f951888e724932e9f3ed462094db.txt  \n",
            "  inflating: labels/train/0603192222_jpg.rf.c04a2649d5cb5a265eee4c15e481e47e.txt  \n",
            "  inflating: labels/train/0603192346_jpg.rf.054f35f078a4f6d302cc1c26508591ef.txt  \n",
            "  inflating: labels/train/0603192346_jpg.rf.1f708be32d0c6bc2e44be6d2ce260656.txt  \n",
            "  inflating: labels/train/0603192346_jpg.rf.34b01f05ec1f21bab08e051961d3a04a.txt  \n",
            "  inflating: labels/train/0603192346_jpg.rf.3d1ebc9634420ff3a168c18d0e8106ea.txt  \n",
            "  inflating: labels/train/0603192346_jpg.rf.3e88124baa13dfa80d61ee5f3c7478ad.txt  \n",
            "  inflating: labels/train/0603192346_jpg.rf.4b72c241394fb85c25761cc105d22e02.txt  \n",
            "  inflating: labels/train/0603192346_jpg.rf.533ac3459717c164357886c3bd332dc6.txt  \n",
            "  inflating: labels/train/0603192346_jpg.rf.5f80a823c4e4ca08db16a748f48ee844.txt  \n",
            "  inflating: labels/train/0603192346_jpg.rf.638ac2783670bc714205cc95977564da.txt  \n",
            "  inflating: labels/train/0603192346_jpg.rf.7f9990d854f7982a471fa5e0514f922c.txt  \n",
            "  inflating: labels/train/0603192346_jpg.rf.8a121073bbc0ca0f77443cc10239eefc.txt  \n",
            "  inflating: labels/train/0603192346_jpg.rf.8faa5ad8c3f69ee721ffad194ca62772.txt  \n",
            "  inflating: labels/train/0603192346_jpg.rf.92b374df59fc2cc5c0c386d5877b9972.txt  \n",
            "  inflating: labels/train/0603192346_jpg.rf.c2d4433732b90b59bbaccc409ba36ccd.txt  \n",
            "  inflating: labels/train/0603192346_jpg.rf.c39526caa632c8a166520a73ad376149.txt  \n",
            "  inflating: labels/train/0603192346_jpg.rf.c7b8fb6f92e9a8f56fdd2b36863293aa.txt  \n",
            "  inflating: labels/train/0603192346_jpg.rf.c934e59a9d61681392500eda98146769.txt  \n",
            "  inflating: labels/train/0603192346_jpg.rf.f3ce8542de1491fdae29b6641ba40311.txt  \n",
            "  inflating: labels/train/0603192708_jpg.rf.0d7aff647ed2b0961ae9aaa529a8cfaa.txt  \n",
            "  inflating: labels/train/0603192708_jpg.rf.0e068e32715d6be9a8304f54fc6b84b8.txt  \n",
            "  inflating: labels/train/0603192708_jpg.rf.30e31a203636b4f99c5ea358b3b63bc5.txt  \n",
            "  inflating: labels/train/0603192708_jpg.rf.33914a6350e1f483cfa437a9dd03bf81.txt  \n",
            "  inflating: labels/train/0603192708_jpg.rf.35ff88917add778fec020eb9238072d4.txt  \n",
            "  inflating: labels/train/0603192708_jpg.rf.3d551ee64dc051cb4cbfe8cb75c9feeb.txt  \n",
            "  inflating: labels/train/0603192708_jpg.rf.3d6f8f3fecc62870b2a63cd516fc7215.txt  \n",
            "  inflating: labels/train/0603192708_jpg.rf.4577a0eee14c72ed615242e80af910ce.txt  \n",
            "  inflating: labels/train/0603192708_jpg.rf.4b91b8ed038ab56cf80e361cbe3fcd62.txt  \n",
            "  inflating: labels/train/0603192708_jpg.rf.5aaa31f7b287d6f6d31eb0d8f6f15fd6.txt  \n",
            "  inflating: labels/train/0603192708_jpg.rf.8632f2b09e4d0cef78cdfeaa7891aede.txt  \n",
            "  inflating: labels/train/0603192708_jpg.rf.95d743e48a0a023b118820cf9c581827.txt  \n",
            "  inflating: labels/train/0603192708_jpg.rf.a0000c2c90fe3ec96093c8da93217180.txt  \n",
            "  inflating: labels/train/0603192708_jpg.rf.a0a852984a46b13f5ca323f225f08daa.txt  \n",
            "  inflating: labels/train/0603192708_jpg.rf.ba67324acbd9ca93c3006d4f7060b3b6.txt  \n",
            "  inflating: labels/train/0603192708_jpg.rf.bf494de796311d3ceb3ab422e12e8ffb.txt  \n",
            "  inflating: labels/train/0603192708_jpg.rf.c74f39e04806b3b62531060afd615fdc.txt  \n",
            "  inflating: labels/train/0603192708_jpg.rf.db5df0bfb0bc332703cb86f4d63b2f49.txt  \n",
            "  inflating: labels/train/0603192708_jpg.rf.e77deac88b158649fe5844486da901e3.txt  \n",
            "  inflating: labels/train/0603192708_jpg.rf.f7c88bde3364f77b0e2de902123a68ee.txt  \n",
            "  inflating: labels/train/0603192708_jpg.rf.fbad94abaae11da17e4d70a68764896c.txt  \n",
            "  inflating: labels/train/0603192819_jpg.rf.2ddb4531a11e0ad50779bf68eaa988d1.txt  \n",
            "  inflating: labels/train/0603192819_jpg.rf.6f59f1ec11ea31b27f949b1ac9bf2fa3.txt  \n",
            "  inflating: labels/train/0603192819_jpg.rf.7678c57e29e874b9bd33481b0ca1d11e.txt  \n",
            "  inflating: labels/train/0603192819_jpg.rf.9a974b078d19fa3e901c5fb6e821cf78.txt  \n",
            "  inflating: labels/train/0603192819_jpg.rf.ccac93ff9a234750add3dadc6f9c2f28.txt  \n",
            "  inflating: labels/train/0603192819_jpg.rf.fe987e1b67e31fb5f9e9a823e37a8c78.txt  \n",
            "  inflating: labels/train/0603192939_jpg.rf.364f1f16952fc707ab8776e0f07998e2.txt  \n",
            "  inflating: labels/train/0603192939_jpg.rf.4c78b75c92de5e6fb9163329b5aa9d3f.txt  \n",
            "  inflating: labels/train/0603192939_jpg.rf.4c7ea783db57cb395161239b4cca9997.txt  \n",
            "  inflating: labels/train/0603192939_jpg.rf.89042ed16222003eee4d2e7a468c7e8c.txt  \n",
            "  inflating: labels/train/0603192939_jpg.rf.8deec76df60b0861f9e3d9e090ebbf4c.txt  \n",
            "  inflating: labels/train/0603192939_jpg.rf.aa4bb50a1ebbcc9d6d3fe2f2207d3c3f.txt  \n",
            "  inflating: labels/train/0603192939_jpg.rf.d213c3df050d34010d857a21d1271268.txt  \n",
            "  inflating: labels/train/0603192939_jpg.rf.dda2b3b0f440d5cd4066c54b2d7e3691.txt  \n",
            "  inflating: labels/train/0603192939_jpg.rf.ea94b465aae4f590ad2c770b71ac10f7.txt  \n",
            "  inflating: labels/train/0603193128_jpg.rf.0a72dc474fd82fd50987d32eac54d426.txt  \n",
            "  inflating: labels/train/0603193128_jpg.rf.0db6057b1ed71ab6a80aeec90e73513c.txt  \n",
            "  inflating: labels/train/0603193128_jpg.rf.19d9b535464f20209a592f2686f42fe0.txt  \n",
            "  inflating: labels/train/0603193128_jpg.rf.23cb491a08ac79734b4afc7e814da17e.txt  \n",
            "  inflating: labels/train/0603193128_jpg.rf.39f2337e3402b705c31d602e989f81a4.txt  \n",
            "  inflating: labels/train/0603193128_jpg.rf.40fada6aabd815afe1086a268fbadd12.txt  \n",
            "  inflating: labels/train/0603193128_jpg.rf.4448ade4e29322419f69f4f77682d65d.txt  \n",
            "  inflating: labels/train/0603193128_jpg.rf.4e2e759fff8d1d8e5241cdfb36f8ae28.txt  \n",
            "  inflating: labels/train/0603193128_jpg.rf.513ba8d4bd0ce50bfae40a5cf9923204.txt  \n",
            "  inflating: labels/train/0603193128_jpg.rf.59288f7cd1380199ddeba4dcd8c2d557.txt  \n",
            "  inflating: labels/train/0603193128_jpg.rf.6d5e2cf0514f0f83b8636287d59e8085.txt  \n",
            "  inflating: labels/train/0603193128_jpg.rf.755a93cc374f6658c0ece12645294742.txt  \n",
            "  inflating: labels/train/0603193128_jpg.rf.809cf2887103d08b436b3602cd2c0c65.txt  \n",
            "  inflating: labels/train/0603193128_jpg.rf.9975e72e52157fe43a2a2b8e0fc093d6.txt  \n",
            "  inflating: labels/train/0603193128_jpg.rf.ca4f3268bab39d6bb6efad668634a8cc.txt  \n",
            "  inflating: labels/train/0603193128_jpg.rf.cbd7729890301623872680f7d92e530a.txt  \n",
            "  inflating: labels/train/0603193128_jpg.rf.cc96b235e4d34bdfb38564b195aa6a55.txt  \n",
            "  inflating: labels/train/0603193128_jpg.rf.e2991778194e5d2053002b52cd7c5690.txt  \n",
            "  inflating: labels/train/0603193242_jpg.rf.06e6e99f7800fbdb4a37966517210c33.txt  \n",
            "  inflating: labels/train/0603193242_jpg.rf.132f97e6b13b15f3cd92ee9c53465a6f.txt  \n",
            "  inflating: labels/train/0603193242_jpg.rf.185db4dc813f6b8a76547df2887ac2a4.txt  \n",
            "  inflating: labels/train/0603193242_jpg.rf.39baa7b9e24d11198778b8da811bf58a.txt  \n",
            "  inflating: labels/train/0603193242_jpg.rf.4891f15cfc838c0c5f47b20564e49cec.txt  \n",
            "  inflating: labels/train/0603193242_jpg.rf.5dafa3edb86b1b98f430975766aae8b3.txt  \n",
            "  inflating: labels/train/0603193242_jpg.rf.686ba7e730e85574340f7561098ac96a.txt  \n",
            "  inflating: labels/train/0603193242_jpg.rf.6dd811869b97d4c4670c4eb3a3794bf6.txt  \n",
            "  inflating: labels/train/0603193242_jpg.rf.83f6dc6e95ca135551716e5ca3bf2843.txt  \n",
            "  inflating: labels/train/0603193242_jpg.rf.90fea4cce479c9c965e880ff0ecac77c.txt  \n",
            "  inflating: labels/train/0603193242_jpg.rf.96914fca9b94cd12c817ac5839fed255.txt  \n",
            "  inflating: labels/train/0603193242_jpg.rf.a9164f2089b38a5b3a95837e558a2fad.txt  \n",
            "  inflating: labels/train/0603193242_jpg.rf.c563c759aa308f877050e840d322624e.txt  \n",
            "  inflating: labels/train/0603193242_jpg.rf.c88bd0df46aa9dcd8aaddb33447154dd.txt  \n",
            "  inflating: labels/train/0603193242_jpg.rf.c95bcde184ab30b0f6266f54c43babed.txt  \n",
            "  inflating: labels/train/0603193242_jpg.rf.cb8fb4ebd316c1baabb1e17f703be5f1.txt  \n",
            "  inflating: labels/train/0603193242_jpg.rf.eb68aef8890ce804e839b352e9bfd593.txt  \n",
            "  inflating: labels/train/0603193242_jpg.rf.ecb67992e63ec51ecdc3b39d7c3152c1.txt  \n",
            "  inflating: labels/train/0603193418_jpg.rf.047ec37a674baa32be2b1f042baf2c1b.txt  \n",
            "  inflating: labels/train/0603193418_jpg.rf.04ccc71444d2fd7767d3360fb9c8896c.txt  \n",
            "  inflating: labels/train/0603193418_jpg.rf.0d780b49f53da554e234b4aa7c6f6f93.txt  \n",
            "  inflating: labels/train/0603193418_jpg.rf.1987b418fd2386f82001cd9afd47a5be.txt  \n",
            "  inflating: labels/train/0603193418_jpg.rf.201bb084addc003e51f8ddf079d5e60a.txt  \n",
            "  inflating: labels/train/0603193418_jpg.rf.232c4ad18c921a6ba37606f1d6ede34f.txt  \n",
            "  inflating: labels/train/0603193418_jpg.rf.2f0a36d10a295ded9dae1f6268df4d8d.txt  \n",
            "  inflating: labels/train/0603193418_jpg.rf.2f48cca29b96e4a98030c91d8b97de84.txt  \n",
            "  inflating: labels/train/0603193418_jpg.rf.493b75b00d0911b75cf7059cdba3e040.txt  \n",
            "  inflating: labels/train/0603193418_jpg.rf.4a9ba0c90909da8d9a0f65e7b4ed403d.txt  \n",
            "  inflating: labels/train/0603193418_jpg.rf.509b970f8cd0fdd8a25c154aa6cc2226.txt  \n",
            "  inflating: labels/train/0603193418_jpg.rf.55701b53f244b3033ac04962b11117ee.txt  \n",
            "  inflating: labels/train/0603193418_jpg.rf.569c683d71762eccce567585cca20157.txt  \n",
            "  inflating: labels/train/0603193418_jpg.rf.62d4a0d19a304fceb1cd9c257dc7e40a.txt  \n",
            "  inflating: labels/train/0603193418_jpg.rf.6ee729f8a21558cc4ec62967bc308ad1.txt  \n",
            "  inflating: labels/train/0603193418_jpg.rf.7303daf6d73a5bc2435a26bc8499b7ef.txt  \n",
            "  inflating: labels/train/0603193418_jpg.rf.74fb12872c17a07a060994f16593b6c0.txt  \n",
            "  inflating: labels/train/0603193418_jpg.rf.858ee32fe3f4b34a20ac261473f9d01c.txt  \n",
            "  inflating: labels/train/0603193418_jpg.rf.8e733d2f4fd7f87373e4ed591c599fc8.txt  \n",
            "  inflating: labels/train/0603193418_jpg.rf.9802b538fd3be3a8186d6df6f5594e8e.txt  \n",
            "  inflating: labels/train/0603193418_jpg.rf.a84b3e5001747787f4e64b774e3fd498.txt  \n",
            "  inflating: labels/train/0603193418_jpg.rf.ada3607a3dd05e9de34b53bc9d06c0c4.txt  \n",
            "  inflating: labels/train/0603193418_jpg.rf.c888acd76fca6902813a0e10c47e7ba0.txt  \n",
            "  inflating: labels/train/0603193418_jpg.rf.caffe36998763ebdeb0c6ee59729b9da.txt  \n",
            "  inflating: labels/train/0603193418_jpg.rf.cb3883c9087b036bacd1f64ba6c28a2a.txt  \n",
            "  inflating: labels/train/0603193418_jpg.rf.cf41b598f163a6f3e4e4ecbe4e7c4a1d.txt  \n",
            "  inflating: labels/train/0603193418_jpg.rf.d023164ebb71b976fa4fc41c1ebdd412.txt  \n",
            "  inflating: labels/train/0603193418_jpg.rf.d7f0dee174967ba81b3113b560df01bd.txt  \n",
            "  inflating: labels/train/0603193418_jpg.rf.ec043c777e0666fe55b940ee98890d24.txt  \n",
            "  inflating: labels/train/0603193418_jpg.rf.f475b7eb9af46bb2b1923144844ffeea.txt  \n",
            "  inflating: labels/train/0603193418_jpg.rf.f960a6838d75b6e13e1b2ed856adeebf.txt  \n",
            "  inflating: labels/train/0603193418_jpg.rf.fbdaaa8130b2f2721dfd305a697a7679.txt  \n",
            "  inflating: labels/train/0603193501_jpg.rf.082cf450a26eb2a7412f9388faad6af1.txt  \n",
            "  inflating: labels/train/0603193501_jpg.rf.13cf12aa4f9433dd6a241f976cc5647b.txt  \n",
            "  inflating: labels/train/0603193501_jpg.rf.15ee58896843c306ce50c5e30e502f8f.txt  \n",
            "  inflating: labels/train/0603193501_jpg.rf.27073daec633157e7945263945bb70b1.txt  \n",
            "  inflating: labels/train/0603193501_jpg.rf.2beefc2cf5c87afa45e1a642bb287e46.txt  \n",
            "  inflating: labels/train/0603193501_jpg.rf.3ea35eee745c27e62692d979cdfb908f.txt  \n",
            "  inflating: labels/train/0603193501_jpg.rf.41d989c8b1cd90a8d77669b482018fa7.txt  \n",
            "  inflating: labels/train/0603193501_jpg.rf.5c51513a54c97ebd200243b9c17e4cf9.txt  \n",
            "  inflating: labels/train/0603193501_jpg.rf.6bacdd32ef95b6178a6cfae39bfda2dc.txt  \n",
            "  inflating: labels/train/0603193501_jpg.rf.6ea29492a1e667b55e4d3e0e51dba45d.txt  \n",
            "  inflating: labels/train/0603193501_jpg.rf.74f384b78be437efdf8d529415d8c0a1.txt  \n",
            "  inflating: labels/train/0603193501_jpg.rf.7fb383ae3e8e13e76891d7f5c3e8d9d5.txt  \n",
            "  inflating: labels/train/0603193501_jpg.rf.92f65b9c9631ad9bbe6b27aff315e2c5.txt  \n",
            "  inflating: labels/train/0603193501_jpg.rf.99d54b38c5494d6422f11cfb52904c2d.txt  \n",
            "  inflating: labels/train/0603193501_jpg.rf.9ba80f7060e59c1fed73a3d0409f0dfe.txt  \n",
            "  inflating: labels/train/0603193501_jpg.rf.a511a9b10e7f25161d82dd3522a57c42.txt  \n",
            "  inflating: labels/train/0603193501_jpg.rf.b5de4113e9b73b453421207b72684e3c.txt  \n",
            "  inflating: labels/train/0603193501_jpg.rf.bf6b3ac34196cdd71e749dba300f9832.txt  \n",
            "  inflating: labels/train/0603193501_jpg.rf.c777e7a0f0d35536bd9e732dfd03c859.txt  \n",
            "  inflating: labels/train/0603193501_jpg.rf.cf0172995a2395f59098543df39a47bb.txt  \n",
            "  inflating: labels/train/0603193501_jpg.rf.d034ea44188649ce338e9449f61fc8d7.txt  \n",
            "  inflating: labels/train/0603193501_jpg.rf.d9986dc27b5cc46e592d7f706a73f33d.txt  \n",
            "  inflating: labels/train/0603193501_jpg.rf.ea9308d9659c0f8eff67f297b0d9978d.txt  \n",
            "  inflating: labels/train/0603193501_jpg.rf.f01591e684c32c1d5441ff0aa102c751.txt  \n",
            "  inflating: labels/train/0603193610_jpg.rf.0c6cd7ebcb21d5cf7d43826063ceee72.txt  \n",
            "  inflating: labels/train/0603193610_jpg.rf.120e5e6568131b08638d38970cb2c4be.txt  \n",
            "  inflating: labels/train/0603193610_jpg.rf.3102a17037220194f8c729deac6b79b5.txt  \n",
            "  inflating: labels/train/0603193610_jpg.rf.37e5b49233da39f38173416069a7941c.txt  \n",
            "  inflating: labels/train/0603193610_jpg.rf.5f92e1bd659c710eaa30fee5b466cae8.txt  \n",
            "  inflating: labels/train/0603193610_jpg.rf.677862f4b77f398050e09840591e5ee2.txt  \n",
            "  inflating: labels/train/0603193610_jpg.rf.8ef29998adabe30963fbfa9a5eac7768.txt  \n",
            "  inflating: labels/train/0603193610_jpg.rf.9576b8969e343053dd05cf8de18eeb49.txt  \n",
            "  inflating: labels/train/0603193610_jpg.rf.a5a73f328c0a621435d603f2debf73e9.txt  \n",
            "  inflating: labels/train/0603193610_jpg.rf.b1a6b931864a2805d8163fa3f8a5317d.txt  \n",
            "  inflating: labels/train/0603193610_jpg.rf.b5e5f861dfdea58105d4132fe2ede12f.txt  \n",
            "  inflating: labels/train/0603193610_jpg.rf.be463c61b6c45191e485d001cd375269.txt  \n",
            "  inflating: labels/train/0603193610_jpg.rf.c35c13f6a012b62eb54d15a6a57918ca.txt  \n",
            "  inflating: labels/train/0603193610_jpg.rf.d7799306a02b47946b327464eb2f343a.txt  \n",
            "  inflating: labels/train/0603193610_jpg.rf.de00f49ab537019945ec0add64cf8ce7.txt  \n",
            "  inflating: labels/train/0603193610_jpg.rf.de03b62065497a85895dc00f463e2eef.txt  \n",
            "  inflating: labels/train/0603193610_jpg.rf.ec8d85af506b6086eb6149d736843a4d.txt  \n",
            "  inflating: labels/train/0603193610_jpg.rf.eeb84b1e7322578809ef956be03f6e80.txt  \n",
            "  inflating: labels/train/0603193701_jpg.rf.033a78b3b1639bd138ea99ef8c2b5248.txt  \n",
            "  inflating: labels/train/0603193701_jpg.rf.104c0eeafb98943041fdd173b122c731.txt  \n",
            "  inflating: labels/train/0603193701_jpg.rf.11e746a46067bff69cd45ad8f131acd7.txt  \n",
            "  inflating: labels/train/0603193701_jpg.rf.147fcf0045d0a38bc5ee122872ba3a3b.txt  \n",
            "  inflating: labels/train/0603193701_jpg.rf.18db2f4544ac7457c56cc67526b55ce5.txt  \n",
            "  inflating: labels/train/0603193701_jpg.rf.1efb203ca582e125921ea71e41b3d8de.txt  \n",
            "  inflating: labels/train/0603193701_jpg.rf.2c1c0f7e704cfd73c2cbede94e145109.txt  \n",
            "  inflating: labels/train/0603193701_jpg.rf.3611e50671c8f8e25f34b0d2f63f68ae.txt  \n",
            "  inflating: labels/train/0603193701_jpg.rf.36a66d19e4492c0a1533691d34f4a2c0.txt  \n",
            "  inflating: labels/train/0603193701_jpg.rf.3cc4f7391f0e0ba7157663cf42e307ea.txt  \n",
            "  inflating: labels/train/0603193701_jpg.rf.48d36a096a50a4089a64bd30e2d95a15.txt  \n",
            "  inflating: labels/train/0603193701_jpg.rf.4cc7d8f7046686cd48fc95cbd941b170.txt  \n",
            "  inflating: labels/train/0603193701_jpg.rf.504f2597182bcdcab9c4fd71a950b362.txt  \n",
            "  inflating: labels/train/0603193701_jpg.rf.5572a523f7c790b7e1055befd4acb8e8.txt  \n",
            "  inflating: labels/train/0603193701_jpg.rf.70be227f6a11713906ea287717c14141.txt  \n",
            "  inflating: labels/train/0603193701_jpg.rf.70e5735161dd7ab40ff5f927561df1ed.txt  \n",
            "  inflating: labels/train/0603193701_jpg.rf.75b8b8b84c643f4e3f7fd42a3cb26d0d.txt  \n",
            "  inflating: labels/train/0603193701_jpg.rf.7b5478330d9f5eb8204c60763c130e95.txt  \n",
            "  inflating: labels/train/0603193701_jpg.rf.7f160b33becfc87c102b4938d3fffbec.txt  \n",
            "  inflating: labels/train/0603193701_jpg.rf.86970cb7f630cbd829aaf0d670c89a9b.txt  \n",
            "  inflating: labels/train/0603193701_jpg.rf.a4a659c57845f7fce090eefe6cfcfa8d.txt  \n",
            "  inflating: labels/train/0603193701_jpg.rf.b82b73a86ffb03a0dcfdaa2382a5f508.txt  \n",
            "  inflating: labels/train/0603193701_jpg.rf.c034c06c07bb5b82174547427dad5176.txt  \n",
            "  inflating: labels/train/0603193701_jpg.rf.c1dce61a5356f06f8da82e186af6f577.txt  \n",
            "  inflating: labels/train/0603193701_jpg.rf.ce680751d7d5fcd71df20b2035ed0642.txt  \n",
            "  inflating: labels/train/0603193701_jpg.rf.cf3a9f2aa27c10306b34315dd3224435.txt  \n",
            "  inflating: labels/train/0603193701_jpg.rf.d0e2b42d3a14a38a7a11e92216372de0.txt  \n",
            "  inflating: labels/train/0603193701_jpg.rf.d81867a40d557c27ede42e4a526d2eff.txt  \n",
            "  inflating: labels/train/0603193701_jpg.rf.d87e02cf11afaba07956c0aacdb26af9.txt  \n",
            "  inflating: labels/train/0603193701_jpg.rf.dc5c0d8b79fdb02f7f0728ef2fe03c0b.txt  \n",
            "  inflating: labels/train/0603193701_jpg.rf.e4188a53a0cef2717a34a8ef582b231f.txt  \n",
            "  inflating: labels/train/0603193701_jpg.rf.eb74babc808fddd7b7a09b44936b0ba9.txt  \n",
            "  inflating: labels/train/0603193701_jpg.rf.eea03eaed23a6f00c3c2a002f978498f.txt  \n",
            "  inflating: labels/train/0603193701_jpg.rf.f1b30b8342a15ff08aa3e089bf610abb.txt  \n",
            "  inflating: labels/train/0603193701_jpg.rf.fd21139d57db7c6567119420d5ad1b38.txt  \n",
            "  inflating: labels/train/0603193753_jpg.rf.10ae1bed4bb1f533560708f5a73dfa8a.txt  \n",
            "  inflating: labels/train/0603193753_jpg.rf.10ebcb3a3cf19f661b193251e11fc272.txt  \n",
            "  inflating: labels/train/0603193753_jpg.rf.243cf37330a8cc57f55736288c796fa2.txt  \n",
            "  inflating: labels/train/0603193753_jpg.rf.2c8b84e7bc118c9fc138839bdc1a573b.txt  \n",
            "  inflating: labels/train/0603193753_jpg.rf.32b2b7df17b3641a25395e619bcf9c8e.txt  \n",
            "  inflating: labels/train/0603193753_jpg.rf.3be888c11b438e345ef4dc35bba56c24.txt  \n",
            "  inflating: labels/train/0603193753_jpg.rf.8db04979e56eb7f466031236736ec3d8.txt  \n",
            "  inflating: labels/train/0603193753_jpg.rf.93d294b1cab8b953167c261e2d3907b8.txt  \n",
            "  inflating: labels/train/0603193753_jpg.rf.a43571c51c44648a87fcaacf33e3e441.txt  \n",
            "  inflating: labels/train/0603193753_jpg.rf.b1e202dc8f1d50bef27d1a0ce2de6479.txt  \n",
            "  inflating: labels/train/0603193753_jpg.rf.b68b9ca64631bda62f09d6bdeb30dbc7.txt  \n",
            "  inflating: labels/train/0603193753_jpg.rf.d254ccb4876abaf2098b137faee6d8e0.txt  \n",
            "  inflating: labels/train/0603193753_jpg.rf.e39e53cd0dae2c4cea51417313755005.txt  \n",
            "  inflating: labels/train/0603193753_jpg.rf.fc839f7eee5e0bef30dba6fb6918b99f.txt  \n",
            "  inflating: labels/train/0603193843_jpg.rf.1037f48589bbab7fd9e19470e31991aa.txt  \n",
            "  inflating: labels/train/0603193843_jpg.rf.132cbcf45e31ec5983cce0252357bda2.txt  \n",
            "  inflating: labels/train/0603193843_jpg.rf.384020bd5c9fa726885a4debc5d86263.txt  \n",
            "  inflating: labels/train/0603193843_jpg.rf.417f9ecfdf562ce140a6e3beb1e20ceb.txt  \n",
            "  inflating: labels/train/0603193843_jpg.rf.526d991d8c5eee3797b9e85415eab4dd.txt  \n",
            "  inflating: labels/train/0603193843_jpg.rf.6c3ad997c4388d186cbbecfe94e50116.txt  \n",
            "  inflating: labels/train/0603193843_jpg.rf.8bbf2069a4718f70dbbfc709f18109bf.txt  \n",
            "  inflating: labels/train/0603193843_jpg.rf.a0193d1dc37622c02e25d41fc7bb6c8a.txt  \n",
            "  inflating: labels/train/0603193843_jpg.rf.aa161000aabdda1db4372968bd737dee.txt  \n",
            "  inflating: labels/train/0603193843_jpg.rf.ac8350098253272ca30c678402ca4590.txt  \n",
            "  inflating: labels/train/0603193843_jpg.rf.c2e77f0e07dc8c3d5bf63431e3735b50.txt  \n",
            "  inflating: labels/train/0603193843_jpg.rf.d25ebce36bdbbfcde84d6dbc2aabca08.txt  \n",
            "  inflating: labels/train/0603193945_jpg.rf.5fc79cd7fbca6e141208e9b40f8a6b62.txt  \n",
            "  inflating: labels/train/0603193945_jpg.rf.6954c2917968155408cfaa3e710f7809.txt  \n",
            "  inflating: labels/train/0603193945_jpg.rf.78daea858c375a3cc564d375d94eeb06.txt  \n",
            "  inflating: labels/train/0603194056_jpg.rf.0494a7dff79da1995616163bb8a1b58c.txt  \n",
            "  inflating: labels/train/0603194056_jpg.rf.282ff41230f0af53b5c03f370bfead23.txt  \n",
            "  inflating: labels/train/0603194056_jpg.rf.43f72525b877f31ef74f33f42a3360bf.txt  \n",
            "  inflating: labels/train/0603194056_jpg.rf.47f5aa74ff3c9aaeb4ff700e92f0a996.txt  \n",
            "  inflating: labels/train/0603194056_jpg.rf.687e1c7e419b9878cea07e06996ad470.txt  \n",
            "  inflating: labels/train/0603194056_jpg.rf.7629ef8d2d21ec6a7c67082863bcf4b9.txt  \n",
            "  inflating: labels/train/0603194056_jpg.rf.a06c5ab16bb0931cb5043f15452cedc0.txt  \n",
            "  inflating: labels/train/0603194056_jpg.rf.d001b4d6fa7ebcfd371f6f03d7a7f583.txt  \n",
            "  inflating: labels/train/0603194056_jpg.rf.d926af9f4f27a5fc36bbc7cba21d4b9b.txt  \n",
            "  inflating: labels/train/0603194151_jpg.rf.232de99daec8363a11092fb72577971e.txt  \n",
            "  inflating: labels/train/0603194151_jpg.rf.2da4087aa10975e1a138ebb193c66cbf.txt  \n",
            "  inflating: labels/train/0603194151_jpg.rf.4bcad3d88d7372d200cf6644b5a23d09.txt  \n",
            "  inflating: labels/train/0603194151_jpg.rf.7e8bd03ce9e4067d52cb73fcbedd5ce5.txt  \n",
            "  inflating: labels/train/0603194151_jpg.rf.8bbd92f5c885b14a60c4ae907e0b7334.txt  \n",
            "  inflating: labels/train/0603194151_jpg.rf.8e0c83acb6ea5f3fd1a35caf116627f2.txt  \n",
            "  inflating: labels/train/0603194151_jpg.rf.996a4dc3eeda5c12934b93c92d6da681.txt  \n",
            "  inflating: labels/train/0603194151_jpg.rf.cc4957aad287086c8f6857ce90281d77.txt  \n",
            "  inflating: labels/train/0603194151_jpg.rf.db19443aa6d3c1ffc6202ddd5812430f.txt  \n",
            "  inflating: labels/train/0603194151_jpg.rf.dd38c91a379a82f41fde8fa79a0663c0.txt  \n",
            "  inflating: labels/train/0603194151_jpg.rf.e8f89971db71cd62006089741634eb0e.txt  \n",
            "  inflating: labels/train/0603194151_jpg.rf.f081870a6a2184302f896f6122c71046.txt  \n",
            "  inflating: labels/train/0603194301_jpg.rf.1af50bc5eb36ffa0d9b3b02dd99bc6ee.txt  \n",
            "  inflating: labels/train/0603194301_jpg.rf.333006fa1d661f01f97f1b7d7c510893.txt  \n",
            "  inflating: labels/train/0603194301_jpg.rf.3e576e8d4dc650448d6239cd0667f2ac.txt  \n",
            "  inflating: labels/train/0603194301_jpg.rf.5ed65877aa805b4931b5e0ad37999cc4.txt  \n",
            "  inflating: labels/train/0603194301_jpg.rf.8ec43a5b7abc982a69e572d8b3aada96.txt  \n",
            "  inflating: labels/train/0603194301_jpg.rf.a288c8c53ab3ce0f2f90289a29ab0eb1.txt  \n",
            "  inflating: labels/train/0603194301_jpg.rf.b6ab6b0e5727efcaabf38b7c73d27cf8.txt  \n",
            "  inflating: labels/train/0603194301_jpg.rf.c6f9b07b1a780bbc833c10ff89f7c858.txt  \n",
            "  inflating: labels/train/0603194301_jpg.rf.e21fbb1c68c938dbeb6899629d7667f3.txt  \n",
            "  inflating: labels/train/0603194332_jpg.rf.1a4f2578a705da6bcb1cfbd3568b53f3.txt  \n",
            "  inflating: labels/train/0603194332_jpg.rf.1df68e9a287f9b2e20c3a12bb46926cb.txt  \n",
            "  inflating: labels/train/0603194332_jpg.rf.2387f8f64e5ba73c3c551d8ef95a1a8a.txt  \n",
            "  inflating: labels/train/0603194332_jpg.rf.270c85eb8716e718bd3afb654ad2bf0f.txt  \n",
            "  inflating: labels/train/0603194332_jpg.rf.36cb020e62811b08994cc1e547a93b12.txt  \n",
            "  inflating: labels/train/0603194332_jpg.rf.3c33acd5167ad0b424474f552036a1d5.txt  \n",
            "  inflating: labels/train/0603194332_jpg.rf.3fbbcfd30f14118418bbae0749f6ecf9.txt  \n",
            "  inflating: labels/train/0603194332_jpg.rf.6b8694bff697c9f17623c7de5d226417.txt  \n",
            "  inflating: labels/train/0603194332_jpg.rf.82b524171adc3ac08bb9e98b7ce3e2f3.txt  \n",
            "  inflating: labels/train/0603194332_jpg.rf.8586d6f1b738383c3833da4a989d8d3c.txt  \n",
            "  inflating: labels/train/0603194332_jpg.rf.886edee66909dbfabc3cc0558595ffbf.txt  \n",
            "  inflating: labels/train/0603194332_jpg.rf.8ed37611ee4a974dca0bb85c4bf4fe99.txt  \n",
            "  inflating: labels/train/0603194332_jpg.rf.8f23df253b50f4c3a62fdfc4d87c43c5.txt  \n",
            "  inflating: labels/train/0603194332_jpg.rf.9c9f92642ff936ea32b1b900f67ef620.txt  \n",
            "  inflating: labels/train/0603194332_jpg.rf.a186c76c36437038f556c921c81b0c05.txt  \n",
            "  inflating: labels/train/0603194332_jpg.rf.d7ff77e9f89a20ad5cb9b8ce18705cce.txt  \n",
            "  inflating: labels/train/0603194332_jpg.rf.db545fdaeeb86dd1797adb4afa2687d9.txt  \n",
            "  inflating: labels/train/0603194332_jpg.rf.ebd0e6ba4e85a3ccf7f347e3f373c08c.txt  \n",
            "  inflating: labels/train/0603194332_jpg.rf.f7a6bf2ca99d24965980bcec757d6c5b.txt  \n",
            "  inflating: labels/train/0603194332_jpg.rf.f8036ae7cedaa784121dcb011a0cab2f.txt  \n",
            "  inflating: labels/train/0603194332_jpg.rf.f99a8a2cf1278d832b18ad6f5bd06b0e.txt  \n",
            "  inflating: labels/train/0603194332_jpg.rf.fabc54558aa0b9696ddbf6384b2b9445.txt  \n",
            "  inflating: labels/train/0603194332_jpg.rf.fdb768435b143bdd7ccbde78bfc3155d.txt  \n",
            "  inflating: labels/train/0603194442_jpg.rf.0b7198635fa32d0fcf5f226236b8ea8d.txt  \n",
            "  inflating: labels/train/0603194442_jpg.rf.116ae557d91c49609a58d1c5378926b7.txt  \n",
            "  inflating: labels/train/0603194442_jpg.rf.16314193748daab86d07ffd98099aa17.txt  \n",
            "  inflating: labels/train/0603194442_jpg.rf.26e88039302cf036b73e3b8a0e97d366.txt  \n",
            "  inflating: labels/train/0603194442_jpg.rf.2fa8fe67126554a235e1831601248b88.txt  \n",
            "  inflating: labels/train/0603194442_jpg.rf.55d5b4fe64867c70efd62af751efb5bf.txt  \n",
            "  inflating: labels/train/0603194442_jpg.rf.639b2dcb9311bbe2fde949e3ac586e5f.txt  \n",
            "  inflating: labels/train/0603194442_jpg.rf.642a20bc2ce9b560ed6fb0d48965b739.txt  \n",
            "  inflating: labels/train/0603194442_jpg.rf.64da05633372c80bdc60cbd0741d56d3.txt  \n",
            "  inflating: labels/train/0603194442_jpg.rf.921fb588bd89cbdf4d59140879ea8785.txt  \n",
            "  inflating: labels/train/0603194442_jpg.rf.cbc5078a27f125b3b7d07ac352d44743.txt  \n",
            "  inflating: labels/train/0603194442_jpg.rf.ff3a1a6a335b3df2a20cda84b4e888d4.txt  \n",
            "  inflating: labels/train/0603195324_jpg.rf.145107dad296242245d2a2e01cbfbe80.txt  \n",
            "  inflating: labels/train/0603195324_jpg.rf.48dbeb78d7927f07b39474f97f964486.txt  \n",
            "  inflating: labels/train/0603195324_jpg.rf.bbce08b2912ce4160fcbfade0ebd3d05.txt  \n",
            "  inflating: labels/train/0603195423_jpg.rf.1abc04093d612a9bc8bb3c0f1a0886d6.txt  \n",
            "  inflating: labels/train/0603195423_jpg.rf.27a88dc6b464c2b8ed62d4494d115572.txt  \n",
            "  inflating: labels/train/0603195423_jpg.rf.d00752ac37ec999254b6401cad8bcdb4.txt  \n",
            "  inflating: labels/train/0603195507_jpg.rf.7d5c475218df31dc0a4cea218e9082bd.txt  \n",
            "  inflating: labels/train/0603195507_jpg.rf.bd76ff1472c460bdd2edab9c4c0b282b.txt  \n",
            "  inflating: labels/train/0603195632_jpg.rf.87b43c130b182c5d24de3c1bcc08ff10.txt  \n",
            "  inflating: labels/train/0603195632_jpg.rf.a5d2c134b24a551623358e8af8164424.txt  \n",
            "  inflating: labels/train/0603195632_jpg.rf.d898e57fd3c8ecf206aee4c796c2a48f.txt  \n",
            "  inflating: labels/train/0603195717_jpg.rf.64bff2714b38cd7a80d4d98c128e4253.txt  \n",
            "  inflating: labels/train/0603195717_jpg.rf.7d22e25b89879d76eec6b1f8d553ec4b.txt  \n",
            "  inflating: labels/train/0603195717_jpg.rf.f8d696c244c9349db9db0f0de8958d23.txt  \n",
            "  inflating: labels/train/0603195815_jpg.rf.60b6ca977d5844ddb4d955f08d053270.txt  \n",
            "  inflating: labels/train/0603195815_jpg.rf.75501f20a2a5b97f85996bb370ceba72.txt  \n",
            "  inflating: labels/train/0603195815_jpg.rf.81efb015a4d41df8c5cf05abb9b2e058.txt  \n",
            "  inflating: labels/train/0603195849_jpg.rf.8e3e61777eb277c75fda12748062227b.txt  \n",
            "  inflating: labels/train/0603195849_jpg.rf.a2d8a573dfe854bd0ee744200086f207.txt  \n",
            "  inflating: labels/train/0603195849_jpg.rf.fccbf483f06871e1898600d7969ac8ad.txt  \n",
            "  inflating: labels/train/0603195949_jpg.rf.0b9fe1e3987fae884642349215c46e7d.txt  \n",
            "  inflating: labels/train/0603195949_jpg.rf.7d46f6617ae15213618fa0b8e62c0b46.txt  \n",
            "  inflating: labels/train/0603195949_jpg.rf.8810cde668c85ced68e4448682813979.txt  \n",
            "  inflating: labels/train/0603200104_jpg.rf.367eaaadc3cae5440ec6d3a190709547.txt  \n",
            "  inflating: labels/train/0603200104_jpg.rf.b3046f912de1b7c379f9be8dc370a1fa.txt  \n",
            "  inflating: labels/train/0603200104_jpg.rf.b80ed8982cb5326cbf4ea7198da6a1b2.txt  \n",
            "  inflating: labels/train/0603200213_jpg.rf.38b3a3a8cd97636dfeaa527ccef1ace1.txt  \n",
            "  inflating: labels/train/0603200213_jpg.rf.8ddea2eaf76cb7bc7b0f8aefde9e2f53.txt  \n",
            "  inflating: labels/train/0603200213_jpg.rf.b4a5b5c5e20525c2665f0485d44a1307.txt  \n",
            "  inflating: labels/train/0603200248_jpg.rf.1a5f72ca37dd3c8ac18bbd82f7151d72.txt  \n",
            "  inflating: labels/train/0603200248_jpg.rf.76570c4fcef1dfee287d2a1f14ab5962.txt  \n",
            "  inflating: labels/train/0603200321_jpg.rf.74f311770f62cd05eaeca8a665869975.txt  \n",
            "  inflating: labels/train/0603200321_jpg.rf.b681371bfd0a36912a33a460b7d3adc8.txt  \n",
            "  inflating: labels/train/0603200321_jpg.rf.c266d9d4d860341f2b75253776ef0317.txt  \n",
            "  inflating: labels/train/0603200416_jpg.rf.57b4ee2f38941b27869575617fdf24c5.txt  \n",
            "  inflating: labels/train/0603200416_jpg.rf.f2120e4145dd34fb1a913afc26cba9dd.txt  \n",
            "  inflating: labels/train/0603200416_jpg.rf.f528fd39ad8929a74136da225481ea02.txt  \n",
            "  inflating: labels/train/0603200453_jpg.rf.10f2f2ea91f1eff6b063fd1f76ace971.txt  \n",
            "  inflating: labels/train/0603200453_jpg.rf.9e62798d02942a4060a75441395d979a.txt  \n",
            "  inflating: labels/train/0603200453_jpg.rf.abab094fedf29dae9bbdb9cc340b8f1e.txt  \n",
            "  inflating: labels/train/0603200519_jpg.rf.7668dd2c29c3d626f6ed89badce0a422.txt  \n",
            "  inflating: labels/train/0603200519_jpg.rf.b4f0a1590d2fbad0ffad684061544842.txt  \n",
            "  inflating: labels/train/0603200519_jpg.rf.b94400073c6351bddb508a6e590de9fe.txt  \n",
            "  inflating: labels/train/0603200547_jpg.rf.47074d1bbadaef1a0770393eae0c0fdf.txt  \n",
            "  inflating: labels/train/0603200547_jpg.rf.842fb0077c157faa19518025903687e6.txt  \n",
            "  inflating: labels/train/0603200547_jpg.rf.9f6f2d01c2d0fcfd5cc3d24c60a7e714.txt  \n",
            "  inflating: labels/train/0603200614_jpg.rf.3188f96b27c8e5340d3ae42b029395e0.txt  \n",
            "  inflating: labels/train/0603200614_jpg.rf.58e8084f96ca2ad7742163721abf9c4d.txt  \n",
            "  inflating: labels/train/0603200614_jpg.rf.c4de5c353f38cf60b6b1df4d7e160342.txt  \n",
            "  inflating: labels/train/0603201033_jpg.rf.7cbfac5bce83773a768965a7b0baddaf.txt  \n",
            "  inflating: labels/train/0603201033_jpg.rf.d734cb8fbbc502bd9190d78c7e774bde.txt  \n",
            "  inflating: labels/train/0603201033_jpg.rf.f11a7312e7487c6f8102533354e39bf0.txt  \n",
            "  inflating: labels/train/0603201056_jpg.rf.13ee994a52cb4c4cd3fc49429cb427d8.txt  \n",
            "  inflating: labels/train/0603201056_jpg.rf.25f185c5dd4eef43e80bddef5f29b133.txt  \n",
            "  inflating: labels/train/0603201056_jpg.rf.e74d319ddcd8c584ef14e004010b25a6.txt  \n",
            "  inflating: labels/train/0603201144_jpg.rf.47d3f9dcbab008215e46883a27b66e5b.txt  \n",
            "  inflating: labels/train/0603201144_jpg.rf.72726f91dc173961d4ef44298f438514.txt  \n",
            "  inflating: labels/train/0603201144_jpg.rf.eac38e239f659c3783ac18762ca299d0.txt  \n",
            "  inflating: labels/train/0603201231_jpg.rf.53a4be5572e96d63ab0d78075a212c4c.txt  \n",
            "  inflating: labels/train/0603201231_jpg.rf.abcfefe387a9c8179fe6e9d10824362e.txt  \n",
            "  inflating: labels/train/0603201231_jpg.rf.ce70b90a4fc0d02008d6e110a1bac7f4.txt  \n",
            "  inflating: labels/train/0603201350_jpg.rf.437c3a7bdd8065e174f8b71f7db53c0e.txt  \n",
            "  inflating: labels/train/0603201350_jpg.rf.7d48abacc2e3a3bda821995a981e84f1.txt  \n",
            "  inflating: labels/train/0603201350_jpg.rf.ac1ab3d591d392750c9f16e004bd5512.txt  \n",
            "  inflating: labels/train/0603201428_jpg.rf.4ad6862c43aaf74d541600dbc46ad4bc.txt  \n",
            "  inflating: labels/train/0603201428_jpg.rf.9d51aa8f939dcc99cc3a7953d9a744b6.txt  \n",
            "  inflating: labels/train/0603201428_jpg.rf.d505c5f4551ea7f6dda2f2984daf5800.txt  \n",
            "  inflating: labels/train/0603201511_jpg.rf.1b05d13c53cb8a489a757f1317dfed54.txt  \n",
            "  inflating: labels/train/0603201511_jpg.rf.ad97ee378a88d0406eef0eff0a01a425.txt  \n",
            "  inflating: labels/train/0603201511_jpg.rf.e2936d0c6ec1df05ea091b3f113b36b2.txt  \n",
            "  inflating: labels/train/0603201843_jpg.rf.1227872ca59081f8eb748376967a51b9.txt  \n",
            "  inflating: labels/train/0603201843_jpg.rf.6c9e74b30dda969e8a3292b178cc4789.txt  \n",
            "  inflating: labels/train/0603201843_jpg.rf.e98254c98129379299d8f65750ed9dc1.txt  \n",
            "  inflating: labels/train/0603201926_jpg.rf.05c4364c89a6e60bedb192f8a858b3e7.txt  \n",
            "  inflating: labels/train/0603201926_jpg.rf.733fc1b8098892023f975a79f2a5cdef.txt  \n",
            "  inflating: labels/train/0603201926_jpg.rf.7ddba1bce4caaa0b955d97320038e60b.txt  \n",
            "  inflating: labels/train/0603202020_jpg.rf.5e96c9824abc834687f6fc7c9b6c9c86.txt  \n",
            "  inflating: labels/train/0603202020_jpg.rf.6ab3b5ee17842275469aea011621c2ae.txt  \n",
            "  inflating: labels/train/0603202108_jpg.rf.1463388de5ed2bbf404007e55ad5e5e8.txt  \n",
            "  inflating: labels/train/0603202108_jpg.rf.78c8429bb37408890e83ccdd6da6b421.txt  \n",
            "  inflating: labels/train/0603202108_jpg.rf.df272e9b232cc123113feb5c9c5c7832.txt  \n",
            "  inflating: labels/train/0603202155_jpg.rf.791d9c1a617e6ea3847000c67390d925.txt  \n",
            "  inflating: labels/train/0603202155_jpg.rf.afecf8f7c18e04c82ea08d4846c5d4f7.txt  \n",
            "  inflating: labels/train/0603202155_jpg.rf.f0142c68c2ed44f37e7ca50e2021ff55.txt  \n",
            "  inflating: labels/train/0603202240_jpg.rf.7faf449d3e7cd65fc7548aaab5917fb4.txt  \n",
            "  inflating: labels/train/0603202240_jpg.rf.864efce9cf9b75741388479a4f1b0895.txt  \n",
            "  inflating: labels/train/0603202240_jpg.rf.c0d41eee6e0950125820b452b801eefb.txt  \n",
            "  inflating: labels/train/0603202422_jpg.rf.0aded0f777c9b808fe54fd66b70d21c0.txt  \n",
            "  inflating: labels/train/0603202422_jpg.rf.3c9948fc873eb11ebed4fe1b96ff6a95.txt  \n",
            "  inflating: labels/train/0603202422_jpg.rf.fbb6438960e44cbcb7cc65a17660fd90.txt  \n",
            "  inflating: labels/train/0603202552_jpg.rf.2c594a3e42929826e81eda634998d283.txt  \n",
            "  inflating: labels/train/0603202552_jpg.rf.6ddec79dca252413e6c0f73282eaa7aa.txt  \n",
            "  inflating: labels/train/0603202552_jpg.rf.9f29e88ae7fa5c9da3fd28945356891f.txt  \n",
            "  inflating: labels/train/0605133551_jpg.rf.be75981819f9e4e69d8f4554a6d8a55b.txt  \n",
            "  inflating: labels/train/0605133551_jpg.rf.cca29c6cc4c5d370fff5bd7f2cf1f908.txt  \n",
            "  inflating: labels/train/0605133551_jpg.rf.d1991224994bdf75ccc2c3a31acf9c5e.txt  \n",
            "  inflating: labels/train/0605133551_jpg.rf.d3b770fe34ac5573bec8ba2fab909f98.txt  \n",
            "  inflating: labels/train/0605133551_jpg.rf.ffe5bcac89fab14bf33a9ae1a40d5133.txt  \n",
            "  inflating: labels/train/0605135356_jpg.rf.07203dedfa17dd1a9a065f32800a363b.txt  \n",
            "  inflating: labels/train/0605135356_jpg.rf.f565cd3479ef4215f9a723290e7b198f.txt  \n",
            "  inflating: labels/train/0605135356_jpg.rf.fc2fc5590566871c69382ca1e9d5a477.txt  \n",
            "  inflating: labels/train/0605140502_jpg.rf.0ba3a8fb7755acc6ad94a5663dad826a.txt  \n",
            "  inflating: labels/train/0605140502_jpg.rf.18ddbb0392e748d10371dd9ac1a1e518.txt  \n",
            "  inflating: labels/train/0605140502_jpg.rf.2ca8713b5b86fd2de4929f48f74393b0.txt  \n",
            "  inflating: labels/train/0605140502_jpg.rf.35bf9f589ffca1b095ccdf239ff9a89e.txt  \n",
            "  inflating: labels/train/0605140502_jpg.rf.73a2e4d29444f34e662e22c99cb53007.txt  \n",
            "  inflating: labels/train/0605140502_jpg.rf.96b9a57be69c44d096cd86736b979c96.txt  \n",
            "  inflating: labels/train/0605140502_jpg.rf.9b35eef6013af8ed3db7b78f467fe27c.txt  \n",
            "  inflating: labels/train/0605140502_jpg.rf.b2c18b97ab4ec3ded84bff6f99e04651.txt  \n",
            "  inflating: labels/train/0605140502_jpg.rf.df68c185dc5bcc0968fe0a8cd61c12e7.txt  \n",
            "  inflating: labels/train/0605140704_jpg.rf.0352df8208eb778e755a634aa6d13137.txt  \n",
            "  inflating: labels/train/0605140704_jpg.rf.2a486ec2622ff3df35480375b04538e1.txt  \n",
            "  inflating: labels/train/0605140704_jpg.rf.781c00e8b6751e8161f18551e9127a5a.txt  \n",
            "  inflating: labels/train/0605140704_jpg.rf.b130a4d2a4dcfa0fdc3e577726824de7.txt  \n",
            "  inflating: labels/train/0605140704_jpg.rf.bda95f4815637b1c1d0c5d7f9151b840.txt  \n",
            "  inflating: labels/train/0605140704_jpg.rf.fc1fca686d1257d3c42c85dfec24bcd3.txt  \n",
            "  inflating: labels/train/0605140807_jpg.rf.4878c36aefdda29323bb6376ebd069da.txt  \n",
            "  inflating: labels/train/0605140807_jpg.rf.89413fa7f080b87d4f78550ce7096a0e.txt  \n",
            "  inflating: labels/train/0605140807_jpg.rf.f894b93058a1438714d8c4d5c36a8073.txt  \n",
            "  inflating: labels/train/0605140954_jpg.rf.55e71537a0d4873538b9930173b0d1e7.txt  \n",
            "  inflating: labels/train/0605140954_jpg.rf.6b9d1a9f1e144d6387621a3354e8864e.txt  \n",
            "  inflating: labels/train/0605140954_jpg.rf.baf07d9ea6271583b483b60540a9bd45.txt  \n",
            "  inflating: labels/train/0605140954_jpg.rf.bfb289752de10f485726d81da3324de9.txt  \n",
            "  inflating: labels/train/0605140954_jpg.rf.d26043d183a91c0b7ff43b3fe2dae348.txt  \n",
            "  inflating: labels/train/0605140954_jpg.rf.efe7978e3ec0aafc4759a63ab1e375a3.txt  \n",
            "  inflating: labels/train/0605141036_jpg.rf.5d7bc14a178dba22e9d14547396657ba.txt  \n",
            "  inflating: labels/train/0605141036_jpg.rf.cfabc6a85275a4252c460ab015c1073d.txt  \n",
            "  inflating: labels/train/0605141036_jpg.rf.e52d5d3623053cf09d3a76eebb1593c7.txt  \n",
            "  inflating: labels/train/0605141129_jpg.rf.11c3a8a4f2b38230580755fa4fe5034a.txt  \n",
            "  inflating: labels/train/0605141129_jpg.rf.2c09ef93c077e74386a21f7fca852dd2.txt  \n",
            "  inflating: labels/train/0605141129_jpg.rf.3743b4198078e2c1606ad74ac66e88bf.txt  \n",
            "  inflating: labels/train/0605141129_jpg.rf.49092f1f71c71f42e33d9fd4c06669de.txt  \n",
            "  inflating: labels/train/0605141129_jpg.rf.50f3c3461dace0d12071d44c0c5e305c.txt  \n",
            "  inflating: labels/train/0605141129_jpg.rf.967bf017257677a870fc153d2c617d9e.txt  \n",
            "  inflating: labels/train/0605141129_jpg.rf.c20a26426e588c0e906bed4bce2b7091.txt  \n",
            "  inflating: labels/train/0605141129_jpg.rf.d036675c662da5e7bbfb44f3d15361a0.txt  \n",
            "  inflating: labels/train/0605141129_jpg.rf.e4c8f9afdf96474fd00e7bef98018f2d.txt  \n",
            "  inflating: labels/train/0605141211_jpg.rf.2da39dd1df245168be5381e56ee7075a.txt  \n",
            "  inflating: labels/train/0605141211_jpg.rf.3706ed449813c4e5527954419d4efe4a.txt  \n",
            "  inflating: labels/train/0605141211_jpg.rf.435aea1d4ed60e31542af6d34728cf80.txt  \n",
            "  inflating: labels/train/0605141329_jpg.rf.16dc94873d28e6473011c6760a83a815.txt  \n",
            "  inflating: labels/train/0605141329_jpg.rf.307c5a0c37938aa8a11b45f6a4077c81.txt  \n",
            "  inflating: labels/train/0605141329_jpg.rf.4bee78b9b9a5da2ced4e606aaa49bb90.txt  \n",
            "  inflating: labels/train/0605141329_jpg.rf.65394f683428ab4486bb1b537841582c.txt  \n",
            "  inflating: labels/train/0605141329_jpg.rf.6d55dcb484869251984667211bd95aaf.txt  \n",
            "  inflating: labels/train/0605141329_jpg.rf.7d17b38c39a4d6dfdfb652cb59422627.txt  \n",
            "  inflating: labels/train/0605141329_jpg.rf.9e42dde29c68e7777c617015901429b6.txt  \n",
            "  inflating: labels/train/0605141329_jpg.rf.b680bb3918880f2414f0fa5a21727405.txt  \n",
            "  inflating: labels/train/0605141419_jpg.rf.153ebb00f2b2ff4c42317fd8769875ed.txt  \n",
            "  inflating: labels/train/0605141419_jpg.rf.2335f385ba3fbef23a8d95b264d3f400.txt  \n",
            "  inflating: labels/train/0605141419_jpg.rf.291d84f535f634917b0b008f8f08e073.txt  \n",
            "  inflating: labels/train/0605141419_jpg.rf.8a42f47cb61456e4b4615d06768f6924.txt  \n",
            "  inflating: labels/train/0605141419_jpg.rf.a662feba262fb4ff4e181cb351c11e4f.txt  \n",
            "  inflating: labels/train/0605141419_jpg.rf.ab80a55c3f5e6b817f83d6c3e5c60133.txt  \n",
            "  inflating: labels/train/0605141419_jpg.rf.b6d959565a12b1ecb38e382add4ff5c0.txt  \n",
            "  inflating: labels/train/0605141419_jpg.rf.b8bd4958859330a72c2bd1361bc9d6ed.txt  \n",
            "  inflating: labels/train/0605141419_jpg.rf.f57fe908c729ac0c12a8aa2f0f1cf431.txt  \n",
            "  inflating: labels/train/0605141500_jpg.rf.718024b31e7177908a1cf15aeeb14b02.txt  \n",
            "  inflating: labels/train/0605141500_jpg.rf.b98318ab07f8af2641ca465e41a9847f.txt  \n",
            "  inflating: labels/train/0605141500_jpg.rf.ca7db9fff686f52c6c2ee0f2453d8817.txt  \n",
            "  inflating: labels/train/0605141500_jpg.rf.cacbbce74ee1505d2ecb441001e49b7d.txt  \n",
            "  inflating: labels/train/0605141500_jpg.rf.d560cf9929e9752f4e32a9d1b270a490.txt  \n",
            "  inflating: labels/train/0605141500_jpg.rf.d69c13755c517487325b4a7ce4078810.txt  \n",
            "  inflating: labels/train/0605141500_jpg.rf.e7177c1a995f31e369b762e73415d310.txt  \n",
            "  inflating: labels/train/0605141500_jpg.rf.ec8ee36d733964e9f6b40bf0d67be813.txt  \n",
            "  inflating: labels/train/0605141500_jpg.rf.f25800ca578f74cb473d7048c7827cc1.txt  \n",
            "  inflating: labels/train/0605141611_jpg.rf.300c526ec587c181f8e440bf5d0f19f4.txt  \n",
            "  inflating: labels/train/0605141611_jpg.rf.3a726e63a7c8bf3eaaab60d6908b03ae.txt  \n",
            "  inflating: labels/train/0605141611_jpg.rf.498251dee36a4196d9bc989015f856d1.txt  \n",
            "  inflating: labels/train/0605141611_jpg.rf.50ff37b927666e1a4f8108fc64fee497.txt  \n",
            "  inflating: labels/train/0605141611_jpg.rf.57bcc18b92a98cb62bbf8e1690bee9e0.txt  \n",
            "  inflating: labels/train/0605141611_jpg.rf.766bea9d05b0161cdcee9d2675ee868c.txt  \n",
            "  inflating: labels/train/0605141611_jpg.rf.7cbd95a7d74d73ad57dd22dcb7145e8d.txt  \n",
            "  inflating: labels/train/0605141611_jpg.rf.927697eefc67a421e959b19fcc01ba06.txt  \n",
            "  inflating: labels/train/0605141611_jpg.rf.9c3aca9e8a2c1216e8072fd80403c7b9.txt  \n",
            "  inflating: labels/train/0605141611_jpg.rf.9e30739bf9f94a7b14a5087ec5d6fa0f.txt  \n",
            "  inflating: labels/train/0605141611_jpg.rf.b6b714085c0be2630ad022fc26a08b95.txt  \n",
            "  inflating: labels/train/0605141611_jpg.rf.c331239314a2edb645258aff0df64d2a.txt  \n",
            "  inflating: labels/train/0605141611_jpg.rf.e9f81434eea0bb0836311c19a7ae4f28.txt  \n",
            "  inflating: labels/train/0605141611_jpg.rf.fa2f7223df3f570e52f130758563a86b.txt  \n",
            "  inflating: labels/train/0605141836_jpg.rf.00704e55792fa83d9d56270bf80e9d3f.txt  \n",
            "  inflating: labels/train/0605141836_jpg.rf.05525b54f990446f37b464cd30c37266.txt  \n",
            "  inflating: labels/train/0605141836_jpg.rf.073588b518645ab6612b3ff6a5d9fd06.txt  \n",
            "  inflating: labels/train/0605141836_jpg.rf.0a61467036ed1c7738adf2612c477968.txt  \n",
            "  inflating: labels/train/0605141836_jpg.rf.22dfdc31c30317594bdb95eba5523fe9.txt  \n",
            "  inflating: labels/train/0605141836_jpg.rf.24ec53cb0577daef5a40d4d6e584daac.txt  \n",
            "  inflating: labels/train/0605141836_jpg.rf.44af293d73cb0aa1748de2698929450f.txt  \n",
            "  inflating: labels/train/0605141836_jpg.rf.641874f2067b4e1b94866da5abdcf60c.txt  \n",
            "  inflating: labels/train/0605141836_jpg.rf.6c721a93686f0ed7331cd5a58a9d1a17.txt  \n",
            "  inflating: labels/train/0605141836_jpg.rf.826d9e1771dca230b678720fade2ffbf.txt  \n",
            "  inflating: labels/train/0605141836_jpg.rf.8ac7ce70b9428af7f1e0f901c5dec53e.txt  \n",
            "  inflating: labels/train/0605141836_jpg.rf.a40e367d7ef2cea4d3fc795f4a85c1eb.txt  \n",
            "  inflating: labels/train/0605141836_jpg.rf.a9695faab4ca2e65db1981151422fad7.txt  \n",
            "  inflating: labels/train/0605141836_jpg.rf.d55e00e5052c99435e20a09cf405f245.txt  \n",
            "  inflating: labels/train/0605141836_jpg.rf.dfad4c1fd6ef063b9ab602f72f444f27.txt  \n",
            "  inflating: labels/train/0605142002_jpg.rf.0b13c4ac20c0517ed3ff5c42a01a3800.txt  \n",
            "  inflating: labels/train/0605142002_jpg.rf.18055799edad4e2327df20d2f26a6ab7.txt  \n",
            "  inflating: labels/train/0605142002_jpg.rf.578ad219e5679076bbf43f662ac19fed.txt  \n",
            "  inflating: labels/train/0605142002_jpg.rf.7d1f59b4f33c1ed2697899e834959ec6.txt  \n",
            "  inflating: labels/train/0605142002_jpg.rf.a29d774add36b2f008628c02eee45cdd.txt  \n",
            "  inflating: labels/train/0605142002_jpg.rf.af14f3fcffffcf425d8bdc0c15da7604.txt  \n",
            "  inflating: labels/train/0605142002_jpg.rf.b9c9cf88e24b97b80afee7a707b34d44.txt  \n",
            "  inflating: labels/train/0605142002_jpg.rf.d6e684579939b8523afb6197d80c7ebd.txt  \n",
            "  inflating: labels/train/0605142002_jpg.rf.e3e5b5e08fa653452e57eec155d2fd49.txt  \n",
            "  inflating: labels/train/0605142100_jpg.rf.0281ecb1384ec8334b9b849e78433b13.txt  \n",
            "  inflating: labels/train/0605142100_jpg.rf.0b5455552ca403061a6f37b1bec66cee.txt  \n",
            "  inflating: labels/train/0605142100_jpg.rf.2fd8d8fbbf4b2a6b71dacfa22ceee0d4.txt  \n",
            "  inflating: labels/train/0605142100_jpg.rf.51e3b7fabf938be75f180db49b50c686.txt  \n",
            "  inflating: labels/train/0605142100_jpg.rf.99ae3e64c63f28f878d9eb13f49e4a82.txt  \n",
            "  inflating: labels/train/0605142100_jpg.rf.a70fd9a4000f4d51a061be541ed5e2a4.txt  \n",
            "  inflating: labels/train/0605142100_jpg.rf.fba79975e36fc705842b8e8320281842.txt  \n",
            "  inflating: labels/train/0605142100_jpg.rf.fc3b3504e23c34b67e3aba95dedb628b.txt  \n",
            "  inflating: labels/train/0605142100_jpg.rf.fd54ef91153ef08cc41007e7ea965f38.txt  \n",
            "  inflating: labels/train/0605142220_jpg.rf.3693bf7f2355f6ec7fd3fa8a5f57e894.txt  \n",
            "  inflating: labels/train/0605142220_jpg.rf.439dac93a4f601d1a8e2c499a0ba37fd.txt  \n",
            "  inflating: labels/train/0605142220_jpg.rf.ffddb4b538df7c10ac40747c4b4350c9.txt  \n",
            "  inflating: labels/train/0605142342_jpg.rf.02aaa127bdac2d8ed1a848322a7771de.txt  \n",
            "  inflating: labels/train/0605142342_jpg.rf.2114393d748af108aa9421d97413d6ad.txt  \n",
            "  inflating: labels/train/0605142342_jpg.rf.28aca50469f08c8f91a8020ce08a6987.txt  \n",
            "  inflating: labels/train/0605142342_jpg.rf.356c3106ec243ad2e10612cfa8fbe504.txt  \n",
            "  inflating: labels/train/0605142342_jpg.rf.369c273a182aa75054e416032b24217e.txt  \n",
            "  inflating: labels/train/0605142342_jpg.rf.7c23520fd4bd8b8ac7676ca940b8b7dc.txt  \n",
            "  inflating: labels/train/0605142342_jpg.rf.976ac37992a5ab7f638720222964eee8.txt  \n",
            "  inflating: labels/train/0605142342_jpg.rf.9c35f8aec08be43ff6307fec87c1fdef.txt  \n",
            "  inflating: labels/train/0605142342_jpg.rf.a411a0e82f8aa4ae9dc251f457ff2527.txt  \n",
            "  inflating: labels/train/0605142342_jpg.rf.cf0ef14fb88c84c16b57dea1bb5012dd.txt  \n",
            "  inflating: labels/train/0605142342_jpg.rf.efce846c0b0f1748e57e6e0946e12d4c.txt  \n",
            "  inflating: labels/train/0605142342_jpg.rf.fa9d446fa8bc62a4c5cd8f0e6cc60b72.txt  \n",
            "  inflating: labels/train/0605142456_jpg.rf.0111e1d4d85e53e8bc766c4902b25c30.txt  \n",
            "  inflating: labels/train/0605142456_jpg.rf.19c607ab5534b05b3e4431f8a616a031.txt  \n",
            "  inflating: labels/train/0605142456_jpg.rf.31931e80c527ba22e520615d34eb02b9.txt  \n",
            "  inflating: labels/train/0605142456_jpg.rf.3afc588960bed62bf246216028ac590d.txt  \n",
            "  inflating: labels/train/0605142456_jpg.rf.47714dffdd9b0b9212df9779e671ae30.txt  \n",
            "  inflating: labels/train/0605142456_jpg.rf.6df3fa52657b99e2338f90d9d95527e6.txt  \n",
            "  inflating: labels/train/0605142456_jpg.rf.9f2805fc2d6a5b1d953d9e2c10852623.txt  \n",
            "  inflating: labels/train/0605142456_jpg.rf.af9437a7e6f3b3f93cf04c110b54a647.txt  \n",
            "  inflating: labels/train/0605142456_jpg.rf.afa3fae12ad3d13068ac75037799eae7.txt  \n",
            "  inflating: labels/train/0605142456_jpg.rf.b0803b60b9dd751de969e1abff55ee28.txt  \n",
            "  inflating: labels/train/0605142456_jpg.rf.bee0617045a9314cf0367e2b1aa977d4.txt  \n",
            "  inflating: labels/train/0605142456_jpg.rf.efbaba04d6d97f855a45d0fa7bb200f4.txt  \n",
            "  inflating: labels/train/0605142456_jpg.rf.f0a2bbc48a73f693ad1a0c106aa04f74.txt  \n",
            "  inflating: labels/train/0605142456_jpg.rf.f2806eac83c59e3d809840462510d16b.txt  \n",
            "  inflating: labels/train/0605142456_jpg.rf.f999a09626dcdcbd029ef31aedbfa7af.txt  \n",
            "  inflating: labels/train/0605142626_jpg.rf.2da0e24da3114ca3113be64e64f2db55.txt  \n",
            "  inflating: labels/train/0605142626_jpg.rf.3e15a96f0462b0fa551c6511fe6616d9.txt  \n",
            "  inflating: labels/train/0605142626_jpg.rf.575203cb3c8f2e98a6c35c430028e145.txt  \n",
            "  inflating: labels/train/0605142626_jpg.rf.6ee828291986a84d56136fa50124b94a.txt  \n",
            "  inflating: labels/train/0605142626_jpg.rf.b88af747102c84f4c58e5e66e70332b3.txt  \n",
            "  inflating: labels/train/0605143016_jpg.rf.639aae0d9182bd52398a84815b38aed0.txt  \n",
            "  inflating: labels/train/0605143016_jpg.rf.8a63de0368e8ef49544f7256c2ff5f13.txt  \n",
            "  inflating: labels/train/0605143016_jpg.rf.9504a8d37f691a8f78a3e849c0ae5ae0.txt  \n",
            "  inflating: labels/train/0605143016_jpg.rf.c66d2b7d826e89622aec092747d5f9ed.txt  \n",
            "  inflating: labels/train/0605143016_jpg.rf.cd28eb8170cca8a7be6bfb9f26c14900.txt  \n",
            "  inflating: labels/train/0605143016_jpg.rf.f87d5aafa8ba7fa7909863d605a45b70.txt  \n",
            "  inflating: labels/train/0605143058_jpg.rf.0669f0ab00709fc7464cf06d5d804dd8.txt  \n",
            "  inflating: labels/train/0605143058_jpg.rf.09483fb71c0eee1166fa6c9c2a9a8f86.txt  \n",
            "  inflating: labels/train/0605143058_jpg.rf.0e827517c72288373290b6308fc0f49f.txt  \n",
            "  inflating: labels/train/0605143058_jpg.rf.20fd5c061959ec97c81e84cf53db65df.txt  \n",
            "  inflating: labels/train/0605143058_jpg.rf.505068125671d1decba0df738b96c597.txt  \n",
            "  inflating: labels/train/0605143058_jpg.rf.53902a1ea6e4d7ce0ddf723af97f1ba8.txt  \n",
            "  inflating: labels/train/0605143058_jpg.rf.559fe8fe393512addf4a563076cf856b.txt  \n",
            "  inflating: labels/train/0605143058_jpg.rf.af3c293aef00ddf400a46b80b32eeb5f.txt  \n",
            "  inflating: labels/train/0605143058_jpg.rf.bc03e7db2f91643b82a2b22d4fab2999.txt  \n",
            "  inflating: labels/train/0605143058_jpg.rf.c530d2f337a883325c1f9360bb482a10.txt  \n",
            "  inflating: labels/train/0605143058_jpg.rf.cfd70ac3fa65ff9342e5ee2b9226c03a.txt  \n",
            "  inflating: labels/train/0605143058_jpg.rf.fd252e156b6aa8a4dd35984f395bc6d7.txt  \n",
            "  inflating: labels/train/0605143257_jpg.rf.13cc03a9da7c3a26e7ff0d7cdd9348c5.txt  \n",
            "  inflating: labels/train/0605143257_jpg.rf.1ca74f5c66280913d6b10911072d3fad.txt  \n",
            "  inflating: labels/train/0605143257_jpg.rf.26766d401f787424e2997077f003de6d.txt  \n",
            "  inflating: labels/train/0605143257_jpg.rf.344d4bdcba6c5c1bbdd21153ca5b1906.txt  \n",
            "  inflating: labels/train/0605143257_jpg.rf.41c95ffc638bc95e33a6d3f39c7bb387.txt  \n",
            "  inflating: labels/train/0605143257_jpg.rf.4b8d95091d98e8a848aa0ac9500f7e64.txt  \n",
            "  inflating: labels/train/0605143257_jpg.rf.5bcbba3163d16b328d8ca6c61eab6c86.txt  \n",
            "  inflating: labels/train/0605143257_jpg.rf.62e770fd6ce1647ac74e4af6afb20dbb.txt  \n",
            "  inflating: labels/train/0605143257_jpg.rf.6a200d6f42b0cdd7c9683f484730d7c6.txt  \n",
            "  inflating: labels/train/0605143257_jpg.rf.719e4f0c431cff6d934bbdc34ae9e199.txt  \n",
            "  inflating: labels/train/0605143257_jpg.rf.7beac11f5641b1cf82658bcb82de3541.txt  \n",
            "  inflating: labels/train/0605143257_jpg.rf.a9eb6bb22e15b4250128b4be15c95172.txt  \n",
            "  inflating: labels/train/0605143257_jpg.rf.c380764b633f67f3af6b684916d7fb82.txt  \n",
            "  inflating: labels/train/0605143257_jpg.rf.de2d4bee86f52cdd6e145c7dbffff1e6.txt  \n",
            "  inflating: labels/train/0605143257_jpg.rf.f909044c92f90e44a4434112f5e2a9f0.txt  \n",
            "  inflating: labels/train/0605144029_jpg.rf.17f2b42f322bf704c93eb2ac31f76fdf.txt  \n",
            "  inflating: labels/train/0605144029_jpg.rf.56e0af32390ade1b81820226024c61ba.txt  \n",
            "  inflating: labels/train/0605144029_jpg.rf.6acf26c26e5e79f74d34f869b45de50a.txt  \n",
            "  inflating: labels/train/0605144029_jpg.rf.7524e4b8dc95a5e8417c05307977bd6e.txt  \n",
            "  inflating: labels/train/0605144029_jpg.rf.df9c54030c1b3b847402055ad91afc47.txt  \n",
            "  inflating: labels/train/0605144029_jpg.rf.ff20651ad78f90f861d1c6889d069e89.txt  \n",
            "  inflating: labels/train/0605144129_jpg.rf.02a611b8e1ce35bd8f0c9ca79e7a3025.txt  \n",
            "  inflating: labels/train/0605144129_jpg.rf.0f0311ec5efe9f44063cefcf6c07ea89.txt  \n",
            "  inflating: labels/train/0605144129_jpg.rf.4b1f4c9c82a7c7a809f74ad3f8daac64.txt  \n",
            "  inflating: labels/train/0605144129_jpg.rf.68d4e005db3840605430e0cb68f36222.txt  \n",
            "  inflating: labels/train/0605144129_jpg.rf.77031c1911bef1e2960c7829194403be.txt  \n",
            "  inflating: labels/train/0605144129_jpg.rf.adbfef67faa57720178e331c44d8807a.txt  \n",
            "  inflating: labels/train/0605144129_jpg.rf.d85052c898d030c1cd03090c7d71e503.txt  \n",
            "  inflating: labels/train/0605144129_jpg.rf.dffcff78215610366049262f4f567eee.txt  \n",
            "  inflating: labels/train/0605144129_jpg.rf.f48d8d48f6c6b27be8ea2096eea9a13b.txt  \n",
            "  inflating: labels/train/0605144222_jpg.rf.3382b2402334f330cd419c805a9fec31.txt  \n",
            "  inflating: labels/train/0605144222_jpg.rf.7bdd5d6b5aee7d3b40d30099ef049101.txt  \n",
            "  inflating: labels/train/0605144222_jpg.rf.81df9df95a925751780b56ece49006fd.txt  \n",
            "  inflating: labels/train/0605144222_jpg.rf.892cf4f139ea39d044357bd4352b60c3.txt  \n",
            "  inflating: labels/train/0605144222_jpg.rf.a92b79b0cc1206a7dc58e47a0b3e517a.txt  \n",
            "  inflating: labels/train/0605144222_jpg.rf.fe8ad6a845fc666bec46362e8eb2474b.txt  \n",
            "  inflating: labels/train/0605144316_jpg.rf.50cfad3680e27fcf42339ec12dc322a0.txt  \n",
            "  inflating: labels/train/0605144316_jpg.rf.54aca5e6160338763b4fc7df28cc427a.txt  \n",
            "  inflating: labels/train/0605144316_jpg.rf.f984fc01d75cf680d5bc92c77df376ec.txt  \n",
            "  inflating: labels/train/0605144357_jpg.rf.0ecc68baf9f6fc81790a809f125ff9c9.txt  \n",
            "  inflating: labels/train/0605144357_jpg.rf.47e0af536c0986650f1e325d8ac64098.txt  \n",
            "  inflating: labels/train/0605144357_jpg.rf.6c40f91eb95e0540e8484dee7636aad9.txt  \n",
            "  inflating: labels/train/0605144357_jpg.rf.7cfe994c8e4bfd9de0862cbe4eaf8d03.txt  \n",
            "  inflating: labels/train/0605144357_jpg.rf.8179d2cebcd1942da170489f0abf3c83.txt  \n",
            "  inflating: labels/train/0605144357_jpg.rf.932e2b38b30e17a566451dc7c318f17c.txt  \n",
            "  inflating: labels/train/0605144357_jpg.rf.a33635b05f1805a281089f4ee99c77ca.txt  \n",
            "  inflating: labels/train/0605144357_jpg.rf.fb3ae132f5c40b839f3e6af8361c01f7.txt  \n",
            "  inflating: labels/train/0605144431_jpg.rf.0e7e79fbf6eb574e054d9e4435544dad.txt  \n",
            "  inflating: labels/train/0605144431_jpg.rf.658bce4a56c2fc23e881032d7068e285.txt  \n",
            "  inflating: labels/train/0605144431_jpg.rf.8ac9dc789e285654d4a25bfb8ade895b.txt  \n",
            "  inflating: labels/train/0605144431_jpg.rf.c240189725e3b0edaccd3496b1c07a0e.txt  \n",
            "  inflating: labels/train/0605144431_jpg.rf.e144d02be6ee76ba4daf5dc6a3481993.txt  \n",
            "  inflating: labels/train/0605144431_jpg.rf.ee18e6d8563066a175df470110acf91c.txt  \n",
            "  inflating: labels/train/0605144520_jpg.rf.21c5caeab56f3b2c6dd3030920ef3af1.txt  \n",
            "  inflating: labels/train/0605144520_jpg.rf.3b73230d4f8e8bedfb696b40f11b5f3d.txt  \n",
            "  inflating: labels/train/0605144520_jpg.rf.53a9a6ca752f24b64fb9fb7b303aedbf.txt  \n",
            "  inflating: labels/train/0605144520_jpg.rf.7ae20eb52322002fc2d9532b347f58b5.txt  \n",
            "  inflating: labels/train/0605144520_jpg.rf.873a17533cbdf92e9dfee70d772bab0e.txt  \n",
            "  inflating: labels/train/0605144520_jpg.rf.ce9b0b84915ef0a2fcfc7f165bc2cd95.txt  \n",
            "  inflating: labels/train/0605144602_jpg.rf.002c83c54839c535606f12792b40f095.txt  \n",
            "  inflating: labels/train/0605144602_jpg.rf.05a32a17fb44c776982e62777e7d4667.txt  \n",
            "  inflating: labels/train/0605144602_jpg.rf.0679e7e3f66f113f46b341045bf95ecd.txt  \n",
            "  inflating: labels/train/0605144602_jpg.rf.1ab05e7450e3b1eb2d5a59435fceea50.txt  \n",
            "  inflating: labels/train/0605144602_jpg.rf.34cd3b3bbd74965956f76e5a32c31b98.txt  \n",
            "  inflating: labels/train/0605144602_jpg.rf.5b50698ed45b0051ed8c3889ca222d82.txt  \n",
            "  inflating: labels/train/0605144602_jpg.rf.d3e00a80801ebb32886a8b0b90d7d0fe.txt  \n",
            "  inflating: labels/train/0605144602_jpg.rf.f6a2d706a6262a69e903768604da24b4.txt  \n",
            "  inflating: labels/train/0605144602_jpg.rf.fe09c2f0cdcc2779c8ec74a7ba9ab0e4.txt  \n",
            "  inflating: labels/train/0605144700_jpg.rf.029eaa1b6de8b000c28b78ee98b09bb3.txt  \n",
            "  inflating: labels/train/0605144700_jpg.rf.375cf00b2253ba5d127ce7f03209855f.txt  \n",
            "  inflating: labels/train/0605144700_jpg.rf.4bfc208cef7b6220bf27c9a702d5bfec.txt  \n",
            "  inflating: labels/train/0605144700_jpg.rf.a648c6a03eba5ae3f380f8a3671c4813.txt  \n",
            "  inflating: labels/train/0605144700_jpg.rf.adf543eca7ab52681df68dadbc6e3e42.txt  \n",
            "  inflating: labels/train/0605144700_jpg.rf.b7d57325ab2fae8f7a80f2358995d201.txt  \n",
            "  inflating: labels/train/0605144700_jpg.rf.d761cb56e80674f95da51982dbfeefed.txt  \n",
            "  inflating: labels/train/0605144700_jpg.rf.f631753fe04165b1efd0525fa1349473.txt  \n",
            "  inflating: labels/train/0605144700_jpg.rf.fed64cce0ad30a3dfc88f359d5eb924e.txt  \n",
            "  inflating: labels/train/0605144756_jpg.rf.3698fd648718ee5222c8d84d6b0dc449.txt  \n",
            "  inflating: labels/train/0605144756_jpg.rf.3ee1fba2bd4d5b8636badacae8d53a3c.txt  \n",
            "  inflating: labels/train/0605144756_jpg.rf.5a482152c9d850a9c77035d5a80b07d1.txt  \n",
            "  inflating: labels/train/0605144756_jpg.rf.8e361994157f5cc54a9c1e01c45d8b5d.txt  \n",
            "  inflating: labels/train/0605144756_jpg.rf.98832b5ca2ece9ecd2e3879306ca68e6.txt  \n",
            "  inflating: labels/train/0605144756_jpg.rf.bfeea50d13df93a9b739f1c6d0696407.txt  \n",
            "  inflating: labels/train/0605144756_jpg.rf.c0d93504ef0ce94dde86f2f3737af103.txt  \n",
            "  inflating: labels/train/0605144756_jpg.rf.c472f6b90112bd16475d407195046da8.txt  \n",
            "  inflating: labels/train/0605144756_jpg.rf.d83cb7a87b373cd6cdfeeeb7625a8233.txt  \n",
            "  inflating: labels/train/0605144843_jpg.rf.00fc403f2477d3e8ff2259e57c9c0653.txt  \n",
            "  inflating: labels/train/0605144843_jpg.rf.18ea9ddf94d7ec561161eba4cac8cd91.txt  \n",
            "  inflating: labels/train/0605144843_jpg.rf.44b39d78ffbd3f97bdf4e6a8d75d9ffd.txt  \n",
            "  inflating: labels/train/0605144843_jpg.rf.609acc8281dedacc5e2c7a8c38c84502.txt  \n",
            "  inflating: labels/train/0605144843_jpg.rf.69c8ead3cb7d34018e3b1ebfd5f53294.txt  \n",
            "  inflating: labels/train/0605144843_jpg.rf.89bdb246d3f11151d0c6de91d3b93c8c.txt  \n",
            "  inflating: labels/train/0605144843_jpg.rf.b510ee47a9c57557747a0265ddc6d8ab.txt  \n",
            "  inflating: labels/train/0605144843_jpg.rf.ecb167c167675032b52d2c91eafce8c5.txt  \n",
            "  inflating: labels/train/0605144843_jpg.rf.eeb8fd43954b9894a5adc004a7f3a0b8.txt  \n",
            "  inflating: labels/train/0605144922_jpg.rf.7eadd8f09ed7622fe47cd6f3b668613c.txt  \n",
            "  inflating: labels/train/0605144922_jpg.rf.d485e8e6350b1703ac24c2ae4ba86a4f.txt  \n",
            "  inflating: labels/train/0605144922_jpg.rf.ec4db9c0ecb6a2a2cc77087811da39a9.txt  \n",
            "  inflating: labels/train/0605145008_jpg.rf.033bdf51e860d9c223ccf95a33149ed5.txt  \n",
            "  inflating: labels/train/0605145008_jpg.rf.0d1b3bc58ae2351e85696db2e55e53d2.txt  \n",
            "  inflating: labels/train/0605145008_jpg.rf.22d206ec1018226943c853102dfb93b2.txt  \n",
            "  inflating: labels/train/0605145008_jpg.rf.31a271746d3e5f4dbc09b43fe6303b9b.txt  \n",
            "  inflating: labels/train/0605145008_jpg.rf.3717718332f94fa5cae965593fd8c616.txt  \n",
            "  inflating: labels/train/0605145008_jpg.rf.4668e0f6171522fe330d06545e39bbaf.txt  \n",
            "  inflating: labels/train/0605145008_jpg.rf.55cfa80e0f25de5dc2976a9212f440d6.txt  \n",
            "  inflating: labels/train/0605145008_jpg.rf.5f7b37ac45d9b1a755712dcf47f50f26.txt  \n",
            "  inflating: labels/train/0605145008_jpg.rf.fcd9b22037dcf4a0db9af3fe01918c53.txt  \n",
            "  inflating: labels/train/0605145046_jpg.rf.25c1fcbd4b4b5ddcbb14d42c412cfa16.txt  \n",
            "  inflating: labels/train/0605145046_jpg.rf.3e5a39678b6fab0f1bb0a75a08cf88a2.txt  \n",
            "  inflating: labels/train/0605145046_jpg.rf.5f14891bf3e9c4497a773b5cdfe3ac50.txt  \n",
            "  inflating: labels/train/0605145046_jpg.rf.83eb7f35ba1a7e61dd67c92742022b02.txt  \n",
            "  inflating: labels/train/0605145046_jpg.rf.94f0049bf8b4519301860c8dfa37de19.txt  \n",
            "  inflating: labels/train/0605145046_jpg.rf.a8103576801546ae547fdb0ba6bfa334.txt  \n",
            "  inflating: labels/train/0605145046_jpg.rf.be1b016ad5c454af61814de9441d82d0.txt  \n",
            "  inflating: labels/train/0605145046_jpg.rf.f1930a439c19d87ec655f935cabd52aa.txt  \n",
            "  inflating: labels/train/0605145046_jpg.rf.fed3d2e75ccf269a8549b69aa38468d4.txt  \n",
            "  inflating: labels/train/0605145113_jpg.rf.0d5cd79cadc6d9d5e6ca7744ad7bd1fb.txt  \n",
            "  inflating: labels/train/0605145113_jpg.rf.2103c7b9feb5dc685be92cd72beec012.txt  \n",
            "  inflating: labels/train/0605145113_jpg.rf.3104389d4634ce1c6c743a5f11ccca37.txt  \n",
            "  inflating: labels/train/0605145113_jpg.rf.3cd75a818a9da0854c6a7706a4ed75ec.txt  \n",
            "  inflating: labels/train/0605145113_jpg.rf.4a473db55ccfdbcb7a5744d25558c5af.txt  \n",
            "  inflating: labels/train/0605145113_jpg.rf.685bf2dbcb977453564dfd9c698c2e4d.txt  \n",
            "  inflating: labels/train/0605145113_jpg.rf.887f0061d1ff231cb4ec5ab6cd396eeb.txt  \n",
            "  inflating: labels/train/0605145113_jpg.rf.a2e149e1fa0b5884c3bfbc91b939aaf6.txt  \n",
            "  inflating: labels/train/0605145113_jpg.rf.b21b6e54ee953686bfc8ff11b535f9ca.txt  \n",
            "  inflating: labels/train/0605145201_jpg.rf.613d002ff8f6d4850e85ee8e487ed316.txt  \n",
            "  inflating: labels/train/0605145201_jpg.rf.813d8727519a95ddccc6cafb673950cb.txt  \n",
            "  inflating: labels/train/0605145201_jpg.rf.c420c8b3a11c9fc76c247ecd9b67336f.txt  \n",
            "  inflating: labels/train/0605145409_jpg.rf.32fa04f99a320c151bb601d2e7e7c68d.txt  \n",
            "  inflating: labels/train/0605145409_jpg.rf.4fb5e6be49b8ef7fcee4c50cfe56da17.txt  \n",
            "  inflating: labels/train/0605145409_jpg.rf.4fdbe38af6fc5051dcaf34c8af2e96f5.txt  \n",
            "  inflating: labels/train/0605145409_jpg.rf.933d1acca71d8e0b35dee4c3f697a418.txt  \n",
            "  inflating: labels/train/0605145409_jpg.rf.baef8f31b26b0b9ce0ed38e7beab923f.txt  \n",
            "  inflating: labels/train/0605145409_jpg.rf.bdd4586a52c2f12a4dabbc4a2b0f8bca.txt  \n",
            "  inflating: labels/train/0605145409_jpg.rf.caa49f757a061967bdab30ab8aba585f.txt  \n",
            "  inflating: labels/train/0605145409_jpg.rf.ced15200fd3fa1c34dbe3d56bb954af9.txt  \n",
            "  inflating: labels/train/0605145409_jpg.rf.d625c0194dfad9e67326d6984c157f82.txt  \n",
            "  inflating: labels/train/0605145454_jpg.rf.4d122e0b4e70d5740e47b6b04b0bdbb7.txt  \n",
            "  inflating: labels/train/0605145454_jpg.rf.5299a1ad321442a0412e0b6e66a55555.txt  \n",
            "  inflating: labels/train/0605145454_jpg.rf.66f022d4bf838e25ddc1e75f3015eea6.txt  \n",
            "  inflating: labels/train/0605145454_jpg.rf.77995c1d899456294d67154a81d44561.txt  \n",
            "  inflating: labels/train/0605145454_jpg.rf.8281584f8bc5ff16cb641d73b06238b9.txt  \n",
            "  inflating: labels/train/0605145454_jpg.rf.859e58c6b56366649c8392a7852bbf9d.txt  \n",
            "  inflating: labels/train/0605145454_jpg.rf.bb55a139bb4fe04f9b4e88e3356c8fa8.txt  \n",
            "  inflating: labels/train/0605145454_jpg.rf.c21970a885bca9cbade4f9bf3d5f3714.txt  \n",
            "  inflating: labels/train/0605145518_jpg.rf.211ece784dad1e5620028c0cb2962d43.txt  \n",
            "  inflating: labels/train/0605145518_jpg.rf.3b1675e3f87ee193c38b6e00065d129a.txt  \n",
            "  inflating: labels/train/0605145518_jpg.rf.6901200a428cfec3bba3b0d6357bbd02.txt  \n",
            "  inflating: labels/train/0605145518_jpg.rf.ca0471de438aae7bf0866d03fc0b6ebb.txt  \n",
            "  inflating: labels/train/0605145518_jpg.rf.d172d44521d2933a70001f6fd015ddc1.txt  \n",
            "  inflating: labels/train/0605145518_jpg.rf.fb5aed5193a6b29c7e275950875dfb1a.txt  \n",
            "  inflating: labels/train/0605145518_jpg.rf.fd2d1a5f53f77c238e6784adc5aea42a.txt  \n",
            "  inflating: labels/train/0605145518_jpg.rf.fdea267f8ff9c784d41e57581cf697a5.txt  \n",
            "  inflating: labels/train/0605145544_jpg.rf.14caf062a2da48db1550cd7f7bc5d030.txt  \n",
            "  inflating: labels/train/0605145544_jpg.rf.3a7bbcbb6b06a12e7cd2246b4f5a0f80.txt  \n",
            "  inflating: labels/train/0605145544_jpg.rf.ed481d0c9d4dee4a88c02a8781a1bf0d.txt  \n",
            "  inflating: labels/train/0605145610_jpg.rf.0fd7084bc124a4556923a91b62c34263.txt  \n",
            "  inflating: labels/train/0605145610_jpg.rf.8024138051ab0f0d1cb8e1745eb6b374.txt  \n",
            "  inflating: labels/train/0605145610_jpg.rf.ac13442122d10f45de16ef0125348955.txt  \n",
            "  inflating: labels/train/0605145645_jpg.rf.198a270448c3242cd7bacfcf155793c4.txt  \n",
            "  inflating: labels/train/0605145645_jpg.rf.2362e1ed3b39ce4f60a1a9f15e893ec3.txt  \n",
            "  inflating: labels/train/0605145645_jpg.rf.395206df49a4d2aed3861aa7b463e7fd.txt  \n",
            "  inflating: labels/train/0605145645_jpg.rf.3ed31d2760a51393edca2123207b64e9.txt  \n",
            "  inflating: labels/train/0605145645_jpg.rf.6fb1fb60527669cc7b6ec90e6fd92d80.txt  \n",
            "  inflating: labels/train/0605145645_jpg.rf.788f38c9184514469ed8a61d8e64dcbc.txt  \n",
            "  inflating: labels/train/0605145645_jpg.rf.8f789cc98531e8ab394e15dd30fb3c67.txt  \n",
            "  inflating: labels/train/0605145645_jpg.rf.ca0b1e3e1ab7cb47755cdfb19f1775ba.txt  \n",
            "  inflating: labels/train/0605145706_jpg.rf.23dbf1325ef1475cce82116cf84710ae.txt  \n",
            "  inflating: labels/train/0605145706_jpg.rf.923f4fcd2c2dcfdd6a11cee4eb812be1.txt  \n",
            "  inflating: labels/train/0605145706_jpg.rf.f5a4a17b36da5fc9f959619cec18ce5e.txt  \n",
            "  inflating: labels/train/0605145719_jpg.rf.0923204a21e581ea34262d698e3f74d8.txt  \n",
            "  inflating: labels/train/0605145719_jpg.rf.4158e99e185f3dd570b0de9dd8b527be.txt  \n",
            "  inflating: labels/train/0605145719_jpg.rf.62df4f872cf33a1ba6cad3a233c211f0.txt  \n",
            "  inflating: labels/train/0605145719_jpg.rf.6afac660d7fcbfd279a82c177a8a6946.txt  \n",
            "  inflating: labels/train/0605145719_jpg.rf.712f92fdd0a088ae7d23f11136395eed.txt  \n",
            "  inflating: labels/train/0605145719_jpg.rf.dee6fe24786ef3a1fe9134f8874e87ab.txt  \n",
            "  inflating: labels/train/0605145719_jpg.rf.f0832bc21fc8025f7dd05abb98a84d70.txt  \n",
            "  inflating: labels/train/0605145719_jpg.rf.fc64e1419690025885bad6ff42744414.txt  \n",
            "  inflating: labels/train/0605145730_jpg.rf.2767912f20ebc329526d3d48d82abdef.txt  \n",
            "  inflating: labels/train/0605145730_jpg.rf.3ac012af2e324775703dbe95d3d294b6.txt  \n",
            "  inflating: labels/train/0605145730_jpg.rf.44fbf532a22aebdce97868c4a4624599.txt  \n",
            "  inflating: labels/train/0605145730_jpg.rf.589f7739d1092b9a037f51c91e83e642.txt  \n",
            "  inflating: labels/train/0605145730_jpg.rf.6aa2b0730f94646f742cb0f114e1fcbc.txt  \n",
            "  inflating: labels/train/0605145730_jpg.rf.ab5fc8ccdf38444010daedf334f63e34.txt  \n",
            "  inflating: labels/train/0605145730_jpg.rf.b91307ae54cb39b8c5179409a5fbbaff.txt  \n",
            "  inflating: labels/train/0605145730_jpg.rf.ca28335b88a8ff8f23b9f861d541ea82.txt  \n",
            "  inflating: labels/train/0605145730_jpg.rf.dc3e165f40d95530acd8b0c7c645c2d6.txt  \n",
            "  inflating: labels/train/0605145758_jpg.rf.02bb3e33fcd8e437f70d45e18d156ae0.txt  \n",
            "  inflating: labels/train/0605145758_jpg.rf.0cfb903e0be093653a1677f3addb3584.txt  \n",
            "  inflating: labels/train/0605145758_jpg.rf.12a5af1cfc5d9bc47483d946fa951358.txt  \n",
            "  inflating: labels/train/0605145758_jpg.rf.2cb7a04580ff9699243417901279e5f4.txt  \n",
            "  inflating: labels/train/0605145758_jpg.rf.430c73ec88ca8b163fa9536c89e30446.txt  \n",
            "  inflating: labels/train/0605145758_jpg.rf.9eb9b7331f8c82beb4fedc1c1d0f688d.txt  \n",
            "  inflating: labels/train/0605145758_jpg.rf.9ff0e7e0c106487453474c7e700a3344.txt  \n",
            "  inflating: labels/train/0605145758_jpg.rf.a93c278cdbc683500e6f65ff117107f7.txt  \n",
            "  inflating: labels/train/0605145758_jpg.rf.ee2dc56d97b594cc21bf25f18c3edbb2.txt  \n",
            "  inflating: labels/train/0605145825_jpg.rf.116cf1ac7b257b35eb898494fea49544.txt  \n",
            "  inflating: labels/train/0605145825_jpg.rf.4ee02b2fb7ffd4212907e6418e6ea79e.txt  \n",
            "  inflating: labels/train/0605145825_jpg.rf.519e516a2f75db5294b9ccb131dc597f.txt  \n",
            "  inflating: labels/train/0605145825_jpg.rf.5d0c35d4987ebce169bb3f4e2a30307f.txt  \n",
            "  inflating: labels/train/0605145825_jpg.rf.6e8b90aa3fb697607295b500a2be3355.txt  \n",
            "  inflating: labels/train/0605145825_jpg.rf.b8deb7064810e3d8077b0fa36ace5b09.txt  \n",
            "  inflating: labels/train/0605145825_jpg.rf.b91d30deef24792e00f08db4af057078.txt  \n",
            "  inflating: labels/train/0605145825_jpg.rf.def58b88990c7ae1a3e10adaa2b4824c.txt  \n",
            "  inflating: labels/train/0605145825_jpg.rf.ecd8c66f552f1df1aa890137abe05898.txt  \n",
            "  inflating: labels/train/0605150212_jpg.rf.4ae1a78de783a8e26358fffbcbdbb4af.txt  \n",
            "  inflating: labels/train/0605150212_jpg.rf.6bed36262c19987fb7dbdf623d89ec09.txt  \n",
            "  inflating: labels/train/0605150212_jpg.rf.7536fd81e8dad0adc3596a6db4e3981d.txt  \n",
            "  inflating: labels/train/0605150315_jpg.rf.bd7d05067885febef84372acca629747.txt  \n",
            "  inflating: labels/train/0605150315_jpg.rf.c40715d71062b431693a85d5c50474bb.txt  \n",
            "  inflating: labels/train/0605150315_jpg.rf.dcc1b078165f5591e40a3744576ad10f.txt  \n",
            "  inflating: labels/train/0605150352_jpg.rf.9f0a72c91e444732ef5fb5a160e1b9d1.txt  \n",
            "  inflating: labels/train/0605150352_jpg.rf.b90258d1e996c3e05a0b6b8e6fd1c1d7.txt  \n",
            "  inflating: labels/train/0605150352_jpg.rf.ed0dcfcb10df251da209ed864ce8a44b.txt  \n",
            "  inflating: labels/train/0605150439_jpg.rf.59429aab28e0926b4fd894331aa8a44f.txt  \n",
            "  inflating: labels/train/0605150439_jpg.rf.9c3061460cba73f858d45d5cbfcef5a1.txt  \n",
            "  inflating: labels/train/0605150439_jpg.rf.b9b66ec4620fd9485f80d2f496be84cc.txt  \n",
            "  inflating: labels/train/0605150524_jpg.rf.09c8e54f0270f3eb38d2cf589551eb41.txt  \n",
            "  inflating: labels/train/0605150524_jpg.rf.782926a60213a887e91253cc64fbc913.txt  \n",
            "  inflating: labels/train/0605150524_jpg.rf.818d708e14fd2f3adab94c13041a198c.txt  \n",
            "  inflating: labels/train/0605150620_jpg.rf.1c5cce8bd7d7a13b7e0fd10fe22945a4.txt  \n",
            "  inflating: labels/train/0605150620_jpg.rf.b7359ec01048d32998cc9e902ceba1d8.txt  \n",
            "  inflating: labels/train/0605150620_jpg.rf.f0800130481ae620a68a672253906d36.txt  \n",
            "  inflating: labels/train/0605150656_jpg.rf.6dbeff553a0d7494e7cf929f6346d3ae.txt  \n",
            "  inflating: labels/train/0605150656_jpg.rf.da099c42d111775e9bf18061ea35be9c.txt  \n",
            "  inflating: labels/train/0605150656_jpg.rf.eebcb0184b65ebf98e87effe3b686566.txt  \n",
            "  inflating: labels/train/0605150905_jpg.rf.7da624a03613e51d0b0117e99526c7d9.txt  \n",
            "  inflating: labels/train/0605150905_jpg.rf.848e4dd43997a66b73d386fe67873c6d.txt  \n",
            "  inflating: labels/train/0605150905_jpg.rf.a936837f3ffd69e2fc176c630dee11dd.txt  \n",
            "  inflating: labels/train/0605151123_jpg.rf.36e1376f4461c1e4efe8bcd990d62f1a.txt  \n",
            "  inflating: labels/train/0605151123_jpg.rf.5df43f135e4d65f890fdd08dd563abdb.txt  \n",
            "  inflating: labels/train/0605151123_jpg.rf.d0db11d1c60fb4cf3c361f0cdc4a352c.txt  \n",
            "  inflating: labels/train/0605151158_jpg.rf.18b86b82e9121915fc7472352fd990cc.txt  \n",
            "  inflating: labels/train/0605151158_jpg.rf.6e12fd45049dbf6f645c900d07f4afe6.txt  \n",
            "  inflating: labels/train/0605151158_jpg.rf.effd64f93b23186e63d24b4f482dc3b6.txt  \n",
            "  inflating: labels/train/0605151320_jpg.rf.9135ebef4bc35dca7f66d4e72d1f3624.txt  \n",
            "  inflating: labels/train/0605151320_jpg.rf.d0fc53d33ddee4cad43c18cade4310bb.txt  \n",
            "  inflating: labels/train/0605151320_jpg.rf.fb0e79b4ece0c0896213a7d092c239fd.txt  \n",
            "  inflating: labels/train/0605151650_jpg.rf.1c2e7f73fcf224cc017fd6af593fda19.txt  \n",
            "  inflating: labels/train/0605151650_jpg.rf.32770ee148c2ee8abbca46feb161b130.txt  \n",
            "  inflating: labels/train/0605151650_jpg.rf.9ffbf562af41d561b32df50629b8d6d6.txt  \n",
            "  inflating: labels/train/0605151740_jpg.rf.971cbc7ae777ddced65cf6dfa3d7245d.txt  \n",
            "  inflating: labels/train/0605151740_jpg.rf.f5dfe36e0ef66cb781cc03a9b6a82a2a.txt  \n",
            "  inflating: labels/train/0605151740_jpg.rf.f62d5212565e73839124128ee6dd40f6.txt  \n",
            "  inflating: labels/train/0605151825_jpg.rf.05b40547c8a66552e885f8796824cb67.txt  \n",
            "  inflating: labels/train/0605151825_jpg.rf.18d6646b6706e1bcd86c4b38df894b57.txt  \n",
            "  inflating: labels/train/0605151825_jpg.rf.b48d01f4131f26cb9bbc171b4e99b81c.txt  \n",
            "  inflating: labels/train/0605151915_jpg.rf.33556846953a2868bc6ef95c75772e00.txt  \n",
            "  inflating: labels/train/0605151915_jpg.rf.60ee8d118a31188b1b4ef580ab469840.txt  \n",
            "  inflating: labels/train/0605151915_jpg.rf.a16e0ef64507e59aa2885dd43e035574.txt  \n",
            "  inflating: labels/train/0605152019_jpg.rf.5153fbdce2106f59850f7762e2f3e139.txt  \n",
            "  inflating: labels/train/0605152019_jpg.rf.a3934d2d19073d37ed43456fa5a8f0cd.txt  \n",
            "  inflating: labels/train/0605152019_jpg.rf.d0c2fd9cf62267ea5635054940f9c842.txt  \n",
            "  inflating: labels/train/0605152127_jpg.rf.1d386a59cc4df408168e41afa936247b.txt  \n",
            "  inflating: labels/train/0605152127_jpg.rf.6a3374d250b07ec18bb431ee4ee892dd.txt  \n",
            "  inflating: labels/train/0605152127_jpg.rf.7416b36b8d08e9989227b32be02ea5d9.txt  \n",
            "  inflating: labels/train/0605152211_jpg.rf.07fc80793f2afd9f6e15dcb973b8b42b.txt  \n",
            "  inflating: labels/train/0605152211_jpg.rf.3ec685deedae9ea875965f49d9788a24.txt  \n",
            "  inflating: labels/train/0605152211_jpg.rf.e88cc3a9ee674fb9fb8460b0bb5a030e.txt  \n",
            "  inflating: labels/train/0605152311_jpg.rf.2e1dca5a3b15cf47cdb4c70da935336f.txt  \n",
            "  inflating: labels/train/0605152311_jpg.rf.a2160a55025eeb1a9162bfdfceb636dd.txt  \n",
            "  inflating: labels/train/0605152311_jpg.rf.fc8435ed6b27d531b0c1dd30e9b964c5.txt  \n",
            "  inflating: labels/train/0605152346_jpg.rf.287590bf8be67f08e29846deff6aab95.txt  \n",
            "  inflating: labels/train/0605152346_jpg.rf.5bd7a3266b5445c34b6f03a3e6991ef9.txt  \n",
            "  inflating: labels/train/0605152346_jpg.rf.c63d08c59ea3bf3f9d8e7cd940de00b3.txt  \n",
            "  inflating: labels/train/0605152446_jpg.rf.0ad0b535829338e95911eec28081acab.txt  \n",
            "  inflating: labels/train/0605152446_jpg.rf.0baa51b5805071d315d102c21c56e79b.txt  \n",
            "  inflating: labels/train/0605152446_jpg.rf.4dda6f9f16af86cb3e9f45dab7db94b2.txt  \n",
            "  inflating: labels/train/0605153108_jpg.rf.da8eed39cad817f88e6d38569473247b.txt  \n",
            "  inflating: labels/train/0605153108_jpg.rf.f066091d5c79ad1fe26ab41bcc906d7d.txt  \n",
            "  inflating: labels/train/0605153108_jpg.rf.fcee370f3830c983b2fd78b467a27f3d.txt  \n",
            "  inflating: labels/train/0605153350_jpg.rf.166711c6974b5ca619a817ed214ef84e.txt  \n",
            "  inflating: labels/train/0605153350_jpg.rf.e411895bf8815c326607b4aa3a509a15.txt  \n",
            "  inflating: labels/train/0605153350_jpg.rf.ec7ce4ffd9b942c90d9361866bf8eccf.txt  \n",
            "  inflating: labels/train/0605153418_jpg.rf.2eb848a82a890c77a2277257614df0e8.txt  \n",
            "  inflating: labels/train/0605153418_jpg.rf.322383a2fcfb5bf6109004e35db22204.txt  \n",
            "  inflating: labels/train/0605153418_jpg.rf.7aa49eb333913e17affa3d62ea13f845.txt  \n",
            "  inflating: labels/train/0605153418_jpg.rf.800b5494ad116f0ebec662df8111f190.txt  \n",
            "  inflating: labels/train/0605153418_jpg.rf.b781530d8465f579535879457191e73f.txt  \n",
            "  inflating: labels/train/0605153418_jpg.rf.beb22f3c42bf89446d7265b774ec1fc0.txt  \n",
            "  inflating: labels/train/0605153418_jpg.rf.cfc5118685c1ebf412803189a24e45d1.txt  \n",
            "  inflating: labels/train/0605153418_jpg.rf.d99e72bf331e7d2fb7aa72b416426675.txt  \n",
            "  inflating: labels/train/0605153418_jpg.rf.f3b621ffafc8729dd51250b6b56233e6.txt  \n",
            "  inflating: labels/train/0605153622_jpg.rf.4ae36efbe9ed2e86fb1f9d026e3513e6.txt  \n",
            "  inflating: labels/train/0605153622_jpg.rf.6ff8e7210092528edcfe7384d0bd3d75.txt  \n",
            "  inflating: labels/train/0605153622_jpg.rf.acc53cce5e2160cc27e9481e13a359b7.txt  \n",
            "  inflating: labels/train/0605153746_jpg.rf.032bb646d4c2715d0284dda4996daa0b.txt  \n",
            "  inflating: labels/train/0605153746_jpg.rf.0ca9f2dc1d5c7557779c236cbdefb6b1.txt  \n",
            "  inflating: labels/train/0605153746_jpg.rf.535ff6474063552ef4e99a449df9b09c.txt  \n",
            "  inflating: labels/train/0605153746_jpg.rf.68435d83e357cb3d9880763489c26d02.txt  \n",
            "  inflating: labels/train/0605153746_jpg.rf.78c800514eb9721bc499b313eb4b12d6.txt  \n",
            "  inflating: labels/train/0605153746_jpg.rf.8b55ff700686da2d1a22c982389a2c5c.txt  \n",
            "  inflating: labels/train/0605153746_jpg.rf.a06fe4acea9433403c95a6570c7599a7.txt  \n",
            "  inflating: labels/train/0605153746_jpg.rf.e8853f291bc86d518749801038640813.txt  \n",
            "  inflating: labels/train/0605153813_jpg.rf.2c372bd81d0e11cee6135328508a57cf.txt  \n",
            "  inflating: labels/train/0605153813_jpg.rf.6be691d76dc4aea5aa6e666e86704358.txt  \n",
            "  inflating: labels/train/0605153813_jpg.rf.a156f1a42f82e2d8e5e66d2de7aa6828.txt  \n",
            "  inflating: labels/train/0605153813_jpg.rf.a58973eb733124c8804e3d9a85370f3a.txt  \n",
            "  inflating: labels/train/0605153813_jpg.rf.b69d2378ade02e8467b44365720489a2.txt  \n",
            "  inflating: labels/train/0605153813_jpg.rf.eb955fe6efe02132056d1e57eb4cde45.txt  \n",
            "  inflating: labels/train/0605153852_jpg.rf.24b9c10082085740c1cf63fb3b4cee75.txt  \n",
            "  inflating: labels/train/0605153852_jpg.rf.6221aad0c24299e598ec6d2b842434a5.txt  \n",
            "  inflating: labels/train/0605153852_jpg.rf.64025c0ee56f01398af4ab080880eb84.txt  \n",
            "  inflating: labels/train/0605153852_jpg.rf.9df2a65bb1181ce5b03eb04619704b06.txt  \n",
            "  inflating: labels/train/0605153852_jpg.rf.f2bdc36b1bd0325c506685222aaefb38.txt  \n",
            "  inflating: labels/train/0605153852_jpg.rf.fcb4ee7e43a1ed0d3e0951998805b617.txt  \n",
            "  inflating: labels/train/0605153932_jpg.rf.03be68a0c844fbbcf1c22d4cedd1517f.txt  \n",
            "  inflating: labels/train/0605153932_jpg.rf.0ce7021d51d0da4898b88803a5ee7eb6.txt  \n",
            "  inflating: labels/train/0605153932_jpg.rf.42a7730b917bc109862425030dfa786f.txt  \n",
            "  inflating: labels/train/0605153932_jpg.rf.515b24b3f5a296a13b06bd7a34bd38e0.txt  \n",
            "  inflating: labels/train/0605153932_jpg.rf.9c877f87345f8fb31b1a24f2893844e0.txt  \n",
            "  inflating: labels/train/0605153932_jpg.rf.a1b5c75ad60fc8c12e06b30d51853781.txt  \n",
            "  inflating: labels/train/0605153932_jpg.rf.d041b3d981a7c1949e52a9186fe5d54e.txt  \n",
            "  inflating: labels/train/0605153932_jpg.rf.d2fdbbc293b1f9254d417c764ed51f3e.txt  \n",
            "  inflating: labels/train/0605153932_jpg.rf.fad8e627c5cf7b313a2bd86e63531138.txt  \n",
            "  inflating: labels/train/0605154022_jpg.rf.14fe1b1d6c06bb7db44af3d913dcdf2f.txt  \n",
            "  inflating: labels/train/0605154022_jpg.rf.4aec6d0ff633e39a98189b84f8ecb730.txt  \n",
            "  inflating: labels/train/0605154022_jpg.rf.4d887fb4820f69a058e30df4f6fe54f1.txt  \n",
            "  inflating: labels/train/0605154022_jpg.rf.58b7d23169f792e14f88e94adb01d210.txt  \n",
            "  inflating: labels/train/0605154022_jpg.rf.9bd3541d771514e5663fb8fae11bd7d9.txt  \n",
            "  inflating: labels/train/0605154022_jpg.rf.a421fa441607e78cfb61dabc00356ace.txt  \n",
            "  inflating: labels/train/0605154022_jpg.rf.b0cd9a502e353bc7b0020b0dc2c43405.txt  \n",
            "  inflating: labels/train/0605154022_jpg.rf.f19857c792a48f1860d986f96e8c15ea.txt  \n",
            "  inflating: labels/train/0605154052_jpg.rf.275fc98eb0bf57ed44edc0814d84db10.txt  \n",
            "  inflating: labels/train/0605154052_jpg.rf.290635d3572a9f28105bcaa4930c6af8.txt  \n",
            "  inflating: labels/train/0605154052_jpg.rf.53cc7151bb2d13a12cb3456cbd20b5af.txt  \n",
            "  inflating: labels/train/0605154052_jpg.rf.7225fb10c6fffba81137cbe4e4ffce98.txt  \n",
            "  inflating: labels/train/0605154052_jpg.rf.93a2fa427e972aaf76f920c4ed69f464.txt  \n",
            "  inflating: labels/train/0605154052_jpg.rf.c40125e67b80e98845ba225620a99afb.txt  \n",
            "  inflating: labels/train/0605154052_jpg.rf.d5f0e8a145137983434ae41efa4f6356.txt  \n",
            "  inflating: labels/train/0605154052_jpg.rf.d89c88c478373bf03cf997426216efeb.txt  \n",
            "  inflating: labels/train/0605154052_jpg.rf.f05e1b4ec5291cec5f2e1fb4d069ee81.txt  \n",
            "  inflating: labels/train/0605154201_jpg.rf.02de6e1eee9e832417a87504c3056d5b.txt  \n",
            "  inflating: labels/train/0605154201_jpg.rf.7213b69da393a32f692b8c4b709b1f05.txt  \n",
            "  inflating: labels/train/0605154201_jpg.rf.79e5da1c6aaea85daf2fed8e58c060ac.txt  \n",
            "  inflating: labels/train/0605154201_jpg.rf.7dc5d884896430fa582bebed73b09ed0.txt  \n",
            "  inflating: labels/train/0605154201_jpg.rf.8445193a55f52d3ed5b8e7e63ea5cf1b.txt  \n",
            "  inflating: labels/train/0605154201_jpg.rf.bc7b3dd90f0a827e1a8cb7985994233d.txt  \n",
            "  inflating: labels/train/0605154201_jpg.rf.c59abdfde2fc255e05b676a850043120.txt  \n",
            "  inflating: labels/train/0605154201_jpg.rf.c6cca80da436ee471670738c51b405ab.txt  \n",
            "  inflating: labels/train/0605154201_jpg.rf.fb55cf65cf83458d0a4e1f867cb22324.txt  \n",
            "  inflating: labels/train/0605154250_jpg.rf.07003767f205aea0f56cb31d0c615c7a.txt  \n",
            "  inflating: labels/train/0605154250_jpg.rf.38036e0f7ea119acb23661d1748e06d0.txt  \n",
            "  inflating: labels/train/0605154250_jpg.rf.3c1fe7c7b9744bbf1647959aea22cd3e.txt  \n",
            "  inflating: labels/train/0605154250_jpg.rf.6548f25104634720f11729fcb329a8ad.txt  \n",
            "  inflating: labels/train/0605154250_jpg.rf.7b06a9f92f0ddae77d1b4b708c9f0299.txt  \n",
            "  inflating: labels/train/0605154250_jpg.rf.a30a43e43d94cafd5bb8899b91ae0a21.txt  \n",
            "  inflating: labels/train/0605154250_jpg.rf.d8abfcb00b7a164af206eaaca689da24.txt  \n",
            "  inflating: labels/train/0605154250_jpg.rf.db39283edb79b17b5ea72adaedb54d1e.txt  \n",
            "  inflating: labels/train/0605154330_jpg.rf.205991a04d944c7225c2742030254bf8.txt  \n",
            "  inflating: labels/train/0605154330_jpg.rf.366fd7a14c25d53334d43099f0ced693.txt  \n",
            "  inflating: labels/train/0605154330_jpg.rf.384b55f90736360515043c5cf890a965.txt  \n",
            "  inflating: labels/train/0605154330_jpg.rf.3bb2d875b4bcbda8d911dbf65ed6bd5e.txt  \n",
            "  inflating: labels/train/0605154330_jpg.rf.46d2ca478784bc819b043f2fa1c85557.txt  \n",
            "  inflating: labels/train/0605154330_jpg.rf.602877528f4fd28625bb2ae3c63091c1.txt  \n",
            "  inflating: labels/train/0605154330_jpg.rf.8757924f129fe7f567d77134355b77a2.txt  \n",
            "  inflating: labels/train/0605154330_jpg.rf.d52eceb67febfde8958d8b2224e60f21.txt  \n",
            "  inflating: labels/train/0605154330_jpg.rf.ed1d242b84ad2d6dd2e05a463a5b050f.txt  \n",
            "  inflating: labels/train/0605154445_jpg.rf.5a43773d6b69e85f561c1324c7ec683e.txt  \n",
            "  inflating: labels/train/0605154445_jpg.rf.b2d55fc36775a978a4df23cb0ff97134.txt  \n",
            "  inflating: labels/train/0605154445_jpg.rf.beba27ce43791a4a3a4908aaa1318da3.txt  \n",
            "  inflating: labels/train/IMG20230517093626_01_jpg.rf.2beb2c5196582392897c98640865080a.txt  \n",
            "  inflating: labels/train/IMG20230517093626_01_jpg.rf.bee7e44f92998f47c08a1696c1faa935.txt  \n",
            "  inflating: labels/train/IMG20230517093626_01_jpg.rf.ee8dc75a9e6a2ead91d7d410f37ab8d8.txt  \n",
            "  inflating: labels/train/IMG20230517093633_01_jpg.rf.3b39a6e5bdedd79a3ac9bf18535790cd.txt  \n",
            "  inflating: labels/train/IMG20230517093633_01_jpg.rf.5471fecd60aeb984341a32b988c21ec6.txt  \n",
            "  inflating: labels/train/IMG20230517093633_01_jpg.rf.9f2222195bf26d0ee1c7077d8655a659.txt  \n",
            "  inflating: labels/train/IMG20230517093649_01_jpg.rf.23bd155e7a892d79a2e8e5f2a902d708.txt  \n",
            "  inflating: labels/train/IMG20230517093649_01_jpg.rf.a610525f9c44254858d8e38e62c92db4.txt  \n",
            "  inflating: labels/train/IMG20230517093649_01_jpg.rf.c09ecc4a06ac256e116b49abc76d8ed9.txt  \n",
            "  inflating: labels/train/IMG20230527072155_01_jpg.rf.1626d53eeed524582879f57498bb53f8.txt  \n",
            "  inflating: labels/train/IMG20230527072155_01_jpg.rf.3acb2a07c9afa173e756c708a7906262.txt  \n",
            "  inflating: labels/train/IMG20230527072155_01_jpg.rf.c711883329adf45aaa7dedca8940949c.txt  \n",
            "  inflating: labels/train/IMG20230527072203_01_jpg.rf.2997fbeda650b6c58940c8b2b36c1b2e.txt  \n",
            "  inflating: labels/train/IMG20230527072203_01_jpg.rf.33b07bf6394eb725110485e3ec457147.txt  \n",
            "  inflating: labels/train/IMG20230527072203_01_jpg.rf.49c3641176ae47acd9b4ce2c42343eb8.txt  \n",
            "  inflating: labels/train/IMG20230527072203_01_jpg.rf.5b505ee5d414d6d665b6dfa685279e34.txt  \n",
            "  inflating: labels/train/IMG20230527072203_01_jpg.rf.9e19bed254c442c56f459c5d768f4752.txt  \n",
            "  inflating: labels/train/IMG20230527072203_01_jpg.rf.f67bc0b31d8bd4cc40efef6b66b1eb78.txt  \n",
            "  inflating: labels/train/IMG20230527072207_01_jpg.rf.05072aa078b8ec3a7668de73bf76b39c.txt  \n",
            "  inflating: labels/train/IMG20230527072207_01_jpg.rf.193165b994a15cc754312d4b418b51cf.txt  \n",
            "  inflating: labels/train/IMG20230527072207_01_jpg.rf.31823bbc30d2f2afc87bcaf72abb9b3f.txt  \n",
            "  inflating: labels/train/IMG20230527072207_01_jpg.rf.60830677edc5c5903b966de9bb8f10a6.txt  \n",
            "  inflating: labels/train/IMG20230527072207_01_jpg.rf.72d6776273cbdcc1521d216e28e48af6.txt  \n",
            "  inflating: labels/train/IMG20230527072207_01_jpg.rf.9c512e4909a64938d5679e27c5de9399.txt  \n",
            "  inflating: labels/train/IMG20230527072207_01_jpg.rf.d51363656d5ebc0f0709fa809542277a.txt  \n",
            "  inflating: labels/train/IMG20230527072207_01_jpg.rf.dd6ece09f2af3650bb7cb254a757b53a.txt  \n",
            "  inflating: labels/train/IMG20230527072207_01_jpg.rf.edc1902f8bcfaad2365d8efe775e8647.txt  \n",
            "  inflating: labels/train/IMG20230527072207_01_jpg.rf.f34441bd0ad96d29126cd96aa35aa800.txt  \n",
            "  inflating: labels/train/IMG20230527072207_01_jpg.rf.f3bc581996816386d3aab5f0c44ac3ca.txt  \n",
            "  inflating: labels/train/IMG20230527072207_01_jpg.rf.f86235a8a1979971318cab3d37369d00.txt  \n",
            "  inflating: labels/train/IMG20230527072240_01_jpg.rf.0cd3c86c9f2df1352d526beabcb64bf1.txt  \n",
            "  inflating: labels/train/IMG20230527072240_01_jpg.rf.12c61279e3948dff5d8dc638b0515efb.txt  \n",
            "  inflating: labels/train/IMG20230527072240_01_jpg.rf.8a5d485af3e136b0061237de16d7bc3f.txt  \n",
            "  inflating: labels/train/IMG20230529174246_01_jpg.rf.7d853a65d7369721e6ba4a7cec44d1e0.txt  \n",
            "  inflating: labels/train/IMG20230529174246_01_jpg.rf.cd9abdbad62edc677ab1792816bbb0e4.txt  \n",
            "  inflating: labels/train/IMG20230529174246_01_jpg.rf.e3af0ca54ca56f7c2b8abeb71d1299f1.txt  \n",
            "  inflating: labels/train/IMG20230529174313_01_jpg.rf.93c19c0489456d70bace95632304506d.txt  \n",
            "  inflating: labels/train/IMG20230529174313_01_jpg.rf.ce664c2a17a864b5c0fe0c442bfe00bb.txt  \n",
            "  inflating: labels/train/IMG20230529174313_01_jpg.rf.dc4597da5797b625577c2ec3e448fb78.txt  \n",
            "  inflating: labels/train/IMG20230529175002_02_jpg.rf.0bf6445f6e7e77faf13e69f65e28e0ba.txt  \n",
            "  inflating: labels/train/IMG20230529175002_02_jpg.rf.488081f31f94b6de7a7a339f8e02fdfe.txt  \n",
            "  inflating: labels/train/IMG20230529175002_02_jpg.rf.b1db4e7bd6f18b6bad58f4f59c877785.txt  \n",
            "  inflating: labels/train/IMG20230529175008_01_jpg.rf.0001626dc192a79a3dffc6c36682a741.txt  \n",
            "  inflating: labels/train/IMG20230529175008_01_jpg.rf.41d3b457f251bc2bca0928f99b5f8665.txt  \n",
            "  inflating: labels/train/IMG20230529175008_01_jpg.rf.e8e351cc5744ddb24ae4414765ea9711.txt  \n",
            "  inflating: labels/train/IMG20230529175011_01_jpg.rf.09ada34ddf61c99efdd682a8476a838a.txt  \n",
            "  inflating: labels/train/IMG20230529175011_01_jpg.rf.a3f8c046349318588ad7dbb05482a83b.txt  \n",
            "  inflating: labels/train/IMG20230529175011_01_jpg.rf.e0f8efd4ab81df963b752906656006b7.txt  \n",
            "  inflating: labels/train/IMG20230529175012_01_jpg.rf.160b56c0c502fce41fe1bc24c9e2f62d.txt  \n",
            "  inflating: labels/train/IMG20230529175012_01_jpg.rf.a4cb88422790415ac1a91f9c36c4ce7a.txt  \n",
            "  inflating: labels/train/IMG20230529175012_01_jpg.rf.be805679618bc1b21387a34c3d0b5596.txt  \n",
            "  inflating: labels/train/IMG20230529175016_01_jpg.rf.64e8058bb23fea0defa9bbaae4bbb248.txt  \n",
            "  inflating: labels/train/IMG20230529175016_01_jpg.rf.717c4b78013376ccc48395a866061eee.txt  \n",
            "  inflating: labels/train/IMG20230529175016_01_jpg.rf.cc5eb4326c8eed25723014ded7f5ebf3.txt  \n",
            "  inflating: labels/train/IMG20230529175058_01_jpg.rf.689ec6c2def314ca4a179b708d4e6646.txt  \n",
            "  inflating: labels/train/IMG20230529175058_01_jpg.rf.7349d456f89582e02e06c000060c6993.txt  \n",
            "  inflating: labels/train/IMG20230529175104_01_jpg.rf.09d8d0010d0d9fad80afcb28273288f2.txt  \n",
            "  inflating: labels/train/IMG20230529175104_01_jpg.rf.5184bf6afe1b2ccb508c49bd85808fbe.txt  \n",
            "  inflating: labels/train/IMG20230529175104_01_jpg.rf.e44735978776b58a33aec463e08eed99.txt  \n",
            "  inflating: labels/train/IMG20230529175109_01_jpg.rf.5070dd9d8c2b824ed963283689b4b34e.txt  \n",
            "  inflating: labels/train/IMG20230529175109_01_jpg.rf.6c606c0642b9e52f687fdc40f2ee6357.txt  \n",
            "  inflating: labels/train/IMG20230529175109_01_jpg.rf.caa7f933a1d12f962762b671b6062134.txt  \n",
            "  inflating: labels/train/IMG20230529175118_01_jpg.rf.8af997dd5f0a57ee2d1cf460b4634125.txt  \n",
            "  inflating: labels/train/IMG20230529175118_01_jpg.rf.990ebe6f0e623808da508fa27740913f.txt  \n",
            "  inflating: labels/train/IMG20230529175118_01_jpg.rf.a558fe2d957ff9cf3492d356ac06066f.txt  \n",
            "  inflating: labels/train/IMG20230529175118_03_jpg.rf.1d37791299da0ffa2f9f850ba0b5619a.txt  \n",
            "  inflating: labels/train/IMG20230529175118_03_jpg.rf.5819b103629c8df61888feafd1b3e528.txt  \n",
            "  inflating: labels/train/IMG20230529175118_03_jpg.rf.f2f8e1bf66053214232e6098fd8c05d4.txt  \n",
            "  inflating: labels/train/IMG20230529175125_01_jpg.rf.58231489a218201ba62593d5cf3b25b7.txt  \n",
            "  inflating: labels/train/IMG20230529175125_01_jpg.rf.5bbf71d70b278d1d8e588ada65b7bb62.txt  \n",
            "  inflating: labels/train/IMG20230529175125_01_jpg.rf.8ad7f3ae86dda4f78ea2d32a5fe6003c.txt  \n",
            "  inflating: labels/train/IMG20230529175127_01_jpg.rf.07a24eaa9f228ae3ee0a1144c6d501f5.txt  \n",
            "  inflating: labels/train/IMG20230529175127_01_jpg.rf.6e85b866baa7cc9e743702958dee46e4.txt  \n",
            "  inflating: labels/train/IMG20230529175127_01_jpg.rf.93147193a4ca0cf790221b1a37f3374f.txt  \n",
            "  inflating: labels/train/IMG20230529175131_jpg.rf.a023d8ab66e6a13818a2cc130be8930b.txt  \n",
            "  inflating: labels/train/IMG20230529175131_jpg.rf.aff577ac82cb9f5ca664388f66f92559.txt  \n",
            "  inflating: labels/train/IMG20230529175131_jpg.rf.f9fa7e52a472dc15e42a7331a5a3b81d.txt  \n",
            "  inflating: labels/train/IMG20230530065407_01_jpg.rf.02a2b0f4b8a06d97ce59b8b1c60a58fd.txt  \n",
            "  inflating: labels/train/IMG20230530065407_01_jpg.rf.865b1ce3c8cead9f2a35303f991aef3d.txt  \n",
            "  inflating: labels/train/IMG20230530065407_01_jpg.rf.ad04bb9bb98aeb858553305f83ea7ea9.txt  \n",
            "  inflating: labels/train/IMG20230530065431_01_jpg.rf.a692e1ae47504ecd53a9ce81b931bc72.txt  \n",
            "  inflating: labels/train/IMG20230530065431_01_jpg.rf.d91f02f714db54b511eaa9f0b6c87112.txt  \n",
            "  inflating: labels/train/IMG20230530065431_01_jpg.rf.fcf02577a2d676b95f1ffaac30e51167.txt  \n",
            "  inflating: labels/train/IMG20230530065431_03_jpg.rf.1b509d09ed00533e576a712973c23804.txt  \n",
            "  inflating: labels/train/IMG20230530065431_03_jpg.rf.9090447e98e6781d588647fb0cec8b1b.txt  \n",
            "  inflating: labels/train/IMG20230530065431_03_jpg.rf.d12db6184cc87847f0b7b04d85eb195c.txt  \n",
            "  inflating: labels/train/IMG20230530065432_01_jpg.rf.07d3b426d2b68f0bb8c4e624b377b0ec.txt  \n",
            "  inflating: labels/train/IMG20230530065432_01_jpg.rf.452908dc2acb937f2344e94228c1331b.txt  \n",
            "  inflating: labels/train/IMG20230530065432_01_jpg.rf.b8cb949143b16cb9a2afcd63c0ce6b9b.txt  \n",
            "  inflating: labels/train/IMG20230530065435_01_jpg.rf.32ec55b4ba1beaf168b2d5d7805e2f51.txt  \n",
            "  inflating: labels/train/IMG20230530065435_01_jpg.rf.49c9fdcd2dd2b390723ccf680d7de297.txt  \n",
            "  inflating: labels/train/IMG20230530065435_01_jpg.rf.67f85e155218dd80cee6490f13d8948c.txt  \n",
            "  inflating: labels/train/IMG20230530065435_03_jpg.rf.ac38ce733cad9d1cc794ec36cadc31e5.txt  \n",
            "  inflating: labels/train/IMG20230530065435_03_jpg.rf.b98a70a296a15072d44819c3423f6785.txt  \n",
            "  inflating: labels/train/IMG20230530065435_03_jpg.rf.c1af8efdb5a225095a6d3987a4d3dc07.txt  \n",
            "  inflating: labels/train/IMG20230530065442_02_jpg.rf.2320b36629e08e57cebb969aa193ddd7.txt  \n",
            "  inflating: labels/train/IMG20230530065442_02_jpg.rf.b5b1fe69d3b052a5350f97c04331999a.txt  \n",
            "  inflating: labels/train/IMG20230530065442_02_jpg.rf.dfca6b62e3dea6c4a4a696337fc21fd5.txt  \n",
            "  inflating: labels/train/IMG20230530065442_jpg.rf.684cfd0cee0536041d45ce5ffc502127.txt  \n",
            "  inflating: labels/train/IMG20230530065442_jpg.rf.691decf51ea4ff074df9b5de93d67a71.txt  \n",
            "  inflating: labels/train/IMG20230530065442_jpg.rf.edb026a8081c95b5bebd874eebe5bdc7.txt  \n",
            "  inflating: labels/train/IMG20230530065443_01_jpg.rf.36c19fc69b9b4b8bd54032d277460da7.txt  \n",
            "  inflating: labels/train/IMG20230530065443_01_jpg.rf.4c6fac6c24d583524f3481a04928dbdf.txt  \n",
            "  inflating: labels/train/IMG20230530065443_01_jpg.rf.9cc4c75c5974675b901bb38aa022c42c.txt  \n",
            "  inflating: labels/train/IMG20230530065454_01_jpg.rf.2e9b243f42e0461b85b641e709c61725.txt  \n",
            "  inflating: labels/train/IMG20230530065454_01_jpg.rf.5594f492fc8b92856c4e03e962528032.txt  \n",
            "  inflating: labels/train/IMG20230530065454_01_jpg.rf.ef3effab7f99794363f8fc88e0a7e4b6.txt  \n",
            "  inflating: labels/train/IMG20230530065455_01_jpg.rf.57b7014b0bfac9728c0982eae49a4dd3.txt  \n",
            "  inflating: labels/train/IMG20230530065455_01_jpg.rf.67577cfa17d25d50bfcc34d188da78d7.txt  \n",
            "  inflating: labels/train/IMG20230530065455_01_jpg.rf.8e743d65f5cb0267dde8dd48f2a2eb48.txt  \n",
            "  inflating: labels/train/IMG20230530065456_01_jpg.rf.a331eb9dc4850cd63889c9e0d8db0462.txt  \n",
            "  inflating: labels/train/IMG20230530065456_01_jpg.rf.c5f1d0017f3b3c4292b6b60839e48600.txt  \n",
            "  inflating: labels/train/IMG20230530065456_01_jpg.rf.fe99c66d912535c8c7f915489fd7884f.txt  \n",
            "  inflating: labels/train/IMG20230530065457_01_jpg.rf.2568e8b96d7e59ce3741ca99e46e31c4.txt  \n",
            "  inflating: labels/train/IMG20230530065457_01_jpg.rf.80982dfbebc40b25149be5f4356a9170.txt  \n",
            "  inflating: labels/train/IMG20230530065457_01_jpg.rf.e33117f701b6515619d37b6d759f901a.txt  \n",
            "  inflating: labels/train/IMG20230530065459_01_jpg.rf.3361b258f6e7df48b3e08b429a8b480b.txt  \n",
            "  inflating: labels/train/IMG20230530065459_01_jpg.rf.4d9df9d0af3940a5db6933b89de49b91.txt  \n",
            "  inflating: labels/train/IMG20230530065500_01_jpg.rf.5e83cc61108963c8211a68ddad43ec2a.txt  \n",
            "  inflating: labels/train/IMG20230530065500_01_jpg.rf.bcf65dfb54eed0b2d3886a2313fbea1d.txt  \n",
            "  inflating: labels/train/IMG20230530065500_01_jpg.rf.d4517376b1b06ac25123e7c1c52268c0.txt  \n",
            "  inflating: labels/train/IMG20230530065501_01_jpg.rf.ca15d19d5a00b8f6c4d96ea7e0abd657.txt  \n",
            "  inflating: labels/train/IMG20230530065501_01_jpg.rf.e375c94242e2ba4857da148d43719a1a.txt  \n",
            "  inflating: labels/train/IMG20230530065501_01_jpg.rf.ec7e24e69460a748dd3ec37887029c0e.txt  \n",
            "  inflating: labels/train/IMG20230530065502_01_jpg.rf.19bef274cea0cd4b0cdb64cab29fc7fa.txt  \n",
            "  inflating: labels/train/IMG20230530065502_01_jpg.rf.832491a562d1d33e79584178f51fcbcf.txt  \n",
            "  inflating: labels/train/IMG20230530065502_01_jpg.rf.ee35178c16701c38deff9803bd22a660.txt  \n",
            "  inflating: labels/train/IMG20230530065519_01_jpg.rf.311cb457ac3785c8e150645e7525a771.txt  \n",
            "  inflating: labels/train/IMG20230530065519_01_jpg.rf.a4ac157abd1741ef8ef852906f237c6c.txt  \n",
            "  inflating: labels/train/IMG20230530065519_03_jpg.rf.2e69f2e8a7decff9e1b50efacdec1693.txt  \n",
            "  inflating: labels/train/IMG20230530065519_03_jpg.rf.3d6569d039279df79eaf2d0716869a55.txt  \n",
            "  inflating: labels/train/IMG20230530065519_03_jpg.rf.e0d0842e513e2060b11fa2f3f3763174.txt  \n",
            "  inflating: labels/train/IMG20230530065521_01_jpg.rf.14512f0b03c6d51331d912dca4657395.txt  \n",
            "  inflating: labels/train/IMG20230530065521_01_jpg.rf.3a2b165ff6bd446a1eb6a9034d92929d.txt  \n",
            "  inflating: labels/train/IMG20230530065521_01_jpg.rf.f0b73e6761cf426453bb2acb4b5f26d3.txt  \n",
            "  inflating: labels/train/IMG20230530065538_01_jpg.rf.6fe92175586ba715b5c999d23a9ac1b2.txt  \n",
            "  inflating: labels/train/IMG20230530065538_01_jpg.rf.9ebadc33bba014d34a35effbc2e822f2.txt  \n",
            "  inflating: labels/train/IMG20230530065538_01_jpg.rf.b45504b3e9cb837d84d71eb90628a388.txt  \n",
            "  inflating: labels/train/IMG20230530065538_03_jpg.rf.0d769c408b18c0c1df84e5ff71e2ff84.txt  \n",
            "  inflating: labels/train/IMG20230530065538_03_jpg.rf.67364ed68a34a091b37708dba6f45cfc.txt  \n",
            "  inflating: labels/train/IMG20230530065538_03_jpg.rf.8423217aed1d2f98b16b061c40a40f0c.txt  \n",
            "  inflating: labels/train/IMG20230530065540_jpg.rf.5c135d5afe06b02c94e7651efdbbee73.txt  \n",
            "  inflating: labels/train/IMG20230530065540_jpg.rf.5eb2783a008783ec3ddd0f3f299f8887.txt  \n",
            "  inflating: labels/train/IMG20230530065540_jpg.rf.ceeefc7260dfcf973396dfab621d81b7.txt  \n",
            "  inflating: labels/train/IMG20230530065541_01_jpg.rf.3913c3f6b0211b2b5b9efa6804b81d9f.txt  \n",
            "  inflating: labels/train/IMG20230530065541_01_jpg.rf.6b432196de40440bf92ef8114a50e488.txt  \n",
            "  inflating: labels/train/IMG20230530065541_01_jpg.rf.e25aaa953760ab132d0d9f77c7cdd884.txt  \n",
            "  inflating: labels/train/IMG20230530065542_01_jpg.rf.69ccb5c8160afa57e68708b15e6ac33b.txt  \n",
            "  inflating: labels/train/IMG20230530065542_01_jpg.rf.758cb1e03855cbbd209984fe2bf909bc.txt  \n",
            "  inflating: labels/train/IMG20230530065542_01_jpg.rf.e9d1e57433bd3e5e68726eb715a101d9.txt  \n",
            "  inflating: labels/train/IMG20230530065543_01_jpg.rf.19d0899bb4c45f728746faf35684799b.txt  \n",
            "  inflating: labels/train/IMG20230530065543_01_jpg.rf.b41481bc72123413ac9917a821042191.txt  \n",
            "  inflating: labels/train/IMG20230530065544_01_jpg.rf.2f15bb1f0645da9df1188f14d935f3c7.txt  \n",
            "  inflating: labels/train/IMG20230530065544_01_jpg.rf.64f53032bafb46583deb966aef5064a5.txt  \n",
            "  inflating: labels/train/IMG20230530065544_01_jpg.rf.890639a10cf9e2b353dc8db3112b8a2d.txt  \n",
            "  inflating: labels/train/IMG20230530065545_01_jpg.rf.04c40c04fe36a334e4d79480f76e8a1e.txt  \n",
            "  inflating: labels/train/IMG20230530065545_01_jpg.rf.a96ae5c796a1275c8a1b3b80e97ef7e5.txt  \n",
            "  inflating: labels/train/IMG20230530065545_01_jpg.rf.c4f1e8b4e7f86ecf3d27d7c049ac7803.txt  \n",
            "  inflating: labels/train/IMG20230530065553_01_jpg.rf.0e8b54a2abac22d9f2a4b739f1c2f0ef.txt  \n",
            "  inflating: labels/train/IMG20230530065553_01_jpg.rf.5b61b3866ae86633ec5c54eb917c2436.txt  \n",
            "  inflating: labels/train/IMG20230530065553_01_jpg.rf.ba387470b6d2dd61a89951bae9cd0a96.txt  \n",
            "  inflating: labels/train/IMG20230530065643_01_jpg.rf.4e61d2890b08a3095643658c48487f82.txt  \n",
            "  inflating: labels/train/IMG20230530065643_01_jpg.rf.f7352310e7cd052650ed56dd2692dbd2.txt  \n",
            "  inflating: labels/train/IMG20230530065644_01_jpg.rf.8e60c98890736d8f2aced0d78cb2aca5.txt  \n",
            "  inflating: labels/train/IMG20230530065644_01_jpg.rf.cecac55c8c3242870712e22772eb3f85.txt  \n",
            "  inflating: labels/train/IMG20230530065645_01_jpg.rf.3d4ebf8ca913e13cae95025bd1ce023c.txt  \n",
            "  inflating: labels/train/IMG20230530065645_01_jpg.rf.840c16cfb040e82ed343d7a8e77424aa.txt  \n",
            "  inflating: labels/train/IMG20230530065655_jpg.rf.102fb6cd37e1fc9cf4d7ad157819bf51.txt  \n",
            "  inflating: labels/train/IMG20230530065655_jpg.rf.33ca362ebf6d88ace1cfbadeb4898b7a.txt  \n",
            "  inflating: labels/train/IMG20230530065655_jpg.rf.f1f0811e04602b56f38b4de5e7dca51c.txt  \n",
            "  inflating: labels/train/IMG20230530065657_01_jpg.rf.02e7f6ef12d7776530b2a94ac5b968ad.txt  \n",
            "  inflating: labels/train/IMG20230530065657_01_jpg.rf.2ef84d18012b8502c8221251c0ffb7d9.txt  \n",
            "  inflating: labels/train/IMG20230530065657_01_jpg.rf.c108be58cdbbdb47a8d8aa6ace5b8ca4.txt  \n",
            "  inflating: labels/train/IMG20230530065713_01_jpg.rf.191595b766e0d37769e3d467516b7a28.txt  \n",
            "  inflating: labels/train/IMG20230530065713_01_jpg.rf.a637628603e4c2859907f89bdc001626.txt  \n",
            "  inflating: labels/train/IMG20230530065713_01_jpg.rf.c51941db9e056dad7936f6229f708db0.txt  \n",
            "  inflating: labels/train/IMG20230530065746_01_jpg.rf.4ee8c62f278c59fba53ca51fb3e18e79.txt  \n",
            "  inflating: labels/train/IMG20230530065746_01_jpg.rf.a73c0d71c030296f0169147c20477ac9.txt  \n",
            "  inflating: labels/train/IMG20230530065746_01_jpg.rf.a9171a6d6f2f619140fdc4f434e6a10a.txt  \n",
            "  inflating: labels/train/IMG20230530065751_01_jpg.rf.081413085d25907ed68b43f02c12fd13.txt  \n",
            "  inflating: labels/train/IMG20230530065751_01_jpg.rf.54bc8543c2143921500f214da7a3b933.txt  \n",
            "  inflating: labels/train/IMG20230530065751_01_jpg.rf.d65f5184ddf881d813c3f60842778860.txt  \n",
            "  inflating: labels/train/IMG20230530065754_01_jpg.rf.1b2f5b83336f9298572e464410b03df4.txt  \n",
            "  inflating: labels/train/IMG20230530065754_01_jpg.rf.b2cfab7466c1084033c2df23ab228d31.txt  \n",
            "  inflating: labels/train/IMG20230530065754_01_jpg.rf.c90c8b15dd8b0a2c764963ad1d1b90a6.txt  \n",
            "  inflating: labels/train/IMG20230530065756_01_jpg.rf.6c041dc25308f0e2b7ff608c119295dd.txt  \n",
            "  inflating: labels/train/IMG20230530065756_01_jpg.rf.707b0d5f332b2d82b5e61cfcecc281e1.txt  \n",
            "  inflating: labels/train/IMG20230530065756_01_jpg.rf.be4bc21fb0c7fef2b614cded924c0732.txt  \n",
            "  inflating: labels/train/IMG20230530065800_01_jpg.rf.5cd8d7189c97acf70a72958e2bd0c903.txt  \n",
            "  inflating: labels/train/IMG20230530065800_01_jpg.rf.7f95e6f981409a0f0e2dddf400eae1fe.txt  \n",
            "  inflating: labels/train/IMG20230530065800_01_jpg.rf.d49edbcb22200b697637abe5d114ad74.txt  \n",
            "  inflating: labels/train/IMG20230530065806_01_jpg.rf.1740d972b465c4c788e9824578a3f2eb.txt  \n",
            "  inflating: labels/train/IMG20230530065806_01_jpg.rf.a1e2f3d74811b1528e1f0f027bd54bb8.txt  \n",
            "  inflating: labels/train/IMG20230530065806_01_jpg.rf.c86659dccff8af0fc95c928be8405b58.txt  \n",
            "  inflating: labels/train/IMG20230530065810_01_jpg.rf.33138442e5cd52feef178eaa8daf81ee.txt  \n",
            "  inflating: labels/train/IMG20230530065810_01_jpg.rf.6e788ea83210cb8b4ac11ba615b73770.txt  \n",
            "  inflating: labels/train/IMG20230530065810_01_jpg.rf.7c7756187fafb73913d3035115e81963.txt  \n",
            "  inflating: labels/train/IMG20230530065833_01_jpg.rf.681c4ff0cd2df74b4d314bb93263d823.txt  \n",
            "  inflating: labels/train/IMG20230530065833_01_jpg.rf.81286f6cff07f1f00f91496aa7455812.txt  \n",
            "  inflating: labels/train/IMG20230530065833_01_jpg.rf.c51f5969d6e0a8824b7a1c8d571bb965.txt  \n",
            "  inflating: labels/train/IMG20230530065850_01_jpg.rf.89e57c32eb9bd0dd53effa67cb90d405.txt  \n",
            "  inflating: labels/train/IMG20230530065850_01_jpg.rf.949e0cddcaae3ba7d61c6f89f028b477.txt  \n",
            "  inflating: labels/train/IMG20230530065850_01_jpg.rf.ce1ef7581d1521a52a06daa852b84428.txt  \n",
            "  inflating: labels/train/IMG20230530065852_01_jpg.rf.17ec224cf4773e631fdee7bfd1d0af86.txt  \n",
            "  inflating: labels/train/IMG20230530065852_01_jpg.rf.1d25e21f3561af11d9076eb89febb1bb.txt  \n",
            "  inflating: labels/train/IMG20230530065852_01_jpg.rf.cb463dc48d297246c44825233851d04a.txt  \n",
            "  inflating: labels/train/IMG20230530065858_01_jpg.rf.3ef2c3bb17b01d9909c06267c9762bf6.txt  \n",
            "  inflating: labels/train/IMG20230530065858_01_jpg.rf.c5b8ca018b3d3769d305f01413316a4e.txt  \n",
            "  inflating: labels/train/IMG20230530065858_01_jpg.rf.eb024d28e096e196367f3e87792eeac9.txt  \n",
            "  inflating: labels/train/IMG20230530065901_01_jpg.rf.26f9c97c80039ac49ca61164f6555650.txt  \n",
            "  inflating: labels/train/IMG20230530065901_01_jpg.rf.885ec3e81c50d52aa687a1ab7acd4b66.txt  \n",
            "  inflating: labels/train/IMG20230530065901_01_jpg.rf.96251f4444044c1ce5e7467d78fddf06.txt  \n",
            "  inflating: labels/train/IMG20230530065906_01_jpg.rf.2a3213258fa7f8b2e639f0400399992c.txt  \n",
            "  inflating: labels/train/IMG20230530065906_01_jpg.rf.3b20fb36a13fd19bff98098c6df20e7e.txt  \n",
            "  inflating: labels/train/IMG20230530065906_01_jpg.rf.be7e5dab7b653baad1c35788340257ed.txt  \n",
            "  inflating: labels/train/IMG20230530065921_jpg.rf.26abbb165fda741264a7cd22571d347a.txt  \n",
            "  inflating: labels/train/IMG20230530065921_jpg.rf.c59e787c20690c587207a156d50c500c.txt  \n",
            "  inflating: labels/train/IMG20230530065921_jpg.rf.de4e3fc1c53ba12a6250b745651c06f6.txt  \n",
            "  inflating: labels/train/IMG20230530065926_01_jpg.rf.0f797e14a97d8d9ead74b0dfed2dcfdd.txt  \n",
            "  inflating: labels/train/IMG20230530065926_01_jpg.rf.6a4ebb78046fb98f8ceebde7cf1c5953.txt  \n",
            "  inflating: labels/train/IMG20230530065926_01_jpg.rf.9f2316ccaa9909be1209eb1fab9f5b66.txt  \n",
            "  inflating: labels/train/IMG20230530065954_jpg.rf.00fe4c107f0df16e6dccd2b504a71bd6.txt  \n",
            "  inflating: labels/train/IMG20230530065954_jpg.rf.afe70d05153fc02f35de63f0193e86f6.txt  \n",
            "  inflating: labels/train/IMG20230530065954_jpg.rf.d03ccf2994c5092d364f3cdab2fb1412.txt  \n",
            "  inflating: labels/train/IMG20230530065955_01_jpg.rf.7763c1ccfa9625338e4a618871274eac.txt  \n",
            "  inflating: labels/train/IMG20230530065955_01_jpg.rf.8ef705d121af03a12fe96fd162461ff5.txt  \n",
            "  inflating: labels/train/IMG20230530065955_01_jpg.rf.d885ea54dd6431b70b176bee1848a49f.txt  \n",
            "  inflating: labels/train/IMG20230530065957_01_jpg.rf.4ef3b604f32e71f916f6c608d9628119.txt  \n",
            "  inflating: labels/train/IMG20230530065957_01_jpg.rf.76a3bd210561ca4e0994cff3d4f1789d.txt  \n",
            "  inflating: labels/train/IMG20230530065957_01_jpg.rf.c71eeca7d036929e22948bc4c9538d5b.txt  \n",
            "  inflating: labels/train/IMG20230530065959_jpg.rf.0d2e16f2fe572d3587ba711dbb247601.txt  \n",
            "  inflating: labels/train/IMG20230530065959_jpg.rf.3c9690e838268a98385a947ebcc2320e.txt  \n",
            "  inflating: labels/train/IMG20230530065959_jpg.rf.d62f76f7e7a4f593abfa892efb1fd465.txt  \n",
            "  inflating: labels/train/IMG20230530070000_01_jpg.rf.52c47115be2bd8946c86ae08ec86488d.txt  \n",
            "  inflating: labels/train/IMG20230530070000_01_jpg.rf.87fb0f85da9cf03bc108be35dafe77b0.txt  \n",
            "  inflating: labels/train/IMG20230530070000_01_jpg.rf.f005bc21862d74257a9d05c27bb07d22.txt  \n",
            "  inflating: labels/train/IMG20230530070020_01_jpg.rf.4a6e51c3ca40e712fbd733635c3e227f.txt  \n",
            "  inflating: labels/train/IMG20230530070020_01_jpg.rf.96dd056d81c45844147ecb19d4e7740f.txt  \n",
            "  inflating: labels/train/IMG20230530070020_01_jpg.rf.aefbdd32c37c1e61b64cb984bd49e9f9.txt  \n",
            "  inflating: labels/train/IMG20230530070024_01_jpg.rf.13f41b27d1295dedb7500942fe2f0ada.txt  \n",
            "  inflating: labels/train/IMG20230530070024_01_jpg.rf.a9a80965eaf072faa3f000e79b81ae89.txt  \n",
            "  inflating: labels/train/IMG20230530070024_01_jpg.rf.c5b924655b1964a63dd97d416abb424d.txt  \n",
            "  inflating: labels/train/IMG20230530070025_01_jpg.rf.3a3a430998e59d2d4602b56388abb09d.txt  \n",
            "  inflating: labels/train/IMG20230530070025_01_jpg.rf.3fd444baec2d26b7ead89f60466c77c2.txt  \n",
            "  inflating: labels/train/IMG20230530070025_01_jpg.rf.8dd97318f70555608289cfea0267c250.txt  \n",
            "  inflating: labels/train/IMG20230530070028_jpg.rf.2a13a399e032b7d36f6c17f325b98491.txt  \n",
            "  inflating: labels/train/IMG20230530070028_jpg.rf.4139d498b8660a53aa68f32e47a62b65.txt  \n",
            "  inflating: labels/train/IMG20230530070028_jpg.rf.9bcc1d62beddeec0194dfb5a1741c3d0.txt  \n",
            "  inflating: labels/train/IMG20230530181226_01_jpg.rf.39bfc8c4857232610a930c1a661bab52.txt  \n",
            "  inflating: labels/train/IMG20230530181226_01_jpg.rf.3dfe6880d9d3e655f294e932159135d3.txt  \n",
            "  inflating: labels/train/IMG20230530181226_01_jpg.rf.ad998fb9f962fc83cb47d39161ccbc18.txt  \n",
            "  inflating: labels/train/IMG20230530181228_01_jpg.rf.3dd546bc632e3a3ac59c4fd9d5ee03b5.txt  \n",
            "  inflating: labels/train/IMG20230530181228_01_jpg.rf.cae4060b50d8b3628a6d840933698ca7.txt  \n",
            "  inflating: labels/train/IMG20230530181228_03_jpg.rf.aed52a4b483ef93b17615a25587e4d7b.txt  \n",
            "  inflating: labels/train/IMG20230530181228_03_jpg.rf.f2a263b01c8aa96fa35283fd094db083.txt  \n",
            "  inflating: labels/train/IMG20230530181228_03_jpg.rf.f54146483d1f802760e93c14419729ed.txt  \n",
            "  inflating: labels/train/IMG20230530181233_jpg.rf.5c9f9bc4c05a569532e59d4526df0d58.txt  \n",
            "  inflating: labels/train/IMG20230530181233_jpg.rf.85c3109a32022d7f22f89b72d43bc090.txt  \n",
            "  inflating: labels/train/IMG20230530181233_jpg.rf.b214b4216c2396f34fe5da88529a6cf1.txt  \n",
            "  inflating: labels/train/IMG20230530181234_01_jpg.rf.6df2d7497844fabf8588303eeb348c30.txt  \n",
            "  inflating: labels/train/IMG20230530181234_01_jpg.rf.8fd2d81a5b94fc6b052b4e5a26965ec0.txt  \n",
            "  inflating: labels/train/IMG20230530181234_01_jpg.rf.f666391cfb88b92fc9e800907f074bec.txt  \n",
            "  inflating: labels/train/IMG20230530181236_01_jpg.rf.6254be3650f5f7359333bfe72a5acee6.txt  \n",
            "  inflating: labels/train/IMG20230530181236_01_jpg.rf.833600d65d88372e0a6964597ff7a854.txt  \n",
            "  inflating: labels/train/IMG20230530181236_01_jpg.rf.f32f4888ff7fb3175e5cc8998b83c1fe.txt  \n",
            "  inflating: labels/train/IMG20230530181238_01_jpg.rf.4a08fd08731de6713fa88a3f22ff95b6.txt  \n",
            "  inflating: labels/train/IMG20230530181238_01_jpg.rf.5147177e8a9eb9c7fbbbb1e9420e8e79.txt  \n",
            "  inflating: labels/train/IMG20230530181238_01_jpg.rf.d064c2ab38185b564ebe16632877cc22.txt  \n",
            "  inflating: labels/train/IMG20230530181239_01_jpg.rf.35e205dd093ea8e81516749a0dc1c0ef.txt  \n",
            "  inflating: labels/train/IMG20230530181239_01_jpg.rf.80426356c4684782d49091c4eab43c8d.txt  \n",
            "  inflating: labels/train/IMG20230530181239_01_jpg.rf.92c7a19f72f743235d530b81060bde57.txt  \n",
            "  inflating: labels/train/IMG20230530181243_01_jpg.rf.262a058c17a840c313e31497eb732699.txt  \n",
            "  inflating: labels/train/IMG20230530181243_01_jpg.rf.520e3f0c72454e4d467da8084850a787.txt  \n",
            "  inflating: labels/train/IMG20230530181243_01_jpg.rf.a72f9c4893fb635496ce0081ca5ae172.txt  \n",
            "  inflating: labels/train/IMG20230530181245_01_jpg.rf.105e51cb73d050279103e9398dfe72b9.txt  \n",
            "  inflating: labels/train/IMG20230530181245_01_jpg.rf.3d9e52e1c06ee1267b60db74f6d6b723.txt  \n",
            "  inflating: labels/train/IMG20230530181245_01_jpg.rf.97640d6dfdaab2eb5fe25923015b4a08.txt  \n",
            "  inflating: labels/train/IMG20230530181248_01_jpg.rf.199581fa950ed05f2e73e1f93214cd37.txt  \n",
            "  inflating: labels/train/IMG20230530181248_01_jpg.rf.3a76fd210ca3e382c895f79a49fbc0eb.txt  \n",
            "  inflating: labels/train/IMG20230530181248_01_jpg.rf.f6daa4e29f2c33600da7c0b9ba198014.txt  \n",
            "  inflating: labels/train/IMG20230530181250_01_jpg.rf.544c06dba601f134c941bc84e08daec9.txt  \n",
            "  inflating: labels/train/IMG20230530181250_01_jpg.rf.61497b4d9203ea8de77c44dbdb87d50d.txt  \n",
            "  inflating: labels/train/IMG20230530181250_03_jpg.rf.916a4176e27025627d2465824199c18f.txt  \n",
            "  inflating: labels/train/IMG20230530181250_03_jpg.rf.d160d18d6b4e5bf60d9cd243f7f98d7e.txt  \n",
            "  inflating: labels/train/IMG20230530181252_01_jpg.rf.a065fc6752005d34ed44a21a2cfd3d29.txt  \n",
            "  inflating: labels/train/IMG20230530181252_01_jpg.rf.db49410235a5c6aeb6c1a559b5c9c311.txt  \n",
            "  inflating: labels/train/IMG20230530181252_01_jpg.rf.e6c307d3b3859e58ec813f9bc4d5dbff.txt  \n",
            "  inflating: labels/train/IMG20230530181414_01_jpg.rf.0415755de758983ff2f8e4f27d15e312.txt  \n",
            "  inflating: labels/train/IMG20230530181414_01_jpg.rf.5ca6bcbae289e9f6c201dfa9daef12ad.txt  \n",
            "  inflating: labels/train/IMG20230530181414_01_jpg.rf.66efa02efa232b4b9369daaaf35c9946.txt  \n",
            "  inflating: labels/train/IMG20230530181415_01_jpg.rf.9698e9e26385b4e5157403046cf82b33.txt  \n",
            "  inflating: labels/train/IMG20230530181415_01_jpg.rf.a3b06f111bf6262734c26b4faedc2ad1.txt  \n",
            "  inflating: labels/train/IMG20230530181415_01_jpg.rf.a8453bbedc238eb6785e086b67bc9f8b.txt  \n",
            "  inflating: labels/train/IMG20230530181418_01_jpg.rf.4331b30aae0e20daac97bcb961e193af.txt  \n",
            "  inflating: labels/train/IMG20230530181418_01_jpg.rf.78b34aa8a1a494deec6b67d8d0529125.txt  \n",
            "  inflating: labels/train/IMG20230530181418_01_jpg.rf.db05b7ffb14e41326b570915fef94fe0.txt  \n",
            "  inflating: labels/train/IMG20230530181420_jpg.rf.05555c3b7dd0f08db00cfa8612899b99.txt  \n",
            "  inflating: labels/train/IMG20230530181420_jpg.rf.cc9bd7e7980ba94d827448e598863d96.txt  \n",
            "  inflating: labels/train/IMG20230530181420_jpg.rf.ec152c1c73a19afad6e8d58b2d936273.txt  \n",
            "  inflating: labels/train/IMG20230530181421_01_jpg.rf.3333837b1999eab4d89137d12fbe63b1.txt  \n",
            "  inflating: labels/train/IMG20230530181421_01_jpg.rf.e85fcb92a227190b788510fdb4822618.txt  \n",
            "  inflating: labels/train/IMG20230530181421_01_jpg.rf.e95377826f18551ee53626fd0188cee4.txt  \n",
            "  inflating: labels/train/IMG20230530181422_01_jpg.rf.0a243a81e9db9240b903f93614ac3eac.txt  \n",
            "  inflating: labels/train/IMG20230530181422_01_jpg.rf.fbee445da86b105a9fa820db01b46d66.txt  \n",
            "  inflating: labels/train/IMG20230530181422_01_jpg.rf.fc0c00c333ef71518dd6dbfe7364e4a7.txt  \n",
            "  inflating: labels/train/IMG20230530181425_03_jpg.rf.0733e751e6b0acd6fc06e2484202c3fe.txt  \n",
            "  inflating: labels/train/IMG20230530181425_03_jpg.rf.8675e6ac9df368bb6bc4864a35e37b4c.txt  \n",
            "  inflating: labels/train/IMG20230530181425_03_jpg.rf.ef710c5697208fb424cf66d36e0fab16.txt  \n",
            "  inflating: labels/train/IMG20230530181427_01_jpg.rf.15121c20eff82d7a5df9b5891a5fdcd2.txt  \n",
            "  inflating: labels/train/IMG20230530181427_01_jpg.rf.5754ad4b771197df9331de65ed86838b.txt  \n",
            "  inflating: labels/train/IMG20230530181427_01_jpg.rf.894ae338d056c29b9cdca331f75946c0.txt  \n",
            "  inflating: labels/train/IMG20230530181428_01_jpg.rf.2d756a7f4354bde3c5affd196cba6f57.txt  \n",
            "  inflating: labels/train/IMG20230530181428_01_jpg.rf.5361339d7f978b30897c8c23dd1673c5.txt  \n",
            "  inflating: labels/train/IMG20230530181428_01_jpg.rf.aa0690fde38fdb8ad5b48924a3c721db.txt  \n",
            "  inflating: labels/train/IMG20230530181429_01_jpg.rf.0fd95775872aeea4299f1a4edf54341f.txt  \n",
            "  inflating: labels/train/IMG20230530181429_01_jpg.rf.ca5758d8b276875a2369fef0d1c714a1.txt  \n",
            "  inflating: labels/train/IMG20230530181429_01_jpg.rf.db98ec743450cfb9a1456ab18e92f7eb.txt  \n",
            "  inflating: labels/train/IMG20230530181430_01_jpg.rf.73b23c027d2a1a8c58a4d5a84cff7f79.txt  \n",
            "  inflating: labels/train/IMG20230530181430_01_jpg.rf.92681cb97f012ae889c01c23b4cb4d1a.txt  \n",
            "  inflating: labels/train/IMG20230530181430_01_jpg.rf.b5cc5bb56452ff28dd6bd9357b298990.txt  \n",
            "  inflating: labels/train/IMG20230530181434_02_jpg.rf.4191fc09ff3dfb41534a30649eadc17c.txt  \n",
            "  inflating: labels/train/IMG20230530181434_02_jpg.rf.5c8182b5a075a526b0a93e1b0d2121c2.txt  \n",
            "  inflating: labels/train/IMG20230530181434_02_jpg.rf.bc6f33fa9e02477c0f40094a8d3b0b40.txt  \n",
            "  inflating: labels/train/IMG20230530181438_01_jpg.rf.3a1daafb016c2a1adf3de701ae9f8ae5.txt  \n",
            "  inflating: labels/train/IMG20230530181438_01_jpg.rf.4cac9b7f7c84e60666898da564bf558c.txt  \n",
            "  inflating: labels/train/IMG20230530181438_01_jpg.rf.711f4de89fdf9022021bbfdf35c466d6.txt  \n",
            "  inflating: labels/train/IMG20230530181438_01_jpg.rf.8985f7c72ec7a76dc50694cc1085740e.txt  \n",
            "  inflating: labels/train/IMG20230530181438_01_jpg.rf.c292079fc1c3741893218d8b31fc272d.txt  \n",
            "  inflating: labels/train/IMG20230530181438_01_jpg.rf.c5a36bf9923d4fc03e41f89e3d79c0e5.txt  \n",
            "  inflating: labels/train/IMG20230530181438_01_jpg.rf.ccdfaf6c020cce0b9a15cf4a57e55a12.txt  \n",
            "  inflating: labels/train/IMG20230530181438_01_jpg.rf.d3430f946d0938bd8bd11505b211a2ec.txt  \n",
            "  inflating: labels/train/IMG20230530181438_01_jpg.rf.d99cffdfcb72abddc5ba9e0bf90ff86d.txt  \n",
            "  inflating: labels/train/IMG20230530181441_01_jpg.rf.08958359189e49526a25a50c8e383245.txt  \n",
            "  inflating: labels/train/IMG20230530181441_01_jpg.rf.16f8128cb89969bae8eebb69e5fcbe17.txt  \n",
            "  inflating: labels/train/IMG20230530181441_01_jpg.rf.1bfdcd295a38df63e395841d1974f8f2.txt  \n",
            "  inflating: labels/train/IMG20230530181441_01_jpg.rf.42035a3dc5d5282a0cf5f7b084efb89a.txt  \n",
            "  inflating: labels/train/IMG20230530181441_01_jpg.rf.7e053e8f9d3c681b1fd322646afe4c4f.txt  \n",
            "  inflating: labels/train/IMG20230530181441_01_jpg.rf.a267429edbc69592c99608db0826c6fa.txt  \n",
            "  inflating: labels/train/IMG20230530181441_01_jpg.rf.c528bb9b10487b5f39c2bad6ef675990.txt  \n",
            "  inflating: labels/train/IMG20230530181441_01_jpg.rf.e07bfe649fa3db3347e21bd710952a09.txt  \n",
            "  inflating: labels/train/IMG20230530181441_01_jpg.rf.e1418333c4d819367277fc96badd1635.txt  \n",
            "  inflating: labels/train/IMG20230530181443_01_jpg.rf.39ec0a09807d9dade5774f834c76d9b6.txt  \n",
            "  inflating: labels/train/IMG20230530181443_01_jpg.rf.a69f06d52f124a00f648cb3c8869296f.txt  \n",
            "  inflating: labels/train/IMG20230530181443_01_jpg.rf.e5f8d71c42b132ded4245ba860da8a59.txt  \n",
            "  inflating: labels/train/IMG20230531132305_01_jpg.rf.4895fb69a15be715ccfde78c567055f7.txt  \n",
            "  inflating: labels/train/IMG20230531132305_01_jpg.rf.576041e331625926beec619be21b0b67.txt  \n",
            "  inflating: labels/train/IMG20230531132306_01_jpg.rf.2ff444b06075545b81f1f698bee14cea.txt  \n",
            "  inflating: labels/train/IMG20230531132306_01_jpg.rf.a8993fcfebfb057b3d2a26b6a5de535c.txt  \n",
            "  inflating: labels/train/IMG20230531132306_01_jpg.rf.dc59d4773db1add48c6b675061b16d92.txt  \n",
            "  inflating: labels/train/IMG20230531132308_01_jpg.rf.74d03df50af38ba2bf9affbc7dbfad28.txt  \n",
            "  inflating: labels/train/IMG20230531132308_01_jpg.rf.b077d9e7c940c601262667995aaedefc.txt  \n",
            "  inflating: labels/train/IMG20230531132308_01_jpg.rf.f633128188c2da9eec08676ceac45901.txt  \n",
            "  inflating: labels/train/IMG20230531132309_01_jpg.rf.2d4285360ccdd295e49b920f7f336195.txt  \n",
            "  inflating: labels/train/IMG20230531132309_01_jpg.rf.a0a04ed232d4bb50c2ca377d1513bb50.txt  \n",
            "  inflating: labels/train/IMG20230531132309_01_jpg.rf.aaf275ad8a6944c71ddf91fb4d24667f.txt  \n",
            "  inflating: labels/train/IMG20230531132311_01_jpg.rf.2048e439a2a0f1aca046328b826cc3a4.txt  \n",
            "  inflating: labels/train/IMG20230531132311_01_jpg.rf.be8d20d179e4cb8d0a4d5626b768788e.txt  \n",
            "  inflating: labels/train/IMG20230531132311_01_jpg.rf.d2a7cd1320cc531e66fdd762940be94d.txt  \n",
            "  inflating: labels/train/IMG20230531132312_01_jpg.rf.3bc258ff09d8afd79070b400ad9e46a1.txt  \n",
            "  inflating: labels/train/IMG20230531132312_01_jpg.rf.68de39067b4311d2be406c93dd9094d7.txt  \n",
            "  inflating: labels/train/IMG20230531132312_01_jpg.rf.96c54a50c20e9301f9d9b2509d9bd57e.txt  \n",
            "  inflating: labels/train/IMG20230531132313_01_jpg.rf.303669e8400d989a2b22c5081dabb46e.txt  \n",
            "  inflating: labels/train/IMG20230531132313_01_jpg.rf.525693e7a5d2af96d289e6e350f7f2a4.txt  \n",
            "  inflating: labels/train/IMG20230531132313_01_jpg.rf.af638a7890158ae2bf9c707340ca9226.txt  \n",
            "  inflating: labels/train/IMG20230531132314_01_jpg.rf.496613be6f964fc2d92785935c146d0a.txt  \n",
            "  inflating: labels/train/IMG20230531132314_01_jpg.rf.cf9475b8cbc18b848c7d637c5a2db81c.txt  \n",
            "  inflating: labels/train/IMG20230531132314_01_jpg.rf.e7551cb55a857c4573eaaf877d884116.txt  \n",
            "  inflating: labels/train/IMG20230531132318_01_jpg.rf.12ba4db62da4608546c57760a3a275d8.txt  \n",
            "  inflating: labels/train/IMG20230531132318_01_jpg.rf.79999f033d3ac34fca4c7f90eaf50ec1.txt  \n",
            "  inflating: labels/train/IMG20230531132318_01_jpg.rf.9921eba52223e35fea4d2b7a8a5ba37b.txt  \n",
            "  inflating: labels/train/IMG20230531132318_03_jpg.rf.436fcb9692270c5e479154ab27fd99d9.txt  \n",
            "  inflating: labels/train/IMG20230531132318_03_jpg.rf.7b771c6b8290614ec996ea797f800331.txt  \n",
            "  inflating: labels/train/IMG20230531132318_03_jpg.rf.7e8612bc0343be37276da6eb07f326dd.txt  \n",
            "  inflating: labels/train/IMG20230531132319_01_jpg.rf.1e15ff670a9f3a7b4c3d0f84aff1e958.txt  \n",
            "  inflating: labels/train/IMG20230531132319_01_jpg.rf.230000846455700aaab807e4323fea89.txt  \n",
            "  inflating: labels/train/IMG20230531132319_01_jpg.rf.3332d6e5ef9ede3ac7d53e5cc22ae7ad.txt  \n",
            "  inflating: labels/train/IMG20230531132319_01_jpg.rf.3ef50477d20fb852486969806e8f72b5.txt  \n",
            "  inflating: labels/train/IMG20230531132319_01_jpg.rf.5bf3b973656b70a79a6d02c7cc08b603.txt  \n",
            "  inflating: labels/train/IMG20230531132319_01_jpg.rf.972c33da5ea5a8fa67c8b29723a175e7.txt  \n",
            "  inflating: labels/train/IMG20230531132319_01_jpg.rf.a202a76294e81759b2e6b0072b7bc08e.txt  \n",
            "  inflating: labels/train/IMG20230531132319_01_jpg.rf.a896d383231c0abed3d2d4861b801a3c.txt  \n",
            "  inflating: labels/train/IMG20230531132319_01_jpg.rf.c385b87f18a14db854d6e701c51336c1.txt  \n",
            "  inflating: labels/train/IMG20230531132319_01_jpg.rf.e822850b985b54dc81df25fd0f07555a.txt  \n",
            "  inflating: labels/train/IMG20230531132319_01_jpg.rf.ebaa5f325feeffffb42fca9e446095ef.txt  \n",
            "  inflating: labels/train/IMG20230531132319_01_jpg.rf.fb0c8da31f5e7bc49b235efbe5405e6d.txt  \n",
            "  inflating: labels/train/IMG20230531132321_01_jpg.rf.0e9c115ab5031cbb2ee111e4b6fbfcee.txt  \n",
            "  inflating: labels/train/IMG20230531132321_01_jpg.rf.3c9f2b6803a2be4ba9c825422f1e1aa7.txt  \n",
            "  inflating: labels/train/IMG20230531132321_01_jpg.rf.e6b5dad3f6d4c7ba9f83e0b813d264dd.txt  \n",
            "  inflating: labels/train/IMG20230531132322_01_jpg.rf.18b32a325edea44ff7e3493139feb788.txt  \n",
            "  inflating: labels/train/IMG20230531132322_01_jpg.rf.7ba5d737dbda422245d338077b17a75b.txt  \n",
            "  inflating: labels/train/IMG20230531132322_01_jpg.rf.997793c363dbc5353bf575e5dc8ff8c9.txt  \n",
            "  inflating: labels/train/IMG20230531132324_01_jpg.rf.05e8b24143a6a1e7c10c7faf7581d754.txt  \n",
            "  inflating: labels/train/IMG20230531132324_01_jpg.rf.0d661ee587cec7e855556cf706d5a4b2.txt  \n",
            "  inflating: labels/train/IMG20230531132324_01_jpg.rf.79c79ddbe3d8809f721598107b6c8bef.txt  \n",
            "  inflating: labels/train/IMG20230531132325_01_jpg.rf.0ce8afafd4d5e67bdf62d74d06af4341.txt  \n",
            "  inflating: labels/train/IMG20230531132325_01_jpg.rf.3be94fe9047a099eb4b536160e6c7b06.txt  \n",
            "  inflating: labels/train/IMG20230531132325_01_jpg.rf.847b2c5136173f34dacfc67b640b0e6a.txt  \n",
            "  inflating: labels/train/IMG20230531132326_01_jpg.rf.69ff5ff48af455980f26fc61b4e24aaf.txt  \n",
            "  inflating: labels/train/IMG20230531132326_01_jpg.rf.ae6cf1dc04ae2340b14be0207fbc2482.txt  \n",
            "  inflating: labels/train/IMG20230531132326_01_jpg.rf.c51bee62ae1a822f2bba5fb8e46a598f.txt  \n",
            "  inflating: labels/train/IMG20230531132328_01_jpg.rf.1fa66438bd5998f912ddc46a46ac6da0.txt  \n",
            "  inflating: labels/train/IMG20230531132328_01_jpg.rf.861d4795a2763d12f2e8d2622dacbd19.txt  \n",
            "  inflating: labels/train/IMG20230531132328_01_jpg.rf.c261dc0726f4272c98680f85f175b90b.txt  \n",
            "  inflating: labels/train/IMG20230531132330_01_jpg.rf.3563de32fc156539187f1eb3d99778bb.txt  \n",
            "  inflating: labels/train/IMG20230531132330_01_jpg.rf.e52dae6b63743fe0af05358a0e033ef6.txt  \n",
            "  inflating: labels/train/IMG20230531132331_01_jpg.rf.4d560907d9060fead0561215f9361f63.txt  \n",
            "  inflating: labels/train/IMG20230531132331_01_jpg.rf.5674593b866bd63dfdb829789aa61fbd.txt  \n",
            "  inflating: labels/train/IMG20230531132331_01_jpg.rf.a6697e92c4e867cd8f194467930116ac.txt  \n",
            "  inflating: labels/train/IMG20230531132332_01_jpg.rf.5912d435e2fd9d0277cde1ffaf44c299.txt  \n",
            "  inflating: labels/train/IMG20230531132332_01_jpg.rf.a9de852767fdddf9b67956f5127225c3.txt  \n",
            "  inflating: labels/train/IMG20230531132332_01_jpg.rf.ecb1c62f14f1280dbdd5c0eb14d0be87.txt  \n",
            "  inflating: labels/train/IMG20230531132335_01_jpg.rf.2ffedaa46cbc29b8a9ebec5014755c18.txt  \n",
            "  inflating: labels/train/IMG20230531132335_01_jpg.rf.cffeadecd3439d0e3ce7c17e90492135.txt  \n",
            "  inflating: labels/train/IMG20230531132335_03_jpg.rf.0de3eab11fb2efdfd4ef13646ebf570d.txt  \n",
            "  inflating: labels/train/IMG20230531132335_03_jpg.rf.a39f63e8a3885ddb88dd67013df4b3e3.txt  \n",
            "  inflating: labels/train/IMG20230531132335_03_jpg.rf.a4d15ef25edd8914462f5553282a1d3b.txt  \n",
            "  inflating: labels/train/IMG20230531132352_jpg.rf.5cec219a187823a1eb6f056e9607a27f.txt  \n",
            "  inflating: labels/train/IMG20230531132352_jpg.rf.c75653c9eab7554ab1bbff1eacaa2c36.txt  \n",
            "  inflating: labels/train/IMG20230531132352_jpg.rf.f03ab02bb122f500e3dea9b0670fb0b7.txt  \n",
            "  inflating: labels/train/IMG20230531132354_01_jpg.rf.6f730b2fa33ab0bb08934dcf7de97731.txt  \n",
            "  inflating: labels/train/IMG20230531132354_01_jpg.rf.b46d981eb43c232e207d578e8c424c24.txt  \n",
            "  inflating: labels/train/IMG20230531132354_01_jpg.rf.bf0748e443e9aadbf07525fb7fa22686.txt  \n",
            "  inflating: labels/train/IMG20230531132356_jpg.rf.0377964f7984ff16966fe1425abd7763.txt  \n",
            "  inflating: labels/train/IMG20230531132356_jpg.rf.5e26229bf5cd76dccdd1c15661f2906b.txt  \n",
            "  inflating: labels/train/IMG20230531132356_jpg.rf.c45f84e8f9d58fcc64101a470c3edbb6.txt  \n",
            "  inflating: labels/train/IMG20230531132359_01_jpg.rf.22eda6a05159af5ef7572549dc667f13.txt  \n",
            "  inflating: labels/train/IMG20230531132359_01_jpg.rf.8647754104c36fee0c1adf5bb78be7e0.txt  \n",
            "  inflating: labels/train/IMG20230531132359_01_jpg.rf.ac5a970cb9c5e34e77c75d234534658e.txt  \n",
            "  inflating: labels/train/IMG20230531132400_01_jpg.rf.2d50b19cf41151bc317021445383f3a8.txt  \n",
            "  inflating: labels/train/IMG20230531132400_01_jpg.rf.b8c5831e6970704c64e5446fe2d8a0ee.txt  \n",
            "  inflating: labels/train/IMG20230531132400_01_jpg.rf.ba9e04a5047e761ae43fd64dca0d0486.txt  \n",
            "  inflating: labels/train/IMG20230531132402_01_jpg.rf.3f0e46a1c491e32e08c85ea844931979.txt  \n",
            "  inflating: labels/train/IMG20230531132402_01_jpg.rf.56718ef2a022bb381f759e54d4af29f9.txt  \n",
            "  inflating: labels/train/IMG20230531132402_01_jpg.rf.d101871f3a33998dbbc1bb9a9f6c60e0.txt  \n",
            "  inflating: labels/train/IMG20230531132405_01_jpg.rf.635461fc2b8337c41445c55c6f1d384f.txt  \n",
            "  inflating: labels/train/IMG20230531132405_01_jpg.rf.76b6a38219daa8b88aaba85fffa61f3b.txt  \n",
            "  inflating: labels/train/IMG20230531132405_01_jpg.rf.bb73c725193e3f233148c51c3234f4c1.txt  \n",
            "  inflating: labels/train/IMG20230531132408_01_jpg.rf.72ca2171b506580d59996e41a0bf79ad.txt  \n",
            "  inflating: labels/train/IMG20230531132408_01_jpg.rf.b28712bee5d6e026b46051736fdd9918.txt  \n",
            "  inflating: labels/train/IMG20230531132408_01_jpg.rf.f4e83a5102931801924783839cf1aa2a.txt  \n",
            "  inflating: labels/train/IMG20230531133628_01_jpg.rf.0ba3e353fd4937349d8e469a1f481483.txt  \n",
            "  inflating: labels/train/IMG20230531133628_01_jpg.rf.249707fe45d6fb7aac8dfa00c658ad83.txt  \n",
            "  inflating: labels/train/IMG20230531133628_01_jpg.rf.c63bb65cae99d01b3ce8f93f74deeae5.txt  \n",
            "  inflating: labels/train/IMG20230531133631_01_jpg.rf.59af96cd943f746e414eaa980db95d5a.txt  \n",
            "  inflating: labels/train/IMG20230531133631_01_jpg.rf.a97653d7cb0bb0af4fe640ac7e40cdb8.txt  \n",
            "  inflating: labels/train/IMG20230531133631_01_jpg.rf.d1df99022c9034a06737f35b704db1dc.txt  \n",
            "  inflating: labels/train/IMG20230531133631_03_jpg.rf.5beaa4a9dd87811a55205687e9bb3e3a.txt  \n",
            "  inflating: labels/train/IMG20230531133631_03_jpg.rf.abdaa60ff9cf57125cd2fdefbfa609a2.txt  \n",
            "  inflating: labels/train/IMG20230531133631_03_jpg.rf.c50edd5b7df58c7e75a28164141d1020.txt  \n",
            "  inflating: labels/train/IMG20230531133632_01_jpg.rf.44510173c41087eca58376d975044980.txt  \n",
            "  inflating: labels/train/IMG20230531133632_01_jpg.rf.bc72ad64d0b3ecb9058c4cd4685153e0.txt  \n",
            "  inflating: labels/train/IMG20230531133634_01_jpg.rf.54fde7a76fcaffb41f05ec8c8838f357.txt  \n",
            "  inflating: labels/train/IMG20230531133634_01_jpg.rf.590cc30734155da4e455af50eb0deeb4.txt  \n",
            "  inflating: labels/train/IMG20230531133634_01_jpg.rf.b279f67fe24af230e8573327e53de390.txt  \n",
            "  inflating: labels/train/IMG20230531133636_jpg.rf.1767f509516c6e56c6e80149085b484b.txt  \n",
            "  inflating: labels/train/IMG20230531133636_jpg.rf.47b8ada0277ba192e2959df9d5a28cd3.txt  \n",
            "  inflating: labels/train/IMG20230531133636_jpg.rf.ff25a08ebeb7af3e619eb3959c9cc756.txt  \n",
            "  inflating: labels/train/IMG20230531133637_01_jpg.rf.50e31f9ab1ac7fece128defc9cad09b4.txt  \n",
            "  inflating: labels/train/IMG20230531133637_01_jpg.rf.73563bd2633b5d8f5043689d773187ef.txt  \n",
            "  inflating: labels/train/IMG20230531133637_01_jpg.rf.783b75574154c138d3ce07ba5753aae0.txt  \n",
            "  inflating: labels/train/IMG20230531133638_01_jpg.rf.03d43acf35e190756c082f7fc1e0c9e1.txt  \n",
            "  inflating: labels/train/IMG20230531133638_01_jpg.rf.3adc404b0a44cde7f14c5061a796b9c0.txt  \n",
            "  inflating: labels/train/IMG20230531133638_01_jpg.rf.ec0f8a12055d9828a2fa61435b42d987.txt  \n",
            "  inflating: labels/train/IMG20230531133639_01_jpg.rf.066cfaa6de74f1673571b454c4e84739.txt  \n",
            "  inflating: labels/train/IMG20230531133639_01_jpg.rf.0dc9be4df718217c4664dafcb560d497.txt  \n",
            "  inflating: labels/train/IMG20230531133639_01_jpg.rf.1891aa25bf47dac3ef4faefa5d15e151.txt  \n",
            "  inflating: labels/train/IMG20230531133639_01_jpg.rf.1e4bfce62aa8ed044101319fc8baaf3c.txt  \n",
            "  inflating: labels/train/IMG20230531133639_01_jpg.rf.2a4ff01a24426ff34a5d467557bd4c21.txt  \n",
            "  inflating: labels/train/IMG20230531133639_01_jpg.rf.2bc73528b4e20e6a22549c9ee399f803.txt  \n",
            "  inflating: labels/train/IMG20230531133639_01_jpg.rf.2d56520b4e5b87275d018ede79f7232c.txt  \n",
            "  inflating: labels/train/IMG20230531133639_01_jpg.rf.41519ffb9c16f2b37f181e328ae2feb5.txt  \n",
            "  inflating: labels/train/IMG20230531133639_01_jpg.rf.4243c21db5808b81559cb53b7c50a168.txt  \n",
            "  inflating: labels/train/IMG20230531133639_01_jpg.rf.43b6acc65f9990c04025c4af4ef94989.txt  \n",
            "  inflating: labels/train/IMG20230531133639_01_jpg.rf.614bfcf42c2c5647b7ddce82b091f006.txt  \n",
            "  inflating: labels/train/IMG20230531133639_01_jpg.rf.653b8505ca1276ca2c2555af55bcc494.txt  \n",
            "  inflating: labels/train/IMG20230531133639_01_jpg.rf.65497630c77b8193a043672d8af39568.txt  \n",
            "  inflating: labels/train/IMG20230531133639_01_jpg.rf.88b0dc4bc4a56fa5340f39aa6712cb06.txt  \n",
            "  inflating: labels/train/IMG20230531133639_01_jpg.rf.8ea1b0c6403ec8da9f394c0168c9c11f.txt  \n",
            "  inflating: labels/train/IMG20230531133639_01_jpg.rf.93961879c1aa3bf5ceb9ff1c792ec4ec.txt  \n",
            "  inflating: labels/train/IMG20230531133639_01_jpg.rf.aa6f68a31e5c56f4b82880998273fc13.txt  \n",
            "  inflating: labels/train/IMG20230531133639_01_jpg.rf.c5a8606e9ac1d882fd1f4c3d54f11bd0.txt  \n",
            "  inflating: labels/train/IMG20230531133640_01_jpg.rf.61a2ab70ed056a897357494f4ef45d1a.txt  \n",
            "  inflating: labels/train/IMG20230531133640_01_jpg.rf.8e11f1c16512ce144649f285ee651b85.txt  \n",
            "  inflating: labels/train/IMG20230531133640_01_jpg.rf.d01ffb5be4f21be2f67f6aeaa95dea4f.txt  \n",
            "  inflating: labels/train/IMG20230531133641_01_jpg.rf.1282d3493b5eea16dc3b26bef7357ed8.txt  \n",
            "  inflating: labels/train/IMG20230531133641_01_jpg.rf.1289aa790de55d89047c156b0b477c7d.txt  \n",
            "  inflating: labels/train/IMG20230531133641_01_jpg.rf.a30c84805768373dc238a7197e918b26.txt  \n",
            "  inflating: labels/train/IMG20230531133643_01_jpg.rf.07f2d1835bddb1075552360097fe74cd.txt  \n",
            "  inflating: labels/train/IMG20230531133643_01_jpg.rf.32d0ab35b6863df3d26372a262fab671.txt  \n",
            "  inflating: labels/train/IMG20230531133643_01_jpg.rf.66649cd347ff0beadbd9a4b7deae5ec6.txt  \n",
            "  inflating: labels/train/IMG20230531133645_01_jpg.rf.2050507cae0f8c5dc41bac2890736665.txt  \n",
            "  inflating: labels/train/IMG20230531133645_01_jpg.rf.711969a1872df648aa3cf3f5848ab48c.txt  \n",
            "  inflating: labels/train/IMG20230531133645_01_jpg.rf.b614b39f37373528fee492d76542235e.txt  \n",
            "  inflating: labels/train/IMG20230531133647_01_jpg.rf.3058a6f1e0d53c25eb8a998341722b39.txt  \n",
            "  inflating: labels/train/IMG20230531133647_01_jpg.rf.794bf9cee73ed03f2d271dd42674d863.txt  \n",
            "  inflating: labels/train/IMG20230531133647_01_jpg.rf.9dcd0d1947bbdf5b6e3ae21b4694d671.txt  \n",
            "  inflating: labels/train/IMG20230531133647_03_jpg.rf.005d2bbf4139087e668f14ea69fb74a9.txt  \n",
            "  inflating: labels/train/IMG20230531133647_03_jpg.rf.2ad464a33490891226272541330ab766.txt  \n",
            "  inflating: labels/train/IMG20230531133647_03_jpg.rf.68821b50555c2e8a5874a9200eda5397.txt  \n",
            "  inflating: labels/train/IMG20230531133648_01_jpg.rf.5989a15aae4e86b0fb65190803620846.txt  \n",
            "  inflating: labels/train/IMG20230531133648_01_jpg.rf.659ce62cac8a40a200b84297ce396f88.txt  \n",
            "  inflating: labels/train/IMG20230531133648_01_jpg.rf.67235efd8b4b559efc1d20f453939bcc.txt  \n",
            "  inflating: labels/train/IMG20230531133650_01_jpg.rf.23fe8cfe115738c04cb4d5a698b9fc8d.txt  \n",
            "  inflating: labels/train/IMG20230531133650_01_jpg.rf.4863f23e79fdf61afa5c0c4378f64b9a.txt  \n",
            "  inflating: labels/train/IMG20230531133650_01_jpg.rf.85ddafddc3ea752d72cbe4745889c884.txt  \n",
            "  inflating: labels/train/IMG20230531133651_01_jpg.rf.3eda9847d0172f50410d6fa75b6587e3.txt  \n",
            "  inflating: labels/train/IMG20230531133651_01_jpg.rf.90376df9bdf75164cbca77721d1005f1.txt  \n",
            "  inflating: labels/train/IMG20230531133651_01_jpg.rf.b97a5f6d6ad78c02f3632f567177460f.txt  \n",
            "  inflating: labels/train/IMG20230531133652_01_jpg.rf.1adc20844d6970d80b8b64564343a406.txt  \n",
            "  inflating: labels/train/IMG20230531133652_01_jpg.rf.5d540edf7ab1c22660ae54efa50c15eb.txt  \n",
            "  inflating: labels/train/IMG20230531133655_01_jpg.rf.6abe724bc783893b7c0c62193eda06dd.txt  \n",
            "  inflating: labels/train/IMG20230531133655_01_jpg.rf.6ff92d1035ff284e260fe24b3a7cf555.txt  \n",
            "  inflating: labels/train/IMG20230531133655_01_jpg.rf.edb680230c1e2fd4f9a34dbfce4404a2.txt  \n",
            "  inflating: labels/train/IMG20230531133657_01_jpg.rf.2d8ad8f38e7efefc96b0eb7dfaba3d95.txt  \n",
            "  inflating: labels/train/IMG20230531133657_01_jpg.rf.47e63c1d1952c24ba6f06526fd8ab0be.txt  \n",
            "  inflating: labels/train/IMG20230531133657_01_jpg.rf.7c1ab1cc213bc58f25401eb40d52846e.txt  \n",
            "  inflating: labels/train/IMG20230531133702_01_jpg.rf.9f1e5d86c22cb7619494363b19980e98.txt  \n",
            "  inflating: labels/train/IMG20230531133702_01_jpg.rf.be8394785f21ff218654aa0577ed9329.txt  \n",
            "  inflating: labels/train/IMG20230531133702_01_jpg.rf.d54cc023f5db40bc5bf118bb7e31ae4a.txt  \n",
            "  inflating: labels/train/IMG20230531133708_jpg.rf.84f35a3e971169ff3d4b76fae2b78f95.txt  \n",
            "  inflating: labels/train/IMG20230531133708_jpg.rf.c2a501e72fb0a9c729757b5cc20af041.txt  \n",
            "  inflating: labels/train/IMG20230531133708_jpg.rf.dbeba81f5f23472682dc8e0a5bad8857.txt  \n",
            "  inflating: labels/train/IMG20230531133710_01_jpg.rf.01296903f16ffb4656a417ee0e63bcb0.txt  \n",
            "  inflating: labels/train/IMG20230531133710_01_jpg.rf.11b74064582acd1f157016bfba5405b3.txt  \n",
            "  inflating: labels/train/IMG20230531133710_01_jpg.rf.35783903913be5a4511323549c9aa5b4.txt  \n",
            "  inflating: labels/train/IMG20230531133711_01_jpg.rf.93be8661e336e19f3b0652b899fb61a5.txt  \n",
            "  inflating: labels/train/IMG20230531133711_01_jpg.rf.a96dc73acda78f43bce946b457b79f02.txt  \n",
            "  inflating: labels/train/IMG20230531133712_01_jpg.rf.67a90990104eb2395e7c3db88b3e4c5d.txt  \n",
            "  inflating: labels/train/IMG20230531133712_01_jpg.rf.a917e36efd02ac621b08756830784fb4.txt  \n",
            "  inflating: labels/train/IMG20230531133712_01_jpg.rf.c466f1444b49d9681c88be72d80ca8f8.txt  \n",
            "  inflating: labels/train/IMG20230531133714_01_jpg.rf.012e4dfa639df82b202dacc996a338a0.txt  \n",
            "  inflating: labels/train/IMG20230531133714_01_jpg.rf.0349e237ae95f75beb18149cbdf51077.txt  \n",
            "  inflating: labels/train/IMG20230531133714_01_jpg.rf.12e43d10345da79e7bdfc0e83e55a61d.txt  \n",
            "  inflating: labels/train/IMG20230531133714_01_jpg.rf.24192935e499e31f9c5a5be158dc572c.txt  \n",
            "  inflating: labels/train/IMG20230531133714_01_jpg.rf.24353df0ef4555d53ea2edb89f483a78.txt  \n",
            "  inflating: labels/train/IMG20230531133714_01_jpg.rf.454131fb32024643426165291015f55d.txt  \n",
            "  inflating: labels/train/IMG20230531133714_01_jpg.rf.4f7b391893d8464a0279089f547f5426.txt  \n",
            "  inflating: labels/train/IMG20230531133714_01_jpg.rf.572a515e823169a8f2e6d4f6d9e00c22.txt  \n",
            "  inflating: labels/train/IMG20230531133714_01_jpg.rf.6d0544baa1bc77c9e3414585520f195d.txt  \n",
            "  inflating: labels/train/IMG20230531133714_01_jpg.rf.75cc518a442715b31c2fd427b7782d64.txt  \n",
            "  inflating: labels/train/IMG20230531133714_01_jpg.rf.79d6e04f7982e34e4d713a9accdb6a7b.txt  \n",
            "  inflating: labels/train/IMG20230531133714_01_jpg.rf.7d4e2d7f6e6366bc93010a8b12a16e48.txt  \n",
            "  inflating: labels/train/IMG20230531133714_01_jpg.rf.8e5307bb0010c42524f7ccc2c30bf55f.txt  \n",
            "  inflating: labels/train/IMG20230531133714_01_jpg.rf.9a88e489c0f42a985b5ce931ff01d258.txt  \n",
            "  inflating: labels/train/IMG20230531133714_01_jpg.rf.e71a556170205e2629c6d60eb4466961.txt  \n",
            "  inflating: labels/train/IMG20230531133717_02_jpg.rf.06053f1ec45748b522f0304bcc5696de.txt  \n",
            "  inflating: labels/train/IMG20230531133717_02_jpg.rf.1360cbceaab4bd69287008f2d5775b2b.txt  \n",
            "  inflating: labels/train/IMG20230531133717_02_jpg.rf.15c1f52e146ae2ab27bce73d216fb20f.txt  \n",
            "  inflating: labels/train/IMG20230531133717_02_jpg.rf.20ba950042a967895f3ca2040dea0a01.txt  \n",
            "  inflating: labels/train/IMG20230531133717_02_jpg.rf.271ca7e24c3e9a99b570a3481fd6fe2d.txt  \n",
            "  inflating: labels/train/IMG20230531133717_02_jpg.rf.7cc5f1aa1be8a489243110968110b1c4.txt  \n",
            "  inflating: labels/train/IMG20230531133717_02_jpg.rf.877bd593fba7a17a9526143e8214b513.txt  \n",
            "  inflating: labels/train/IMG20230531133717_02_jpg.rf.8d88e0e355c702145ba29130cb08adce.txt  \n",
            "  inflating: labels/train/IMG20230531133717_02_jpg.rf.92f269b633ab9e46005bd8dcd6b6d61d.txt  \n",
            "  inflating: labels/train/IMG20230531133717_02_jpg.rf.9b2429285c7490417cdaa8b82403ff9c.txt  \n",
            "  inflating: labels/train/IMG20230531133717_02_jpg.rf.abf2b512a35b200ef1e7591fe715e0ed.txt  \n",
            "  inflating: labels/train/IMG20230531133717_02_jpg.rf.b63c463e42c39a50892674f06e06f3a6.txt  \n",
            "  inflating: labels/train/IMG20230531133717_02_jpg.rf.cdb2a62a2d182b5045889e050e664086.txt  \n",
            "  inflating: labels/train/IMG20230531133717_02_jpg.rf.fa20f08207951cadf8daa99f55ee8518.txt  \n",
            "  inflating: labels/train/IMG20230531133717_02_jpg.rf.fb6e94f7f36e4d8a7fb496073e980e1c.txt  \n",
            "  inflating: labels/train/IMG20230531133719_01_jpg.rf.7308730bb88c940c62f33713eb930703.txt  \n",
            "  inflating: labels/train/IMG20230531133719_01_jpg.rf.dfc1ac86b03f4ac4f160a7ac8d4f3fa7.txt  \n",
            "  inflating: labels/train/IMG20230531133719_01_jpg.rf.ee132003afd4ffd3d8510523c70549f3.txt  \n",
            "  inflating: labels/train/IMG20230531133720_01_jpg.rf.07bfe33107b6c54a0deac43156fb68bd.txt  \n",
            "  inflating: labels/train/IMG20230531133720_01_jpg.rf.714c1c4978320dc6539de9d84cd9aab4.txt  \n",
            "  inflating: labels/train/IMG20230531133720_01_jpg.rf.f659552a80a0e07478e7894b22d0c769.txt  \n",
            "  inflating: labels/train/IMG20230531133721_01_jpg.rf.3aa6fb8287ab04f10baed0fafddcf1ca.txt  \n",
            "  inflating: labels/train/IMG20230531133721_01_jpg.rf.863ae02b61b12484289c5a4c6f97cd4f.txt  \n",
            "  inflating: labels/train/IMG20230531133721_01_jpg.rf.d86885c40bc6b8e70551771a4ed17448.txt  \n",
            "  inflating: labels/train/IMG20230531133722_01_jpg.rf.334fe417e6ff509a28bd68d21aae75ed.txt  \n",
            "  inflating: labels/train/IMG20230531133722_01_jpg.rf.7bb290e92ba3efe37e29e4fc2799a296.txt  \n",
            "  inflating: labels/train/IMG20230531133722_01_jpg.rf.e3aa447542979372ddf45c46b16e16c2.txt  \n",
            "  inflating: labels/train/IMG20230531161343_01_jpg.rf.49c797c60e1f4a435d4e1ec09d854a22.txt  \n",
            "  inflating: labels/train/IMG20230531161343_01_jpg.rf.874662d56aa8da97bc44ba80ca039b7d.txt  \n",
            "  inflating: labels/train/IMG20230531161343_01_jpg.rf.a14cef8bede7fc623d2ff74a21bb0b33.txt  \n",
            "  inflating: labels/train/IMG20230531161348_01_jpg.rf.cda7b049b605fde67ea485439d48863e.txt  \n",
            "  inflating: labels/train/IMG20230531161348_01_jpg.rf.cecf22610b99feed4afbb3ffff76b4a9.txt  \n",
            "  inflating: labels/train/IMG20230531161348_01_jpg.rf.d1d47db3bd85ef1c7eeb1b260c7db9f8.txt  \n",
            "  inflating: labels/train/IMG20230531161349_01_jpg.rf.00c9b47224b0ff66dbc03ad65bd11889.txt  \n",
            "  inflating: labels/train/IMG20230531161349_01_jpg.rf.210e10c32b3beac100ff97cf563d59d6.txt  \n",
            "  inflating: labels/train/IMG20230531161349_01_jpg.rf.ad0579a2337a35fb4725905b23d07c17.txt  \n",
            "  inflating: labels/train/IMG20230531161401_01_jpg.rf.059cf8b3f0003982ae5464ac27f27c59.txt  \n",
            "  inflating: labels/train/IMG20230531161401_01_jpg.rf.3ad54c54f5f5556f88f589fd6f6942a4.txt  \n",
            "  inflating: labels/train/IMG20230531161401_01_jpg.rf.beda8a315805bb281106282b46800236.txt  \n",
            "  inflating: labels/train/IMG20230531161402_01_jpg.rf.46cb9292ebe9d6a4090df948139aea1d.txt  \n",
            "  inflating: labels/train/IMG20230531161402_01_jpg.rf.a4d1ed9a8acd3478c9bea63b6f17efac.txt  \n",
            "  inflating: labels/train/IMG20230531161402_01_jpg.rf.eca2218499aaf5d51180e1b1b39f3fac.txt  \n",
            "  inflating: labels/train/IMG20230531161404_01_jpg.rf.6d0ffa6fe86500e9cb790e68be272ef6.txt  \n",
            "  inflating: labels/train/IMG20230531161404_01_jpg.rf.87760a9be1a8e816dd9bd2c885974da1.txt  \n",
            "  inflating: labels/train/IMG20230531161404_01_jpg.rf.b574c806ec99d279e44f91b9e46fc7c1.txt  \n",
            "  inflating: labels/train/IMG20230531161405_01_jpg.rf.51cdf46a8cc204ae348e6350b0951377.txt  \n",
            "  inflating: labels/train/IMG20230531161405_01_jpg.rf.8f404ef6a8200f3e0f6e6d49713218c2.txt  \n",
            "  inflating: labels/train/IMG20230531161405_01_jpg.rf.d67c2dd24fdf046eab6bdcdbb88c77e4.txt  \n",
            "  inflating: labels/train/IMG20230531161407_01_jpg.rf.1fc9385799b96e49423fc7b7c12f1aa7.txt  \n",
            "  inflating: labels/train/IMG20230531161407_01_jpg.rf.c76cba8aa14b8606328822ad455fa45b.txt  \n",
            "  inflating: labels/train/IMG20230531161407_01_jpg.rf.f574a5203eb9133f65ca313e816cab3d.txt  \n",
            "  inflating: labels/train/IMG20230531161409_01_jpg.rf.1e1bcd84b3551e935135ef5884f4c361.txt  \n",
            "  inflating: labels/train/IMG20230531161409_01_jpg.rf.9beb4a8aa664386b38478c85538637a7.txt  \n",
            "  inflating: labels/train/IMG20230531161409_01_jpg.rf.f44d0b9b0082c0d0585c2eecff4448d0.txt  \n",
            "  inflating: labels/train/IMG20230531161410_01_jpg.rf.034126054b72b3c2669e2d86a786f767.txt  \n",
            "  inflating: labels/train/IMG20230531161410_01_jpg.rf.07b221ed507cadcc14e0a6036f7f164e.txt  \n",
            "  inflating: labels/train/IMG20230531161410_01_jpg.rf.0f6934a05583101cfbe6cf5dc9f0c35d.txt  \n",
            "  inflating: labels/train/IMG20230531161410_01_jpg.rf.1c1a5d48a131fb4a213a4bffc76ef010.txt  \n",
            "  inflating: labels/train/IMG20230531161410_01_jpg.rf.244ee50f881f43ba1fe221e58d18c298.txt  \n",
            "  inflating: labels/train/IMG20230531161410_01_jpg.rf.52d175f93aa38dcdb105649ba057032c.txt  \n",
            "  inflating: labels/train/IMG20230531161410_01_jpg.rf.60b0a74b03a1942c1c2f17c7ec78375e.txt  \n",
            "  inflating: labels/train/IMG20230531161410_01_jpg.rf.7bd65df3805d07f5f2e522946b1a05ce.txt  \n",
            "  inflating: labels/train/IMG20230531161410_01_jpg.rf.9dd2126d33983061394e1ec3c69ea639.txt  \n",
            "  inflating: labels/train/IMG20230531161410_01_jpg.rf.aa737e483cf1675dca9b959abc64c134.txt  \n",
            "  inflating: labels/train/IMG20230531161410_01_jpg.rf.b0a75ea0fa43061c2e9d43491985c9fd.txt  \n",
            "  inflating: labels/train/IMG20230531161410_01_jpg.rf.b6bede02c908e464d2053c194a0f74da.txt  \n",
            "  inflating: labels/train/IMG20230531161410_01_jpg.rf.bc55a667e5ec4dc1b4361b1e6f3a5beb.txt  \n",
            "  inflating: labels/train/IMG20230531161410_01_jpg.rf.c6007f7c04ba996f8c1a40aa27590ee3.txt  \n",
            "  inflating: labels/train/IMG20230531161410_01_jpg.rf.dfc318743c7c92d1608f5cb29a03ddbc.txt  \n",
            "  inflating: labels/train/IMG20230531161422_01_jpg.rf.4b5c1c2daabcd76cd40e35f9db1a1e19.txt  \n",
            "  inflating: labels/train/IMG20230531161422_01_jpg.rf.9d648120e179e7038fb1c91e65257336.txt  \n",
            "  inflating: labels/train/IMG20230531161422_01_jpg.rf.c2f2b8c418b588f9709ca101bf1b3864.txt  \n",
            "  inflating: labels/train/IMG20230531161426_01_jpg.rf.14d36010361deb706fe1e888b1be7001.txt  \n",
            "  inflating: labels/train/IMG20230531161426_01_jpg.rf.2054b5240f5f0d2cbc5d8fd0fc7c5c80.txt  \n",
            "  inflating: labels/train/IMG20230531161426_01_jpg.rf.43ba9fd2a0c51f9f8e734768a03f3680.txt  \n",
            "  inflating: labels/train/IMG20230531161426_01_jpg.rf.4959ef77b91a010e0d4768c9a968a2a0.txt  \n",
            "  inflating: labels/train/IMG20230531161426_01_jpg.rf.49ba948502d31b1f2b47acbe772efd89.txt  \n",
            "  inflating: labels/train/IMG20230531161426_01_jpg.rf.5697fbe94a99ea231fe8c4028b53045b.txt  \n",
            "  inflating: labels/train/IMG20230531161426_01_jpg.rf.77a02fcf567c651fe1b5d61ced68d6be.txt  \n",
            "  inflating: labels/train/IMG20230531161426_01_jpg.rf.77fe3f0642ccd5bd3215b9eaa86c5421.txt  \n",
            "  inflating: labels/train/IMG20230531161426_01_jpg.rf.a773e4dcef0336902bd4079243933299.txt  \n",
            "  inflating: labels/train/IMG20230531161430_jpg.rf.0fa6e3de1b8361f1ea3527f061a6a4ed.txt  \n",
            "  inflating: labels/train/IMG20230531161430_jpg.rf.e0c9b46fbf03fcdcf6478de01d5ad821.txt  \n",
            "  inflating: labels/train/IMG20230531161430_jpg.rf.f4a903b91ad26e9155184a8caf380cdf.txt  \n",
            "  inflating: labels/train/IMG20230531161432_01_jpg.rf.4effd1941ef2260b5edb615bf2839064.txt  \n",
            "  inflating: labels/train/IMG20230531161432_01_jpg.rf.747200c94d902bb745a5de8800cca421.txt  \n",
            "  inflating: labels/train/IMG20230531161432_01_jpg.rf.80333ba8273be0e34fb12c4c0f7d5709.txt  \n",
            "  inflating: labels/train/IMG20230531161435_01_jpg.rf.4eeb2d413edcab83136cd63b2d0bc96e.txt  \n",
            "  inflating: labels/train/IMG20230531161435_01_jpg.rf.803b351153528b231875228a29a712e5.txt  \n",
            "  inflating: labels/train/IMG20230531161435_01_jpg.rf.c26a293169563e2c3cbd84aa27b511de.txt  \n",
            "  inflating: labels/train/IMG20230531161437_01_jpg.rf.4bf2d4f382a98b40ea5097f40d65d895.txt  \n",
            "  inflating: labels/train/IMG20230531161437_01_jpg.rf.58ab8c2e7a8ce6a4dbd0dd8ec0d2b050.txt  \n",
            "  inflating: labels/train/IMG20230531161437_01_jpg.rf.9dff9dd4cc4320ca28cc5e0a223e4a0a.txt  \n",
            "  inflating: labels/train/IMG20230531161439_01_jpg.rf.0fb4fa87e5f39265f8b37dacc2b1d2ab.txt  \n",
            "  inflating: labels/train/IMG20230531161439_01_jpg.rf.12540d6d4d3d94a51fea32e577a58680.txt  \n",
            "  inflating: labels/train/IMG20230531161439_01_jpg.rf.332e86dcdd62424718403840c7ca8c08.txt  \n",
            "  inflating: labels/train/IMG20230531161439_01_jpg.rf.418a89db062c4edd85330154518b84fc.txt  \n",
            "  inflating: labels/train/IMG20230531161439_01_jpg.rf.67b5c6abd7b82c202a41be1c1d6cfb6a.txt  \n",
            "  inflating: labels/train/IMG20230531161439_01_jpg.rf.6e5c99b62843334ace29aadacd9c8b31.txt  \n",
            "  inflating: labels/train/IMG20230531161439_01_jpg.rf.82b448f4f2227960aec0da6d72a3f366.txt  \n",
            "  inflating: labels/train/IMG20230531161439_01_jpg.rf.8c40c905432e878f4624a6d9948227bd.txt  \n",
            "  inflating: labels/train/IMG20230531161439_01_jpg.rf.909aecabeaab07c97d2a2b12adc03702.txt  \n",
            "  inflating: labels/train/IMG20230531161439_01_jpg.rf.957c1dc837743c87ae81b3a89ac8f9e2.txt  \n",
            "  inflating: labels/train/IMG20230531161439_01_jpg.rf.9adc0120df176c4c95cd3795e2f9c093.txt  \n",
            "  inflating: labels/train/IMG20230531161439_01_jpg.rf.ac0a0b218928a011b6e718528627f050.txt  \n",
            "  inflating: labels/train/IMG20230531161439_01_jpg.rf.b6a4f6dbd2c264ae620238dd75730b71.txt  \n",
            "  inflating: labels/train/IMG20230531161439_01_jpg.rf.e66eb7db29ed4c6ce78e06aeb717afbc.txt  \n",
            "  inflating: labels/train/IMG20230531161439_01_jpg.rf.f10ef24277a9fbbea34b8fa60a94ba10.txt  \n",
            "  inflating: labels/train/IMG20230531161442_01_jpg.rf.83e3a76fece49534431db8c116936644.txt  \n",
            "  inflating: labels/train/IMG20230531161442_01_jpg.rf.856ae24a77b2b8152f7972af6eb3e6d5.txt  \n",
            "  inflating: labels/train/IMG20230531161442_01_jpg.rf.b42e58cce34ad1d1fd19e6ca5ec5b12d.txt  \n",
            "  inflating: labels/train/IMG20230531161444_01_jpg.rf.0bc32f814803a7aa132b1eccf4ffc56d.txt  \n",
            "  inflating: labels/train/IMG20230531161444_01_jpg.rf.353aef87c3c9e0729c0b79ecaa90564d.txt  \n",
            "  inflating: labels/train/IMG20230531161444_01_jpg.rf.8698167ceddbcb0365a46a9511a7cb90.txt  \n",
            "  inflating: labels/train/IMG20230531161451_01_jpg.rf.2cd45e2b75de52cf634b2772765d3836.txt  \n",
            "  inflating: labels/train/IMG20230531161451_01_jpg.rf.5d01be8393ba48db94d93583ce12bfad.txt  \n",
            "  inflating: labels/train/IMG20230531161451_01_jpg.rf.e834f9e2b8a0f2606748ddfb9be62f72.txt  \n",
            "  inflating: labels/train/IMG20230531161452_01_jpg.rf.2b9d6db13926fa3fdaa0e5e2dcb7f6fc.txt  \n",
            "  inflating: labels/train/IMG20230531161452_01_jpg.rf.5f5680167175e16f772f9b5a24e1f121.txt  \n",
            "  inflating: labels/train/IMG20230531161452_01_jpg.rf.ebe63b48015e66344d1a1be28753c441.txt  \n",
            "  inflating: labels/train/IMG20230531161457_01_jpg.rf.561a0501c8fadb9bfb9847f51b77fd94.txt  \n",
            "  inflating: labels/train/IMG20230531161457_01_jpg.rf.7e73ab212c9fc0b1c308c672e5acfc7a.txt  \n",
            "  inflating: labels/train/IMG20230531161457_01_jpg.rf.f21ab48243b9184a0583fb027d012eda.txt  \n",
            "  inflating: labels/train/IMG20230531161458_01_jpg.rf.24e491e215988fba33d06f099482ccde.txt  \n",
            "  inflating: labels/train/IMG20230531161458_01_jpg.rf.6203a8e7e5a4a5e43b5f966b70666eb6.txt  \n",
            "  inflating: labels/train/IMG20230531161458_01_jpg.rf.b6dafc054fa7b24bbd94ca8bd3fe793d.txt  \n",
            "  inflating: labels/train/IMG20230531161459_01_jpg.rf.2132ff184470983b6a7590db531a6eda.txt  \n",
            "  inflating: labels/train/IMG20230531161459_01_jpg.rf.8e94600bd9478deeff74404525e02037.txt  \n",
            "  inflating: labels/train/IMG20230531161459_01_jpg.rf.967071c63a39b48ca5c7a5bc0034752b.txt  \n",
            "  inflating: labels/train/IMG20230531161520_01_jpg.rf.06facd10b26365b4462691f4952ec9df.txt  \n",
            "  inflating: labels/train/IMG20230531161520_01_jpg.rf.22bbaac88a26f5df68f0b9d21c4ca57b.txt  \n",
            "  inflating: labels/train/IMG20230531161520_01_jpg.rf.39013dd1d2d00ad6621a9dfc815ada32.txt  \n",
            "  inflating: labels/train/IMG20230531161520_01_jpg.rf.3a87d5a74ea25c9b8ca5da01e431fced.txt  \n",
            "  inflating: labels/train/IMG20230531161520_01_jpg.rf.3acd3058e04de3b576c1ab69cc75b9fd.txt  \n",
            "  inflating: labels/train/IMG20230531161520_01_jpg.rf.7e41511d10da81df54d18b64f9de9fe4.txt  \n",
            "  inflating: labels/train/IMG20230531161520_01_jpg.rf.9c179ab0c947f9ad50b69d4517fb03fd.txt  \n",
            "  inflating: labels/train/IMG20230531161520_01_jpg.rf.b2f17b071baba42c672d3d80e725b3d3.txt  \n",
            "  inflating: labels/train/IMG20230531161520_01_jpg.rf.c25a37b4dde70c1fcd46703f9823eca2.txt  \n",
            "  inflating: labels/train/IMG20230531161529_01_jpg.rf.0477716b86fec2a79e21fed7a9b23023.txt  \n",
            "  inflating: labels/train/IMG20230531161529_01_jpg.rf.06e75ac669b6dfe431db383bdb000444.txt  \n",
            "  inflating: labels/train/IMG20230531161529_01_jpg.rf.23c8e51fa9964b07f2365d0f3cd8277a.txt  \n",
            "  inflating: labels/train/IMG20230531161529_01_jpg.rf.2590e3d210aae95bd765ba50b1c94dfe.txt  \n",
            "  inflating: labels/train/IMG20230531161529_01_jpg.rf.649cf9c1774a5c9da91ec06eddf9125e.txt  \n",
            "  inflating: labels/train/IMG20230531161529_01_jpg.rf.6ca21814678f0163fd564fbbe0dadfe7.txt  \n",
            "  inflating: labels/train/IMG20230531161529_01_jpg.rf.80e94ba6a9b6601c2e89a0a3cadf131f.txt  \n",
            "  inflating: labels/train/IMG20230531161529_01_jpg.rf.bed8731b4b9a78c45750fbd91760db68.txt  \n",
            "  inflating: labels/train/IMG20230531161529_01_jpg.rf.c5265ced2d2f8ea3091e5315458f824f.txt  \n",
            "  inflating: labels/train/IMG20230531161550_jpg.rf.7b0a2fed9a7fb71936cf42e2c57593d2.txt  \n",
            "  inflating: labels/train/IMG20230531161550_jpg.rf.d6dd6edc0bcd9b5768375112e3c4e3c3.txt  \n",
            "  inflating: labels/train/IMG20230531161550_jpg.rf.d725fb2fac25f4f091c008142cd4238e.txt  \n",
            "  inflating: labels/train/IMG20230531161554_jpg.rf.488e28d49d21c7804613dae58fc1f123.txt  \n",
            "  inflating: labels/train/IMG20230531161554_jpg.rf.e27a820a634352d057021e08c40082b0.txt  \n",
            "  inflating: labels/train/IMG20230531161558_jpg.rf.73185b3926b1c476f7aaee4bad5acf91.txt  \n",
            "  inflating: labels/train/IMG20230531161558_jpg.rf.a1628c964433fdd15487238b42fae870.txt  \n",
            "  inflating: labels/train/IMG20230531161558_jpg.rf.c8ee07375df3ba3ed851dd5673d978da.txt  \n",
            "  inflating: labels/train/IMG20230531161602_jpg.rf.39162949b58c85829baed15cf4d231b2.txt  \n",
            "  inflating: labels/train/IMG20230531161602_jpg.rf.e6ba7fa0dbd67197152abb1a7c295020.txt  \n",
            "  inflating: labels/train/IMG20230531161606_jpg.rf.0267085476a2ab7def90068747627dfc.txt  \n",
            "  inflating: labels/train/IMG20230531161606_jpg.rf.3632f94a16fd7a1e412055dc579d5262.txt  \n",
            "  inflating: labels/train/IMG20230531161606_jpg.rf.679316fe9424fa634b7f9cc04b52aeef.txt  \n",
            "  inflating: labels/train/IMG20230531161611_jpg.rf.68b78bee6ef8415988bc9b93374e65ea.txt  \n",
            "  inflating: labels/train/IMG20230531161611_jpg.rf.c98a63787ec02b284739be749cd642a3.txt  \n",
            "  inflating: labels/train/IMG20230531161611_jpg.rf.d516759edcc06de67a4f5d503e8038b6.txt  \n",
            "  inflating: labels/train/IMG20230531161615_jpg.rf.05827e677b192938aa2b36aa8e620590.txt  \n",
            "  inflating: labels/train/IMG20230531161615_jpg.rf.83222d5f76d2809eeba7eeec8fcf9814.txt  \n",
            "  inflating: labels/train/IMG20230531161615_jpg.rf.a3171c89cfafbe8aaa8a4da3b13b3a62.txt  \n",
            "  inflating: labels/train/IMG20230531161629_jpg.rf.34c152a638e102e314e71b6409747df9.txt  \n",
            "  inflating: labels/train/IMG20230531161629_jpg.rf.42e7782854a326653a9ea404ecdfd619.txt  \n",
            "  inflating: labels/train/IMG20230531161629_jpg.rf.df1c8139cc3b74e2afbcdd4d790224b4.txt  \n",
            "  inflating: labels/train/IMG20230531161634_jpg.rf.4226cb9b66c94d4f91e67745f21b31a8.txt  \n",
            "  inflating: labels/train/IMG20230531161634_jpg.rf.73d1a334dd0d1f869a8ab2c026d2f13b.txt  \n",
            "  inflating: labels/train/IMG20230531161640_jpg.rf.0a35532f13e9a513d6d6f3bd0506052a.txt  \n",
            "  inflating: labels/train/IMG20230531161640_jpg.rf.23dc27fa4ea029cf04e2ea3a71a2ab58.txt  \n",
            "  inflating: labels/train/IMG20230531161640_jpg.rf.7585889ce2188a20ebdf0a606b654ae5.txt  \n",
            "  inflating: labels/train/IMG20230531161701_jpg.rf.2d7157a91b91982b9b3b4bb39b55c8bd.txt  \n",
            "  inflating: labels/train/IMG20230531161701_jpg.rf.3efc8c23ae95ad2bc482bf24fa714b34.txt  \n",
            "  inflating: labels/train/IMG20230531161701_jpg.rf.50e2d44887a1f62726e4d6602bd8b84a.txt  \n",
            "  inflating: labels/train/IMG20230531161716_jpg.rf.116101225f8ccd3a63a0592bcab63429.txt  \n",
            "  inflating: labels/train/IMG20230531161716_jpg.rf.e0de6b7670dab3ca664cc30686b4ae0f.txt  \n",
            "  inflating: labels/train/IMG20230531161716_jpg.rf.f0fde45ff267dfd0e984940b12edd044.txt  \n",
            "  inflating: labels/train/IMG20230531161721_jpg.rf.827dc36fc9405e453ed730dd644b20d3.txt  \n",
            "  inflating: labels/train/IMG20230531161721_jpg.rf.83fd7ffb218b1872196357e91e8a6700.txt  \n",
            "  inflating: labels/train/IMG20230531161721_jpg.rf.944026c2914d63d77b42bddcde2e6319.txt  \n",
            "  inflating: labels/train/IMG20230531161746_jpg.rf.a2b403638e6ce8fc2f64d3d7f7e7a3c9.txt  \n",
            "  inflating: labels/train/IMG20230531161746_jpg.rf.a6c89b2f543da6699cb657ac0b672104.txt  \n",
            "  inflating: labels/train/IMG20230531161746_jpg.rf.e055477de3aa98050873670355f9b1c3.txt  \n",
            "  inflating: labels/train/IMG20230531161749_jpg.rf.018af5fac7beb9cf8849aa59fbbcbcca.txt  \n",
            "  inflating: labels/train/IMG20230531161749_jpg.rf.03c5134ba81c86a5e6bb480cc08c03da.txt  \n",
            "  inflating: labels/train/IMG20230531161749_jpg.rf.10a3acf1f546544773a5ebf67f57a4a4.txt  \n",
            "  inflating: labels/train/IMG20230531161749_jpg.rf.3122d34b9fbbc0deaa584f54bb9d1be6.txt  \n",
            "  inflating: labels/train/IMG20230531161749_jpg.rf.770012b646e255d0d4ccce9a7d25056e.txt  \n",
            "  inflating: labels/train/IMG20230531161749_jpg.rf.a18d92f2665a5528d5adefe085ae69ef.txt  \n",
            "  inflating: labels/train/IMG20230531161752_jpg.rf.4de95dba9c91e87a6aa494122725acc0.txt  \n",
            "  inflating: labels/train/IMG20230531161752_jpg.rf.66b6b176b2938feadd2f9a9479d49fea.txt  \n",
            "  inflating: labels/train/IMG20230531161752_jpg.rf.b49e6416a1ff69eb12099fa89296598e.txt  \n",
            "  inflating: labels/train/IMG20230531161809_jpg.rf.08f0d76d7395f35c7f86770e82fbbfc7.txt  \n",
            "  inflating: labels/train/IMG20230531161809_jpg.rf.22f50f52defd3ab6c7827ca58409307d.txt  \n",
            "  inflating: labels/train/IMG20230531161809_jpg.rf.7722421758b8c442e02b46bc485f6981.txt  \n",
            "  inflating: labels/train/IMG20230531161809_jpg.rf.82037054579a095d3f691974d08fb235.txt  \n",
            "  inflating: labels/train/IMG20230531161809_jpg.rf.ce1fff3e459f85b84db69fa9b2369c13.txt  \n",
            "  inflating: labels/train/IMG20230531161809_jpg.rf.e4140b2a73e277b2b39436f8e74fa831.txt  \n",
            "  inflating: labels/train/IMG20230531161815_jpg.rf.361e18b3fe25c4281f28a683fc3afa0a.txt  \n",
            "  inflating: labels/train/IMG20230531161815_jpg.rf.5826ecc40dbb6ddabec5ad91b0a16958.txt  \n",
            "  inflating: labels/train/IMG20230531161815_jpg.rf.7739773289c6e4e346159067bb19cf1a.txt  \n",
            "  inflating: labels/train/IMG20230531161815_jpg.rf.898d72a84bd1a051c3adbd03a547a5d6.txt  \n",
            "  inflating: labels/train/IMG20230531161815_jpg.rf.b6f358268bdcf4eb94e4ec8c28381310.txt  \n",
            "  inflating: labels/train/IMG20230531161815_jpg.rf.bc0cc1863776759058f614b4dfe0bd16.txt  \n",
            "  inflating: labels/train/IMG20230531161815_jpg.rf.dab891a95af876cb0ac8e131fd69a449.txt  \n",
            "  inflating: labels/train/IMG20230531161815_jpg.rf.fe3eadcdf282ba60a206a91dc69177f2.txt  \n",
            "  inflating: labels/train/IMG20230531161817_jpg.rf.4464a618dc353e7f62584860b813cf42.txt  \n",
            "  inflating: labels/train/IMG20230531161817_jpg.rf.8865b0a095b7a643546f546dcf23f6c7.txt  \n",
            "  inflating: labels/train/IMG20230531161817_jpg.rf.f305199af7e902c949de126667c03839.txt  \n",
            "  inflating: labels/train/IMG20230531161822_jpg.rf.15abd1c0db6431a475851102215c5b52.txt  \n",
            "  inflating: labels/train/IMG20230531161822_jpg.rf.49df64b483322c5de17c6126b9d950b9.txt  \n",
            "  inflating: labels/train/IMG20230531161822_jpg.rf.aa563ab65eab11ba3ce8afb2f4c02d46.txt  \n",
            "  inflating: labels/train/IMG20230531161822_jpg.rf.b3d9d148d678e991184bb62d10e1de30.txt  \n",
            "  inflating: labels/train/IMG20230531161822_jpg.rf.e99d443e268f173fd2cf33bb9636fc82.txt  \n",
            "  inflating: labels/train/IMG20230531161822_jpg.rf.f49d4c09b8649c730c31cc7143e94005.txt  \n",
            "  inflating: labels/train/IMG20230531161823_jpg.rf.0bca3e2df1ab1c144e8113acc7629c90.txt  \n",
            "  inflating: labels/train/IMG20230531161823_jpg.rf.204817b9d81917e8c7af9f074ef170f0.txt  \n",
            "  inflating: labels/train/IMG20230531161823_jpg.rf.5f655e01119e1af8010d8957710a58ba.txt  \n",
            "  inflating: labels/train/IMG20230531161823_jpg.rf.662aef7702130d1f373ecf9d1ab75427.txt  \n",
            "  inflating: labels/train/IMG20230531161823_jpg.rf.700545805f59858af594eaff188ec9b6.txt  \n",
            "  inflating: labels/train/IMG20230531161823_jpg.rf.9555ba77edf8a5799332a6d1fafc43b7.txt  \n",
            "  inflating: labels/train/IMG20230531161823_jpg.rf.abc979e82287dad324ebb65abfa0b1ed.txt  \n",
            "  inflating: labels/train/IMG20230531161823_jpg.rf.b037f9911457c96aa12ca2ab217c9303.txt  \n",
            "  inflating: labels/train/IMG20230531161823_jpg.rf.be670ce0ba18f46135983d0c2222b654.txt  \n",
            "  inflating: labels/train/IMG20230531161827_jpg.rf.0670efbc0a11b4cc5caf0e9bb5ce696c.txt  \n",
            "  inflating: labels/train/IMG20230531161827_jpg.rf.15a0baf57bad48c5ab6a4ff8837891a4.txt  \n",
            "  inflating: labels/train/IMG20230531161827_jpg.rf.399251151c859ad3c6b70f164dcae2f8.txt  \n",
            "  inflating: labels/train/IMG20230531161829_jpg.rf.6c87d41adb5096ef8db340fe3f0d7f63.txt  \n",
            "  inflating: labels/train/IMG20230531161829_jpg.rf.cb7b88e637ba68e6ca8febcd28a29a66.txt  \n",
            "  inflating: labels/train/IMG20230531161829_jpg.rf.f8b3161951dd413ccbe47fa03dfd2f58.txt  \n",
            "  inflating: labels/train/IMG20230601104218_jpg.rf.23517fa944c3046e1d27c328f2739a90.txt  \n",
            "  inflating: labels/train/IMG20230601104218_jpg.rf.3df8a0ff08c8b29967d12b5b41b76691.txt  \n",
            "  inflating: labels/train/IMG20230601104218_jpg.rf.4a2eef83f2fda6167f424b02105abef6.txt  \n",
            "  inflating: labels/train/IMG20230601104218_jpg.rf.4f5c29a82b229447312f79c1f0926f48.txt  \n",
            "  inflating: labels/train/IMG20230601104218_jpg.rf.54d159686740195ad6508aee55cd06d4.txt  \n",
            "  inflating: labels/train/IMG20230601104218_jpg.rf.5b64c3a66d49ef4050bfa5682403b525.txt  \n",
            "  inflating: labels/train/IMG20230601104218_jpg.rf.6418b9306c12e57550f200dadaae3775.txt  \n",
            "  inflating: labels/train/IMG20230601104218_jpg.rf.6aa785837d5ec5370556893c0efa9868.txt  \n",
            "  inflating: labels/train/IMG20230601104218_jpg.rf.6b01997a420beeee98f6c01dccc9d6f4.txt  \n",
            "  inflating: labels/train/IMG20230601104218_jpg.rf.7effa615d326f6fb028a4b9ea8f4e7ce.txt  \n",
            "  inflating: labels/train/IMG20230601104218_jpg.rf.87cecf76607e146cea6717769d46a5b2.txt  \n",
            "  inflating: labels/train/IMG20230601104218_jpg.rf.8c7264e2caaedf4df27293cc0b600eb8.txt  \n",
            "  inflating: labels/train/IMG20230601104218_jpg.rf.9a872e6c9327027265439a8dcfee40ab.txt  \n",
            "  inflating: labels/train/IMG20230601104218_jpg.rf.b9a6caef17f0504f5e220dc9856d36b4.txt  \n",
            "  inflating: labels/train/IMG20230601104218_jpg.rf.c4dc1d1515e096d14bd4a9ce60144240.txt  \n",
            "  inflating: labels/train/IMG20230601104218_jpg.rf.d30117f60f4e5806379b847c72e34b61.txt  \n",
            "  inflating: labels/train/IMG20230601104218_jpg.rf.f1e61a13650ce521efcbadb614a05e91.txt  \n",
            "  inflating: labels/train/IMG20230601104221_jpg.rf.29518405a32e5e7ad6be39d47566e0d7.txt  \n",
            "  inflating: labels/train/IMG20230601104221_jpg.rf.2c1fd3e5444e4ffd9633804f1be84116.txt  \n",
            "  inflating: labels/train/IMG20230601104221_jpg.rf.b067651dd8a869b8caa79acba5a73d23.txt  \n",
            "  inflating: labels/train/IMG20230601104222_jpg.rf.ba82cc35155e28b5f469cf19d53b9e27.txt  \n",
            "  inflating: labels/train/IMG20230601104222_jpg.rf.c3803fc6c3692712ee3b4d97763bb42b.txt  \n",
            "  inflating: labels/train/IMG20230601104222_jpg.rf.dc7592f4e96cbe7ac13240e135843132.txt  \n",
            "  inflating: labels/train/IMG20230601104258_jpg.rf.4e9287390408ee09e4ea2d45a6c78590.txt  \n",
            "  inflating: labels/train/IMG20230601104258_jpg.rf.5d0b60b5be9092dd97f155a37429b5de.txt  \n",
            "  inflating: labels/train/IMG20230601104258_jpg.rf.a731b2e780bed7add3fd14104f5bfe16.txt  \n",
            "  inflating: labels/train/IMG20230601104306_jpg.rf.793c9b874dc78fa3b2dabbd8585543ba.txt  \n",
            "  inflating: labels/train/IMG20230601104306_jpg.rf.d919e0aebadb863429ebf76c307b711b.txt  \n",
            "  inflating: labels/train/IMG20230601104306_jpg.rf.f42a7e3b6a896009948f55721c866db7.txt  \n",
            "  inflating: labels/train/IMG20230601104307_jpg.rf.6bae44e79b459bd6bf5fa24c3cbe0da6.txt  \n",
            "  inflating: labels/train/IMG20230601104307_jpg.rf.b8ebd5d751dd46a2d228639aee0eaea1.txt  \n",
            "  inflating: labels/train/IMG20230601104307_jpg.rf.efd926b55e5022c636366d76e5954d3f.txt  \n",
            "  inflating: labels/train/IMG20230601104309_jpg.rf.19bea5c19be3d1235154c02125f65a63.txt  \n",
            "  inflating: labels/train/IMG20230601104309_jpg.rf.7554be0167e85eb8870111853f2a59a3.txt  \n",
            "  inflating: labels/train/IMG20230601104309_jpg.rf.d6fbac0dcfc6a26803c90618cee5d14d.txt  \n",
            "  inflating: labels/train/IMG20230601104310_jpg.rf.24b11a20b440f8bc86a15da8d4219512.txt  \n",
            "  inflating: labels/train/IMG20230601104310_jpg.rf.49f32ad0fc49d008231eee285bed0ef5.txt  \n",
            "  inflating: labels/train/IMG20230601104310_jpg.rf.a80bc001c218ef7a9685cf80b0128b58.txt  \n",
            "  inflating: labels/train/IMG20230601104315_jpg.rf.55c68809f9ad25ebea79ccea8acf1dac.txt  \n",
            "  inflating: labels/train/IMG20230601104315_jpg.rf.7ee38817c7001feb3594de1185d9731e.txt  \n",
            "  inflating: labels/train/IMG20230601104315_jpg.rf.a8fab2c55f3c8d05197bea910a3c5aa6.txt  \n",
            "  inflating: labels/train/IMG20230601104319_jpg.rf.226d0c5c29313db0a9a9cc9cc2967186.txt  \n",
            "  inflating: labels/train/IMG20230601104319_jpg.rf.2eeffd2f7519cfb99539eb873baa1eac.txt  \n",
            "  inflating: labels/train/IMG20230601104319_jpg.rf.57bee9fbfc95e97744212b829cc08bf5.txt  \n",
            "  inflating: labels/train/IMG20230601104321_jpg.rf.23084d600f692ad0c509bef04f6f6aa0.txt  \n",
            "  inflating: labels/train/IMG20230601104321_jpg.rf.3897648097c78da612ddcbf1841e0612.txt  \n",
            "  inflating: labels/train/IMG20230601104321_jpg.rf.efff67a969931755377085dc1d0bd597.txt  \n",
            "  inflating: labels/train/IMG20230601104323_jpg.rf.2fba31b604375e294ca9d0f16bdc1b93.txt  \n",
            "  inflating: labels/train/IMG20230601104323_jpg.rf.7bd97ce22e2349c6452b08bbdc0fc1b3.txt  \n",
            "  inflating: labels/train/IMG20230601104324_jpg.rf.1d4d99bc0e3958d234c5781f69793116.txt  \n",
            "  inflating: labels/train/IMG20230601104324_jpg.rf.7af169423be1951235e69695eca9c858.txt  \n",
            "  inflating: labels/train/IMG20230601104324_jpg.rf.8e3428c7fa1ffff73c1e38c17c967be4.txt  \n",
            "  inflating: labels/train/IMG20230601104329_jpg.rf.3c524cd676e67a2c3a5a5c4e9dccf04e.txt  \n",
            "  inflating: labels/train/IMG20230601104329_jpg.rf.d564f25dc9c1ae69bf5b24a8afa83b3a.txt  \n",
            "  inflating: labels/train/IMG20230601104329_jpg.rf.e50e584babd138e725df5c0f3b6f6ac8.txt  \n",
            "  inflating: labels/train/IMG20230601104331_jpg.rf.67d0059302b8dfa728713681be0c9ae4.txt  \n",
            "  inflating: labels/train/IMG20230601104331_jpg.rf.7dfb07a3595e7b3ea3b9163b3472b980.txt  \n",
            "  inflating: labels/train/IMG20230601104331_jpg.rf.89f48d65b901dc8404c19db2a3534326.txt  \n",
            "  inflating: labels/train/IMG20230601104336_jpg.rf.1582944ab1265b0a4a7217157266e37e.txt  \n",
            "  inflating: labels/train/IMG20230601104336_jpg.rf.7dde43a4bf55f993e387ce0b4715a2de.txt  \n",
            "  inflating: labels/train/IMG20230601104336_jpg.rf.c341ccbc311e15c1d10b3199f7622be5.txt  \n",
            "  inflating: labels/train/IMG20230601104339_jpg.rf.1f43dad41f77388ce33cf83b11fe475b.txt  \n",
            "  inflating: labels/train/IMG20230601104339_jpg.rf.21f0a6521aa2ccfada49a4c328599606.txt  \n",
            "  inflating: labels/train/IMG20230601104339_jpg.rf.24939071bb35e38ad3c946fbd0c68c7b.txt  \n",
            "  inflating: labels/train/IMG20230601104339_jpg.rf.3bcfdbef7142a3a6621c67150f2484f2.txt  \n",
            "  inflating: labels/train/IMG20230601104339_jpg.rf.7e05420a9b09a81d5fdd26f66836e3d2.txt  \n",
            "  inflating: labels/train/IMG20230601104339_jpg.rf.9fea06da8f7347330e603243c0f99e36.txt  \n",
            "  inflating: labels/train/IMG20230601104341_jpg.rf.2d2d7392978bd24cef8d8a710e574f70.txt  \n",
            "  inflating: labels/train/IMG20230601104341_jpg.rf.33a7ccc200c6c5ae1530bc2e84d62f84.txt  \n",
            "  inflating: labels/train/IMG20230601104341_jpg.rf.a4fcb2300d556ff7ce2b9e55ae75ca87.txt  \n",
            "  inflating: labels/train/IMG20230601104348_jpg.rf.4555bcf0ae27abd64cfbe93162f9840c.txt  \n",
            "  inflating: labels/train/IMG20230601104348_jpg.rf.5242b6077d4148e312dead3a607f808e.txt  \n",
            "  inflating: labels/train/IMG20230601104348_jpg.rf.6d9f4183be3f3ce26767c9e5da5c4dc6.txt  \n",
            "  inflating: labels/train/IMG20230601104348_jpg.rf.81e71e81b5bb666804eb47f053f9217e.txt  \n",
            "  inflating: labels/train/IMG20230601104348_jpg.rf.88c794d6c9f2df67d1bff24da52e6d24.txt  \n",
            "  inflating: labels/train/IMG20230601104348_jpg.rf.97b4d49a288cc60086d2a443df33b1e0.txt  \n",
            "  inflating: labels/train/IMG20230601104348_jpg.rf.aa07ac38e0099d6087566b51fb53fe9d.txt  \n",
            "  inflating: labels/train/IMG20230601104348_jpg.rf.c0f20dd49cfaa737249a9cb6ad3422a1.txt  \n",
            "  inflating: labels/train/IMG20230601104348_jpg.rf.d9595372ebe2a9471ae01a5e39b76fa4.txt  \n",
            "  inflating: labels/train/IMG20230601104354_jpg.rf.4c2050f52a93ed482f3e5f0953e0c629.txt  \n",
            "  inflating: labels/train/IMG20230601104354_jpg.rf.76a5e7c9281e21ebd576d38a72ffbb64.txt  \n",
            "  inflating: labels/train/IMG20230601104354_jpg.rf.ff8017d44bd204dbe7967e63c2d7f0ab.txt  \n",
            "  inflating: labels/train/IMG20230601104357_jpg.rf.3652e40fff8e97f4a1e69580449ee423.txt  \n",
            "  inflating: labels/train/IMG20230601104357_jpg.rf.45e6b7ef51eca655dbe17b9fc2d1e042.txt  \n",
            "  inflating: labels/train/IMG20230601104357_jpg.rf.ff2c1f2026ebf3858bfee5129a316f23.txt  \n",
            "  inflating: labels/train/IMG20230601104408_jpg.rf.2f5ff1ad38bc01e4ff5efb7d03b07edd.txt  \n",
            "  inflating: labels/train/IMG20230601104408_jpg.rf.5a767349e4e87f571dbbdc2437845d87.txt  \n",
            "  inflating: labels/train/IMG20230601104408_jpg.rf.93c3938f2a4ee9d5790633c0fc090444.txt  \n",
            "  inflating: labels/train/IMG20230601104410_jpg.rf.2fe6eb5a733b870f376e54b9cd860efe.txt  \n",
            "  inflating: labels/train/IMG20230601104410_jpg.rf.369b8703d77f2ca94ecc43d43e7eadde.txt  \n",
            "  inflating: labels/train/IMG20230601104410_jpg.rf.3f48a408402007efd3de9e4168d5bf40.txt  \n",
            "  inflating: labels/train/IMG20230601104411_jpg.rf.147e45b36156dbe9ab626cbe4f77fdd6.txt  \n",
            "  inflating: labels/train/IMG20230601104411_jpg.rf.c5585b4be0bdcba8baccbe9982ed0db0.txt  \n",
            "  inflating: labels/train/IMG20230601104411_jpg.rf.ead3b4ce3a0f8b912e705f6b0c5ba231.txt  \n",
            "  inflating: labels/train/IMG20230601104414_jpg.rf.3aa5392458bd594f0160aa8c6058ef55.txt  \n",
            "  inflating: labels/train/IMG20230601104414_jpg.rf.8da21504ac8131fdb3a67204aa3b9d22.txt  \n",
            "  inflating: labels/train/IMG20230601104414_jpg.rf.ad6b5cbc492b00639ea0f6df706689eb.txt  \n",
            "  inflating: labels/train/IMG20230601104416_jpg.rf.2e5677beff436290e70a586768f71584.txt  \n",
            "  inflating: labels/train/IMG20230601104416_jpg.rf.798fee3d1e5f0dae67998e1f468ae1d1.txt  \n",
            "  inflating: labels/train/IMG20230601104416_jpg.rf.aba6b05326a2d6f1d57defd8d9ae335e.txt  \n",
            "  inflating: labels/train/IMG20230601104418_jpg.rf.69503bfb521e3154144c7b6c7d010348.txt  \n",
            "  inflating: labels/train/IMG20230601104418_jpg.rf.7445a85cafcea19d23b87e190db4e914.txt  \n",
            "  inflating: labels/train/IMG20230601104418_jpg.rf.c365f571ecc411d50f76e505c3e6c24d.txt  \n",
            "  inflating: labels/train/IMG20230601104420_jpg.rf.3b19582552f9d55db567f1d323b14476.txt  \n",
            "  inflating: labels/train/IMG20230601104420_jpg.rf.bf97f2fe85ea9350ea6632a20355b3a6.txt  \n",
            "  inflating: labels/train/IMG20230601104422_jpg.rf.1723d946180c4a9a648a68e5c45d3731.txt  \n",
            "  inflating: labels/train/IMG20230601104422_jpg.rf.268afe0500f4b61a039e8dfd33c9e961.txt  \n",
            "  inflating: labels/train/IMG20230601104422_jpg.rf.c9cf6f0bb5119d58bcd32c6597504d20.txt  \n",
            "  inflating: labels/train/IMG20230601104426_jpg.rf.1a5dddacff6608c4ac22753e20aa1969.txt  \n",
            "  inflating: labels/train/IMG20230601104426_jpg.rf.35d7acab7e032be3d0ba9bfb48c1cb8c.txt  \n",
            "  inflating: labels/train/IMG20230601104426_jpg.rf.84f0013086ba32f7a7c3d73d5979d951.txt  \n",
            "  inflating: labels/train/IMG20230601104428_jpg.rf.7a266c8675638ffb10237b1667aa749e.txt  \n",
            "  inflating: labels/train/IMG20230601104428_jpg.rf.b4a0a74befe4d6486ef0873e2771173f.txt  \n",
            "  inflating: labels/train/IMG20230601104428_jpg.rf.dd549533e34ec1cc7a8f31ece5efe9d3.txt  \n",
            "  inflating: labels/train/IMG20230601104440_jpg.rf.14b9742351d04abc01ad1f515cea1f39.txt  \n",
            "  inflating: labels/train/IMG20230601104440_jpg.rf.2fc4a77c8bbc2583c4097c166b6bb9c3.txt  \n",
            "  inflating: labels/train/IMG20230601104440_jpg.rf.c3e4ea8d390c8427e4b97749e882454d.txt  \n",
            "  inflating: labels/train/IMG20230601104442_jpg.rf.1bc380ba65a32b13741b5d5cb0d36e7c.txt  \n",
            "  inflating: labels/train/IMG20230601104442_jpg.rf.1f616345215824b8f689465e18363340.txt  \n",
            "  inflating: labels/train/IMG20230601104442_jpg.rf.293cccee3bd246ba7d1be35782275df5.txt  \n",
            "  inflating: labels/train/IMG20230601104442_jpg.rf.990c8a9f77a7e2da4a679845dbd905b0.txt  \n",
            "  inflating: labels/train/IMG20230601104442_jpg.rf.a34c7eb58b5ea8ee4f885b9d588ecad1.txt  \n",
            "  inflating: labels/train/IMG20230601104442_jpg.rf.b393c523b7430bab7f3b47c11aa39bae.txt  \n",
            "  inflating: labels/train/IMG20230601104442_jpg.rf.c7bd104c44b87d02a9187540a76f1a1a.txt  \n",
            "  inflating: labels/train/IMG20230601104442_jpg.rf.d877bf67f7fd5b5fd82a90468dc556c9.txt  \n",
            "  inflating: labels/train/IMG20230601104442_jpg.rf.fb84e9fda475af7b3b62a6a1f4891119.txt  \n",
            "  inflating: labels/train/IMG20230601104444_jpg.rf.3afc83aefdbc99bd8967da8cde864437.txt  \n",
            "  inflating: labels/train/IMG20230601104444_jpg.rf.595e72af8aed916520931152c38dd645.txt  \n",
            "  inflating: labels/train/IMG20230601104444_jpg.rf.e6dff90b08ce3dced6b5b6e2d9d5b0bb.txt  \n",
            "  inflating: labels/train/IMG20230601104446_jpg.rf.1b05d0046f87d562251b88c218140faa.txt  \n",
            "  inflating: labels/train/IMG20230601104446_jpg.rf.30525a6cdee9398261a6b89ac04345bc.txt  \n",
            "  inflating: labels/train/IMG20230601104446_jpg.rf.4f4446094caaa4aa0e1e3e0adb606611.txt  \n",
            "  inflating: labels/train/IMG20230601104446_jpg.rf.6fa4a4757525a417ae011f5743da1a9f.txt  \n",
            "  inflating: labels/train/IMG20230601104446_jpg.rf.8e1cb3b5e338ce4a10c755df4478eb7a.txt  \n",
            "  inflating: labels/train/IMG20230601104446_jpg.rf.94e4d72e6388e837d56edae68925a782.txt  \n",
            "  inflating: labels/train/IMG20230601104446_jpg.rf.a0695ccb6f66eb4cc2038db0e80d52d1.txt  \n",
            "  inflating: labels/train/IMG20230601104446_jpg.rf.ab884bcbe8356ee9f363eb6d07a50593.txt  \n",
            "  inflating: labels/train/IMG20230601104446_jpg.rf.e23bb2d273d6a770ac15af052d4b0b87.txt  \n",
            "  inflating: labels/train/IMG20230601104448_jpg.rf.2918a0581cbf92daa168cda460d2ab51.txt  \n",
            "  inflating: labels/train/IMG20230601104448_jpg.rf.62408c84230f843b8298e98f148e1870.txt  \n",
            "  inflating: labels/train/IMG20230601104448_jpg.rf.7985d86db8769b01d02e367cad981ae5.txt  \n",
            "  inflating: labels/train/IMG20230601104450_jpg.rf.6d1444419841a7183c6cb1aae34229e2.txt  \n",
            "  inflating: labels/train/IMG20230601104450_jpg.rf.7790946920b653f4cfb84b48aa8df0e3.txt  \n",
            "  inflating: labels/train/IMG20230601104450_jpg.rf.b1ed5417841d8cf8aad41dd513a13b56.txt  \n",
            "  inflating: labels/train/IMG20230601104453_jpg.rf.1b7ec0669680a2e8b68665a7cacd8954.txt  \n",
            "  inflating: labels/train/IMG20230601104453_jpg.rf.9e35165118305acab9281d5a838f91f5.txt  \n",
            "  inflating: labels/train/IMG20230601104453_jpg.rf.cafbe506efcd0908567d0706c62afa41.txt  \n",
            "  inflating: labels/train/IMG20230601104455_jpg.rf.0e7bbaf61443c3ef85b0241ba524ecfe.txt  \n",
            "  inflating: labels/train/IMG20230601104455_jpg.rf.ca263d45f023fafbca8e0b616043bdf5.txt  \n",
            "  inflating: labels/train/IMG20230601104455_jpg.rf.f18f8e4e1ed191107b954a66f09e7b24.txt  \n",
            "  inflating: labels/train/IMG20230601104457_jpg.rf.7cca8003564e0cca4e476d5184af9610.txt  \n",
            "  inflating: labels/train/IMG20230601104457_jpg.rf.a0f0aa05aa53bd899c676902bed7670a.txt  \n",
            "  inflating: labels/train/IMG20230601104457_jpg.rf.c2c9ba335c52fb626e8d8de8881df889.txt  \n",
            "  inflating: labels/train/IMG20230601140138_jpg.rf.0800d0e974115e4e5a35259957648f96.txt  \n",
            "  inflating: labels/train/IMG20230601140138_jpg.rf.412d2c59fd0b6848c54cab9ef5036578.txt  \n",
            "  inflating: labels/train/IMG20230601140138_jpg.rf.735d005888db8316064f0d22f8ee1673.txt  \n",
            "  inflating: labels/train/IMG20230601140138_jpg.rf.98061c278c74f263f9d3b924587672a9.txt  \n",
            "  inflating: labels/train/IMG20230601140138_jpg.rf.aa4364be0429623da6b441e54c5e3d53.txt  \n",
            "  inflating: labels/train/IMG20230601140138_jpg.rf.ff5b49474aafcfaf0bd59f973d5192e1.txt  \n",
            "  inflating: labels/train/IMG20230601140147_jpg.rf.3fd073e4ecb067d0d252e9463839d8d8.txt  \n",
            "  inflating: labels/train/IMG20230601140147_jpg.rf.46822b5fa59b5222ff92234cb608c9ea.txt  \n",
            "  inflating: labels/train/IMG20230601140147_jpg.rf.4c1484715998fbd87bba23edb1839c70.txt  \n",
            "  inflating: labels/train/IMG20230601140147_jpg.rf.72f42542b40c3a160b8c973f8af8a892.txt  \n",
            "  inflating: labels/train/IMG20230601140147_jpg.rf.77c4a6637e12a024b6f737de6523eafd.txt  \n",
            "  inflating: labels/train/IMG20230601140147_jpg.rf.8d12c1c1f67207d259b0e5fb4585fb87.txt  \n",
            "  inflating: labels/train/IMG20230601140147_jpg.rf.ba639ce89a2dfc9b172cdaf0f531465f.txt  \n",
            "  inflating: labels/train/IMG20230601140147_jpg.rf.cc8942ad10032cf0bb49d506ea2843b5.txt  \n",
            "  inflating: labels/train/IMG20230601140147_jpg.rf.d18a793a0baf792c8d713b95843fce8d.txt  \n",
            "  inflating: labels/train/IMG20230601140149_jpg.rf.49bea061af88f7e1e130d107438cd1da.txt  \n",
            "  inflating: labels/train/IMG20230601140149_jpg.rf.a11718051db92d8af3612e4cbd181089.txt  \n",
            "  inflating: labels/train/IMG20230601140149_jpg.rf.e675fa672e68474c5bd384f064e562e3.txt  \n",
            "  inflating: labels/train/IMG20230601140217_jpg.rf.170fe09b54edabfc32734bd6267ee3d6.txt  \n",
            "  inflating: labels/train/IMG20230601140217_jpg.rf.1c150361ab9bea7a76a210a772ec71bf.txt  \n",
            "  inflating: labels/train/IMG20230601140217_jpg.rf.1f27866f3cbcf7dbf1775e451378307c.txt  \n",
            "  inflating: labels/train/IMG20230601140217_jpg.rf.54f3950e65035877eea606c729bb5233.txt  \n",
            "  inflating: labels/train/IMG20230601140217_jpg.rf.ac7981f90a92d53bda8a94cdc8bd3afd.txt  \n",
            "  inflating: labels/train/IMG20230601140217_jpg.rf.b7db1d7bb5162ee95e409dca5b937a62.txt  \n",
            "  inflating: labels/train/IMG20230601140217_jpg.rf.df1aa81471fb82f326b65dce186a2225.txt  \n",
            "  inflating: labels/train/IMG20230601140226_jpg.rf.267854f88c363ee87b81015d7b8f2be3.txt  \n",
            "  inflating: labels/train/IMG20230601140226_jpg.rf.83173f874ee8cd03a917f3626ce395c9.txt  \n",
            "  inflating: labels/train/IMG20230601140226_jpg.rf.b1b79f14f2cc2d3c72260a1b01719ac9.txt  \n",
            "  inflating: labels/train/IMG20230601140226_jpg.rf.b85a8d211f01b3d4b98ea8c5b9f49c41.txt  \n",
            "  inflating: labels/train/IMG20230601140226_jpg.rf.f4d5e757361206592b13f1bc6443e3cb.txt  \n",
            "  inflating: labels/train/IMG20230601140239_jpg.rf.0ee8a73cc424657f21ad73139c28b4b4.txt  \n",
            "  inflating: labels/train/IMG20230601140239_jpg.rf.19db580cfa5289863e151939452c73c6.txt  \n",
            "  inflating: labels/train/IMG20230601140239_jpg.rf.2eb31843b1f8c8f0ca62d712e1b10fdc.txt  \n",
            "  inflating: labels/train/IMG20230601140239_jpg.rf.c327a829f4d8d0cf1acbfeb7ec26d7c5.txt  \n",
            "  inflating: labels/train/IMG20230601140239_jpg.rf.e613d65352798de921d5a8bfd92246a1.txt  \n",
            "  inflating: labels/train/IMG20230601140239_jpg.rf.eeb813309072f22a388808fc1d43daeb.txt  \n",
            "  inflating: labels/train/IMG20230601140241_jpg.rf.935f597bea17c1187a4ff7de5ee88e8b.txt  \n",
            "  inflating: labels/train/IMG20230601140241_jpg.rf.a14a6fee2bb28cedabce28862010b4d3.txt  \n",
            "  inflating: labels/train/IMG20230601140241_jpg.rf.c50b3486fb813ae0fbc09be27184d1cf.txt  \n",
            "  inflating: labels/train/IMG20230601140244_jpg.rf.1cf4d89ff3d2158abdce119f2669fa52.txt  \n",
            "  inflating: labels/train/IMG20230601140244_jpg.rf.9bbcba13365ac7fda7a562dc9d32b68d.txt  \n",
            "  inflating: labels/train/IMG20230601165319_jpg.rf.179481d6aba409c39599c43ecb13a8de.txt  \n",
            "  inflating: labels/train/IMG20230601165319_jpg.rf.3d10bcdee50e29e7e831126e6d826f9e.txt  \n",
            "  inflating: labels/train/IMG20230601165319_jpg.rf.9c3baf18f5c77aade0036cac7900ee49.txt  \n",
            "  inflating: labels/train/IMG20230601165324_jpg.rf.19724d152276d41060fc5569a884f7a2.txt  \n",
            "  inflating: labels/train/IMG20230601165324_jpg.rf.6dc706fb2ccbcd2caff4e9dc91f86e0d.txt  \n",
            "  inflating: labels/train/IMG20230601165324_jpg.rf.e12194e56d66d0a91637a36c663dd06b.txt  \n",
            "  inflating: labels/train/IMG20230601165329_jpg.rf.1d437fb17e47afde5f696ee6cd445d85.txt  \n",
            "  inflating: labels/train/IMG20230601165329_jpg.rf.457115149ce3b94696eb189416c85114.txt  \n",
            "  inflating: labels/train/IMG20230601165329_jpg.rf.a9dd40a011a1f85fbe688065c4c330ac.txt  \n",
            "  inflating: labels/train/IMG20230601165338_jpg.rf.2951f0439f4ad6a6f88dbc413f1be33d.txt  \n",
            "  inflating: labels/train/IMG20230601165338_jpg.rf.31caafd4e6247b4c1ef4cccf8e00309e.txt  \n",
            "  inflating: labels/train/IMG20230601165338_jpg.rf.3709497eaab7d42c19cd91faebf57864.txt  \n",
            "  inflating: labels/train/IMG20230601165338_jpg.rf.74f1716e23474efa9fad5c86edca0aeb.txt  \n",
            "  inflating: labels/train/IMG20230601165338_jpg.rf.9375fc6faec9c68701478c8e195a8711.txt  \n",
            "  inflating: labels/train/IMG20230601165338_jpg.rf.ff950eda7ab1181ccd7ce95adfe563e0.txt  \n",
            "  inflating: labels/train/IMG20230601165343_jpg.rf.3de201773101c3eb4e128cc8c4ff242d.txt  \n",
            "  inflating: labels/train/IMG20230601165343_jpg.rf.70e3c15783b51c89f0923708e27402fd.txt  \n",
            "  inflating: labels/train/IMG20230601165343_jpg.rf.8259383c8d3fc7581f0c159d487ec60c.txt  \n",
            "  inflating: labels/train/IMG20230601165343_jpg.rf.d2fcc2dac1fbaff2c5193fa1728be9f8.txt  \n",
            "  inflating: labels/train/IMG20230601165343_jpg.rf.fd6fa56d0888f42597f245f8afc05285.txt  \n",
            "  inflating: labels/train/IMG20230601165344_jpg.rf.08080a138e9a0e8c66d0ac97ded04359.txt  \n",
            "  inflating: labels/train/IMG20230601165344_jpg.rf.a8b0426dc2966ce591f37843845d50dc.txt  \n",
            "  inflating: labels/train/IMG20230601165344_jpg.rf.c82679263e2b5f1dd2090469d626af43.txt  \n",
            "  inflating: labels/train/IMG20230601165349_jpg.rf.59be1deca06939c1b1f89902419809e5.txt  \n",
            "  inflating: labels/train/IMG20230601165349_jpg.rf.83b59e7a91ab900779bb13bb0f104b22.txt  \n",
            "  inflating: labels/train/IMG20230601165349_jpg.rf.8819c726903315155092de91001051aa.txt  \n",
            "  inflating: labels/train/IMG20230601165355_jpg.rf.7be7be1134f97ef544b356d87637448c.txt  \n",
            "  inflating: labels/train/IMG20230601165355_jpg.rf.8aa62a678f9de80aa0cc58edfae332c3.txt  \n",
            "  inflating: labels/train/IMG20230601165355_jpg.rf.f9de600de478ec0a16c010bab819b3de.txt  \n",
            "  inflating: labels/train/IMG20230601165514_jpg.rf.061e37d1dc95ccd18ca08c9d39dd2b7d.txt  \n",
            "  inflating: labels/train/IMG20230601165514_jpg.rf.72b3a2cc6770483b564a06eddec52199.txt  \n",
            "  inflating: labels/train/IMG20230601165514_jpg.rf.d8aeeea3863993fcafe0a3ea648c72aa.txt  \n",
            "  inflating: labels/train/IMG20230601165520_jpg.rf.bd2a05c88069ba367897a029914d1419.txt  \n",
            "  inflating: labels/train/IMG20230601165520_jpg.rf.bfd4bec400995fe99cf93024a2337b50.txt  \n",
            "  inflating: labels/train/IMG20230601165520_jpg.rf.c6ae867fd06f5cfef689adf48070bf22.txt  \n",
            "  inflating: labels/train/IMG20230601165522_jpg.rf.7482e53c5f062f76e302b39ba6f3a508.txt  \n",
            "  inflating: labels/train/IMG20230601165522_jpg.rf.a8c5feb7c02582aa34e1912dc8bc9ff6.txt  \n",
            "  inflating: labels/train/IMG20230601165522_jpg.rf.d126210d1be99a87466d5bb49f9c6cbb.txt  \n",
            "  inflating: labels/train/IMG20230601165525_jpg.rf.7338f04432822d10045bca608e4dd5dc.txt  \n",
            "  inflating: labels/train/IMG20230601165525_jpg.rf.823f3408da11eacece4602428a817107.txt  \n",
            "  inflating: labels/train/IMG20230601165525_jpg.rf.fb6bab5bc5017f64b4743c613dc9f731.txt  \n",
            "  inflating: labels/train/IMG20230601165528_jpg.rf.5d4d21b135e0320def4dd7fae9675cf0.txt  \n",
            "  inflating: labels/train/IMG20230601165528_jpg.rf.dd7793adc821f2301fa3e27c6511acf7.txt  \n",
            "  inflating: labels/train/IMG20230601165528_jpg.rf.ec74108362a9696cfca5399db17e765f.txt  \n",
            "  inflating: labels/train/IMG20230601165529_jpg.rf.07bc9a45115dee08ff0370fbcf7765df.txt  \n",
            "  inflating: labels/train/IMG20230601165529_jpg.rf.57267ab4967cbe6f44e65389b928bb60.txt  \n",
            "  inflating: labels/train/IMG20230601165529_jpg.rf.fcaf1f3972399a55e5a2f199581979b0.txt  \n",
            "  inflating: labels/train/IMG20230601165531_jpg.rf.1416a1d106bae86bb2aa46bdd273b8e0.txt  \n",
            "  inflating: labels/train/IMG20230601165531_jpg.rf.3381e3eb62ba1fcc6d73822b226ed1bb.txt  \n",
            "  inflating: labels/train/IMG20230601165531_jpg.rf.d0c115463374113928e5dc1fc7235d98.txt  \n",
            "  inflating: labels/train/IMG20230601165541_jpg.rf.05832f14f286d0a6623419d90797d135.txt  \n",
            "  inflating: labels/train/IMG20230601165541_jpg.rf.32255ab005f1ba7a8329fab861d5e791.txt  \n",
            "  inflating: labels/train/IMG20230601165541_jpg.rf.3bd3628d8a1116ed618cbaf2b7c043e9.txt  \n",
            "  inflating: labels/train/IMG20230601165541_jpg.rf.6d59986dcc23336e027a2eb3f4e660a6.txt  \n",
            "  inflating: labels/train/IMG20230601165541_jpg.rf.b7dfde6a5b922c255528f394de233ac0.txt  \n",
            "  inflating: labels/train/IMG20230601165541_jpg.rf.e8e9bc0fed1284b4c316b9e0cdc61387.txt  \n",
            "  inflating: labels/train/IMG20230601165548_jpg.rf.26e1956a921aa2de63bc48b3132d0ced.txt  \n",
            "  inflating: labels/train/IMG20230601165548_jpg.rf.4aed7b466335a4d726df85e716e19b4f.txt  \n",
            "  inflating: labels/train/IMG20230601165548_jpg.rf.d64a6ed57a239d31a3d000e4b8743068.txt  \n",
            "  inflating: labels/train/IMG20230601165553_jpg.rf.6b0bda91aa4a1fef5d25ddced810dcf5.txt  \n",
            "  inflating: labels/train/IMG20230601165553_jpg.rf.84c33172e78f4bb92ef61d6ebb0c6501.txt  \n",
            "  inflating: labels/train/IMG20230601165553_jpg.rf.bdae3a28d585fe542ab910a7f39be8f8.txt  \n",
            "  inflating: labels/train/IMG20230601165556_jpg.rf.2969060e5cbc4eabd516ea8e1ee90f3d.txt  \n",
            "  inflating: labels/train/IMG20230601165556_jpg.rf.8a195f8c113384641b1bbdd7d13d8558.txt  \n",
            "  inflating: labels/train/IMG20230601165556_jpg.rf.953925e85b6cf07ff586a39ac24fc283.txt  \n",
            "  inflating: labels/train/IMG20230601165558_jpg.rf.20fd1b196a82f79005b8559dc3a8dbc3.txt  \n",
            "  inflating: labels/train/IMG20230601165558_jpg.rf.4dfbc85a193031a4a34f8e2865da7ea9.txt  \n",
            "  inflating: labels/train/IMG20230601165558_jpg.rf.8458b13ee5204bdb0518568df88356e0.txt  \n",
            "  inflating: labels/train/IMG20230601165611_jpg.rf.18e009172628e5fd28591b09cb91bffb.txt  \n",
            "  inflating: labels/train/IMG20230601165611_jpg.rf.3082f0cbc76d0f587764c8c7c9e3dd87.txt  \n",
            "  inflating: labels/train/IMG20230601165611_jpg.rf.35848a64a2107c8cfcd5e6a53716803c.txt  \n",
            "  inflating: labels/train/IMG20230601165611_jpg.rf.40601b504a3c7e778bf89a59bb61933e.txt  \n",
            "  inflating: labels/train/IMG20230601165611_jpg.rf.69a882738b68e344f08cb9ba4f9b623d.txt  \n",
            "  inflating: labels/train/IMG20230601165611_jpg.rf.8282b23dbd754c5087b52f4adae9bae4.txt  \n",
            "  inflating: labels/train/IMG20230601165611_jpg.rf.9a8884410fd0b69a1135955bc36a9afd.txt  \n",
            "  inflating: labels/train/IMG20230601165611_jpg.rf.b717d501fd138cbab9cfc59583cb5455.txt  \n",
            "  inflating: labels/train/IMG20230601165611_jpg.rf.eafa65cabbab7e1dbac57ec7e67b380d.txt  \n",
            "  inflating: labels/train/IMG20230601165618_jpg.rf.2476a0d59621c576885577cf3458f79a.txt  \n",
            "  inflating: labels/train/IMG20230601165618_jpg.rf.b98e25fd60da12a4408f19349e5fb0a2.txt  \n",
            "  inflating: labels/train/IMG20230601165618_jpg.rf.ccacaa15dfc53d707e5cec55b302c1fa.txt  \n",
            "  inflating: labels/train/IMG20230601165620_jpg.rf.1910f31e0871eba389b50d91941ad247.txt  \n",
            "  inflating: labels/train/IMG20230601165620_jpg.rf.2468ff70877230385db34463b8b81e99.txt  \n",
            "  inflating: labels/train/IMG20230601165620_jpg.rf.8b6cb3f56e654ed286047637d2f3ecef.txt  \n",
            "  inflating: labels/train/IMG20230601165620_jpg.rf.a22d33c0d75888ee90a582e05ae244e8.txt  \n",
            "  inflating: labels/train/IMG20230601165620_jpg.rf.bc6c7cf321f84063c664a3d8a8ee4296.txt  \n",
            "  inflating: labels/train/IMG20230601165620_jpg.rf.bfeaeb51aae344c46dc376b035e8156f.txt  \n",
            "  inflating: labels/train/IMG20230601165620_jpg.rf.cb9f8dcfffe31e365772e8ce970e2a5f.txt  \n",
            "  inflating: labels/train/IMG20230601165620_jpg.rf.d2676d22eb1d48667638e2cfa318e468.txt  \n",
            "  inflating: labels/train/IMG20230602082109_jpg.rf.3c45834f06e39d12f9c1dd3e7841c2ea.txt  \n",
            "  inflating: labels/train/IMG20230602082109_jpg.rf.5364551d853f14d8d57fe2763be76a5e.txt  \n",
            "  inflating: labels/train/IMG20230602082109_jpg.rf.fcdeae9002a0d8a29dc32a824541883b.txt  \n",
            "  inflating: labels/train/IMG20230602082111_jpg.rf.0267a2d50ddfe50b7c10307f6bcc6fcb.txt  \n",
            "  inflating: labels/train/IMG20230602082111_jpg.rf.8c5138b7fb7a9dc4431ffd497e09f208.txt  \n",
            "  inflating: labels/train/IMG20230602082111_jpg.rf.a7a70d8fa5a41a1605d002d0ffa6be6a.txt  \n",
            "  inflating: labels/train/IMG20230602082116_jpg.rf.19127e9ef2d5e01b881b0992c1e0bba6.txt  \n",
            "  inflating: labels/train/IMG20230602082116_jpg.rf.5f71e79d1222eec1e57a6bbac9f3ae22.txt  \n",
            "  inflating: labels/train/IMG20230602082116_jpg.rf.dd1ddbb0ceb8d0205fad3dc64ca86c30.txt  \n",
            "  inflating: labels/train/IMG20230602082118_jpg.rf.86acd39875a0fd44b4c233835aeb1b78.txt  \n",
            "  inflating: labels/train/IMG20230602082118_jpg.rf.9ac15ab0c7e5375a8fee813c5139fa77.txt  \n",
            "  inflating: labels/train/IMG20230602082118_jpg.rf.eb57d8dfded05d5be03bcba0aab23566.txt  \n",
            "  inflating: labels/train/IMG20230602082121_jpg.rf.16d35bfb8a21d76dd702fcc04271980f.txt  \n",
            "  inflating: labels/train/IMG20230602082121_jpg.rf.3120e905f3a6dddb83a7987370317f96.txt  \n",
            "  inflating: labels/train/IMG20230602082121_jpg.rf.e687536222f5f512c6fd281350b5c4fa.txt  \n",
            "  inflating: labels/train/IMG20230602082122_jpg.rf.043eae53f307557a6fae39f8f4cec8ae.txt  \n",
            "  inflating: labels/train/IMG20230602082122_jpg.rf.0f00090671591a2ac865168da720d0a4.txt  \n",
            "  inflating: labels/train/IMG20230602082122_jpg.rf.201df8417aad74a2a32cc3ff14d54522.txt  \n",
            "  inflating: labels/train/IMG20230602082122_jpg.rf.50374af1871b4954735b69abbcabbb1f.txt  \n",
            "  inflating: labels/train/IMG20230602082122_jpg.rf.52ec929602ad1b56abb033994a23fb8b.txt  \n",
            "  inflating: labels/train/IMG20230602082122_jpg.rf.692258205320f7fb505871a09f1c6d5f.txt  \n",
            "  inflating: labels/train/IMG20230602082122_jpg.rf.6acb755f820cd19f58db28c27724d32b.txt  \n",
            "  inflating: labels/train/IMG20230602082122_jpg.rf.73bb3d38621ef4f983603da742c989c4.txt  \n",
            "  inflating: labels/train/IMG20230602082122_jpg.rf.851c704dd4eccbe5b9ad8df6ed58b14b.txt  \n",
            "  inflating: labels/train/IMG20230602082122_jpg.rf.bbbb4b54f10c782c32d2e92b5982dbde.txt  \n",
            "  inflating: labels/train/IMG20230602082122_jpg.rf.bc3c25a1a6627cfd10128ce102fec415.txt  \n",
            "  inflating: labels/train/IMG20230602082122_jpg.rf.d8d8cf5e03d1ef47ff3cbcd0399620db.txt  \n",
            "  inflating: labels/train/IMG20230602082122_jpg.rf.d94bf2d6fd02b0de699e6b704ef766d6.txt  \n",
            "  inflating: labels/train/IMG20230602082122_jpg.rf.e5662ae15476de21b9ab5eafdc723cc1.txt  \n",
            "  inflating: labels/train/IMG20230602082122_jpg.rf.f81ca17010eaaab02780542c711af498.txt  \n",
            "  inflating: labels/train/IMG20230602082125_jpg.rf.056c67ad03c8a0ce19bcb1d4b9f33485.txt  \n",
            "  inflating: labels/train/IMG20230602082125_jpg.rf.1f8eee608f6012c95facfb0ccd9cdee9.txt  \n",
            "  inflating: labels/train/IMG20230602082125_jpg.rf.e2819a543f9a995f810cf20b55bc8964.txt  \n",
            "  inflating: labels/train/IMG20230602082127_jpg.rf.24e4965e44cb38c15351c53f318c532b.txt  \n",
            "  inflating: labels/train/IMG20230602082127_jpg.rf.866e6847a9083bf32f9dc7255d920963.txt  \n",
            "  inflating: labels/train/IMG20230602082127_jpg.rf.b81d9f12953a539a3f8f5d15bab1b7bd.txt  \n",
            "  inflating: labels/train/IMG20230602082130_jpg.rf.453ffdffde5c4ebabc810cad36802e46.txt  \n",
            "  inflating: labels/train/IMG20230602082130_jpg.rf.7a2698a350d6c38a6a07acc5dd77a470.txt  \n",
            "  inflating: labels/train/IMG20230602082130_jpg.rf.865a60b7620e99841ca6cc93bb112b5d.txt  \n",
            "  inflating: labels/train/IMG20230602082130_jpg.rf.86e680fd8ce4049bcac343deeffdb933.txt  \n",
            "  inflating: labels/train/IMG20230602082130_jpg.rf.a36fe9cd9fd89a0c085c4a9d9ec00cf4.txt  \n",
            "  inflating: labels/train/IMG20230602082130_jpg.rf.ba5e2d1f50b1d23009d584c25eaee499.txt  \n",
            "  inflating: labels/train/IMG20230602082132_jpg.rf.0f127a65aed2fe350bd0b01b595897a7.txt  \n",
            "  inflating: labels/train/IMG20230602082132_jpg.rf.e42a827987d2984a25e1d80958de37d1.txt  \n",
            "  inflating: labels/train/IMG20230602082134_jpg.rf.1f685d22bd60c8f96dd3b55dd0d0acfc.txt  \n",
            "  inflating: labels/train/IMG20230602082134_jpg.rf.7709133fa9536e33787fa832a30c6545.txt  \n",
            "  inflating: labels/train/IMG20230602082134_jpg.rf.e025a81847c84581db9c171c42b6dafd.txt  \n",
            "  inflating: labels/train/IMG20230602082137_jpg.rf.14f734e2ee83f1137ec4e2471e717588.txt  \n",
            "  inflating: labels/train/IMG20230602082137_jpg.rf.81b0e4756ad384064711d680eb76630f.txt  \n",
            "  inflating: labels/train/IMG20230602082137_jpg.rf.ed0117cf1af684784e87421532517daf.txt  \n",
            "  inflating: labels/train/IMG20230602082138_jpg.rf.3ad5fe65f33e44fe1332294ee166bfc6.txt  \n",
            "  inflating: labels/train/IMG20230602082138_jpg.rf.4321c937d814b142063ba88f706cf91c.txt  \n",
            "  inflating: labels/train/IMG20230602082138_jpg.rf.4d9ef122d53abdb659777b07b6487ee2.txt  \n",
            "  inflating: labels/train/IMG20230602082138_jpg.rf.5d0ed324d1f7b635948d58da22fe0f03.txt  \n",
            "  inflating: labels/train/IMG20230602082138_jpg.rf.5dcdcb33e87b10a43e9215886f5d87c9.txt  \n",
            "  inflating: labels/train/IMG20230602082138_jpg.rf.626b2819ae191215fd32fe7d7f3f44c4.txt  \n",
            "  inflating: labels/train/IMG20230602082138_jpg.rf.7412cdda1ec061075564c836bad05b43.txt  \n",
            "  inflating: labels/train/IMG20230602082138_jpg.rf.ba9fe1a0e78d695732269cb27e07b769.txt  \n",
            "  inflating: labels/train/IMG20230602082138_jpg.rf.d458d9697830b13f04092135d2850809.txt  \n",
            "  inflating: labels/train/IMG20230602082138_jpg.rf.d90c6f0ab139a0a343c749dec35dcf46.txt  \n",
            "  inflating: labels/train/IMG20230602082138_jpg.rf.f5252e41f88fb7b505d4ad993c4e65c6.txt  \n",
            "  inflating: labels/train/IMG20230602082141_jpg.rf.5686282206c01a283dbececf3b503d43.txt  \n",
            "  inflating: labels/train/IMG20230602082141_jpg.rf.b1d7cd8d5f66a4a17ff493de47b599db.txt  \n",
            "  inflating: labels/train/IMG20230602082141_jpg.rf.bc8f0b5d5be84a1c0ba715aad26bbf9d.txt  \n",
            "  inflating: labels/train/IMG20230602082142_jpg.rf.2e0bcdc9dbfb80fb91964d0ab95d7733.txt  \n",
            "  inflating: labels/train/IMG20230602082142_jpg.rf.6127ea9a94c8a74d25a57d1ea2a3301e.txt  \n",
            "  inflating: labels/train/IMG20230602082142_jpg.rf.7b67560cf968b61509448b618baa4c3f.txt  \n",
            "  inflating: labels/train/IMG20230602082142_jpg.rf.897227cdd08513ffe32195e060e38159.txt  \n",
            "  inflating: labels/train/IMG20230602082142_jpg.rf.a8e3b9ac1606b6a30c3cc61bc5cec8a8.txt  \n",
            "  inflating: labels/train/IMG20230602082142_jpg.rf.a9fdde910389732bc301aa99b2b11784.txt  \n",
            "  inflating: labels/train/IMG20230602082142_jpg.rf.aa821322fad010f8663c036ccd8b4c8b.txt  \n",
            "  inflating: labels/train/IMG20230602082142_jpg.rf.b10a2d5a839bac1af3843fdc66b89954.txt  \n",
            "  inflating: labels/train/IMG20230602082142_jpg.rf.b7c5860f140e93fc26e7d3a2b3d11f16.txt  \n",
            "  inflating: labels/train/IMG20230602082142_jpg.rf.d0b3723003ccc82a86a1c45f226e57fa.txt  \n",
            "  inflating: labels/train/IMG20230602082142_jpg.rf.d4bf454314bb42ddbc60153c3b857001.txt  \n",
            "  inflating: labels/train/IMG20230602082142_jpg.rf.f49f28d3910657a64a6bb0817bc16ad0.txt  \n",
            "  inflating: labels/train/IMG20230602082144_jpg.rf.18d8e6d4efde02e02ecc122bda37b6ab.txt  \n",
            "  inflating: labels/train/IMG20230602082144_jpg.rf.407efc3d34266388fcddb62a0bf73fd8.txt  \n",
            "  inflating: labels/train/IMG20230602082144_jpg.rf.41f2553e94aa8269d4114a21864b5254.txt  \n",
            "  inflating: labels/train/IMG20230602082144_jpg.rf.7283d21456a84ebfc7e372f8ec4efcbc.txt  \n",
            "  inflating: labels/train/IMG20230602082144_jpg.rf.9adb575a7eaec9a3f5ee6828b46fc714.txt  \n",
            "  inflating: labels/train/IMG20230602082144_jpg.rf.c33d08b55656e3092a540d329e11159c.txt  \n",
            "  inflating: labels/train/IMG20230602082147_jpg.rf.210f1a7e286beab03ed2ab4ed0d6a6d5.txt  \n",
            "  inflating: labels/train/IMG20230602082147_jpg.rf.262984cadf2cee64598bb9b37d3359be.txt  \n",
            "  inflating: labels/train/IMG20230602082147_jpg.rf.32ab323306053cd91c4bebda38c845cf.txt  \n",
            "  inflating: labels/train/IMG20230602082147_jpg.rf.474eb9452d5582796b2c2dacf568427f.txt  \n",
            "  inflating: labels/train/IMG20230602082147_jpg.rf.5612e30916ee2e1c326bf8dd68965669.txt  \n",
            "  inflating: labels/train/IMG20230602082147_jpg.rf.60eb9da3e0951ac7d15e2295466c9f29.txt  \n",
            "  inflating: labels/train/IMG20230602082147_jpg.rf.cb394e467b9174e73cdd0ceb1fff4e9f.txt  \n",
            "  inflating: labels/train/IMG20230602082147_jpg.rf.dcdd9f7c4650aec73fa2c23eded6d604.txt  \n",
            "  inflating: labels/train/IMG20230602082147_jpg.rf.e868912c63a50859c5f60518daccbaf7.txt  \n",
            "  inflating: labels/train/IMG20230602082150_jpg.rf.4a715253beeb03ab1b3ac30c28dd2ad0.txt  \n",
            "  inflating: labels/train/IMG20230602082150_jpg.rf.e4be71afef8d113a2c28606ce6bc7828.txt  \n",
            "  inflating: labels/train/IMG20230602082153_jpg.rf.0b3a982d7a789e9bb0a402657b8658d7.txt  \n",
            "  inflating: labels/train/IMG20230602082153_jpg.rf.0fa1914dd4b06e85e2eb64a85c13a857.txt  \n",
            "  inflating: labels/train/IMG20230602082153_jpg.rf.37a4ce911b2eebe41b466c6228431e2b.txt  \n",
            "  inflating: labels/train/IMG20230602082153_jpg.rf.7b25dad2bd1b9a079c61ca7a4a858496.txt  \n",
            "  inflating: labels/train/IMG20230602082153_jpg.rf.8163bf4d273ca5317329620696f25bec.txt  \n",
            "  inflating: labels/train/IMG20230602082153_jpg.rf.82d00cb83b75bb589179479cc915bc85.txt  \n",
            "  inflating: labels/train/IMG20230602082153_jpg.rf.833b18ea00f234580d58fe60c328124f.txt  \n",
            "  inflating: labels/train/IMG20230602082153_jpg.rf.8d712cb3777e43283480849c53744410.txt  \n",
            "  inflating: labels/train/IMG20230602082153_jpg.rf.93ce9bb8bbe1f158b17cef61ab040ff6.txt  \n",
            "  inflating: labels/train/IMG20230602082153_jpg.rf.95deacb3e6c452f025d2b5695c44451d.txt  \n",
            "  inflating: labels/train/IMG20230602082153_jpg.rf.d653b22cba6439c3dc2616a1931b235b.txt  \n",
            "  inflating: labels/train/IMG20230602082153_jpg.rf.dc17ef86769637910f0e54510e52ee94.txt  \n",
            "  inflating: labels/train/IMG20230602082154_jpg.rf.51e945b2fa1e12a631ec9e6ced05a6dd.txt  \n",
            "  inflating: labels/train/IMG20230602082154_jpg.rf.7f0d60575fd13b9cde33795467bc1cc5.txt  \n",
            "  inflating: labels/train/IMG20230602082154_jpg.rf.a03e9776c6704ab69bcc603699c161fa.txt  \n",
            "  inflating: labels/train/IMG20230602082154_jpg.rf.a86e0a07ec38f8cef44cc3977d38d446.txt  \n",
            "  inflating: labels/train/IMG20230602082154_jpg.rf.bbe931485e3b48740f96f7c4784e8641.txt  \n",
            "  inflating: labels/train/IMG20230602082154_jpg.rf.c33d701dd669e97dabaf4891528d94a9.txt  \n",
            "  inflating: labels/train/IMG20230602082158_jpg.rf.11df13e842ad277c2fedb978da9af3e2.txt  \n",
            "  inflating: labels/train/IMG20230602082158_jpg.rf.29b62f607707a78c905ad1a152bbad94.txt  \n",
            "  inflating: labels/train/IMG20230602082158_jpg.rf.2b8bd0df92cef9fab7beb94ebef81fa8.txt  \n",
            "  inflating: labels/train/IMG20230602082158_jpg.rf.2bcc6cea636857ed4418f7a684c4ad84.txt  \n",
            "  inflating: labels/train/IMG20230602082158_jpg.rf.35322ccd115f35d64cad7636c0c45e0c.txt  \n",
            "  inflating: labels/train/IMG20230602082158_jpg.rf.5d3a9f41554e5400a653cd113b8fbdd7.txt  \n",
            "  inflating: labels/train/IMG20230602082158_jpg.rf.632f77444b980287bb7a256b7147956b.txt  \n",
            "  inflating: labels/train/IMG20230602082158_jpg.rf.66eae8b499fda98208aca192dc2eedfe.txt  \n",
            "  inflating: labels/train/IMG20230602082158_jpg.rf.87ff6317ba6c6aced5a06941d2e6f19e.txt  \n",
            "  inflating: labels/train/IMG20230602082158_jpg.rf.a37f7ec5970f278d5e420add5e65aec4.txt  \n",
            "  inflating: labels/train/IMG20230602082158_jpg.rf.d7875e6ba7f7c11f6f7c0489a43e1c7c.txt  \n",
            "  inflating: labels/train/IMG20230602082158_jpg.rf.e5a7815576b7dc6244c66eb85eaaed2d.txt  \n",
            "  inflating: labels/train/IMG20230602082201_jpg.rf.0883d83a524a5626f8cd904e5d941c39.txt  \n",
            "  inflating: labels/train/IMG20230602082201_jpg.rf.2c6a0257c6abb4098592919d4886ebe5.txt  \n",
            "  inflating: labels/train/IMG20230602082201_jpg.rf.412279bd799a43df02115efc616c1953.txt  \n",
            "  inflating: labels/train/IMG20230602082201_jpg.rf.92ab2eaeb18a96cad418f46fbbbf0c49.txt  \n",
            "  inflating: labels/train/IMG20230602082201_jpg.rf.f7e0c897873e94ba9b880b2873741aae.txt  \n",
            "  inflating: labels/train/IMG20230602082201_jpg.rf.ffb473fc90471d207db7c3e738941dc1.txt  \n",
            "  inflating: labels/train/IMG20230602082220_jpg.rf.4d26f6c1e436b4f7a2cc89e4c8c67cac.txt  \n",
            "  inflating: labels/train/IMG20230602082220_jpg.rf.6d9f396652bb1a67de9a1445b8f55ab9.txt  \n",
            "  inflating: labels/train/IMG20230602082220_jpg.rf.a14107342328a7f70093a9a6be0d0d99.txt  \n",
            "  inflating: labels/train/IMG20230602082223_jpg.rf.249ff39b09332e4fcff26919c6357709.txt  \n",
            "  inflating: labels/train/IMG20230602082223_jpg.rf.88b7bcc1599208816307abdfd53e4cc6.txt  \n",
            "  inflating: labels/train/IMG20230602082223_jpg.rf.c7e14745059cb93d0774a4fa4467e489.txt  \n",
            "  inflating: labels/train/IMG20230602082227_jpg.rf.039a14c9049754da9e900e5b1f038336.txt  \n",
            "  inflating: labels/train/IMG20230602082227_jpg.rf.0d42a16431c767b1b8030424a322a8b0.txt  \n",
            "  inflating: labels/train/IMG20230602082227_jpg.rf.1e7e5ef06aa2d83d321e0083762bda4e.txt  \n",
            "  inflating: labels/train/IMG20230602082227_jpg.rf.1ef24f1cd11a811fb0d6b454a193399a.txt  \n",
            "  inflating: labels/train/IMG20230602082227_jpg.rf.afc20d802b4a3c519e69c87ead22771b.txt  \n",
            "  inflating: labels/train/IMG20230602082227_jpg.rf.fcb4788011f1b69413c18ad0fab07800.txt  \n",
            "  inflating: labels/train/IMG20230602082229_jpg.rf.51d492fed12ebe3eb6f8398211acd398.txt  \n",
            "  inflating: labels/train/IMG20230602082229_jpg.rf.5ca36a4d89f9e720a00c99b762eac4f4.txt  \n",
            "  inflating: labels/train/IMG20230602082229_jpg.rf.881ebfebb6562ff28bbff7d198a2d009.txt  \n",
            "  inflating: labels/train/IMG20230602082229_jpg.rf.ae074ccd27745b75be5806a93d37c42a.txt  \n",
            "  inflating: labels/train/IMG20230602082229_jpg.rf.ea6b74274e94cd3a51fc41555827a5d5.txt  \n",
            "  inflating: labels/train/IMG20230602082229_jpg.rf.efc6eade4e48c49d3e094d932106f043.txt  \n",
            "  inflating: labels/train/IMG20230602082231_jpg.rf.055814eb28f713814b6ce4b2f47135c3.txt  \n",
            "  inflating: labels/train/IMG20230602082231_jpg.rf.11b87e5d19af954cb925c492f9a69ba5.txt  \n",
            "  inflating: labels/train/IMG20230602082231_jpg.rf.1f76cbd344fca9a86f9947fccdfa1cea.txt  \n",
            "  inflating: labels/train/IMG20230602082231_jpg.rf.93f4e04d7a991f5ddf51867c5b40ffcc.txt  \n",
            "  inflating: labels/train/IMG20230602082231_jpg.rf.a2df6320e26c0811ee67c586bb1e23e0.txt  \n",
            "  inflating: labels/train/IMG20230602082231_jpg.rf.e3424eb505022a4345623be2cdde9f42.txt  \n",
            "  inflating: labels/train/IMG20230602082234_jpg.rf.1f3095a3aabf9863cfbea8d5074c50b0.txt  \n",
            "  inflating: labels/train/IMG20230602082234_jpg.rf.43dfb62b216cc7ee82d93327454d5d6e.txt  \n",
            "  inflating: labels/train/IMG20230602082234_jpg.rf.c428d42f520c4908b967946e4d50b79d.txt  \n",
            "  inflating: labels/train/IMG20230602082236_jpg.rf.7688972270117a6315a94e2418931f71.txt  \n",
            "  inflating: labels/train/IMG20230602082236_jpg.rf.889d2ce728341f6f4779a9b897d3e235.txt  \n",
            "  inflating: labels/train/IMG20230602082236_jpg.rf.9f4e4f8b85a05e3471946e8a9f046bc6.txt  \n",
            "  inflating: labels/train/IMG20230602082236_jpg.rf.a9f53e7c31a45e056863873be898a4c2.txt  \n",
            "  inflating: labels/train/IMG20230602082236_jpg.rf.b29318ce4bb452d2e256ff6013cee74c.txt  \n",
            "  inflating: labels/train/IMG20230602082236_jpg.rf.b3570177f3fcdcd81aada610f2e9e2b0.txt  \n",
            "  inflating: labels/train/IMG20230602082236_jpg.rf.b6db4fbcf5f28ebc1b466a8230697c84.txt  \n",
            "  inflating: labels/train/IMG20230602082236_jpg.rf.b72ee2aacbb2d9df187922a27bf4967e.txt  \n",
            "  inflating: labels/train/IMG20230602082242_jpg.rf.1ee31939f2f05e65a6f884cf5907f99f.txt  \n",
            "  inflating: labels/train/IMG20230602082242_jpg.rf.3488f174ffd38802a318af8414dde198.txt  \n",
            "  inflating: labels/train/IMG20230602082242_jpg.rf.50be9fdcc8074f06d233da238cb4b0f1.txt  \n",
            "  inflating: labels/train/IMG20230602082242_jpg.rf.72f536b31cb4337c1f015246011e5215.txt  \n",
            "  inflating: labels/train/IMG20230602082242_jpg.rf.756fd50587c71949afc875e22d2d44ce.txt  \n",
            "  inflating: labels/train/IMG20230602082242_jpg.rf.a8546e6782d333f7ac7c8fb001379302.txt  \n",
            "  inflating: labels/train/IMG20230602082242_jpg.rf.ccc39b566c8dbf8a1c615d661fe5dd90.txt  \n",
            "  inflating: labels/train/IMG20230602082242_jpg.rf.d46a1054f19c4fd9316f7e582dad5885.txt  \n",
            "  inflating: labels/train/IMG20230602082242_jpg.rf.de4dabb6de212d57df6c912e38300790.txt  \n",
            "  inflating: labels/train/IMG20230602082250_jpg.rf.2964842789cd27d531e43a851b0b786c.txt  \n",
            "  inflating: labels/train/IMG20230602082250_jpg.rf.5b4d71db9ec4d80bd4107dc11c57e39e.txt  \n",
            "  inflating: labels/train/IMG20230602082250_jpg.rf.785ddd5c49c046a0883208d5a8fed8aa.txt  \n",
            "  inflating: labels/train/IMG20230602082253_jpg.rf.112a0d498bd397dc9199edd9df3ef1d2.txt  \n",
            "  inflating: labels/train/IMG20230602082253_jpg.rf.221bf5a9101686a47ca758a959b0d924.txt  \n",
            "  inflating: labels/train/IMG20230602082253_jpg.rf.7640674144066f37c6ce63a34e9e87d0.txt  \n",
            "  inflating: labels/train/IMG20230602082253_jpg.rf.980bda9a16fd19529861dc68bd7aec95.txt  \n",
            "  inflating: labels/train/IMG20230602082253_jpg.rf.bd1ab5190181facdd407c5365843d441.txt  \n",
            "  inflating: labels/train/IMG20230602082253_jpg.rf.bd95bc5ccd93b8d1f427c44d37515578.txt  \n",
            "  inflating: labels/train/IMG20230602082253_jpg.rf.ef0f39eaaa6e7db7563fd9862abbec2e.txt  \n",
            "  inflating: labels/train/IMG20230602082253_jpg.rf.fe3ed1b882fca8fb9eb50342cba26fc1.txt  \n",
            "  inflating: labels/train/IMG20230602082256_jpg.rf.2eee9a9b8fb7f53fb665ba732743bfaa.txt  \n",
            "  inflating: labels/train/IMG20230602082256_jpg.rf.54abecbbf64ed63117bf42fe3a28a3b8.txt  \n",
            "  inflating: labels/train/IMG20230602082256_jpg.rf.749f32d240bfb8ea355975b839a2f8be.txt  \n",
            "  inflating: labels/train/IMG20230602082309_jpg.rf.27b7d4b5714f0897220cc2f8ef02f79e.txt  \n",
            "  inflating: labels/train/IMG20230602082309_jpg.rf.6319149182b054531a6c25c69ab3a2f2.txt  \n",
            "  inflating: labels/train/IMG20230602082309_jpg.rf.c2f19b656ce3d7ad7d02e8ff60e8ae43.txt  \n",
            "  inflating: labels/train/IMG20230602082402_jpg.rf.0326586fa14bf511b697c308a284ab28.txt  \n",
            "  inflating: labels/train/IMG20230602082402_jpg.rf.7d0cef6dd137c9d18a0c7dae626cd9bd.txt  \n",
            "  inflating: labels/train/IMG20230602082402_jpg.rf.7e1cd668d9c6bac075b05d23dddd8b98.txt  \n",
            "  inflating: labels/train/IMG20230602082405_jpg.rf.0c29b115c5218e25f873b4315218228c.txt  \n",
            "  inflating: labels/train/IMG20230602082405_jpg.rf.3e0fec6db34de09847c52dffa360dbdb.txt  \n",
            "  inflating: labels/train/IMG20230602082405_jpg.rf.81c83fb4648f2d28c2f4e51a948b3ef8.txt  \n",
            "  inflating: labels/train/IMG20230602082405_jpg.rf.c1b8dd1bc97a1b153af7f24cf91ef873.txt  \n",
            "  inflating: labels/train/IMG20230602082405_jpg.rf.cb25f5d40fae0af220eefdf3071fcd56.txt  \n",
            "  inflating: labels/train/IMG20230602082405_jpg.rf.d5bdf4661fd8b4b9eb2010d4adebe536.txt  \n",
            "  inflating: labels/train/IMG20230602082406_jpg.rf.0d3bea3320571b2dcbda20b6235ba02a.txt  \n",
            "  inflating: labels/train/IMG20230602082406_jpg.rf.0f0dfc2b65d994f20accc385f438db15.txt  \n",
            "  inflating: labels/train/IMG20230602082406_jpg.rf.1bb5f22c3b2f2a1189f4437815cdf612.txt  \n",
            "  inflating: labels/train/IMG20230602082406_jpg.rf.6c5eba1bf1c43a1e0f472987d7e45335.txt  \n",
            "  inflating: labels/train/IMG20230602082406_jpg.rf.8019cfdb9cad26d0ee1a37ed45e72af7.txt  \n",
            "  inflating: labels/train/IMG20230602082406_jpg.rf.94e880ce19bfe0fcb1f735be32b03912.txt  \n",
            "  inflating: labels/train/IMG20230602082406_jpg.rf.bde0c2a11f35d467da30f00bd95c3002.txt  \n",
            "  inflating: labels/train/IMG20230602082406_jpg.rf.edf0df09cb9327eb863a061d32f4c4a1.txt  \n",
            "  inflating: labels/train/IMG20230602082409_jpg.rf.1b14ad1b440e43918ecfdb63716084bc.txt  \n",
            "  inflating: labels/train/IMG20230602082409_jpg.rf.5fd1ead82a7daf84c8a60aec449d7db7.txt  \n",
            "  inflating: labels/train/IMG20230602082409_jpg.rf.68e35243513bda6da0f442a832e24ee2.txt  \n",
            "  inflating: labels/train/IMG20230602082409_jpg.rf.aaf029fbbd0877da7d27da8a0f9211df.txt  \n",
            "  inflating: labels/train/IMG20230602082409_jpg.rf.bf5082bf1e25acc2b14fd7e94f71195a.txt  \n",
            "  inflating: labels/train/IMG20230602082409_jpg.rf.dec12713338194e6084e601e7964623f.txt  \n",
            "  inflating: labels/train/IMG20230602082411_jpg.rf.3bbe3f58efdbb47db3782a7b2c8d3ec4.txt  \n",
            "  inflating: labels/train/IMG20230602082411_jpg.rf.8b5654d079b2a5cbb4da466af17baa6b.txt  \n",
            "  inflating: labels/train/IMG20230602082411_jpg.rf.b8485fc1abb1dd6f78eabbd93b59247d.txt  \n",
            "  inflating: labels/train/IMG20230602082414_jpg.rf.0379c83a83ad49f37f82e92f0694c94f.txt  \n",
            "  inflating: labels/train/IMG20230602082414_jpg.rf.20039408d132dca2fe92447611ef310a.txt  \n",
            "  inflating: labels/train/IMG20230602082414_jpg.rf.7da54e62b489a685bbd0b00bf9dd6bd2.txt  \n",
            "  inflating: labels/train/IMG20230602082421_jpg.rf.2b4f3fc7ebd068e9382b4008447562b5.txt  \n",
            "  inflating: labels/train/IMG20230602082421_jpg.rf.b6d993cdf1bcf1c599d678d102b95ecb.txt  \n",
            "  inflating: labels/train/IMG20230602082421_jpg.rf.c7018d1fa1838a7597093e6e8b4c0460.txt  \n",
            "  inflating: labels/train/IMG20230602082421_jpg.rf.dbc35e199eaed6dda362189b4fda7689.txt  \n",
            "  inflating: labels/train/IMG20230602082421_jpg.rf.f5b6eea5f6ac77e393de6a6653db118e.txt  \n",
            "  inflating: labels/train/IMG20230602082421_jpg.rf.ffc48f3eed14ca2bee4d4ab4393e778e.txt  \n",
            "  inflating: labels/train/IMG20230602082423_jpg.rf.89ee94d880fbdc5b16d0de1bd65f925b.txt  \n",
            "  inflating: labels/train/IMG20230602082423_jpg.rf.e0d8a6192242be9a67b7a1e49d0a95f2.txt  \n",
            "  inflating: labels/train/IMG20230602082425_jpg.rf.48ec1456094bc6a443d23f3cd6993af9.txt  \n",
            "  inflating: labels/train/IMG20230602082425_jpg.rf.78c6b686d71920231cff9a99fe79c37d.txt  \n",
            "  inflating: labels/train/IMG20230602082425_jpg.rf.eb70fd477409bfd71149ff8657304db0.txt  \n",
            "  inflating: labels/train/IMG20230602082427_jpg.rf.29e4366d06f0e713f1296d1527d51ede.txt  \n",
            "  inflating: labels/train/IMG20230602082427_jpg.rf.446012285e28d4d94003b48dd10b9558.txt  \n",
            "  inflating: labels/train/IMG20230602082427_jpg.rf.6b07ab978614d830920413cb8723ab95.txt  \n",
            "  inflating: labels/train/IMG20230602082429_jpg.rf.4b8b86cf85b0e2fbea9110cfe80510bd.txt  \n",
            "  inflating: labels/train/IMG20230602082429_jpg.rf.4cfbfef6265fde69a08363354d1bc4dd.txt  \n",
            "  inflating: labels/train/IMG20230602082429_jpg.rf.5162ecff74ca0e79e35af31a338c5410.txt  \n",
            "  inflating: labels/train/IMG20230602082429_jpg.rf.72911f5423944fa7431a2c60f0f5fb64.txt  \n",
            "  inflating: labels/train/IMG20230602082429_jpg.rf.8bbf17e653198ffdc5298d0af62c9119.txt  \n",
            "  inflating: labels/train/IMG20230602082429_jpg.rf.c8d7240439db36466386238d44f28d50.txt  \n",
            "  inflating: labels/train/IMG20230602082432_jpg.rf.6504310fa34a9eafdf677271d3ffabda.txt  \n",
            "  inflating: labels/train/IMG20230602082432_jpg.rf.99a3cf9d7ed8ebda6b5f5b73e9ebfc68.txt  \n",
            "  inflating: labels/train/IMG20230602082432_jpg.rf.bb99d01c00b9b408078fabe669570133.txt  \n",
            "  inflating: labels/train/IMG20230602082435_jpg.rf.33efdbd29bb0a4396c11ac765442703f.txt  \n",
            "  inflating: labels/train/IMG20230602082435_jpg.rf.3a1900723cb1a79dfaad8a7d32512fd7.txt  \n",
            "  inflating: labels/train/IMG20230602082437_jpg.rf.29e4d8852b0b59f00bddb839b932dd92.txt  \n",
            "  inflating: labels/train/IMG20230602082437_jpg.rf.37dc8bfa88ace424aebf7237e0f61c75.txt  \n",
            "  inflating: labels/train/IMG20230602082437_jpg.rf.9da9584b6262877d66e985fbaf84d01a.txt  \n",
            "  inflating: labels/train/IMG20230602082439_jpg.rf.be6a18f12273be8595995ce00c820ba9.txt  \n",
            "  inflating: labels/train/IMG20230602082439_jpg.rf.d64d12553e343012d907910945974571.txt  \n",
            "  inflating: labels/train/IMG20230602082439_jpg.rf.dae658814c4ad8bd06b62c283dfd4048.txt  \n",
            "  inflating: labels/train/IMG20230602082441_jpg.rf.19e31d018310281576a74c29d2281c3e.txt  \n",
            "  inflating: labels/train/IMG20230602082441_jpg.rf.4cb0769ce97e2cc841eb22520bb8d421.txt  \n",
            "  inflating: labels/train/IMG20230602082443_jpg.rf.7b912c9810e623870e03409d4ea5026c.txt  \n",
            "  inflating: labels/train/IMG20230602082443_jpg.rf.7fe558f205253da1d0ee7a5e98ba4fa5.txt  \n",
            "  inflating: labels/train/IMG20230602082443_jpg.rf.c2747bd9741d5e6754f9f1960fa126ac.txt  \n",
            "  inflating: labels/train/IMG20230602082445_jpg.rf.38b97e3e9560c4b3014a8c165b897e6e.txt  \n",
            "  inflating: labels/train/IMG20230602082445_jpg.rf.aa300ab6b50b6c381a6cd26453622679.txt  \n",
            "  inflating: labels/train/IMG20230602082445_jpg.rf.e4238f307783568b00cdd361b6c1a728.txt  \n",
            "  inflating: labels/train/IMG20230602082446_jpg.rf.49e702374d1cf5a3f84463ef578d670e.txt  \n",
            "  inflating: labels/train/IMG20230602082446_jpg.rf.7670afbae0eb6b7d8c90e173c2f27cc3.txt  \n",
            "  inflating: labels/train/IMG20230602082446_jpg.rf.c7e481f226268cd21aecaa3d9194eecf.txt  \n",
            "  inflating: labels/train/IMG20230602082449_jpg.rf.0f844d38f2f1a98c6537410947686390.txt  \n",
            "  inflating: labels/train/IMG20230602082449_jpg.rf.69d4598a62fcc02bae281ddc72b843e1.txt  \n",
            "  inflating: labels/train/IMG20230602082449_jpg.rf.875f0a3b3685255dfd12603ad778f87a.txt  \n",
            "  inflating: labels/train/IMG20230602082453_jpg.rf.6319340d1ba01ae94a70b75031c581c1.txt  \n",
            "  inflating: labels/train/IMG20230602082453_jpg.rf.6b1f1c7a9e5506ea0baacd2a5839101f.txt  \n",
            "  inflating: labels/train/IMG20230602082453_jpg.rf.aad7e6a6e501c10b122db86a9754e035.txt  \n",
            "  inflating: labels/train/IMG20230602082455_jpg.rf.1074db42732097af6c55ee1828cd1512.txt  \n",
            "  inflating: labels/train/IMG20230602082455_jpg.rf.7cad362c5e9e910c6e001c561df66b0e.txt  \n",
            "  inflating: labels/train/IMG20230602082455_jpg.rf.b89f5848b2e463246956cd79f9921cb1.txt  \n",
            "  inflating: labels/train/IMG20230602082456_jpg.rf.0fed75530c7eb21fa3b0ab4b6f555829.txt  \n",
            "  inflating: labels/train/IMG20230602082456_jpg.rf.2b97431ea08d9cf89fd261114291406e.txt  \n",
            "  inflating: labels/train/IMG20230602082456_jpg.rf.e16c6df4b7b9825f3dd942c6a1ddf024.txt  \n",
            "  inflating: labels/train/IMG20230602082501_jpg.rf.2d9d963389b105c5545b3e7ec2b79a06.txt  \n",
            "  inflating: labels/train/IMG20230602082501_jpg.rf.5a0f3666084a2f56b592105e810721d8.txt  \n",
            "  inflating: labels/train/IMG20230602082501_jpg.rf.5ce2c1e963aad4a11aac70eaf652f977.txt  \n",
            "  inflating: labels/train/IMG20230602082501_jpg.rf.677c0b249c0ce88b8e224fb994985a34.txt  \n",
            "  inflating: labels/train/IMG20230602082501_jpg.rf.ed72106e41338a007734f8ab65607d52.txt  \n",
            "  inflating: labels/train/IMG20230602082501_jpg.rf.fb15a288286dfc0f93303e0d4f679861.txt  \n",
            "  inflating: labels/train/IMG20230602082506_jpg.rf.6ae52d9c676d83a304dd31bb8e9b34cf.txt  \n",
            "  inflating: labels/train/IMG20230602082506_jpg.rf.6b3eb00ac4443ec1d295909a5d1db39a.txt  \n",
            "  inflating: labels/train/IMG20230602082506_jpg.rf.8ae64e40d7644675abebf6a03c81985d.txt  \n",
            "  inflating: labels/train/IMG20230602082511_jpg.rf.13e9e54e6655da6c57423e3bd8c46971.txt  \n",
            "  inflating: labels/train/IMG20230602082511_jpg.rf.80ecdef688a7537608d915e708d41463.txt  \n",
            "  inflating: labels/train/IMG20230602082511_jpg.rf.933893c6bb6347f548185c1f9a95a6df.txt  \n",
            "  inflating: labels/train/IMG20230602082513_jpg.rf.111ff1a04cb4b0e43e8337cb75c68f15.txt  \n",
            "  inflating: labels/train/IMG20230602082513_jpg.rf.cd83833c172260f4dc459e697b74dee5.txt  \n",
            "  inflating: labels/train/IMG20230602082513_jpg.rf.f5c9cb96cb6571660c2ceb5431e961bf.txt  \n",
            "  inflating: labels/train/IMG20230602082515_jpg.rf.337855d629a1891b29cc9471ae2e2544.txt  \n",
            "  inflating: labels/train/IMG20230602082515_jpg.rf.5c3de0b76c223caf445771429a1e8c49.txt  \n",
            "  inflating: labels/train/IMG20230602082515_jpg.rf.5e1bc63a7d799f57c3baf50add7f9449.txt  \n",
            "  inflating: labels/train/IMG20230602082517_jpg.rf.555abc8ba526105d10906260598ae0f9.txt  \n",
            "  inflating: labels/train/IMG20230602082517_jpg.rf.67de65e79c68106e103714e1c8ed7776.txt  \n",
            "  inflating: labels/train/IMG20230602082517_jpg.rf.7168f030a4d38f04d9a2d6059608bd0e.txt  \n",
            "  inflating: labels/train/IMG20230602082521_jpg.rf.0866227a63d09840b6ee0049c11efa4f.txt  \n",
            "  inflating: labels/train/IMG20230602082521_jpg.rf.4754af6920013f4ebeec41722afeef48.txt  \n",
            "  inflating: labels/train/IMG20230602082521_jpg.rf.c9668a100aaff71f6c7c50df93ef4400.txt  \n",
            "  inflating: labels/train/IMG20230602082523_jpg.rf.62f9d30dbd507cd35cea1c28b6666554.txt  \n",
            "  inflating: labels/train/IMG20230602082523_jpg.rf.6df1eb31a88490578c3465ccca0f9739.txt  \n",
            "  inflating: labels/train/IMG20230602082523_jpg.rf.d0706f0cee0ae82cbf77a84e36bb7e40.txt  \n",
            "  inflating: labels/train/IMG20230602082526_jpg.rf.2fa2d7352e3017fdf60c2ef170c2ff87.txt  \n",
            "  inflating: labels/train/IMG20230602082526_jpg.rf.42bbf1763771dfd3c487941c8702d8e9.txt  \n",
            "  inflating: labels/train/IMG20230602082526_jpg.rf.91f292e2b0167a337fd207f7b05060b1.txt  \n",
            "  inflating: labels/train/IMG20230602082527_jpg.rf.729510d76e56a27651b6a34e7fb6ecc9.txt  \n",
            "  inflating: labels/train/IMG20230602082527_jpg.rf.c6062a62e395258a42ec5b56df3dbcdc.txt  \n",
            "  inflating: labels/train/IMG20230602082527_jpg.rf.d62cb5114cf0efd848f5aca9b4e10ac1.txt  \n",
            "  inflating: labels/train/IMG20230602082529_jpg.rf.1875c773b4ec3f54e96f3c4cd9876722.txt  \n",
            "  inflating: labels/train/IMG20230602082529_jpg.rf.51b2f8bc24b7ffdc81ed20a1843cf149.txt  \n",
            "  inflating: labels/train/IMG20230602082529_jpg.rf.f4faa271305fcc59b8264cf9e86d9565.txt  \n",
            "  inflating: labels/train/IMG20230602082538_jpg.rf.5d9bc21050466f106bd9246111549517.txt  \n",
            "  inflating: labels/train/IMG20230602082538_jpg.rf.a763b074ad38f7297fb9f0e32ea24d0c.txt  \n",
            "  inflating: labels/train/IMG20230602082538_jpg.rf.ebfedf95d91ccbe0421131be5aec7b5d.txt  \n",
            "  inflating: labels/train/IMG20230602082540_jpg.rf.0bf3a5cc7b63632913541caf017ad4a6.txt  \n",
            "  inflating: labels/train/IMG20230602082540_jpg.rf.4d8205e6eadeaf97b3d64ea2e3abe16b.txt  \n",
            "  inflating: labels/train/IMG20230602082540_jpg.rf.f7f7fc5b21fe1d238c2f4941ed270f3d.txt  \n",
            "  inflating: labels/train/IMG20230602082545_jpg.rf.0eb4ded164fa89c9e992c8782a150d19.txt  \n",
            "  inflating: labels/train/IMG20230602082545_jpg.rf.1cd2dcb00ea8221f10b12eadb08229c1.txt  \n",
            "  inflating: labels/train/IMG20230602082545_jpg.rf.6deb0a69629944e988a2e8f61faa1e5d.txt  \n",
            "  inflating: labels/train/IMG20230602082549_jpg.rf.1acd08b18d7266952e4f81c2a18243ee.txt  \n",
            "  inflating: labels/train/IMG20230602082549_jpg.rf.1d83ed22cd7c549ddf0d4f547a342b07.txt  \n",
            "  inflating: labels/train/IMG20230602082549_jpg.rf.be38325b241ad9605cf52a486351a18a.txt  \n",
            "  inflating: labels/train/IMG20230602082551_jpg.rf.243cf6e8cc102f20bce4452142af1782.txt  \n",
            "  inflating: labels/train/IMG20230602082551_jpg.rf.4349371824e3548c35b6c1f0cc79e6aa.txt  \n",
            "  inflating: labels/train/IMG20230602082551_jpg.rf.d8dcd032dce440fc429b1b9536978bed.txt  \n",
            "  inflating: labels/train/IMG20230602082557_jpg.rf.0f780058137c26eb4cf76412ffc6014a.txt  \n",
            "  inflating: labels/train/IMG20230602082557_jpg.rf.7453603bda14316660430242445430e2.txt  \n",
            "  inflating: labels/train/IMG20230602082557_jpg.rf.c842565b3a17ac38706a90b6ecbb1f9b.txt  \n",
            "  inflating: labels/train/IMG20230602082600_jpg.rf.b5465f56f5931e68a9a11f1f72a34776.txt  \n",
            "  inflating: labels/train/IMG20230602082600_jpg.rf.c0f3570149bc39c97b56d866bc0fd501.txt  \n",
            "  inflating: labels/train/IMG20230602082600_jpg.rf.ed527f35e5cca4727354b78a7c888d91.txt  \n",
            "  inflating: labels/train/IMG20230602082603_jpg.rf.251437af3b831cbe1e0c16da94082960.txt  \n",
            "  inflating: labels/train/IMG20230602082603_jpg.rf.78e3da2effa13231761c0bd4b740c632.txt  \n",
            "  inflating: labels/train/IMG20230602082603_jpg.rf.d0050c9fea25fa14061d85a3ca6f1680.txt  \n",
            "  inflating: labels/train/IMG20230602082605_jpg.rf.5b6b589e2d54f5bf5539076dccf7048a.txt  \n",
            "  inflating: labels/train/IMG20230602082605_jpg.rf.95cef403f1f7115d3e08a5c343ca3419.txt  \n",
            "  inflating: labels/train/IMG20230602082605_jpg.rf.a3d7673a9b27bdf2462b0ec7110aee9d.txt  \n",
            "  inflating: labels/train/IMG20230602082608_jpg.rf.43e1cfe10fd29b863464c7463e721e12.txt  \n",
            "  inflating: labels/train/IMG20230602082608_jpg.rf.a703eb54f764fba0b3a5d305b99e90bb.txt  \n",
            "  inflating: labels/train/IMG20230602082608_jpg.rf.bc7213b90dbb4ece7f3906f921774251.txt  \n",
            "  inflating: labels/train/IMG20230602082812_jpg.rf.890d6d66072d9404f26f9ddab5f9e049.txt  \n",
            "  inflating: labels/train/IMG20230602082812_jpg.rf.b55b7047bede87deec5acf36ce0b118b.txt  \n",
            "  inflating: labels/train/IMG20230602082812_jpg.rf.d7eb97b3276caa2155226f59199b40d4.txt  \n",
            "  inflating: labels/train/IMG20230602082814_jpg.rf.0df64baf53b7433448ebb810076e9fea.txt  \n",
            "  inflating: labels/train/IMG20230602082814_jpg.rf.7725502b5b8707d46f4300d64252b112.txt  \n",
            "  inflating: labels/train/IMG20230602082814_jpg.rf.dc9ea501cf2af8e343a45511f2b70122.txt  \n",
            "  inflating: labels/train/IMG20230602082817_jpg.rf.1293ff378a604285f9944f266e5a9481.txt  \n",
            "  inflating: labels/train/IMG20230602082817_jpg.rf.7d38c23b91bd3562123dd3ec00db3832.txt  \n",
            "  inflating: labels/train/IMG20230602082817_jpg.rf.e88b5492128e4a3b7fad68f8455c0e72.txt  \n",
            "  inflating: labels/train/IMG20230602082822_jpg.rf.52f99338a23e4fa235011363b5577815.txt  \n",
            "  inflating: labels/train/IMG20230602082822_jpg.rf.9a49d4ee40b6c85c7002e839c71f1603.txt  \n",
            "  inflating: labels/train/IMG20230602082822_jpg.rf.9efea1329c56cde0714048b99b2ca79f.txt  \n",
            "  inflating: labels/train/IMG20230605082429_jpg.rf.077791037d10b2c1f7fd81d741c10b8c.txt  \n",
            "  inflating: labels/train/IMG20230605082429_jpg.rf.9266eb671714092c976e4ce0e3f06a1f.txt  \n",
            "  inflating: labels/train/IMG20230605082429_jpg.rf.ac08203565fe1c07e0a4933bf8982a66.txt  \n",
            "  inflating: labels/train/IMG20230605082429_jpg.rf.ca4f9510205a55b797fa01e628558b19.txt  \n",
            "  inflating: labels/train/IMG20230605082429_jpg.rf.d96e785faf26e05847d2ee86010ea818.txt  \n",
            "  inflating: labels/train/IMG20230605082429_jpg.rf.f6b7dc37612f69e31168df09ada9cdda.txt  \n",
            "  inflating: labels/train/IMG20230605082431_jpg.rf.07b00e33b207ee3eb67b7ec391cf669a.txt  \n",
            "  inflating: labels/train/IMG20230605082431_jpg.rf.0ab12f06441218599f0bc45e9a68eb4d.txt  \n",
            "  inflating: labels/train/IMG20230605082431_jpg.rf.1021a19581d68102c64df84936189e5f.txt  \n",
            "  inflating: labels/train/IMG20230605082431_jpg.rf.2088ad34adfee7cf6916b07c8c07e48b.txt  \n",
            "  inflating: labels/train/IMG20230605082431_jpg.rf.37b49c947f0a1cfae02b4efb496c8335.txt  \n",
            "  inflating: labels/train/IMG20230605082431_jpg.rf.3899624c8d79449852da9e2ec5084c2d.txt  \n",
            "  inflating: labels/train/IMG20230605082431_jpg.rf.3cc009980b0ac5d9b567b01e8ebd26fa.txt  \n",
            "  inflating: labels/train/IMG20230605082431_jpg.rf.4fdb3577c8b08a69d77dd9e2d3547ac9.txt  \n",
            "  inflating: labels/train/IMG20230605082431_jpg.rf.51522c06938b7bd1b2f5ff2e32e0b277.txt  \n",
            "  inflating: labels/train/IMG20230605082431_jpg.rf.5dc29f23895825712c891801532c67e9.txt  \n",
            "  inflating: labels/train/IMG20230605082431_jpg.rf.6afe7e6668fa67e80b2e9f1dd60e314c.txt  \n",
            "  inflating: labels/train/IMG20230605082431_jpg.rf.9674268bc7460497244c69d62d3a20c4.txt  \n",
            "  inflating: labels/train/IMG20230605082431_jpg.rf.b4f5226b2fa02499bacfa0d920cdc60c.txt  \n",
            "  inflating: labels/train/IMG20230605082431_jpg.rf.b999673a05cad949bc6b83b79e2c64d2.txt  \n",
            "  inflating: labels/train/IMG20230605082431_jpg.rf.bd9b0f0a7df7a76d931f90e8f53cc0a0.txt  \n",
            "  inflating: labels/train/IMG20230605082431_jpg.rf.c31ff6e12ffe4770354c626107827c38.txt  \n",
            "  inflating: labels/train/IMG20230605082431_jpg.rf.c51110123fa1f75c07a5b5669c85a942.txt  \n",
            "  inflating: labels/train/IMG20230605082431_jpg.rf.d7d84d1cf8ca7a6454c51642bf895a1e.txt  \n",
            "  inflating: labels/train/IMG20230605082436_jpg.rf.2c46853bb09b22eda1243da2c1edcd5d.txt  \n",
            "  inflating: labels/train/IMG20230605082436_jpg.rf.3b3ea8547f2297819c33a895455ca588.txt  \n",
            "  inflating: labels/train/IMG20230605082436_jpg.rf.3eb0589eea59cf5445239ceea0820a57.txt  \n",
            "  inflating: labels/train/IMG20230605082436_jpg.rf.4f104e1fd6dde60bd65fd8ddd0b1cd96.txt  \n",
            "  inflating: labels/train/IMG20230605082436_jpg.rf.5a2f22c6b0f32618889a6e0ca79c47a7.txt  \n",
            "  inflating: labels/train/IMG20230605082436_jpg.rf.5e53888f92a214eb4808b275ce673a7f.txt  \n",
            "  inflating: labels/train/IMG20230605082436_jpg.rf.764e52bc606164f76971f439488540c5.txt  \n",
            "  inflating: labels/train/IMG20230605082436_jpg.rf.780041613fcd88c8515fda996d0e606d.txt  \n",
            "  inflating: labels/train/IMG20230605082436_jpg.rf.81b2151dafa6a1b6f2e5dbf493f6727e.txt  \n",
            "  inflating: labels/train/IMG20230605082436_jpg.rf.8bdda0c352e303f2920814c7753d28f6.txt  \n",
            "  inflating: labels/train/IMG20230605082436_jpg.rf.970b82c6ed749ce442e4a2e29d382976.txt  \n",
            "  inflating: labels/train/IMG20230605082436_jpg.rf.9c20da0c2396fec6fcbf1a9a78c37187.txt  \n",
            "  inflating: labels/train/IMG20230605082436_jpg.rf.a6e0fe856574672297f091744d58ce1b.txt  \n",
            "  inflating: labels/train/IMG20230605082436_jpg.rf.ac6a94d0a567f06c38ee04011a8d0e64.txt  \n",
            "  inflating: labels/train/IMG20230605082436_jpg.rf.acde46bf52183d4251a2fbd4f1549357.txt  \n",
            "  inflating: labels/train/IMG20230605082436_jpg.rf.ad8b9419fbb296db08aa941141cd628c.txt  \n",
            "  inflating: labels/train/IMG20230605082436_jpg.rf.bb04d739b8909830e3a8f48f568d6baf.txt  \n",
            "  inflating: labels/train/IMG20230605082436_jpg.rf.bbf7f1a0c858eb239129fcd086a68345.txt  \n",
            "  inflating: labels/train/IMG20230605082436_jpg.rf.bc6afb46fd93180c87b7d0a915583b00.txt  \n",
            "  inflating: labels/train/IMG20230605082436_jpg.rf.ca59c1df5a8cbed76b16f21a7394586d.txt  \n",
            "  inflating: labels/train/IMG20230605082436_jpg.rf.cfe234e1d23322da68c5c23952d72762.txt  \n",
            "  inflating: labels/train/IMG20230605082436_jpg.rf.d9c37b002064d5cfed68bc3ed594e810.txt  \n",
            "  inflating: labels/train/IMG20230605082436_jpg.rf.ef6c4ca1130c45b171d297c032a982ec.txt  \n",
            "  inflating: labels/train/IMG20230605082439_jpg.rf.063e9e2b39c6af79052b10e3d488fd7b.txt  \n",
            "  inflating: labels/train/IMG20230605082439_jpg.rf.2353f2a29ab285137f97139f0839ccf4.txt  \n",
            "  inflating: labels/train/IMG20230605082439_jpg.rf.269496aada88736ccbde31daa96a0f13.txt  \n",
            "  inflating: labels/train/IMG20230605082439_jpg.rf.2f08a24a9c23709c4c5bced272768f7d.txt  \n",
            "  inflating: labels/train/IMG20230605082439_jpg.rf.308ac05db43304a033d4cd5d2b19c55f.txt  \n",
            "  inflating: labels/train/IMG20230605082439_jpg.rf.3e49e36736da71df71c3211cfc5849f2.txt  \n",
            "  inflating: labels/train/IMG20230605082439_jpg.rf.3f43fccff7d84ae78ec964e5764109f8.txt  \n",
            "  inflating: labels/train/IMG20230605082439_jpg.rf.481ce19585a907c5e5dd481d8eb64712.txt  \n",
            "  inflating: labels/train/IMG20230605082439_jpg.rf.50290406e5cfe960fad8ce5318d1c676.txt  \n",
            "  inflating: labels/train/IMG20230605082439_jpg.rf.707f9f814642581d3cc0a30c8c453bc7.txt  \n",
            "  inflating: labels/train/IMG20230605082439_jpg.rf.7ab7800fd72130b984f8558661e0b6fd.txt  \n",
            "  inflating: labels/train/IMG20230605082439_jpg.rf.88bdb8f459f1a4f20766b67a5e485225.txt  \n",
            "  inflating: labels/train/IMG20230605082439_jpg.rf.88c547338ff0a0741cc4348ca262e50d.txt  \n",
            "  inflating: labels/train/IMG20230605082439_jpg.rf.8b43df618a756d718b43fdefef6cf40a.txt  \n",
            "  inflating: labels/train/IMG20230605082439_jpg.rf.91622ad170fe2adb208af55a375e3838.txt  \n",
            "  inflating: labels/train/IMG20230605082439_jpg.rf.95860b1a5857cb5cc6dbe40d0b6534e8.txt  \n",
            "  inflating: labels/train/IMG20230605082439_jpg.rf.9f03c04f0f1d63ef74e3d872de828c4e.txt  \n",
            "  inflating: labels/train/IMG20230605082439_jpg.rf.a672bee246433c1d87b3bd5ee0e6cb7f.txt  \n",
            "  inflating: labels/train/IMG20230605082439_jpg.rf.a99980d526c3ae46b88311afed7a2429.txt  \n",
            "  inflating: labels/train/IMG20230605082439_jpg.rf.b7dc403c990e1fd860783a0a240d806c.txt  \n",
            "  inflating: labels/train/IMG20230605082439_jpg.rf.c452367821d570c57a1e7b2181ec098a.txt  \n",
            "  inflating: labels/train/IMG20230605082439_jpg.rf.df33e57664848754490d3079c6e4bc21.txt  \n",
            "  inflating: labels/train/IMG20230605082439_jpg.rf.e54cbd18115a8787f3640b79fa0ec434.txt  \n",
            "  inflating: labels/train/IMG20230605082439_jpg.rf.e577bc8afac2b6dd32a971c5e5edd5ec.txt  \n",
            "  inflating: labels/train/IMG20230605082444_jpg.rf.269c53e62ccacc00a1fc46a5f3541fb9.txt  \n",
            "  inflating: labels/train/IMG20230605082444_jpg.rf.2c791402cd044f483fd355fddf6e512a.txt  \n",
            "  inflating: labels/train/IMG20230605082444_jpg.rf.318ab36189333cdecb82aa8c2d0f0014.txt  \n",
            "  inflating: labels/train/IMG20230605082444_jpg.rf.6325b0548a9d089e7e67ae01546a627b.txt  \n",
            "  inflating: labels/train/IMG20230605082444_jpg.rf.8682bbebf6bf38ccffccbcf66a270fba.txt  \n",
            "  inflating: labels/train/IMG20230605082444_jpg.rf.a2fd57f4a224cc525ce7f3948788fa61.txt  \n",
            "  inflating: labels/train/IMG20230605082444_jpg.rf.ca2683921cb8bb81b3a29ca02a5c83f7.txt  \n",
            "  inflating: labels/train/IMG20230605082444_jpg.rf.d4cd10c57cc59cda4018a7a6fa1697d3.txt  \n",
            "  inflating: labels/train/IMG20230605082444_jpg.rf.df7341d4f1dee4fe38fe47886ed45e48.txt  \n",
            "  inflating: labels/train/IMG20230605082453_jpg.rf.001c00096524702a9e3db5d535c2c964.txt  \n",
            "  inflating: labels/train/IMG20230605082453_jpg.rf.00ab95088b8466eb30139e62657ab0c9.txt  \n",
            "  inflating: labels/train/IMG20230605082453_jpg.rf.0297a5a7e9c538b1bda02fc2fdb9fee6.txt  \n",
            "  inflating: labels/train/IMG20230605082453_jpg.rf.05a8ce2e315ca9b31fa68ef504affb22.txt  \n",
            "  inflating: labels/train/IMG20230605082453_jpg.rf.07086eec21ad40c972442c55c434d2b3.txt  \n",
            "  inflating: labels/train/IMG20230605082453_jpg.rf.08c651bb80612878eac5d5037fe05adc.txt  \n",
            "  inflating: labels/train/IMG20230605082453_jpg.rf.0b35b1f8147c964f96e7759b79c4b1af.txt  \n",
            "  inflating: labels/train/IMG20230605082453_jpg.rf.0b7fe5a6639b1ead4bfb11a294c340d6.txt  \n",
            "  inflating: labels/train/IMG20230605082453_jpg.rf.0de8f53db4cd6ecc647660c73a27c9fc.txt  \n",
            "  inflating: labels/train/IMG20230605082453_jpg.rf.125731868389a92b67aa79e5ee1321b1.txt  \n",
            "  inflating: labels/train/IMG20230605082453_jpg.rf.196997fb4179e47dacca02674b9264d1.txt  \n",
            "  inflating: labels/train/IMG20230605082453_jpg.rf.1d96733509caca6461b237287438d24d.txt  \n",
            "  inflating: labels/train/IMG20230605082453_jpg.rf.24835ccc12b83724c6bd3d48824e11bf.txt  \n",
            "  inflating: labels/train/IMG20230605082453_jpg.rf.24d3ea45c339f5fe97d7ee0cd2deab9b.txt  \n",
            "  inflating: labels/train/IMG20230605082453_jpg.rf.2bb93045d2a4f7fad659e733926a1834.txt  \n",
            "  inflating: labels/train/IMG20230605082453_jpg.rf.3a86386e84925658d8f004c9b86fb480.txt  \n",
            "  inflating: labels/train/IMG20230605082453_jpg.rf.3b367a04e81c298f8b4be2c45e0e4eea.txt  \n",
            "  inflating: labels/train/IMG20230605082453_jpg.rf.472ff464f9940e4b1b45fc883a17f38d.txt  \n",
            "  inflating: labels/train/IMG20230605082453_jpg.rf.47bff51491f412097627798882952d5c.txt  \n",
            "  inflating: labels/train/IMG20230605082453_jpg.rf.4e14171d9d3f51f0bbf84c436707671e.txt  \n",
            "  inflating: labels/train/IMG20230605082453_jpg.rf.581e84afdfd411737f1bf511f02670a3.txt  \n",
            "  inflating: labels/train/IMG20230605082453_jpg.rf.5e4238ac99db35c580ef59f3d410368a.txt  \n",
            "  inflating: labels/train/IMG20230605082453_jpg.rf.62abaafc9ff85fde310ec372f8a58118.txt  \n",
            "  inflating: labels/train/IMG20230605082453_jpg.rf.8a34c1319f387e21fbad9340a5ba7635.txt  \n",
            "  inflating: labels/train/IMG20230605082453_jpg.rf.8a736cda6c3534b973946138691ae2b2.txt  \n",
            "  inflating: labels/train/IMG20230605082453_jpg.rf.980da1d98827458699a5d7c6c409b931.txt  \n",
            "  inflating: labels/train/IMG20230605082453_jpg.rf.99db0a31fc3c431909efd5574ad413db.txt  \n",
            "  inflating: labels/train/IMG20230605082453_jpg.rf.a0ffe621119adfea12df9027f18754aa.txt  \n",
            "  inflating: labels/train/IMG20230605082453_jpg.rf.a4bd129be77eb6077323dd790008ef2e.txt  \n",
            "  inflating: labels/train/IMG20230605082453_jpg.rf.afeda9f2194d6043aae9617c4366e46f.txt  \n",
            "  inflating: labels/train/IMG20230605082453_jpg.rf.ba5c941c71fa4e5a81226571e71d9e39.txt  \n",
            "  inflating: labels/train/IMG20230605082453_jpg.rf.bcdd7ecf1709f4dfedf29fa53b762054.txt  \n",
            "  inflating: labels/train/IMG20230605082453_jpg.rf.bf8d2df444a19a50417dbbe815e918dc.txt  \n",
            "  inflating: labels/train/IMG20230605082453_jpg.rf.c79b339326b950acade37198fc1739cd.txt  \n",
            "  inflating: labels/train/IMG20230605082453_jpg.rf.c9da7556e249fc463e2766ac8f39b2ab.txt  \n",
            "  inflating: labels/train/IMG20230605082453_jpg.rf.ce8b8954dabf49b5683823d6681a2bed.txt  \n",
            "  inflating: labels/train/IMG20230605082453_jpg.rf.d0b3af8457169f958f51bbaa6224f1c6.txt  \n",
            "  inflating: labels/train/IMG20230605082453_jpg.rf.d4e974d278633f71423a4cf6fb0ea44f.txt  \n",
            "  inflating: labels/train/IMG20230605082453_jpg.rf.dcaf015ee42d2a5201af8c00ce300f1f.txt  \n",
            "  inflating: labels/train/IMG20230605082453_jpg.rf.ddd31fe684e630f56f2821ddcd5ef437.txt  \n",
            "  inflating: labels/train/IMG20230605082453_jpg.rf.e5016c957de70e6f16016a52504db84f.txt  \n",
            "  inflating: labels/train/IMG20230605082453_jpg.rf.fbaf5957aae7a626da8912c1b154af73.txt  \n",
            "  inflating: labels/train/IMG20230605082456_jpg.rf.328d35c840822147f8cf8227bca18fb4.txt  \n",
            "  inflating: labels/train/IMG20230605082456_jpg.rf.74e0bef1dc6054aa5816eb3e36a54144.txt  \n",
            "  inflating: labels/train/IMG20230605082456_jpg.rf.7ea54b30a832927d2bedca1ccb297542.txt  \n",
            "  inflating: labels/train/IMG20230605082456_jpg.rf.9c902819cdbf1395ea607c8715818b93.txt  \n",
            "  inflating: labels/train/IMG20230605082456_jpg.rf.9eb1a542ea3b1c07182ef2f9719a5cd6.txt  \n",
            "  inflating: labels/train/IMG20230605082456_jpg.rf.b7f1be9d758f0d539f0657779e8d333a.txt  \n",
            "  inflating: labels/train/IMG20230605082500_jpg.rf.02517c694e8e177e44db8d206c78aece.txt  \n",
            "  inflating: labels/train/IMG20230605082500_jpg.rf.049e8981b5d81e4ad1d6a87170825397.txt  \n",
            "  inflating: labels/train/IMG20230605082500_jpg.rf.16811071af6f61a51173dc8eafb8ee55.txt  \n",
            "  inflating: labels/train/IMG20230605082500_jpg.rf.1ac2f50f72c865cc435f7b9ba57ffdc3.txt  \n",
            "  inflating: labels/train/IMG20230605082500_jpg.rf.22aa55e11baca6a53f373b3dbe24e0c9.txt  \n",
            "  inflating: labels/train/IMG20230605082500_jpg.rf.3389afeacd16c43bc39147aa98df6153.txt  \n",
            "  inflating: labels/train/IMG20230605082500_jpg.rf.69e15da1aa11b7f6af82dba8865234de.txt  \n",
            "  inflating: labels/train/IMG20230605082500_jpg.rf.6e42957f91c0c16ab85be1d8f97c2086.txt  \n",
            "  inflating: labels/train/IMG20230605082500_jpg.rf.766ba4cc16939b324798c89642c8577c.txt  \n",
            "  inflating: labels/train/IMG20230605082500_jpg.rf.827b0369a0396b788e7229f8e49193cb.txt  \n",
            "  inflating: labels/train/IMG20230605082500_jpg.rf.8bdf2d4bc6c416730994c8b614bbb12b.txt  \n",
            "  inflating: labels/train/IMG20230605082500_jpg.rf.a734cec2bb764ce86063d64bf752a7f9.txt  \n",
            "  inflating: labels/train/IMG20230605082500_jpg.rf.afea091dc23a63e62ebeef2f8727564a.txt  \n",
            "  inflating: labels/train/IMG20230605082500_jpg.rf.b7abb4209e6e088bfada292dea1fab1a.txt  \n",
            "  inflating: labels/train/IMG20230605082500_jpg.rf.cd6651b2ae59debc426737225a562215.txt  \n",
            "  inflating: labels/train/IMG20230605082500_jpg.rf.cfb55b0d2f1ed63e3cf1e4aa003554ba.txt  \n",
            "  inflating: labels/train/IMG20230605082500_jpg.rf.d11cde2f8dfd9f64e237a7ee75a6fe51.txt  \n",
            "  inflating: labels/train/IMG20230605082500_jpg.rf.def40492a6304fdeb5826b3b819218ec.txt  \n",
            "  inflating: labels/train/IMG20230605082502_jpg.rf.0891944779465468c6c6fc7aeffdc08c.txt  \n",
            "  inflating: labels/train/IMG20230605082502_jpg.rf.43284f9136012881321dcf82213eb84f.txt  \n",
            "  inflating: labels/train/IMG20230605082502_jpg.rf.969365c01e0db75638b564a1e1441da6.txt  \n",
            "  inflating: labels/train/IMG20230605082507_jpg.rf.117100bd41a396bc2ef0614ed70fe4b1.txt  \n",
            "  inflating: labels/train/IMG20230605082507_jpg.rf.203ed3cbd1314e39437920e4a847b14b.txt  \n",
            "  inflating: labels/train/IMG20230605082507_jpg.rf.3fba10b97e764cc300ed638fefdec7ca.txt  \n",
            "  inflating: labels/train/IMG20230605082507_jpg.rf.436576329f748d12b9c741863f44344e.txt  \n",
            "  inflating: labels/train/IMG20230605082507_jpg.rf.47d8fa710514a6dc57974eea6e2f7842.txt  \n",
            "  inflating: labels/train/IMG20230605082507_jpg.rf.4a0fe7b723a7f0dc59832f8fcb98d58b.txt  \n",
            "  inflating: labels/train/IMG20230605082507_jpg.rf.4afb0424504003a879c94a349b59f198.txt  \n",
            "  inflating: labels/train/IMG20230605082507_jpg.rf.5e0c18d9fb6b467469c8b452b3819418.txt  \n",
            "  inflating: labels/train/IMG20230605082507_jpg.rf.6074213664f8aeb87e339c04aeb436b8.txt  \n",
            "  inflating: labels/train/IMG20230605082507_jpg.rf.8ce2811d6e5d4ef594119978f73f4820.txt  \n",
            "  inflating: labels/train/IMG20230605082507_jpg.rf.a8a87b31f86bf527178acc9ffd0bb5d4.txt  \n",
            "  inflating: labels/train/IMG20230605082507_jpg.rf.f44302439832e5b7b6f462277c75d60e.txt  \n",
            "  inflating: labels/train/IMG20230605082511_jpg.rf.11a1561ce2e7ee02f5d6161828e27387.txt  \n",
            "  inflating: labels/train/IMG20230605082511_jpg.rf.1a59831872493f4706c68f0ac8c05f14.txt  \n",
            "  inflating: labels/train/IMG20230605082511_jpg.rf.23538b537ee3d9f828a84fe55d407f98.txt  \n",
            "  inflating: labels/train/IMG20230605082511_jpg.rf.2e8fa77fada17835c58ec372dc42e81b.txt  \n",
            "  inflating: labels/train/IMG20230605082511_jpg.rf.3d423d63cdeadb97b3474a35377ad9f9.txt  \n",
            "  inflating: labels/train/IMG20230605082511_jpg.rf.41ec9819911aee4304d71d024761bf41.txt  \n",
            "  inflating: labels/train/IMG20230605082511_jpg.rf.5ce4460fbe2d28d0f8964329c8650a50.txt  \n",
            "  inflating: labels/train/IMG20230605082511_jpg.rf.71c35678fc02852e8223826b52293535.txt  \n",
            "  inflating: labels/train/IMG20230605082511_jpg.rf.764b73257fb43220cdc268aa3736011a.txt  \n",
            "  inflating: labels/train/IMG20230605082511_jpg.rf.87547bba7076eff759314e1a0c47cbb5.txt  \n",
            "  inflating: labels/train/IMG20230605082511_jpg.rf.8c4de42d947882090357226304408f87.txt  \n",
            "  inflating: labels/train/IMG20230605082511_jpg.rf.baaa710687deb3b99afc6ddbf5feaffe.txt  \n",
            "  inflating: labels/train/IMG20230605082511_jpg.rf.dc0a835e40813b4ab4392408d569d97b.txt  \n",
            "  inflating: labels/train/IMG20230605082511_jpg.rf.ea736e69b11f8435a7e911ea97d1522c.txt  \n",
            "  inflating: labels/train/IMG20230605082511_jpg.rf.f58c10e56097f8d94a22131526fe8218.txt  \n",
            "  inflating: labels/train/IMG20230605082516_jpg.rf.080087a39fc2e2480f20a71143cbb669.txt  \n",
            "  inflating: labels/train/IMG20230605082516_jpg.rf.27710ef5f99524436b0ecea44f1a5d67.txt  \n",
            "  inflating: labels/train/IMG20230605082516_jpg.rf.28d7affe821931df78c75f1697624288.txt  \n",
            "  inflating: labels/train/IMG20230605082516_jpg.rf.2d4c07f3c5817d81d70155258fab8289.txt  \n",
            "  inflating: labels/train/IMG20230605082516_jpg.rf.68dd437b022440e9e4f428914b013dca.txt  \n",
            "  inflating: labels/train/IMG20230605082516_jpg.rf.7d0ef72071ef49b8c23e0759fbe97f73.txt  \n",
            "  inflating: labels/train/IMG20230605082516_jpg.rf.95bc7dc6c2fcfcff305fa4ed1c6b0236.txt  \n",
            "  inflating: labels/train/IMG20230605082516_jpg.rf.9d096645372614b75cb351a2edde5b70.txt  \n",
            "  inflating: labels/train/IMG20230605082516_jpg.rf.ad40fbebffeb4f44d470ca14ad4c831d.txt  \n",
            "  inflating: labels/train/IMG20230605082516_jpg.rf.bbbbf1e53e8d0adba1444ee40a7b0a85.txt  \n",
            "  inflating: labels/train/IMG20230605082516_jpg.rf.cbff39cace51ed0961a6faf6c35a3881.txt  \n",
            "  inflating: labels/train/IMG20230605082516_jpg.rf.cc0195b66ea3bbb00a62744c45c0fd69.txt  \n",
            "  inflating: labels/train/IMG20230605082516_jpg.rf.ce640524efa23e0d8050d9fc25b157bd.txt  \n",
            "  inflating: labels/train/IMG20230605082516_jpg.rf.d415705abdd1d0425a61636399525c22.txt  \n",
            "  inflating: labels/train/IMG20230605082516_jpg.rf.d5055363ac38cb60e967ca79a63efbe0.txt  \n",
            "  inflating: labels/train/IMG20230605082516_jpg.rf.df3eeb53133a7f2c6857eb03b26f8d15.txt  \n",
            "  inflating: labels/train/IMG20230605082516_jpg.rf.f962fab1a729e570f5cb1415dbb398f1.txt  \n",
            "  inflating: labels/train/IMG20230605082518_jpg.rf.03c25c477f49e92f853ebb5d840d1435.txt  \n",
            "  inflating: labels/train/IMG20230605082518_jpg.rf.14c21a6e309165788f761404b3cead87.txt  \n",
            "  inflating: labels/train/IMG20230605082518_jpg.rf.1aa363c7f082fdd91738f84eaed30d15.txt  \n",
            "  inflating: labels/train/IMG20230605082518_jpg.rf.27b64c5e3759f5402437c9e0f0e655f2.txt  \n",
            "  inflating: labels/train/IMG20230605082518_jpg.rf.2e1a9589da91178a476e87348b3bc045.txt  \n",
            "  inflating: labels/train/IMG20230605082518_jpg.rf.30bc65995ee3d23389db0bcb853a73f8.txt  \n",
            "  inflating: labels/train/IMG20230605082518_jpg.rf.31a6362764f632208c08dbf6453b9438.txt  \n",
            "  inflating: labels/train/IMG20230605082518_jpg.rf.3536a07f9bc6a0df7bd96de82d8fc8ad.txt  \n",
            "  inflating: labels/train/IMG20230605082518_jpg.rf.3817c832b604f620609f5f634d8b6c54.txt  \n",
            "  inflating: labels/train/IMG20230605082518_jpg.rf.4005b24c6ac320fe2a69581bbc919c2c.txt  \n",
            "  inflating: labels/train/IMG20230605082518_jpg.rf.4b7b9f56b9884c3f9566e9b5d0e9b649.txt  \n",
            "  inflating: labels/train/IMG20230605082518_jpg.rf.4c362d0e79c3a4defc1f45e6d5be8db4.txt  \n",
            "  inflating: labels/train/IMG20230605082518_jpg.rf.555f8bcdb937262c71a02cf912cb9dde.txt  \n",
            "  inflating: labels/train/IMG20230605082518_jpg.rf.58a30bab97be3149a4679639886b6bad.txt  \n",
            "  inflating: labels/train/IMG20230605082518_jpg.rf.59747fd17a614eeee7f88c2946b7b9f0.txt  \n",
            "  inflating: labels/train/IMG20230605082518_jpg.rf.657446ed86f72ac2fe35edefe635da27.txt  \n",
            "  inflating: labels/train/IMG20230605082518_jpg.rf.6ccda598d6ec2ef506d2367e87636311.txt  \n",
            "  inflating: labels/train/IMG20230605082518_jpg.rf.6f858d3f6abfa24b54afab506a750bea.txt  \n",
            "  inflating: labels/train/IMG20230605082518_jpg.rf.720d6d9a2f071577f4ea2f5a1064f287.txt  \n",
            "  inflating: labels/train/IMG20230605082518_jpg.rf.80a0cade0d10bb324f425401b4c0d2aa.txt  \n",
            "  inflating: labels/train/IMG20230605082518_jpg.rf.8f128cf91bd410d93d4f0cdb833f1ae7.txt  \n",
            "  inflating: labels/train/IMG20230605082518_jpg.rf.9905892ce204c287f5dcf182748aa8ae.txt  \n",
            "  inflating: labels/train/IMG20230605082518_jpg.rf.9d3e02cffb3a9a07c6ead961b0e0a984.txt  \n",
            "  inflating: labels/train/IMG20230605082518_jpg.rf.a4199b65ac77fb232b52d3d4dab39baa.txt  \n",
            "  inflating: labels/train/IMG20230605082518_jpg.rf.a987f2975d6079887a550af89ec9c49e.txt  \n",
            "  inflating: labels/train/IMG20230605082518_jpg.rf.aea2368f195130530ede24a7755b5e54.txt  \n",
            "  inflating: labels/train/IMG20230605082518_jpg.rf.b2a805d0baea12e503caff0976d5936f.txt  \n",
            "  inflating: labels/train/IMG20230605082518_jpg.rf.c0743e98bef8609977b659ff71c7c4b5.txt  \n",
            "  inflating: labels/train/IMG20230605082518_jpg.rf.c7a4fe316340cc1849b2add6fb1890cd.txt  \n",
            "  inflating: labels/train/IMG20230605082518_jpg.rf.e36e1cb979e82d9e5c98dab87c409f66.txt  \n",
            "  inflating: labels/train/IMG20230605082518_jpg.rf.e427276c919e848f05f2a51642e07bb4.txt  \n",
            "  inflating: labels/train/IMG20230605082518_jpg.rf.f05efc61e5f9832dbfafd381e09b7e58.txt  \n",
            "  inflating: labels/train/IMG20230605082520_jpg.rf.0d6893da6038559affd5ba1277d5339d.txt  \n",
            "  inflating: labels/train/IMG20230605082520_jpg.rf.0fabad62a06b3a61a4df5a628df7bf15.txt  \n",
            "  inflating: labels/train/IMG20230605082520_jpg.rf.21d430b627df54c6700b6a06eaa0f795.txt  \n",
            "  inflating: labels/train/IMG20230605082520_jpg.rf.24e6cbc7b660f9f8e257870ddae9496a.txt  \n",
            "  inflating: labels/train/IMG20230605082520_jpg.rf.48b8de1128a2c0a0f1b99b0eb2db49b5.txt  \n",
            "  inflating: labels/train/IMG20230605082520_jpg.rf.497ab61efa2d2a9bf7ce71665f330274.txt  \n",
            "  inflating: labels/train/IMG20230605082520_jpg.rf.4d32066712fb774c5bf00a082f435685.txt  \n",
            "  inflating: labels/train/IMG20230605082520_jpg.rf.54408b021f1a19fcc1856819d60b5c34.txt  \n",
            "  inflating: labels/train/IMG20230605082520_jpg.rf.5869e8dd40ac41a51a66170346c000b8.txt  \n",
            "  inflating: labels/train/IMG20230605082520_jpg.rf.5a404ef8842374aee5153bbc8d1be2ab.txt  \n",
            "  inflating: labels/train/IMG20230605082520_jpg.rf.69c3bf6543420cc4f4d5e9edb2156421.txt  \n",
            "  inflating: labels/train/IMG20230605082520_jpg.rf.7d3676c4b7f87e44c5765e21879d2b21.txt  \n",
            "  inflating: labels/train/IMG20230605082520_jpg.rf.8385c5d2df6a0d835dac50bf51a6b2e0.txt  \n",
            "  inflating: labels/train/IMG20230605082520_jpg.rf.a1c3ad4c281db5220d5791f46618d8dc.txt  \n",
            "  inflating: labels/train/IMG20230605082520_jpg.rf.a2819c602eea14bd9b9dac7d919a2212.txt  \n",
            "  inflating: labels/train/IMG20230605082520_jpg.rf.b4b1d6472d1e016432edc14bc03f0148.txt  \n",
            "  inflating: labels/train/IMG20230605082520_jpg.rf.cfc671413ba8032372b4cbd3ddafbdd7.txt  \n",
            "  inflating: labels/train/IMG20230605082520_jpg.rf.f2682248aa21d2e88eddc3d1391e874d.txt  \n",
            "  inflating: labels/train/IMG20230605082526_jpg.rf.04f82029933faca148c4513e29e52e8a.txt  \n",
            "  inflating: labels/train/IMG20230605082526_jpg.rf.1cc7a3f2b4462977fd4bfbbf99371c96.txt  \n",
            "  inflating: labels/train/IMG20230605082526_jpg.rf.272640b4a62d3f4127c07e13452eb7f7.txt  \n",
            "  inflating: labels/train/IMG20230605082526_jpg.rf.35e61c460a87de80e7d78685ff7953ed.txt  \n",
            "  inflating: labels/train/IMG20230605082526_jpg.rf.3a1f48d9f24d459312cf1f8a4993a633.txt  \n",
            "  inflating: labels/train/IMG20230605082526_jpg.rf.4780c47f4cac6f581d516776fabec5d4.txt  \n",
            "  inflating: labels/train/IMG20230605082526_jpg.rf.49bb52359bfc2791f8a3ab7763a95306.txt  \n",
            "  inflating: labels/train/IMG20230605082526_jpg.rf.657006a692f6168c3ecf1514a76f1bf6.txt  \n",
            "  inflating: labels/train/IMG20230605082526_jpg.rf.85d5521edf9e561f4ef4e6b85d91154c.txt  \n",
            "  inflating: labels/train/IMG20230605082526_jpg.rf.968a530afaeb69bc3025724bdce1e634.txt  \n",
            "  inflating: labels/train/IMG20230605082526_jpg.rf.a07c44b5081b8bd159f4173ba50c2efe.txt  \n",
            "  inflating: labels/train/IMG20230605082526_jpg.rf.b675fa192ff5eab8a34f69c3965d574d.txt  \n",
            "  inflating: labels/train/IMG20230605082526_jpg.rf.c0244cdbb9d005ae860a68720d7e124e.txt  \n",
            "  inflating: labels/train/IMG20230605082526_jpg.rf.d7561b3982d666b7fb7c60cc89d4bb8f.txt  \n",
            "  inflating: labels/train/IMG20230605082526_jpg.rf.dce92b9073f3ae328b2bb416e2278000.txt  \n",
            "  inflating: labels/train/IMG20230605082526_jpg.rf.e904b758e72d209199da4b0dbaf5e8ce.txt  \n",
            "  inflating: labels/train/IMG20230605082526_jpg.rf.f0e7e98f929c7248dcc1d675bff8124f.txt  \n",
            "  inflating: labels/train/IMG20230605082526_jpg.rf.f77afd9ae970897006170b3928569401.txt  \n",
            "  inflating: labels/train/IMG20230605082531_jpg.rf.0c2529f247a648caf924acabd268280b.txt  \n",
            "  inflating: labels/train/IMG20230605082531_jpg.rf.40693a57824ab24ad49fdaac8748804f.txt  \n",
            "  inflating: labels/train/IMG20230605082531_jpg.rf.48c76f4e276fecdf7b1d5d81b59cc379.txt  \n",
            "  inflating: labels/train/IMG20230605082531_jpg.rf.4e1649b7fb870d839405effedc64fa76.txt  \n",
            "  inflating: labels/train/IMG20230605082531_jpg.rf.4e9953955a46701c02bce71b3ea68c01.txt  \n",
            "  inflating: labels/train/IMG20230605082531_jpg.rf.e3617db9c9fa96bd5abc60f10e285ab5.txt  \n",
            "  inflating: labels/train/IMG20230605082534_jpg.rf.08a38e92e2cd7d1b86fe2374238c0875.txt  \n",
            "  inflating: labels/train/IMG20230605082534_jpg.rf.0faa77834ef45a49538d8601007ae645.txt  \n",
            "  inflating: labels/train/IMG20230605082534_jpg.rf.2edfb4ee2e71e375aac32b11f7f3e98c.txt  \n",
            "  inflating: labels/train/IMG20230605082534_jpg.rf.34f040f1d8f149bc885eddcc567f93dc.txt  \n",
            "  inflating: labels/train/IMG20230605082534_jpg.rf.6106561b8a0da3cb2f2acf58ac3e59da.txt  \n",
            "  inflating: labels/train/IMG20230605082534_jpg.rf.9c645c434ac3164afbf52942abdb14df.txt  \n",
            "  inflating: labels/train/IMG20230605082534_jpg.rf.9ed080f0943c28c7e6626bb3cfbca5fe.txt  \n",
            "  inflating: labels/train/IMG20230605082534_jpg.rf.cbe69f45c199a59b2854f89dfceb9179.txt  \n",
            "  inflating: labels/train/IMG20230605082534_jpg.rf.cfed2ce1ce00acebf3eaa5ec09c736d7.txt  \n",
            "  inflating: labels/train/IMG20230605082534_jpg.rf.d3759f5cc12155830d0f20a6e0734f20.txt  \n",
            "  inflating: labels/train/IMG20230605082534_jpg.rf.f2bbdfd58faa2fb104b968ff74aa2b95.txt  \n",
            "  inflating: labels/train/IMG20230605082534_jpg.rf.f4871070f99d5f2febcd685c55d697a5.txt  \n",
            "  inflating: labels/train/IMG20230605082536_jpg.rf.02868f91999c11215be79a0a3e963201.txt  \n",
            "  inflating: labels/train/IMG20230605082536_jpg.rf.0bc64bdf7de731558b5d9219165557b0.txt  \n",
            "  inflating: labels/train/IMG20230605082536_jpg.rf.32ccabcfdee39c2d3827316feb4138cc.txt  \n",
            "  inflating: labels/train/IMG20230605082536_jpg.rf.341cf454bd2d9e406518991b9712d337.txt  \n",
            "  inflating: labels/train/IMG20230605082536_jpg.rf.357405808a2d95834fcc0fefdd17551a.txt  \n",
            "  inflating: labels/train/IMG20230605082536_jpg.rf.42f7bf2343bfd1f54faef09854b54d3f.txt  \n",
            "  inflating: labels/train/IMG20230605082536_jpg.rf.466c2fc6495819d0179afe491bc18171.txt  \n",
            "  inflating: labels/train/IMG20230605082536_jpg.rf.5d91447432bd8153bee6f4bc40072313.txt  \n",
            "  inflating: labels/train/IMG20230605082536_jpg.rf.5ef3acbd6d019d87a21b5c5afe3317cb.txt  \n",
            "  inflating: labels/train/IMG20230605082536_jpg.rf.7f74df53dee428d1f6d0263633d4ab77.txt  \n",
            "  inflating: labels/train/IMG20230605082536_jpg.rf.854c4958a378dc73fcd7f40b727bf766.txt  \n",
            "  inflating: labels/train/IMG20230605082536_jpg.rf.8cdb638def8d5ac1f38cba88089e3f86.txt  \n",
            "  inflating: labels/train/IMG20230605082536_jpg.rf.9551ffefd6090d6b13ca7ef25b278b5a.txt  \n",
            "  inflating: labels/train/IMG20230605082536_jpg.rf.9f243669ec920fde7424629445de4ad6.txt  \n",
            "  inflating: labels/train/IMG20230605082536_jpg.rf.b9d24de3e86e47ebf6a2b712777df31f.txt  \n",
            "  inflating: labels/train/IMG20230605082536_jpg.rf.d5ffedeef077695fcb4848a4a6358437.txt  \n",
            "  inflating: labels/train/IMG20230605082536_jpg.rf.dfe324acda7719cade983e8d6584b8ae.txt  \n",
            "  inflating: labels/train/IMG20230605082536_jpg.rf.fc689cd28e9b89d72f7d9ab64c4bc7e1.txt  \n",
            "  inflating: labels/train/IMG20230605082538_jpg.rf.0c84482252258c46c29be2bcb50357ee.txt  \n",
            "  inflating: labels/train/IMG20230605082538_jpg.rf.1d1ad74fc770c9ae48fdd8e7b4c351d3.txt  \n",
            "  inflating: labels/train/IMG20230605082538_jpg.rf.29dd60541eeec9209103902e24dfe4e6.txt  \n",
            "  inflating: labels/train/IMG20230605082538_jpg.rf.3c4bb315dd8abdb8f0a48593067b264e.txt  \n",
            "  inflating: labels/train/IMG20230605082538_jpg.rf.4879308a5f3db82d7367b14e59842924.txt  \n",
            "  inflating: labels/train/IMG20230605082538_jpg.rf.51b4d73bc6338a497d1f84d83330c4e6.txt  \n",
            "  inflating: labels/train/IMG20230605082538_jpg.rf.73443381e651a09fe759c29a2749dda5.txt  \n",
            "  inflating: labels/train/IMG20230605082538_jpg.rf.9ebc1a1d0649fec85209538ad7cfd210.txt  \n",
            "  inflating: labels/train/IMG20230605082538_jpg.rf.b2f44e081172d3aaeea59e15626beda9.txt  \n",
            "  inflating: labels/train/IMG20230605082538_jpg.rf.e89352886769a5be2fd0acb612e4b5d8.txt  \n",
            "  inflating: labels/train/IMG20230605082538_jpg.rf.f536f277ee178ee752c596cde2f0c4e4.txt  \n",
            "  inflating: labels/train/IMG20230605082538_jpg.rf.ff3c7dafcd72e78d451639089fc7c9ce.txt  \n",
            "  inflating: labels/train/IMG20230605082540_jpg.rf.02e4cd2d7f3b56c25bac202e57bcd6bc.txt  \n",
            "  inflating: labels/train/IMG20230605082540_jpg.rf.0b25161ad0a84b4fbe0b9bf4165c99d2.txt  \n",
            "  inflating: labels/train/IMG20230605082540_jpg.rf.23f111b741a53ae854699733dc6b8f61.txt  \n",
            "  inflating: labels/train/IMG20230605082540_jpg.rf.2d5439100cc35219ba46dafc813a82b7.txt  \n",
            "  inflating: labels/train/IMG20230605082540_jpg.rf.39d85f4e48e71f0cf6fcd34e0b7f5292.txt  \n",
            "  inflating: labels/train/IMG20230605082540_jpg.rf.4225472e76a1b0f3ca016423d4759662.txt  \n",
            "  inflating: labels/train/IMG20230605082540_jpg.rf.439adfcb7d7a88d4eb478eb99ac74a0a.txt  \n",
            "  inflating: labels/train/IMG20230605082540_jpg.rf.456e86a3adc23b929d5dcb2f9db1a5ae.txt  \n",
            "  inflating: labels/train/IMG20230605082540_jpg.rf.465f8e9aaee68234efa878d9b7d1a4b2.txt  \n",
            "  inflating: labels/train/IMG20230605082540_jpg.rf.5c0f0423c189be3ebda89e72a804b21c.txt  \n",
            "  inflating: labels/train/IMG20230605082540_jpg.rf.5d9f6b920a72fe4d66e58959f1d397c6.txt  \n",
            "  inflating: labels/train/IMG20230605082540_jpg.rf.5ef868e711a1443f9fd29e1317608458.txt  \n",
            "  inflating: labels/train/IMG20230605082540_jpg.rf.6101f33642086d1ad2881354d196e116.txt  \n",
            "  inflating: labels/train/IMG20230605082540_jpg.rf.6289e12d738c0584cf0266bd83552bdc.txt  \n",
            "  inflating: labels/train/IMG20230605082540_jpg.rf.64a3c6f4154db84ac6575710d2880166.txt  \n",
            "  inflating: labels/train/IMG20230605082540_jpg.rf.64c040b132d8875d37c59734f1a46312.txt  \n",
            "  inflating: labels/train/IMG20230605082540_jpg.rf.6fcc2861bc2fa81baf64d6892e0ab7a5.txt  \n",
            "  inflating: labels/train/IMG20230605082540_jpg.rf.71eb87c3099392138d9d4d454a9a98ee.txt  \n",
            "  inflating: labels/train/IMG20230605082540_jpg.rf.7875eaae90743836e4ebd637f4300cb7.txt  \n",
            "  inflating: labels/train/IMG20230605082540_jpg.rf.8a2b3a59c852468d30cf40185ba6ce3e.txt  \n",
            "  inflating: labels/train/IMG20230605082540_jpg.rf.8bf53f99ebaf5d32894315455f844457.txt  \n",
            "  inflating: labels/train/IMG20230605082540_jpg.rf.8c70e17e2d6dc45e1c014c2da503c1f8.txt  \n",
            "  inflating: labels/train/IMG20230605082540_jpg.rf.9027875d1a7bdee2cc01127d1712f62e.txt  \n",
            "  inflating: labels/train/IMG20230605082540_jpg.rf.9389782e1e91f9b06b808a2dfaaf1245.txt  \n",
            "  inflating: labels/train/IMG20230605082540_jpg.rf.99c7c20210a2cb016dbff1914ba42681.txt  \n",
            "  inflating: labels/train/IMG20230605082540_jpg.rf.99e60a8459a44db166f3c9547623b057.txt  \n",
            "  inflating: labels/train/IMG20230605082540_jpg.rf.9a636f818babdfa09f8f281db79574dc.txt  \n",
            "  inflating: labels/train/IMG20230605082540_jpg.rf.ad62f5602f352cd5eca79a585b8e4420.txt  \n",
            "  inflating: labels/train/IMG20230605082540_jpg.rf.b731d10871fa9e61ea657b8000d0d72e.txt  \n",
            "  inflating: labels/train/IMG20230605082540_jpg.rf.c27255aae5629620e7c10c3e334c351a.txt  \n",
            "  inflating: labels/train/IMG20230605082540_jpg.rf.ce8825492a32a537aa3a649544fe717b.txt  \n",
            "  inflating: labels/train/IMG20230605082540_jpg.rf.eabe31d1bf50be8e0688eb9b29c12d73.txt  \n",
            "  inflating: labels/train/IMG20230605082540_jpg.rf.f24c76701e617768632fc1f3162619b6.txt  \n",
            "  inflating: labels/train/IMG20230605082540_jpg.rf.f548d045b5f688acc86cf588fee8679d.txt  \n",
            "  inflating: labels/train/IMG20230605082540_jpg.rf.ff1e16fdfafcdf821468bb31d6099d75.txt  \n",
            "  inflating: labels/train/IMG20230605082540_jpg.rf.ffbf3c60ca5b72fe82605e9e65163a93.txt  \n",
            "  inflating: labels/train/IMG20230605082545_jpg.rf.0144eab5c9bd9ffe165e8d6553e47e4d.txt  \n",
            "  inflating: labels/train/IMG20230605082545_jpg.rf.0c2cc602d7fab887128bee6d0faf1b46.txt  \n",
            "  inflating: labels/train/IMG20230605082545_jpg.rf.0d49b3ead611a0ed87e7b21e781d4f6d.txt  \n",
            "  inflating: labels/train/IMG20230605082545_jpg.rf.10fe2c382814d4aa4fe8ab947004e09e.txt  \n",
            "  inflating: labels/train/IMG20230605082545_jpg.rf.3295e5bfd4f7180012263123af6325e2.txt  \n",
            "  inflating: labels/train/IMG20230605082545_jpg.rf.366ed52a5ba9008727fb3ada1211b705.txt  \n",
            "  inflating: labels/train/IMG20230605082545_jpg.rf.6324d83d52ace174c70ca02a4de44538.txt  \n",
            "  inflating: labels/train/IMG20230605082545_jpg.rf.7f9a86a7aa348a70718502e7b414bcb7.txt  \n",
            "  inflating: labels/train/IMG20230605082545_jpg.rf.a2bac21f439357fc82878f3a2bb027c6.txt  \n",
            "  inflating: labels/train/IMG20230605082545_jpg.rf.b16aba277e5118c34764f4326dd5fbb8.txt  \n",
            "  inflating: labels/train/IMG20230605082545_jpg.rf.b736511f42312246834e6a8bee2eded5.txt  \n",
            "  inflating: labels/train/IMG20230605082545_jpg.rf.beb8cc986b72ea6534f5fd9d0254c7a4.txt  \n",
            "  inflating: labels/train/IMG20230605082545_jpg.rf.ceeb7b9e55b1aa3e76d4ba9a4dcb35b1.txt  \n",
            "  inflating: labels/train/IMG20230605082545_jpg.rf.dac6110725c7751927a172b0bda3545e.txt  \n",
            "  inflating: labels/train/IMG20230605082545_jpg.rf.de9423943329edc7285ee8dc21ea2454.txt  \n",
            "  inflating: labels/train/IMG20230605082545_jpg.rf.e06833d3662016821eb7a3bc80858f39.txt  \n",
            "  inflating: labels/train/IMG20230605082545_jpg.rf.e50b026782d0d83e0a89ae0a4ad4fb89.txt  \n",
            "  inflating: labels/train/IMG20230605082545_jpg.rf.f643a0cf94a69f5551933f38351714c2.txt  \n",
            "  inflating: labels/train/IMG20230605082547_jpg.rf.03c8902cd9cdae18db0302440f41e212.txt  \n",
            "  inflating: labels/train/IMG20230605082547_jpg.rf.0d9e97adc9f0da362a1f4aa927ed6bec.txt  \n",
            "  inflating: labels/train/IMG20230605082547_jpg.rf.17ef2bebac99313509c2a3d283c2712c.txt  \n",
            "  inflating: labels/train/IMG20230605082547_jpg.rf.1e98fae7f4faf60e5851bc07e79a8a58.txt  \n",
            "  inflating: labels/train/IMG20230605082547_jpg.rf.2114e820444bbf73eb7d615539a208b0.txt  \n",
            "  inflating: labels/train/IMG20230605082547_jpg.rf.47e6ca6c1ccbb8f00e39318d3d386ab7.txt  \n",
            "  inflating: labels/train/IMG20230605082547_jpg.rf.4efea92f26804a7ada9d11f940a532c5.txt  \n",
            "  inflating: labels/train/IMG20230605082547_jpg.rf.7476822a99510c59c253d558f3ec7c32.txt  \n",
            "  inflating: labels/train/IMG20230605082547_jpg.rf.779c4853aa16ebdf6aae055e2ec19acf.txt  \n",
            "  inflating: labels/train/IMG20230605082547_jpg.rf.87ca1cb4e6a85724b5512249d54d513c.txt  \n",
            "  inflating: labels/train/IMG20230605082547_jpg.rf.a1b939e60649c20463db0703fe58b865.txt  \n",
            "  inflating: labels/train/IMG20230605082547_jpg.rf.be21f32a0fc60f0ae8df0e6b1a098416.txt  \n",
            "  inflating: labels/train/IMG20230605082547_jpg.rf.dd664ec7bda2f3cc192ffd06a075043d.txt  \n",
            "  inflating: labels/train/IMG20230605082547_jpg.rf.ee8f91d4f63458b5e9e39068e2774d31.txt  \n",
            "  inflating: labels/train/IMG20230605082547_jpg.rf.ef838ae716efe38f03e9e83b2176eb0d.txt  \n",
            "  inflating: labels/train/IMG20230605082548_jpg.rf.0afebb9af4af0f890315e8c510f61d28.txt  \n",
            "  inflating: labels/train/IMG20230605082548_jpg.rf.0fcaf0d345b62f07905e903cc339f89b.txt  \n",
            "  inflating: labels/train/IMG20230605082548_jpg.rf.1670dd306eca21e546596d3eea9d803c.txt  \n",
            "  inflating: labels/train/IMG20230605082548_jpg.rf.2136789e18544465fe86cd41880a709f.txt  \n",
            "  inflating: labels/train/IMG20230605082548_jpg.rf.5a522829bd847a8736393bd64fc51b3d.txt  \n",
            "  inflating: labels/train/IMG20230605082548_jpg.rf.732aac525521c4a265e47e972d6f4c30.txt  \n",
            "  inflating: labels/train/IMG20230605082548_jpg.rf.8530bd9b233f1eb963c33551ce243ce3.txt  \n",
            "  inflating: labels/train/IMG20230605082548_jpg.rf.8d8647248e7ce372466fcc32ec2471a2.txt  \n",
            "  inflating: labels/train/IMG20230605082548_jpg.rf.d18abd62148f2fcc13f59a76697b60e7.txt  \n",
            "  inflating: labels/train/IMG20230605082548_jpg.rf.d45e7ecb1ccc131af38abc9d08a55396.txt  \n",
            "  inflating: labels/train/IMG20230605082548_jpg.rf.de1e8fa61e2acf3536f03a1a1a92a548.txt  \n",
            "  inflating: labels/train/IMG20230605082548_jpg.rf.e024774e67ed4349657b71abf19df46f.txt  \n",
            "  inflating: labels/train/IMG20230605082548_jpg.rf.e296c7ca4ef3ab90976b538ca7369c3c.txt  \n",
            "  inflating: labels/train/IMG20230605082548_jpg.rf.e3e7ed1d222f1e251a6a79fab7d72588.txt  \n",
            "  inflating: labels/train/IMG20230605082548_jpg.rf.f52f03973ff846ab04d99d70387627ed.txt  \n",
            "  inflating: labels/train/IMG20230605082548_jpg.rf.f5546bf70cc9811a6465de0c613e0198.txt  \n",
            "  inflating: labels/train/IMG20230605082552_jpg.rf.04669d1dc7b8391311bb356ed7908364.txt  \n",
            "  inflating: labels/train/IMG20230605082552_jpg.rf.0e2cd931f3f59142f09c9522a311fb76.txt  \n",
            "  inflating: labels/train/IMG20230605082552_jpg.rf.2e24eb57f725a45ff39c46a0460cfff4.txt  \n",
            "  inflating: labels/train/IMG20230605082552_jpg.rf.380f50243c04712236d36eaa2512dee8.txt  \n",
            "  inflating: labels/train/IMG20230605082552_jpg.rf.484bc805ada2fe82a25b8be978ecde9c.txt  \n",
            "  inflating: labels/train/IMG20230605082552_jpg.rf.4e22e76fba9673d7b441999d67346420.txt  \n",
            "  inflating: labels/train/IMG20230605082552_jpg.rf.5bfc8709c81e0ec1f4e2612781ffb9ff.txt  \n",
            "  inflating: labels/train/IMG20230605082552_jpg.rf.7c08db2d789ca47f75c01167b9be5df0.txt  \n",
            "  inflating: labels/train/IMG20230605082552_jpg.rf.9521fb9d33b30b5a92f8e2821e83958c.txt  \n",
            "  inflating: labels/train/IMG20230605082552_jpg.rf.a1b800b07b83a8735c794fedac48e5c8.txt  \n",
            "  inflating: labels/train/IMG20230605082552_jpg.rf.a25e1aeb8f0745169c22fdfd3dc2347b.txt  \n",
            "  inflating: labels/train/IMG20230605082552_jpg.rf.a65687ec7a3fb5ea6b0931e30ee4505f.txt  \n",
            "  inflating: labels/train/IMG20230605082552_jpg.rf.acfde3052dd64996c3c5f90ba987c4bc.txt  \n",
            "  inflating: labels/train/IMG20230605082552_jpg.rf.b17d655de39a0a558a710ca2c4d23662.txt  \n",
            "  inflating: labels/train/IMG20230605082552_jpg.rf.dba79767ef80791cb8ebd8069e5af743.txt  \n",
            "  inflating: labels/train/IMG20230605082557_jpg.rf.14d913f2775ec0eae0aa30539b318cb1.txt  \n",
            "  inflating: labels/train/IMG20230605082557_jpg.rf.24ac49f1d04305aa4472e6a3b110f272.txt  \n",
            "  inflating: labels/train/IMG20230605082557_jpg.rf.2612434ce109f4ec7e06d57d13c6a705.txt  \n",
            "  inflating: labels/train/IMG20230605082557_jpg.rf.386fd601ec4f524d7b9c482ae2281c1b.txt  \n",
            "  inflating: labels/train/IMG20230605082557_jpg.rf.48d18cf466031c8893e58a9d1ad8708a.txt  \n",
            "  inflating: labels/train/IMG20230605082557_jpg.rf.7e9ddc2e4512146e00f64cc4810e8fd3.txt  \n",
            "  inflating: labels/train/IMG20230605082557_jpg.rf.835ce0c3c286e49e737aee6c84300eee.txt  \n",
            "  inflating: labels/train/IMG20230605082557_jpg.rf.8497ed4a6df91c7cf6c61582786eca45.txt  \n",
            "  inflating: labels/train/IMG20230605082557_jpg.rf.922a1c464459b55044df8d938b2f844e.txt  \n",
            "  inflating: labels/train/IMG20230605082557_jpg.rf.93e110de462430d08f584116eadd3435.txt  \n",
            "  inflating: labels/train/IMG20230605082557_jpg.rf.b1a780f485bdfaba765f00fa4131b402.txt  \n",
            "  inflating: labels/train/IMG20230605082557_jpg.rf.c584a90e77c4c4946007596027d73823.txt  \n",
            "  inflating: labels/train/IMG20230605082557_jpg.rf.cd1f1a81d80cd50ac8a9076cbdc8a669.txt  \n",
            "  inflating: labels/train/IMG20230605082557_jpg.rf.cff22eda61fbe533abafb8e906bb71c6.txt  \n",
            "  inflating: labels/train/IMG20230605082557_jpg.rf.d568c6ae9845765021104775746a0815.txt  \n",
            "  inflating: labels/train/IMG20230605082557_jpg.rf.d7e4c2d7b42d67a723da83d4ba4bef38.txt  \n",
            "  inflating: labels/train/IMG20230605082557_jpg.rf.da2ededd973f07bcbe9a18d24e53e96f.txt  \n",
            "  inflating: labels/train/IMG20230605082557_jpg.rf.fdd108213679fd59e7f918b2d8fa892e.txt  \n",
            "  inflating: labels/train/IMG20230605082603_jpg.rf.1d708e8e102071e5dc066cd8ea9b5a0d.txt  \n",
            "  inflating: labels/train/IMG20230605082603_jpg.rf.30ee306c2474e817a20927338b878de2.txt  \n",
            "  inflating: labels/train/IMG20230605082603_jpg.rf.78ca888787263801858b4af433241369.txt  \n",
            "  inflating: labels/train/IMG20230605082603_jpg.rf.c10cc4ac703d1c73a6ffb158e0c4c12a.txt  \n",
            "  inflating: labels/train/IMG20230605082603_jpg.rf.ee301c85cac791c0802725601b821fe7.txt  \n",
            "  inflating: labels/train/IMG20230605082603_jpg.rf.f0de564e4720ad0973c8de5fa9cb5851.txt  \n",
            "  inflating: labels/train/received_219022264192477_jpeg.rf.0bd8ee29d01d5382e161353ab4bc7152.txt  \n",
            "  inflating: labels/train/received_219022264192477_jpeg.rf.eece4a166ef7b17503e48a159140cbb3.txt  \n",
            "  inflating: labels/train/received_219022264192477_jpeg.rf.ef1cc6d826bf3444eb60b35002cb04d0.txt  \n",
            "  inflating: labels/train/received_258006716758125_jpeg.rf.1964f655ead0bfefd8698cc0d37c43e4.txt  \n",
            "  inflating: labels/train/received_258006716758125_jpeg.rf.23858a90aa2e71127c87d417831d83b2.txt  \n",
            "  inflating: labels/train/received_258006716758125_jpeg.rf.6c3f5153ab752043a8efdb71aad3d161.txt  \n",
            "   creating: labels/valid/\n",
            "  inflating: labels/valid/0603180314_jpg.rf.f6c9493f2b4c113dee4e7da2c5ff0cdf.txt  \n",
            "  inflating: labels/valid/0603180528_jpg.rf.03e539301b7939f457419e1f892c3234.txt  \n",
            "  inflating: labels/valid/0603181354_jpg.rf.a66e0313db0de17692b0faa761b9ed14.txt  \n",
            "  inflating: labels/valid/0603184341_jpg.rf.1e5fcab56e8bfcc99be0567578b70048.txt  \n",
            "  inflating: labels/valid/0603190849_jpg.rf.3255b352cda2e903f2a03eec3a42754b.txt  \n",
            "  inflating: labels/valid/0603191053_jpg.rf.0c417c89143938fa5113f7b4d54354f5.txt  \n",
            "  inflating: labels/valid/0603192222_jpg.rf.0914c37145c4c9eb438e164d023a033d.txt  \n",
            "  inflating: labels/valid/0603192708_jpg.rf.099c15d9abffade8cf46a67b9fe85bb8.txt  \n",
            "  inflating: labels/valid/0603192708_jpg.rf.28a7d58c1b58f058f772d93a0fc216a8.txt  \n",
            "  inflating: labels/valid/0603192819_jpg.rf.475abebc6c72cc4b51fc9d253f626c48.txt  \n",
            "  inflating: labels/valid/0603192819_jpg.rf.8b206b9fd307195de1661dee1a51ceb9.txt  \n",
            "  inflating: labels/valid/0603192939_jpg.rf.704bb0f88772fa68d747e9cbd8df4070.txt  \n",
            "  inflating: labels/valid/0603193242_jpg.rf.ae27a5c005cad673c8832a4a88696e2b.txt  \n",
            "  inflating: labels/valid/0603193501_jpg.rf.1a695c465022c148d0554b1b9b1f29e9.txt  \n",
            "  inflating: labels/valid/0603193753_jpg.rf.60a67698f38c98c4f886bb012dfc2b15.txt  \n",
            "  inflating: labels/valid/0603193945_jpg.rf.21e2a1a6aa5f578d1c2e19f7d2fec53c.txt  \n",
            "  inflating: labels/valid/0603193945_jpg.rf.e19bf3546dff33d4feadb195928a8fee.txt  \n",
            "  inflating: labels/valid/0603194442_jpg.rf.1b9d13e2feac41899a2d4ebed7d172df.txt  \n",
            "  inflating: labels/valid/0603201622_jpg.rf.419646c80ae9955c4cbcda4f1ceb370d.txt  \n",
            "  inflating: labels/valid/0605135356_jpg.rf.67f824c515f3b2483cf2d33a62007313.txt  \n",
            "  inflating: labels/valid/0605140704_jpg.rf.da61889dac2d98f01600cc2f92bdf927.txt  \n",
            "  inflating: labels/valid/0605140954_jpg.rf.0ce5c2a5c48cfcd1ea4b988bd0c32c54.txt  \n",
            "  inflating: labels/valid/0605142626_jpg.rf.7388c48b85cd562d882217012c072246.txt  \n",
            "  inflating: labels/valid/0605143016_jpg.rf.ab9961babe1480c02b546f2cfa0f6259.txt  \n",
            "  inflating: labels/valid/0605143016_jpg.rf.d10cb2aea638dacf3a522e28f21d47f2.txt  \n",
            "  inflating: labels/valid/0605143058_jpg.rf.3cf417dabfb644d21e8c1cf31cf1fa10.txt  \n",
            "  inflating: labels/valid/0605144029_jpg.rf.488005d2a2d56bd4af21827564646cb9.txt  \n",
            "  inflating: labels/valid/0605144029_jpg.rf.7b9e3791ff0c21d12494cb81d16b32fb.txt  \n",
            "  inflating: labels/valid/0605144222_jpg.rf.ae130c24f86fb6511740dd51e6a35197.txt  \n",
            "  inflating: labels/valid/0605144431_jpg.rf.9322ae1b39f7f60141c77018250edd8f.txt  \n",
            "  inflating: labels/valid/0605144520_jpg.rf.771c75d45e1adf71deb590db5a454aa1.txt  \n",
            "  inflating: labels/valid/0605150243_jpg.rf.2a684c89e71f6ea4bac9716763e4fa9e.txt  \n",
            "  inflating: labels/valid/0605150757_jpg.rf.715bea810927cd133fdfbd8eaf0fe2e0.txt  \n",
            "  inflating: labels/valid/0605151359_jpg.rf.960ab9279d0de083e838247717506fa6.txt  \n",
            "  inflating: labels/valid/0605151550_jpg.rf.b70364a5252ef83397c7a2390024baff.txt  \n",
            "  inflating: labels/valid/0605153108_jpg.rf.13f18a78946a59251958165cd34be999.txt  \n",
            "  inflating: labels/valid/0605153622_jpg.rf.ec5f99e67786c7229748fe247cd3cdd8.txt  \n",
            "  inflating: labels/valid/0605153813_jpg.rf.091be2a8a372f40b1278369ee6b41b98.txt  \n",
            "  inflating: labels/valid/0605153852_jpg.rf.8e83987d8d247fdca26e05d40a43626e.txt  \n",
            "  inflating: labels/valid/0605154445_jpg.rf.cf89794cd87c1c5b8bd7e622d970d0e3.txt  \n",
            "  inflating: labels/valid/0605154445_jpg.rf.d803be6d48b6a5890d7d2812eb4f8072.txt  \n",
            "  inflating: labels/valid/IMG20230525120403_01_jpg.rf.8517c120a1c7d3d92d676bd778324c44.txt  \n",
            "  inflating: labels/valid/IMG20230529174311_01_jpg.rf.861bac8fefe0f320d65c60cbfdba7443.txt  \n",
            "  inflating: labels/valid/IMG20230529175015_jpg.rf.8f02eca05bb2b4eb53151630199d3f26.txt  \n",
            "  inflating: labels/valid/IMG20230529175117_jpg.rf.d61940765d7e5dcb23e19ce3081ddf44.txt  \n",
            "  inflating: labels/valid/IMG20230529175121_jpg.rf.35fce5d47da82fd7b170efe68c32a676.txt  \n",
            "  inflating: labels/valid/IMG20230530065409_01_jpg.rf.69c88859ebe7fc742eb41fb73e4c86a4.txt  \n",
            "  inflating: labels/valid/IMG20230530065640_01_jpg.rf.c9a8a62699bb52258062fdbbcb5eb74b.txt  \n",
            "  inflating: labels/valid/IMG20230530065759_01_jpg.rf.c9190b05826aa7a3d0480e876f469fe5.txt  \n",
            "  inflating: labels/valid/IMG20230530065808_01_jpg.rf.49db2ea65cde87a5869c8bed3d8c7e9e.txt  \n",
            "  inflating: labels/valid/IMG20230530065816_01_jpg.rf.8c452a3a40ab434fb57cc85694558a12.txt  \n",
            "  inflating: labels/valid/IMG20230530065907_01_jpg.rf.40d786cff2624d7194f76e8f0c53b9de.txt  \n",
            "  inflating: labels/valid/IMG20230530065922_01_jpg.rf.3c051daa9e5a8f291c710a0f04b57b95.txt  \n",
            "  inflating: labels/valid/IMG20230530070020_03_jpg.rf.c6adc5fcf8bd08ef96527066cc4423d7.txt  \n",
            "  inflating: labels/valid/IMG20230530181231_01_jpg.rf.760b4794e09d11dd932003b484252c73.txt  \n",
            "  inflating: labels/valid/IMG20230530181254_jpg.rf.da64e66018bb59f9ce02a22d6be77b50.txt  \n",
            "  inflating: labels/valid/IMG20230530181417_01_jpg.rf.461e6af20e025576382d04510e96c171.txt  \n",
            "  inflating: labels/valid/IMG20230530181423_01_jpg.rf.8ed31a98fd72fcb6cf4c7143a2eb4356.txt  \n",
            "  inflating: labels/valid/IMG20230530181425_01_jpg.rf.0f87c74f0ebdbe0717e14cfeda4eb133.txt  \n",
            "  inflating: labels/valid/IMG20230530181439_01_jpg.rf.0519c21edc87da7832686d92a48e50df.txt  \n",
            "  inflating: labels/valid/IMG20230531132323_01_jpg.rf.f2cb147995647f0b86872fe0891a1e13.txt  \n",
            "  inflating: labels/valid/IMG20230531132350_01_jpg.rf.b9e0ca5933f2a6bc0fcb96776345de81.txt  \n",
            "  inflating: labels/valid/IMG20230531132357_01_jpg.rf.6650d10b7539c175f8d30ee5263658a1.txt  \n",
            "  inflating: labels/valid/IMG20230531133642_01_jpg.rf.7860de59655b99a0dc80016062796d8b.txt  \n",
            "  inflating: labels/valid/IMG20230531133655_jpg.rf.05a19ff7c1604b5399dd2a202b9f57c9.txt  \n",
            "  inflating: labels/valid/IMG20230531133713_01_jpg.rf.9a72cf5f67b258370656623cd27e023c.txt  \n",
            "  inflating: labels/valid/IMG20230531133714_01_jpg.rf.ad90ad22d42b2e122f78d0765db61052.txt  \n",
            "  inflating: labels/valid/IMG20230531161412_01_jpg.rf.25468dc7fad4e4d82ce4239141e48f9d.txt  \n",
            "  inflating: labels/valid/IMG20230531161426_01_jpg.rf.cae9132131f65966e4335facb7bacf1a.txt  \n",
            "  inflating: labels/valid/IMG20230531161439_01_jpg.rf.f8ab968e699f97b3d23d3647ce807cfd.txt  \n",
            "  inflating: labels/valid/IMG20230531161746_jpg.rf.b4d3b4b61807d69a0e9a973d570e55bf.txt  \n",
            "  inflating: labels/valid/IMG20230531161809_jpg.rf.e141fc422f65d1916b6879250336f334.txt  \n",
            "  inflating: labels/valid/IMG20230531161822_jpg.rf.0c99af895dfb6422956e84bc522596f5.txt  \n",
            "  inflating: labels/valid/IMG20230601104217_jpg.rf.6de90a9aeb3990e00c01db11a3fd671f.txt  \n",
            "  inflating: labels/valid/IMG20230601104312_jpg.rf.d939ca6eee43c37c32d42fd76eb22187.txt  \n",
            "  inflating: labels/valid/IMG20230601104314_jpg.rf.9cb9bb1ecb125e69385ea26353bb725d.txt  \n",
            "  inflating: labels/valid/IMG20230601104333_jpg.rf.5e0084e129e2044bbe4f359aa985cf18.txt  \n",
            "  inflating: labels/valid/IMG20230601104339_jpg.rf.71949c48233256d582fc61bf917a1cf6.txt  \n",
            "  inflating: labels/valid/IMG20230601104350_jpg.rf.174574d2f524c68e39ea315f0211f58e.txt  \n",
            "  inflating: labels/valid/IMG20230601140239_jpg.rf.eaafb6f125ac10d6b3f8894750cffd19.txt  \n",
            "  inflating: labels/valid/IMG20230601165344_jpg.rf.21b005e3a6fcba3d8eb611c27a9f8b2b.txt  \n",
            "  inflating: labels/valid/IMG20230601165516_jpg.rf.94283d2c678d597428d715370ab8f8ee.txt  \n",
            "  inflating: labels/valid/IMG20230601165541_jpg.rf.e88a1de31ea2acf46019d2d487667cbc.txt  \n",
            "  inflating: labels/valid/IMG20230601165543_jpg.rf.8b7e2bc91ac75bd204c3907f3626b8a4.txt  \n",
            "  inflating: labels/valid/IMG20230601165604_jpg.rf.0e57aa05df177c7b7a1ea8f893536007.txt  \n",
            "  inflating: labels/valid/IMG20230602082147_jpg.rf.21bd29f4333d2292c97dd6b7f8a2424d.txt  \n",
            "  inflating: labels/valid/IMG20230602082158_jpg.rf.15bb30af3795ac5191b8377bb739cedb.txt  \n",
            "  inflating: labels/valid/IMG20230602082231_jpg.rf.03aeeb3e7ccb3b53c3da1a949621516f.txt  \n",
            "  inflating: labels/valid/IMG20230602082245_jpg.rf.bfcb74b69bf125d214ee5e37f36cd6c7.txt  \n",
            "  inflating: labels/valid/IMG20230602082256_jpg.rf.2ec625e8065b32a979081511349d132c.txt  \n",
            "  inflating: labels/valid/IMG20230602082256_jpg.rf.ac9e43de730bfa84db0ca8b0f759df81.txt  \n",
            "  inflating: labels/valid/IMG20230602082305_jpg.rf.b43f6a56f12552d283a5e93f31abe717.txt  \n",
            "  inflating: labels/valid/IMG20230602082421_jpg.rf.5038836fd09a0d10485311f73b7b0498.txt  \n",
            "  inflating: labels/valid/IMG20230602082423_jpg.rf.01a7acd169f46dd5b63e2ae945a0982e.txt  \n",
            "  inflating: labels/valid/IMG20230602082532_jpg.rf.a68b91475ec678c75973232704d084da.txt  \n",
            "  inflating: labels/valid/IMG20230602082534_jpg.rf.0f9b17bfdb990800d14579ee6e0a4d4e.txt  \n",
            "  inflating: labels/valid/IMG20230605082436_jpg.rf.f8632ca692e546bcde39413d1344f01d.txt  \n",
            "  inflating: labels/valid/IMG20230605082439_jpg.rf.b593d25d223c8a6c93b909275007e31e.txt  \n",
            "  inflating: labels/valid/IMG20230605082453_jpg.rf.eb25abc8b17aa1155bb9f5e7d7070c33.txt  \n",
            "  inflating: labels/valid/IMG20230605082502_jpg.rf.31c80e63429a9e54480f806ed95204e9.txt  \n",
            "  inflating: labels/valid/IMG20230605082507_jpg.rf.9e9be21d4b2e4284db709ce692811db1.txt  \n",
            "  inflating: labels/valid/IMG20230605082507_jpg.rf.e9a6e755c0af1285b0663880335cb5a4.txt  \n",
            "  inflating: labels/valid/IMG20230605082511_jpg.rf.cb3afe585b477a3554377c1b7a04c0b4.txt  \n",
            "  inflating: labels/valid/IMG20230605082518_jpg.rf.ed7daa20cc6b33a3895346ac8e4cd54b.txt  \n",
            "  inflating: labels/valid/IMG20230605082534_jpg.rf.e7c8e603dafad103197a4e59c45f73a1.txt  \n",
            "  inflating: labels/valid/IMG20230605082538_jpg.rf.49aed11b819901d95ccaca28393407a4.txt  \n",
            "  inflating: labels/valid/IMG20230605082538_jpg.rf.e6bb8ec330ebb7d122682256df3986e4.txt  \n",
            "  inflating: labels/valid/IMG20230605082552_jpg.rf.936ba50d687c14b7c9f32d36011d6072.txt  \n"
          ]
        }
      ]
    },
    {
      "cell_type": "code",
      "source": [
        "!pip install ultralytics"
      ],
      "metadata": {
        "id": "tylFMtRiP_ye",
        "colab": {
          "base_uri": "https://localhost:8080/"
        },
        "outputId": "c5b605e0-c96c-46de-af90-6e6dca3d11ef"
      },
      "execution_count": 4,
      "outputs": [
        {
          "output_type": "stream",
          "name": "stdout",
          "text": [
            "Collecting ultralytics\n",
            "  Downloading ultralytics-8.2.73-py3-none-any.whl.metadata (41 kB)\n",
            "\u001b[?25l     \u001b[90m━━━━━━━━━━━━━━━━━━━━━━━━━━━━━━━━━━━━━━━━\u001b[0m \u001b[32m0.0/41.3 kB\u001b[0m \u001b[31m?\u001b[0m eta \u001b[36m-:--:--\u001b[0m\r\u001b[2K     \u001b[90m━━━━━━━━━━━━━━━━━━━━━━━━━━━━━━━━━━━━━━━━\u001b[0m \u001b[32m41.3/41.3 kB\u001b[0m \u001b[31m3.3 MB/s\u001b[0m eta \u001b[36m0:00:00\u001b[0m\n",
            "\u001b[?25hRequirement already satisfied: numpy<2.0.0,>=1.23.0 in /usr/local/lib/python3.10/dist-packages (from ultralytics) (1.26.4)\n",
            "Requirement already satisfied: matplotlib>=3.3.0 in /usr/local/lib/python3.10/dist-packages (from ultralytics) (3.7.1)\n",
            "Requirement already satisfied: opencv-python>=4.6.0 in /usr/local/lib/python3.10/dist-packages (from ultralytics) (4.10.0.84)\n",
            "Requirement already satisfied: pillow>=7.1.2 in /usr/local/lib/python3.10/dist-packages (from ultralytics) (9.4.0)\n",
            "Requirement already satisfied: pyyaml>=5.3.1 in /usr/local/lib/python3.10/dist-packages (from ultralytics) (6.0.1)\n",
            "Requirement already satisfied: requests>=2.23.0 in /usr/local/lib/python3.10/dist-packages (from ultralytics) (2.31.0)\n",
            "Requirement already satisfied: scipy>=1.4.1 in /usr/local/lib/python3.10/dist-packages (from ultralytics) (1.13.1)\n",
            "Requirement already satisfied: torch>=1.8.0 in /usr/local/lib/python3.10/dist-packages (from ultralytics) (2.3.1+cu121)\n",
            "Requirement already satisfied: torchvision>=0.9.0 in /usr/local/lib/python3.10/dist-packages (from ultralytics) (0.18.1+cu121)\n",
            "Requirement already satisfied: tqdm>=4.64.0 in /usr/local/lib/python3.10/dist-packages (from ultralytics) (4.66.4)\n",
            "Requirement already satisfied: psutil in /usr/local/lib/python3.10/dist-packages (from ultralytics) (5.9.5)\n",
            "Requirement already satisfied: py-cpuinfo in /usr/local/lib/python3.10/dist-packages (from ultralytics) (9.0.0)\n",
            "Requirement already satisfied: pandas>=1.1.4 in /usr/local/lib/python3.10/dist-packages (from ultralytics) (2.1.4)\n",
            "Requirement already satisfied: seaborn>=0.11.0 in /usr/local/lib/python3.10/dist-packages (from ultralytics) (0.13.1)\n",
            "Collecting ultralytics-thop>=2.0.0 (from ultralytics)\n",
            "  Downloading ultralytics_thop-2.0.0-py3-none-any.whl.metadata (8.5 kB)\n",
            "Requirement already satisfied: contourpy>=1.0.1 in /usr/local/lib/python3.10/dist-packages (from matplotlib>=3.3.0->ultralytics) (1.2.1)\n",
            "Requirement already satisfied: cycler>=0.10 in /usr/local/lib/python3.10/dist-packages (from matplotlib>=3.3.0->ultralytics) (0.12.1)\n",
            "Requirement already satisfied: fonttools>=4.22.0 in /usr/local/lib/python3.10/dist-packages (from matplotlib>=3.3.0->ultralytics) (4.53.1)\n",
            "Requirement already satisfied: kiwisolver>=1.0.1 in /usr/local/lib/python3.10/dist-packages (from matplotlib>=3.3.0->ultralytics) (1.4.5)\n",
            "Requirement already satisfied: packaging>=20.0 in /usr/local/lib/python3.10/dist-packages (from matplotlib>=3.3.0->ultralytics) (24.1)\n",
            "Requirement already satisfied: pyparsing>=2.3.1 in /usr/local/lib/python3.10/dist-packages (from matplotlib>=3.3.0->ultralytics) (3.1.2)\n",
            "Requirement already satisfied: python-dateutil>=2.7 in /usr/local/lib/python3.10/dist-packages (from matplotlib>=3.3.0->ultralytics) (2.8.2)\n",
            "Requirement already satisfied: pytz>=2020.1 in /usr/local/lib/python3.10/dist-packages (from pandas>=1.1.4->ultralytics) (2024.1)\n",
            "Requirement already satisfied: tzdata>=2022.1 in /usr/local/lib/python3.10/dist-packages (from pandas>=1.1.4->ultralytics) (2024.1)\n",
            "Requirement already satisfied: charset-normalizer<4,>=2 in /usr/local/lib/python3.10/dist-packages (from requests>=2.23.0->ultralytics) (3.3.2)\n",
            "Requirement already satisfied: idna<4,>=2.5 in /usr/local/lib/python3.10/dist-packages (from requests>=2.23.0->ultralytics) (3.7)\n",
            "Requirement already satisfied: urllib3<3,>=1.21.1 in /usr/local/lib/python3.10/dist-packages (from requests>=2.23.0->ultralytics) (2.0.7)\n",
            "Requirement already satisfied: certifi>=2017.4.17 in /usr/local/lib/python3.10/dist-packages (from requests>=2.23.0->ultralytics) (2024.7.4)\n",
            "Requirement already satisfied: filelock in /usr/local/lib/python3.10/dist-packages (from torch>=1.8.0->ultralytics) (3.15.4)\n",
            "Requirement already satisfied: typing-extensions>=4.8.0 in /usr/local/lib/python3.10/dist-packages (from torch>=1.8.0->ultralytics) (4.12.2)\n",
            "Requirement already satisfied: sympy in /usr/local/lib/python3.10/dist-packages (from torch>=1.8.0->ultralytics) (1.13.1)\n",
            "Requirement already satisfied: networkx in /usr/local/lib/python3.10/dist-packages (from torch>=1.8.0->ultralytics) (3.3)\n",
            "Requirement already satisfied: jinja2 in /usr/local/lib/python3.10/dist-packages (from torch>=1.8.0->ultralytics) (3.1.4)\n",
            "Requirement already satisfied: fsspec in /usr/local/lib/python3.10/dist-packages (from torch>=1.8.0->ultralytics) (2024.6.1)\n",
            "Collecting nvidia-cuda-nvrtc-cu12==12.1.105 (from torch>=1.8.0->ultralytics)\n",
            "  Using cached nvidia_cuda_nvrtc_cu12-12.1.105-py3-none-manylinux1_x86_64.whl.metadata (1.5 kB)\n",
            "Collecting nvidia-cuda-runtime-cu12==12.1.105 (from torch>=1.8.0->ultralytics)\n",
            "  Using cached nvidia_cuda_runtime_cu12-12.1.105-py3-none-manylinux1_x86_64.whl.metadata (1.5 kB)\n",
            "Collecting nvidia-cuda-cupti-cu12==12.1.105 (from torch>=1.8.0->ultralytics)\n",
            "  Using cached nvidia_cuda_cupti_cu12-12.1.105-py3-none-manylinux1_x86_64.whl.metadata (1.6 kB)\n",
            "Collecting nvidia-cudnn-cu12==8.9.2.26 (from torch>=1.8.0->ultralytics)\n",
            "  Using cached nvidia_cudnn_cu12-8.9.2.26-py3-none-manylinux1_x86_64.whl.metadata (1.6 kB)\n",
            "Collecting nvidia-cublas-cu12==12.1.3.1 (from torch>=1.8.0->ultralytics)\n",
            "  Using cached nvidia_cublas_cu12-12.1.3.1-py3-none-manylinux1_x86_64.whl.metadata (1.5 kB)\n",
            "Collecting nvidia-cufft-cu12==11.0.2.54 (from torch>=1.8.0->ultralytics)\n",
            "  Using cached nvidia_cufft_cu12-11.0.2.54-py3-none-manylinux1_x86_64.whl.metadata (1.5 kB)\n",
            "Collecting nvidia-curand-cu12==10.3.2.106 (from torch>=1.8.0->ultralytics)\n",
            "  Using cached nvidia_curand_cu12-10.3.2.106-py3-none-manylinux1_x86_64.whl.metadata (1.5 kB)\n",
            "Collecting nvidia-cusolver-cu12==11.4.5.107 (from torch>=1.8.0->ultralytics)\n",
            "  Using cached nvidia_cusolver_cu12-11.4.5.107-py3-none-manylinux1_x86_64.whl.metadata (1.6 kB)\n",
            "Collecting nvidia-cusparse-cu12==12.1.0.106 (from torch>=1.8.0->ultralytics)\n",
            "  Using cached nvidia_cusparse_cu12-12.1.0.106-py3-none-manylinux1_x86_64.whl.metadata (1.6 kB)\n",
            "Collecting nvidia-nccl-cu12==2.20.5 (from torch>=1.8.0->ultralytics)\n",
            "  Using cached nvidia_nccl_cu12-2.20.5-py3-none-manylinux2014_x86_64.whl.metadata (1.8 kB)\n",
            "Collecting nvidia-nvtx-cu12==12.1.105 (from torch>=1.8.0->ultralytics)\n",
            "  Using cached nvidia_nvtx_cu12-12.1.105-py3-none-manylinux1_x86_64.whl.metadata (1.7 kB)\n",
            "Requirement already satisfied: triton==2.3.1 in /usr/local/lib/python3.10/dist-packages (from torch>=1.8.0->ultralytics) (2.3.1)\n",
            "Collecting nvidia-nvjitlink-cu12 (from nvidia-cusolver-cu12==11.4.5.107->torch>=1.8.0->ultralytics)\n",
            "  Using cached nvidia_nvjitlink_cu12-12.6.20-py3-none-manylinux2014_x86_64.whl.metadata (1.5 kB)\n",
            "Requirement already satisfied: six>=1.5 in /usr/local/lib/python3.10/dist-packages (from python-dateutil>=2.7->matplotlib>=3.3.0->ultralytics) (1.16.0)\n",
            "Requirement already satisfied: MarkupSafe>=2.0 in /usr/local/lib/python3.10/dist-packages (from jinja2->torch>=1.8.0->ultralytics) (2.1.5)\n",
            "Requirement already satisfied: mpmath<1.4,>=1.1.0 in /usr/local/lib/python3.10/dist-packages (from sympy->torch>=1.8.0->ultralytics) (1.3.0)\n",
            "Downloading ultralytics-8.2.73-py3-none-any.whl (865 kB)\n",
            "\u001b[2K   \u001b[90m━━━━━━━━━━━━━━━━━━━━━━━━━━━━━━━━━━━━━━━━\u001b[0m \u001b[32m865.5/865.5 kB\u001b[0m \u001b[31m51.8 MB/s\u001b[0m eta \u001b[36m0:00:00\u001b[0m\n",
            "\u001b[?25hUsing cached nvidia_cublas_cu12-12.1.3.1-py3-none-manylinux1_x86_64.whl (410.6 MB)\n",
            "Using cached nvidia_cuda_cupti_cu12-12.1.105-py3-none-manylinux1_x86_64.whl (14.1 MB)\n",
            "Using cached nvidia_cuda_nvrtc_cu12-12.1.105-py3-none-manylinux1_x86_64.whl (23.7 MB)\n",
            "Using cached nvidia_cuda_runtime_cu12-12.1.105-py3-none-manylinux1_x86_64.whl (823 kB)\n",
            "Using cached nvidia_cudnn_cu12-8.9.2.26-py3-none-manylinux1_x86_64.whl (731.7 MB)\n",
            "Using cached nvidia_cufft_cu12-11.0.2.54-py3-none-manylinux1_x86_64.whl (121.6 MB)\n",
            "Using cached nvidia_curand_cu12-10.3.2.106-py3-none-manylinux1_x86_64.whl (56.5 MB)\n",
            "Using cached nvidia_cusolver_cu12-11.4.5.107-py3-none-manylinux1_x86_64.whl (124.2 MB)\n",
            "Using cached nvidia_cusparse_cu12-12.1.0.106-py3-none-manylinux1_x86_64.whl (196.0 MB)\n",
            "Using cached nvidia_nccl_cu12-2.20.5-py3-none-manylinux2014_x86_64.whl (176.2 MB)\n",
            "Using cached nvidia_nvtx_cu12-12.1.105-py3-none-manylinux1_x86_64.whl (99 kB)\n",
            "Downloading ultralytics_thop-2.0.0-py3-none-any.whl (25 kB)\n",
            "Using cached nvidia_nvjitlink_cu12-12.6.20-py3-none-manylinux2014_x86_64.whl (19.7 MB)\n",
            "Installing collected packages: nvidia-nvtx-cu12, nvidia-nvjitlink-cu12, nvidia-nccl-cu12, nvidia-curand-cu12, nvidia-cufft-cu12, nvidia-cuda-runtime-cu12, nvidia-cuda-nvrtc-cu12, nvidia-cuda-cupti-cu12, nvidia-cublas-cu12, nvidia-cusparse-cu12, nvidia-cudnn-cu12, nvidia-cusolver-cu12, ultralytics-thop, ultralytics\n",
            "Successfully installed nvidia-cublas-cu12-12.1.3.1 nvidia-cuda-cupti-cu12-12.1.105 nvidia-cuda-nvrtc-cu12-12.1.105 nvidia-cuda-runtime-cu12-12.1.105 nvidia-cudnn-cu12-8.9.2.26 nvidia-cufft-cu12-11.0.2.54 nvidia-curand-cu12-10.3.2.106 nvidia-cusolver-cu12-11.4.5.107 nvidia-cusparse-cu12-12.1.0.106 nvidia-nccl-cu12-2.20.5 nvidia-nvjitlink-cu12-12.6.20 nvidia-nvtx-cu12-12.1.105 ultralytics-8.2.73 ultralytics-thop-2.0.0\n"
          ]
        }
      ]
    },
    {
      "cell_type": "code",
      "source": [
        "from ultralytics import YOLO"
      ],
      "metadata": {
        "id": "rpTvNvwNR8wW"
      },
      "execution_count": 5,
      "outputs": []
    },
    {
      "cell_type": "code",
      "source": [
        "model = YOLO(\"yolov6m.yaml\")"
      ],
      "metadata": {
        "id": "2Yf3JtovRhrU"
      },
      "execution_count": 6,
      "outputs": []
    },
    {
      "cell_type": "code",
      "source": [
        "model.info()"
      ],
      "metadata": {
        "colab": {
          "base_uri": "https://localhost:8080/"
        },
        "id": "x1zRSJMCY-ft",
        "outputId": "505d971b-b457-4ff6-cbbf-43cf2ceddfe7"
      },
      "execution_count": 7,
      "outputs": [
        {
          "output_type": "stream",
          "name": "stdout",
          "text": [
            "YOLOv6m summary: 273 layers, 52,020,496 parameters, 52,020,480 gradients, 161.7 GFLOPs\n"
          ]
        },
        {
          "output_type": "execute_result",
          "data": {
            "text/plain": [
              "(273, 52020496, 52020480, 161.677056)"
            ]
          },
          "metadata": {},
          "execution_count": 7
        }
      ]
    },
    {
      "cell_type": "code",
      "source": [
        "results = model.train(data=\"/content/data.yaml\", epochs=100, imgsz=640, device=0, batch=64)"
      ],
      "metadata": {
        "colab": {
          "base_uri": "https://localhost:8080/"
        },
        "id": "TE06EaiGSBEt",
        "outputId": "a99c5a62-61eb-4079-b5c9-38f3dab38c73"
      },
      "execution_count": 8,
      "outputs": [
        {
          "output_type": "stream",
          "name": "stdout",
          "text": [
            "Ultralytics YOLOv8.2.73 🚀 Python-3.10.12 torch-2.3.1+cu121 CUDA:0 (NVIDIA L4, 22700MiB)\n",
            "\u001b[34m\u001b[1mengine/trainer: \u001b[0mtask=detect, mode=train, model=yolov6m.yaml, data=/content/data.yaml, epochs=100, time=None, patience=100, batch=64, imgsz=640, save=True, save_period=-1, cache=False, device=0, workers=8, project=None, name=train, exist_ok=False, pretrained=True, optimizer=auto, verbose=True, seed=0, deterministic=True, single_cls=False, rect=False, cos_lr=False, close_mosaic=10, resume=False, amp=True, fraction=1.0, profile=False, freeze=None, multi_scale=False, overlap_mask=True, mask_ratio=4, dropout=0.0, val=True, split=val, save_json=False, save_hybrid=False, conf=None, iou=0.7, max_det=300, half=False, dnn=False, plots=True, source=None, vid_stride=1, stream_buffer=False, visualize=False, augment=False, agnostic_nms=False, classes=None, retina_masks=False, embed=None, show=False, save_frames=False, save_txt=False, save_conf=False, save_crop=False, show_labels=True, show_conf=True, show_boxes=True, line_width=None, format=torchscript, keras=False, optimize=False, int8=False, dynamic=False, simplify=False, opset=None, workspace=4, nms=False, lr0=0.01, lrf=0.01, momentum=0.937, weight_decay=0.0005, warmup_epochs=3.0, warmup_momentum=0.8, warmup_bias_lr=0.1, box=7.5, cls=0.5, dfl=1.5, pose=12.0, kobj=1.0, label_smoothing=0.0, nbs=64, hsv_h=0.015, hsv_s=0.7, hsv_v=0.4, degrees=0.0, translate=0.1, scale=0.5, shear=0.0, perspective=0.0, flipud=0.0, fliplr=0.5, bgr=0.0, mosaic=1.0, mixup=0.0, copy_paste=0.0, auto_augment=randaugment, erasing=0.4, crop_fraction=1.0, cfg=None, tracker=botsort.yaml, save_dir=runs/detect/train\n",
            "Downloading https://ultralytics.com/assets/Arial.ttf to '/root/.config/Ultralytics/Arial.ttf'...\n"
          ]
        },
        {
          "output_type": "stream",
          "name": "stderr",
          "text": [
            "100%|██████████| 755k/755k [00:00<00:00, 84.1MB/s]\n"
          ]
        },
        {
          "output_type": "stream",
          "name": "stdout",
          "text": [
            "Overriding model.yaml nc=80 with nc=6\n",
            "\u001b[34m\u001b[1mactivation:\u001b[0m nn.ReLU()\n",
            "\n",
            "                   from  n    params  module                                       arguments                     \n",
            "  0                  -1  1      1392  ultralytics.nn.modules.conv.Conv             [3, 48, 3, 2]                 \n",
            "  1                  -1  1     41664  ultralytics.nn.modules.conv.Conv             [48, 96, 3, 2]                \n",
            "  2                  -1  4    332544  ultralytics.nn.modules.conv.Conv             [96, 96, 3, 1]                \n",
            "  3                  -1  1    166272  ultralytics.nn.modules.conv.Conv             [96, 192, 3, 2]               \n",
            "  4                  -1  8   2657280  ultralytics.nn.modules.conv.Conv             [192, 192, 3, 1]              \n",
            "  5                  -1  1    664320  ultralytics.nn.modules.conv.Conv             [192, 384, 3, 2]              \n",
            "  6                  -1 12  15934464  ultralytics.nn.modules.conv.Conv             [384, 384, 3, 1]              \n",
            "  7                  -1  1   1991808  ultralytics.nn.modules.conv.Conv             [384, 576, 3, 2]              \n",
            "  8                  -1  4  11948544  ultralytics.nn.modules.conv.Conv             [576, 576, 3, 1]              \n",
            "  9                  -1  1    831168  ultralytics.nn.modules.block.SPPF            [576, 576, 5]                 \n",
            " 10                  -1  1    110976  ultralytics.nn.modules.conv.Conv             [576, 192, 1, 1]              \n",
            " 11                  -1  1    147648  torch.nn.modules.conv.ConvTranspose2d        [192, 192, 2, 2, 0]           \n",
            " 12             [-1, 6]  1         0  ultralytics.nn.modules.conv.Concat           [1]                           \n",
            " 13                  -1  1    995712  ultralytics.nn.modules.conv.Conv             [576, 192, 3, 1]              \n",
            " 14                  -1  6   1992960  ultralytics.nn.modules.conv.Conv             [192, 192, 3, 1]              \n",
            " 15                  -1  1     18624  ultralytics.nn.modules.conv.Conv             [192, 96, 1, 1]               \n",
            " 16                  -1  1     36960  torch.nn.modules.conv.ConvTranspose2d        [96, 96, 2, 2, 0]             \n",
            " 17             [-1, 4]  1         0  ultralytics.nn.modules.conv.Concat           [1]                           \n",
            " 18                  -1  1    249024  ultralytics.nn.modules.conv.Conv             [288, 96, 3, 1]               \n",
            " 19                  -1  6    498816  ultralytics.nn.modules.conv.Conv             [96, 96, 3, 1]                \n",
            " 20                  -1  1     83136  ultralytics.nn.modules.conv.Conv             [96, 96, 3, 2]                \n",
            " 21            [-1, 15]  1         0  ultralytics.nn.modules.conv.Concat           [1]                           \n",
            " 22                  -1  1    332160  ultralytics.nn.modules.conv.Conv             [192, 192, 3, 1]              \n",
            " 23                  -1  6   1992960  ultralytics.nn.modules.conv.Conv             [192, 192, 3, 1]              \n",
            " 24                  -1  1    332160  ultralytics.nn.modules.conv.Conv             [192, 192, 3, 2]              \n",
            " 25            [-1, 10]  1         0  ultralytics.nn.modules.conv.Concat           [1]                           \n",
            " 26                  -1  1   1327872  ultralytics.nn.modules.conv.Conv             [384, 384, 3, 1]              \n",
            " 27                  -1  6   7967232  ultralytics.nn.modules.conv.Conv             [384, 384, 3, 1]              \n",
            " 28        [19, 23, 27]  1   1343266  ultralytics.nn.modules.head.Detect           [6, [96, 192, 384]]           \n",
            "YOLOv6m summary: 273 layers, 51,998,962 parameters, 51,998,946 gradients, 161.6 GFLOPs\n",
            "\n",
            "\u001b[34m\u001b[1mTensorBoard: \u001b[0mStart with 'tensorboard --logdir runs/detect/train', view at http://localhost:6006/\n",
            "Freezing layer 'model.28.dfl.conv.weight'\n",
            "\u001b[34m\u001b[1mAMP: \u001b[0mrunning Automatic Mixed Precision (AMP) checks with YOLOv8n...\n",
            "Downloading https://github.com/ultralytics/assets/releases/download/v8.2.0/yolov8n.pt to 'yolov8n.pt'...\n"
          ]
        },
        {
          "output_type": "stream",
          "name": "stderr",
          "text": [
            "100%|██████████| 6.25M/6.25M [00:00<00:00, 376MB/s]\n"
          ]
        },
        {
          "output_type": "stream",
          "name": "stdout",
          "text": [
            "\u001b[34m\u001b[1mAMP: \u001b[0mchecks passed ✅\n"
          ]
        },
        {
          "output_type": "stream",
          "name": "stderr",
          "text": [
            "\u001b[34m\u001b[1mtrain: \u001b[0mScanning /content/labels/train... 2870 images, 0 backgrounds, 0 corrupt: 100%|██████████| 2870/2870 [00:06<00:00, 477.56it/s]"
          ]
        },
        {
          "output_type": "stream",
          "name": "stdout",
          "text": [
            "\u001b[34m\u001b[1mtrain: \u001b[0mWARNING ⚠️ /content/images/train/IMG20230529175058_01_jpg.rf.689ec6c2def314ca4a179b708d4e6646.jpg: 1 duplicate labels removed\n",
            "\u001b[34m\u001b[1mtrain: \u001b[0mWARNING ⚠️ /content/images/train/IMG20230529175058_01_jpg.rf.7349d456f89582e02e06c000060c6993.jpg: 1 duplicate labels removed\n"
          ]
        },
        {
          "output_type": "stream",
          "name": "stderr",
          "text": [
            "\n"
          ]
        },
        {
          "output_type": "stream",
          "name": "stdout",
          "text": [
            "\u001b[34m\u001b[1mtrain: \u001b[0mNew cache created: /content/labels/train.cache\n",
            "\u001b[34m\u001b[1malbumentations: \u001b[0mBlur(p=0.01, blur_limit=(3, 7)), MedianBlur(p=0.01, blur_limit=(3, 7)), ToGray(p=0.01), CLAHE(p=0.01, clip_limit=(1, 4.0), tile_grid_size=(8, 8))\n"
          ]
        },
        {
          "output_type": "stream",
          "name": "stderr",
          "text": [
            "/usr/lib/python3.10/multiprocessing/popen_fork.py:66: RuntimeWarning: os.fork() was called. os.fork() is incompatible with multithreaded code, and JAX is multithreaded, so this will likely lead to a deadlock.\n",
            "  self.pid = os.fork()\n",
            "\u001b[34m\u001b[1mval: \u001b[0mScanning /content/labels/valid... 108 images, 0 backgrounds, 0 corrupt: 100%|██████████| 108/108 [00:00<00:00, 326.73it/s]\n"
          ]
        },
        {
          "output_type": "stream",
          "name": "stdout",
          "text": [
            "\u001b[34m\u001b[1mval: \u001b[0mNew cache created: /content/labels/valid.cache\n",
            "Plotting labels to runs/detect/train/labels.jpg... \n",
            "\u001b[34m\u001b[1moptimizer:\u001b[0m 'optimizer=auto' found, ignoring 'lr0=0.01' and 'momentum=0.937' and determining best 'optimizer', 'lr0' and 'momentum' automatically... \n",
            "\u001b[34m\u001b[1moptimizer:\u001b[0m AdamW(lr=0.001, momentum=0.9) with parameter groups 79 weight(decay=0.0), 88 weight(decay=0.0005), 87 bias(decay=0.0)\n",
            "\u001b[34m\u001b[1mTensorBoard: \u001b[0mmodel graph visualization added ✅\n",
            "Image sizes 640 train, 640 val\n",
            "Using 8 dataloader workers\n",
            "Logging results to \u001b[1mruns/detect/train\u001b[0m\n",
            "Starting training for 100 epochs...\n",
            "\n",
            "      Epoch    GPU_mem   box_loss   cls_loss   dfl_loss  Instances       Size\n"
          ]
        },
        {
          "output_type": "stream",
          "name": "stderr",
          "text": [
            "      1/100      18.6G      2.992      3.942      3.956       1444        640: 100%|██████████| 45/45 [01:29<00:00,  1.98s/it]\n",
            "                 Class     Images  Instances      Box(P          R      mAP50  mAP50-95): 100%|██████████| 1/1 [00:05<00:00,  5.05s/it]"
          ]
        },
        {
          "output_type": "stream",
          "name": "stdout",
          "text": [
            "                   all        108       1611    0.00308      0.142    0.00399   0.000994\n"
          ]
        },
        {
          "output_type": "stream",
          "name": "stderr",
          "text": [
            "\n"
          ]
        },
        {
          "output_type": "stream",
          "name": "stdout",
          "text": [
            "\n",
            "      Epoch    GPU_mem   box_loss   cls_loss   dfl_loss  Instances       Size\n"
          ]
        },
        {
          "output_type": "stream",
          "name": "stderr",
          "text": [
            "      2/100      18.5G      2.088      2.547      2.786       1377        640: 100%|██████████| 45/45 [01:21<00:00,  1.80s/it]\n",
            "                 Class     Images  Instances      Box(P          R      mAP50  mAP50-95): 100%|██████████| 1/1 [00:01<00:00,  1.87s/it]"
          ]
        },
        {
          "output_type": "stream",
          "name": "stdout",
          "text": [
            "                   all        108       1611     0.0251     0.0267     0.0142    0.00614\n"
          ]
        },
        {
          "output_type": "stream",
          "name": "stderr",
          "text": [
            "\n"
          ]
        },
        {
          "output_type": "stream",
          "name": "stdout",
          "text": [
            "\n",
            "      Epoch    GPU_mem   box_loss   cls_loss   dfl_loss  Instances       Size\n"
          ]
        },
        {
          "output_type": "stream",
          "name": "stderr",
          "text": [
            "      3/100      17.9G      1.693      2.204      2.224       1419        640: 100%|██████████| 45/45 [01:22<00:00,  1.83s/it]\n",
            "                 Class     Images  Instances      Box(P          R      mAP50  mAP50-95):   0%|          | 0/1 [00:00<?, ?it/s]"
          ]
        },
        {
          "output_type": "stream",
          "name": "stdout",
          "text": [
            "WARNING ⚠️ NMS time limit 7.400s exceeded\n"
          ]
        },
        {
          "output_type": "stream",
          "name": "stderr",
          "text": [
            "                 Class     Images  Instances      Box(P          R      mAP50  mAP50-95): 100%|██████████| 1/1 [00:08<00:00,  8.81s/it]"
          ]
        },
        {
          "output_type": "stream",
          "name": "stdout",
          "text": [
            "                   all        108       1611      0.355      0.032    0.00397    0.00174\n"
          ]
        },
        {
          "output_type": "stream",
          "name": "stderr",
          "text": [
            "\n"
          ]
        },
        {
          "output_type": "stream",
          "name": "stdout",
          "text": [
            "\n",
            "      Epoch    GPU_mem   box_loss   cls_loss   dfl_loss  Instances       Size\n"
          ]
        },
        {
          "output_type": "stream",
          "name": "stderr",
          "text": [
            "      4/100      18.2G      1.452      1.931      1.942       1200        640: 100%|██████████| 45/45 [01:21<00:00,  1.81s/it]\n",
            "                 Class     Images  Instances      Box(P          R      mAP50  mAP50-95): 100%|██████████| 1/1 [00:03<00:00,  3.04s/it]"
          ]
        },
        {
          "output_type": "stream",
          "name": "stdout",
          "text": [
            "                   all        108       1611      0.164        0.3       0.18      0.103\n"
          ]
        },
        {
          "output_type": "stream",
          "name": "stderr",
          "text": [
            "\n"
          ]
        },
        {
          "output_type": "stream",
          "name": "stdout",
          "text": [
            "\n",
            "      Epoch    GPU_mem   box_loss   cls_loss   dfl_loss  Instances       Size\n"
          ]
        },
        {
          "output_type": "stream",
          "name": "stderr",
          "text": [
            "      5/100      18.3G      1.257      1.711      1.752       1345        640: 100%|██████████| 45/45 [01:21<00:00,  1.81s/it]\n",
            "                 Class     Images  Instances      Box(P          R      mAP50  mAP50-95): 100%|██████████| 1/1 [00:03<00:00,  3.13s/it]"
          ]
        },
        {
          "output_type": "stream",
          "name": "stdout",
          "text": [
            "                   all        108       1611      0.137      0.414      0.172      0.108\n"
          ]
        },
        {
          "output_type": "stream",
          "name": "stderr",
          "text": [
            "\n"
          ]
        },
        {
          "output_type": "stream",
          "name": "stdout",
          "text": [
            "\n",
            "      Epoch    GPU_mem   box_loss   cls_loss   dfl_loss  Instances       Size\n"
          ]
        },
        {
          "output_type": "stream",
          "name": "stderr",
          "text": [
            "      6/100      18.2G      1.142      1.579      1.643       1422        640: 100%|██████████| 45/45 [01:21<00:00,  1.80s/it]\n",
            "                 Class     Images  Instances      Box(P          R      mAP50  mAP50-95): 100%|██████████| 1/1 [00:02<00:00,  2.99s/it]"
          ]
        },
        {
          "output_type": "stream",
          "name": "stdout",
          "text": [
            "                   all        108       1611      0.138      0.321      0.118     0.0693\n"
          ]
        },
        {
          "output_type": "stream",
          "name": "stderr",
          "text": [
            "\n"
          ]
        },
        {
          "output_type": "stream",
          "name": "stdout",
          "text": [
            "\n",
            "      Epoch    GPU_mem   box_loss   cls_loss   dfl_loss  Instances       Size\n"
          ]
        },
        {
          "output_type": "stream",
          "name": "stderr",
          "text": [
            "      7/100      18.3G      1.067      1.466      1.571       1422        640: 100%|██████████| 45/45 [01:21<00:00,  1.82s/it]\n",
            "                 Class     Images  Instances      Box(P          R      mAP50  mAP50-95): 100%|██████████| 1/1 [00:03<00:00,  3.17s/it]"
          ]
        },
        {
          "output_type": "stream",
          "name": "stdout",
          "text": [
            "                   all        108       1611      0.383      0.515      0.395      0.273\n"
          ]
        },
        {
          "output_type": "stream",
          "name": "stderr",
          "text": [
            "\n"
          ]
        },
        {
          "output_type": "stream",
          "name": "stdout",
          "text": [
            "\n",
            "      Epoch    GPU_mem   box_loss   cls_loss   dfl_loss  Instances       Size\n"
          ]
        },
        {
          "output_type": "stream",
          "name": "stderr",
          "text": [
            "      8/100      18.2G      1.025      1.362      1.524       1215        640: 100%|██████████| 45/45 [01:21<00:00,  1.82s/it]\n",
            "                 Class     Images  Instances      Box(P          R      mAP50  mAP50-95): 100%|██████████| 1/1 [00:03<00:00,  3.24s/it]"
          ]
        },
        {
          "output_type": "stream",
          "name": "stdout",
          "text": [
            "                   all        108       1611      0.504      0.642      0.576      0.421\n"
          ]
        },
        {
          "output_type": "stream",
          "name": "stderr",
          "text": [
            "\n"
          ]
        },
        {
          "output_type": "stream",
          "name": "stdout",
          "text": [
            "\n",
            "      Epoch    GPU_mem   box_loss   cls_loss   dfl_loss  Instances       Size\n"
          ]
        },
        {
          "output_type": "stream",
          "name": "stderr",
          "text": [
            "      9/100      18.3G     0.9814      1.289      1.486       1230        640: 100%|██████████| 45/45 [01:20<00:00,  1.80s/it]\n",
            "                 Class     Images  Instances      Box(P          R      mAP50  mAP50-95): 100%|██████████| 1/1 [00:02<00:00,  2.90s/it]"
          ]
        },
        {
          "output_type": "stream",
          "name": "stdout",
          "text": [
            "                   all        108       1611      0.468      0.637      0.534      0.419\n"
          ]
        },
        {
          "output_type": "stream",
          "name": "stderr",
          "text": [
            "\n"
          ]
        },
        {
          "output_type": "stream",
          "name": "stdout",
          "text": [
            "\n",
            "      Epoch    GPU_mem   box_loss   cls_loss   dfl_loss  Instances       Size\n"
          ]
        },
        {
          "output_type": "stream",
          "name": "stderr",
          "text": [
            "     10/100      18.3G     0.9336      1.223      1.444       1271        640: 100%|██████████| 45/45 [01:21<00:00,  1.82s/it]\n",
            "                 Class     Images  Instances      Box(P          R      mAP50  mAP50-95): 100%|██████████| 1/1 [00:03<00:00,  3.02s/it]"
          ]
        },
        {
          "output_type": "stream",
          "name": "stdout",
          "text": [
            "                   all        108       1611      0.516      0.637      0.561      0.424\n"
          ]
        },
        {
          "output_type": "stream",
          "name": "stderr",
          "text": [
            "\n"
          ]
        },
        {
          "output_type": "stream",
          "name": "stdout",
          "text": [
            "\n",
            "      Epoch    GPU_mem   box_loss   cls_loss   dfl_loss  Instances       Size\n"
          ]
        },
        {
          "output_type": "stream",
          "name": "stderr",
          "text": [
            "     11/100      18.2G     0.9145      1.149      1.422       1456        640: 100%|██████████| 45/45 [01:22<00:00,  1.83s/it]\n",
            "                 Class     Images  Instances      Box(P          R      mAP50  mAP50-95): 100%|██████████| 1/1 [00:02<00:00,  2.30s/it]"
          ]
        },
        {
          "output_type": "stream",
          "name": "stdout",
          "text": [
            "                   all        108       1611      0.624      0.638      0.644      0.489\n"
          ]
        },
        {
          "output_type": "stream",
          "name": "stderr",
          "text": [
            "\n"
          ]
        },
        {
          "output_type": "stream",
          "name": "stdout",
          "text": [
            "\n",
            "      Epoch    GPU_mem   box_loss   cls_loss   dfl_loss  Instances       Size\n"
          ]
        },
        {
          "output_type": "stream",
          "name": "stderr",
          "text": [
            "     12/100      18.1G     0.8872      1.098      1.398       1183        640: 100%|██████████| 45/45 [01:21<00:00,  1.80s/it]\n",
            "                 Class     Images  Instances      Box(P          R      mAP50  mAP50-95): 100%|██████████| 1/1 [00:01<00:00,  1.86s/it]\n"
          ]
        },
        {
          "output_type": "stream",
          "name": "stdout",
          "text": [
            "                   all        108       1611      0.502       0.61      0.544      0.417\n",
            "\n",
            "      Epoch    GPU_mem   box_loss   cls_loss   dfl_loss  Instances       Size\n"
          ]
        },
        {
          "output_type": "stream",
          "name": "stderr",
          "text": [
            "     13/100      18.3G     0.8578       1.04      1.368       1442        640: 100%|██████████| 45/45 [01:21<00:00,  1.82s/it]\n",
            "                 Class     Images  Instances      Box(P          R      mAP50  mAP50-95): 100%|██████████| 1/1 [00:02<00:00,  2.03s/it]"
          ]
        },
        {
          "output_type": "stream",
          "name": "stdout",
          "text": [
            "                   all        108       1611      0.338      0.446      0.389      0.306\n"
          ]
        },
        {
          "output_type": "stream",
          "name": "stderr",
          "text": [
            "\n"
          ]
        },
        {
          "output_type": "stream",
          "name": "stdout",
          "text": [
            "\n",
            "      Epoch    GPU_mem   box_loss   cls_loss   dfl_loss  Instances       Size\n"
          ]
        },
        {
          "output_type": "stream",
          "name": "stderr",
          "text": [
            "     14/100      18.3G     0.8378      1.015      1.355       1364        640: 100%|██████████| 45/45 [01:20<00:00,  1.79s/it]\n",
            "                 Class     Images  Instances      Box(P          R      mAP50  mAP50-95): 100%|██████████| 1/1 [00:03<00:00,  3.49s/it]"
          ]
        },
        {
          "output_type": "stream",
          "name": "stdout",
          "text": [
            "                   all        108       1611      0.644       0.71      0.743      0.592\n"
          ]
        },
        {
          "output_type": "stream",
          "name": "stderr",
          "text": [
            "\n"
          ]
        },
        {
          "output_type": "stream",
          "name": "stdout",
          "text": [
            "\n",
            "      Epoch    GPU_mem   box_loss   cls_loss   dfl_loss  Instances       Size\n"
          ]
        },
        {
          "output_type": "stream",
          "name": "stderr",
          "text": [
            "     15/100      18.3G     0.8225     0.9686      1.343       1382        640: 100%|██████████| 45/45 [01:21<00:00,  1.80s/it]\n",
            "                 Class     Images  Instances      Box(P          R      mAP50  mAP50-95): 100%|██████████| 1/1 [00:02<00:00,  2.78s/it]"
          ]
        },
        {
          "output_type": "stream",
          "name": "stdout",
          "text": [
            "                   all        108       1611      0.603      0.698      0.655      0.524\n"
          ]
        },
        {
          "output_type": "stream",
          "name": "stderr",
          "text": [
            "\n"
          ]
        },
        {
          "output_type": "stream",
          "name": "stdout",
          "text": [
            "\n",
            "      Epoch    GPU_mem   box_loss   cls_loss   dfl_loss  Instances       Size\n"
          ]
        },
        {
          "output_type": "stream",
          "name": "stderr",
          "text": [
            "     16/100      18.4G     0.7914      0.922       1.32       1230        640: 100%|██████████| 45/45 [01:21<00:00,  1.82s/it]\n",
            "                 Class     Images  Instances      Box(P          R      mAP50  mAP50-95): 100%|██████████| 1/1 [00:02<00:00,  2.38s/it]"
          ]
        },
        {
          "output_type": "stream",
          "name": "stdout",
          "text": [
            "                   all        108       1611      0.638      0.732      0.744      0.603\n"
          ]
        },
        {
          "output_type": "stream",
          "name": "stderr",
          "text": [
            "\n"
          ]
        },
        {
          "output_type": "stream",
          "name": "stdout",
          "text": [
            "\n",
            "      Epoch    GPU_mem   box_loss   cls_loss   dfl_loss  Instances       Size\n"
          ]
        },
        {
          "output_type": "stream",
          "name": "stderr",
          "text": [
            "     17/100      18.5G      0.795     0.8954      1.315       1462        640: 100%|██████████| 45/45 [01:21<00:00,  1.80s/it]\n",
            "                 Class     Images  Instances      Box(P          R      mAP50  mAP50-95): 100%|██████████| 1/1 [00:03<00:00,  3.04s/it]"
          ]
        },
        {
          "output_type": "stream",
          "name": "stdout",
          "text": [
            "                   all        108       1611      0.641      0.705      0.725      0.581\n"
          ]
        },
        {
          "output_type": "stream",
          "name": "stderr",
          "text": [
            "\n"
          ]
        },
        {
          "output_type": "stream",
          "name": "stdout",
          "text": [
            "\n",
            "      Epoch    GPU_mem   box_loss   cls_loss   dfl_loss  Instances       Size\n"
          ]
        },
        {
          "output_type": "stream",
          "name": "stderr",
          "text": [
            "     18/100      18.1G     0.7856      0.885      1.308       1380        640: 100%|██████████| 45/45 [01:21<00:00,  1.80s/it]\n",
            "                 Class     Images  Instances      Box(P          R      mAP50  mAP50-95): 100%|██████████| 1/1 [00:02<00:00,  2.51s/it]"
          ]
        },
        {
          "output_type": "stream",
          "name": "stdout",
          "text": [
            "                   all        108       1611      0.723      0.754      0.782      0.605\n"
          ]
        },
        {
          "output_type": "stream",
          "name": "stderr",
          "text": [
            "\n"
          ]
        },
        {
          "output_type": "stream",
          "name": "stdout",
          "text": [
            "\n",
            "      Epoch    GPU_mem   box_loss   cls_loss   dfl_loss  Instances       Size\n"
          ]
        },
        {
          "output_type": "stream",
          "name": "stderr",
          "text": [
            "     19/100      18.3G     0.7597      0.856      1.288       1450        640: 100%|██████████| 45/45 [01:21<00:00,  1.81s/it]\n",
            "                 Class     Images  Instances      Box(P          R      mAP50  mAP50-95): 100%|██████████| 1/1 [00:02<00:00,  2.22s/it]"
          ]
        },
        {
          "output_type": "stream",
          "name": "stdout",
          "text": [
            "                   all        108       1611      0.696      0.751      0.765      0.629\n"
          ]
        },
        {
          "output_type": "stream",
          "name": "stderr",
          "text": [
            "\n"
          ]
        },
        {
          "output_type": "stream",
          "name": "stdout",
          "text": [
            "\n",
            "      Epoch    GPU_mem   box_loss   cls_loss   dfl_loss  Instances       Size\n"
          ]
        },
        {
          "output_type": "stream",
          "name": "stderr",
          "text": [
            "     20/100      18.3G     0.7474     0.8248      1.275       1429        640: 100%|██████████| 45/45 [01:22<00:00,  1.83s/it]\n",
            "                 Class     Images  Instances      Box(P          R      mAP50  mAP50-95): 100%|██████████| 1/1 [00:02<00:00,  2.13s/it]"
          ]
        },
        {
          "output_type": "stream",
          "name": "stdout",
          "text": [
            "                   all        108       1611      0.644      0.762      0.772      0.645\n"
          ]
        },
        {
          "output_type": "stream",
          "name": "stderr",
          "text": [
            "\n"
          ]
        },
        {
          "output_type": "stream",
          "name": "stdout",
          "text": [
            "\n",
            "      Epoch    GPU_mem   box_loss   cls_loss   dfl_loss  Instances       Size\n"
          ]
        },
        {
          "output_type": "stream",
          "name": "stderr",
          "text": [
            "     21/100      18.1G     0.7405     0.8185       1.27       1292        640: 100%|██████████| 45/45 [01:21<00:00,  1.81s/it]\n",
            "                 Class     Images  Instances      Box(P          R      mAP50  mAP50-95): 100%|██████████| 1/1 [00:02<00:00,  2.46s/it]"
          ]
        },
        {
          "output_type": "stream",
          "name": "stdout",
          "text": [
            "                   all        108       1611      0.784       0.81      0.876      0.732\n"
          ]
        },
        {
          "output_type": "stream",
          "name": "stderr",
          "text": [
            "\n"
          ]
        },
        {
          "output_type": "stream",
          "name": "stdout",
          "text": [
            "\n",
            "      Epoch    GPU_mem   box_loss   cls_loss   dfl_loss  Instances       Size\n"
          ]
        },
        {
          "output_type": "stream",
          "name": "stderr",
          "text": [
            "     22/100      18.4G     0.7375     0.7842      1.265       1377        640: 100%|██████████| 45/45 [01:21<00:00,  1.82s/it]\n",
            "                 Class     Images  Instances      Box(P          R      mAP50  mAP50-95): 100%|██████████| 1/1 [00:02<00:00,  2.84s/it]"
          ]
        },
        {
          "output_type": "stream",
          "name": "stdout",
          "text": [
            "                   all        108       1611      0.747       0.75      0.777      0.652\n"
          ]
        },
        {
          "output_type": "stream",
          "name": "stderr",
          "text": [
            "\n"
          ]
        },
        {
          "output_type": "stream",
          "name": "stdout",
          "text": [
            "\n",
            "      Epoch    GPU_mem   box_loss   cls_loss   dfl_loss  Instances       Size\n"
          ]
        },
        {
          "output_type": "stream",
          "name": "stderr",
          "text": [
            "     23/100      18.3G     0.7203     0.7745      1.254       1397        640: 100%|██████████| 45/45 [01:19<00:00,  1.78s/it]\n",
            "                 Class     Images  Instances      Box(P          R      mAP50  mAP50-95): 100%|██████████| 1/1 [00:02<00:00,  2.94s/it]"
          ]
        },
        {
          "output_type": "stream",
          "name": "stdout",
          "text": [
            "                   all        108       1611      0.783      0.746      0.813      0.672\n"
          ]
        },
        {
          "output_type": "stream",
          "name": "stderr",
          "text": [
            "\n"
          ]
        },
        {
          "output_type": "stream",
          "name": "stdout",
          "text": [
            "\n",
            "      Epoch    GPU_mem   box_loss   cls_loss   dfl_loss  Instances       Size\n"
          ]
        },
        {
          "output_type": "stream",
          "name": "stderr",
          "text": [
            "     24/100        18G     0.7163     0.7834      1.251       1356        640: 100%|██████████| 45/45 [01:20<00:00,  1.79s/it]\n",
            "                 Class     Images  Instances      Box(P          R      mAP50  mAP50-95): 100%|██████████| 1/1 [00:02<00:00,  2.81s/it]"
          ]
        },
        {
          "output_type": "stream",
          "name": "stdout",
          "text": [
            "                   all        108       1611      0.676      0.662      0.685      0.567\n"
          ]
        },
        {
          "output_type": "stream",
          "name": "stderr",
          "text": [
            "\n"
          ]
        },
        {
          "output_type": "stream",
          "name": "stdout",
          "text": [
            "\n",
            "      Epoch    GPU_mem   box_loss   cls_loss   dfl_loss  Instances       Size\n"
          ]
        },
        {
          "output_type": "stream",
          "name": "stderr",
          "text": [
            "     25/100      18.4G     0.7029      0.744      1.237       1393        640: 100%|██████████| 45/45 [01:22<00:00,  1.84s/it]\n",
            "                 Class     Images  Instances      Box(P          R      mAP50  mAP50-95): 100%|██████████| 1/1 [00:01<00:00,  1.43s/it]"
          ]
        },
        {
          "output_type": "stream",
          "name": "stdout",
          "text": [
            "                   all        108       1611      0.868      0.849      0.917      0.781\n"
          ]
        },
        {
          "output_type": "stream",
          "name": "stderr",
          "text": [
            "\n"
          ]
        },
        {
          "output_type": "stream",
          "name": "stdout",
          "text": [
            "\n",
            "      Epoch    GPU_mem   box_loss   cls_loss   dfl_loss  Instances       Size\n"
          ]
        },
        {
          "output_type": "stream",
          "name": "stderr",
          "text": [
            "     26/100      18.4G     0.6889     0.7348      1.225       1434        640: 100%|██████████| 45/45 [01:20<00:00,  1.80s/it]\n",
            "                 Class     Images  Instances      Box(P          R      mAP50  mAP50-95): 100%|██████████| 1/1 [00:02<00:00,  2.94s/it]"
          ]
        },
        {
          "output_type": "stream",
          "name": "stdout",
          "text": [
            "                   all        108       1611      0.768      0.819      0.876      0.753\n"
          ]
        },
        {
          "output_type": "stream",
          "name": "stderr",
          "text": [
            "\n"
          ]
        },
        {
          "output_type": "stream",
          "name": "stdout",
          "text": [
            "\n",
            "      Epoch    GPU_mem   box_loss   cls_loss   dfl_loss  Instances       Size\n"
          ]
        },
        {
          "output_type": "stream",
          "name": "stderr",
          "text": [
            "     27/100      18.4G     0.6822     0.7212       1.22       1246        640: 100%|██████████| 45/45 [01:19<00:00,  1.77s/it]\n",
            "                 Class     Images  Instances      Box(P          R      mAP50  mAP50-95): 100%|██████████| 1/1 [00:02<00:00,  2.45s/it]"
          ]
        },
        {
          "output_type": "stream",
          "name": "stdout",
          "text": [
            "                   all        108       1611      0.827      0.863      0.914      0.781\n"
          ]
        },
        {
          "output_type": "stream",
          "name": "stderr",
          "text": [
            "\n"
          ]
        },
        {
          "output_type": "stream",
          "name": "stdout",
          "text": [
            "\n",
            "      Epoch    GPU_mem   box_loss   cls_loss   dfl_loss  Instances       Size\n"
          ]
        },
        {
          "output_type": "stream",
          "name": "stderr",
          "text": [
            "     28/100      18.4G     0.6764     0.7112      1.214       1392        640: 100%|██████████| 45/45 [01:21<00:00,  1.81s/it]\n",
            "                 Class     Images  Instances      Box(P          R      mAP50  mAP50-95): 100%|██████████| 1/1 [00:02<00:00,  2.57s/it]\n"
          ]
        },
        {
          "output_type": "stream",
          "name": "stdout",
          "text": [
            "                   all        108       1611      0.707      0.738      0.783       0.66\n",
            "\n",
            "      Epoch    GPU_mem   box_loss   cls_loss   dfl_loss  Instances       Size\n"
          ]
        },
        {
          "output_type": "stream",
          "name": "stderr",
          "text": [
            "     29/100      18.4G     0.6724     0.6974      1.209       1505        640: 100%|██████████| 45/45 [01:21<00:00,  1.81s/it]\n",
            "                 Class     Images  Instances      Box(P          R      mAP50  mAP50-95): 100%|██████████| 1/1 [00:01<00:00,  1.99s/it]"
          ]
        },
        {
          "output_type": "stream",
          "name": "stdout",
          "text": [
            "                   all        108       1611      0.855      0.845      0.916      0.779\n"
          ]
        },
        {
          "output_type": "stream",
          "name": "stderr",
          "text": [
            "\n"
          ]
        },
        {
          "output_type": "stream",
          "name": "stdout",
          "text": [
            "\n",
            "      Epoch    GPU_mem   box_loss   cls_loss   dfl_loss  Instances       Size\n"
          ]
        },
        {
          "output_type": "stream",
          "name": "stderr",
          "text": [
            "     30/100      18.3G     0.6663     0.7024      1.208       1316        640: 100%|██████████| 45/45 [01:21<00:00,  1.82s/it]\n",
            "                 Class     Images  Instances      Box(P          R      mAP50  mAP50-95): 100%|██████████| 1/1 [00:02<00:00,  2.87s/it]"
          ]
        },
        {
          "output_type": "stream",
          "name": "stdout",
          "text": [
            "                   all        108       1611      0.722      0.846      0.875      0.759\n"
          ]
        },
        {
          "output_type": "stream",
          "name": "stderr",
          "text": [
            "\n"
          ]
        },
        {
          "output_type": "stream",
          "name": "stdout",
          "text": [
            "\n",
            "      Epoch    GPU_mem   box_loss   cls_loss   dfl_loss  Instances       Size\n"
          ]
        },
        {
          "output_type": "stream",
          "name": "stderr",
          "text": [
            "     31/100      18.3G     0.6518     0.6752      1.194       1491        640: 100%|██████████| 45/45 [01:20<00:00,  1.79s/it]\n",
            "                 Class     Images  Instances      Box(P          R      mAP50  mAP50-95): 100%|██████████| 1/1 [00:02<00:00,  2.85s/it]"
          ]
        },
        {
          "output_type": "stream",
          "name": "stdout",
          "text": [
            "                   all        108       1611       0.84      0.849      0.908       0.78\n"
          ]
        },
        {
          "output_type": "stream",
          "name": "stderr",
          "text": [
            "\n"
          ]
        },
        {
          "output_type": "stream",
          "name": "stdout",
          "text": [
            "\n",
            "      Epoch    GPU_mem   box_loss   cls_loss   dfl_loss  Instances       Size\n"
          ]
        },
        {
          "output_type": "stream",
          "name": "stderr",
          "text": [
            "     32/100      18.5G     0.6507     0.6703      1.193       1241        640: 100%|██████████| 45/45 [01:22<00:00,  1.83s/it]\n",
            "                 Class     Images  Instances      Box(P          R      mAP50  mAP50-95): 100%|██████████| 1/1 [00:03<00:00,  3.24s/it]"
          ]
        },
        {
          "output_type": "stream",
          "name": "stdout",
          "text": [
            "                   all        108       1611      0.865      0.885      0.932      0.812\n"
          ]
        },
        {
          "output_type": "stream",
          "name": "stderr",
          "text": [
            "\n"
          ]
        },
        {
          "output_type": "stream",
          "name": "stdout",
          "text": [
            "\n",
            "      Epoch    GPU_mem   box_loss   cls_loss   dfl_loss  Instances       Size\n"
          ]
        },
        {
          "output_type": "stream",
          "name": "stderr",
          "text": [
            "     33/100      18.2G     0.6419     0.6627      1.186       1282        640: 100%|██████████| 45/45 [01:21<00:00,  1.81s/it]\n",
            "                 Class     Images  Instances      Box(P          R      mAP50  mAP50-95): 100%|██████████| 1/1 [00:02<00:00,  2.87s/it]"
          ]
        },
        {
          "output_type": "stream",
          "name": "stdout",
          "text": [
            "                   all        108       1611      0.761       0.79      0.847      0.722\n"
          ]
        },
        {
          "output_type": "stream",
          "name": "stderr",
          "text": [
            "\n"
          ]
        },
        {
          "output_type": "stream",
          "name": "stdout",
          "text": [
            "\n",
            "      Epoch    GPU_mem   box_loss   cls_loss   dfl_loss  Instances       Size\n"
          ]
        },
        {
          "output_type": "stream",
          "name": "stderr",
          "text": [
            "     34/100      18.5G     0.6354     0.6505      1.179       1511        640: 100%|██████████| 45/45 [01:21<00:00,  1.80s/it]\n",
            "                 Class     Images  Instances      Box(P          R      mAP50  mAP50-95): 100%|██████████| 1/1 [00:02<00:00,  2.14s/it]"
          ]
        },
        {
          "output_type": "stream",
          "name": "stdout",
          "text": [
            "                   all        108       1611      0.891      0.845      0.934      0.816\n"
          ]
        },
        {
          "output_type": "stream",
          "name": "stderr",
          "text": [
            "\n"
          ]
        },
        {
          "output_type": "stream",
          "name": "stdout",
          "text": [
            "\n",
            "      Epoch    GPU_mem   box_loss   cls_loss   dfl_loss  Instances       Size\n"
          ]
        },
        {
          "output_type": "stream",
          "name": "stderr",
          "text": [
            "     35/100      18.4G     0.6324     0.6526      1.181       1272        640: 100%|██████████| 45/45 [01:20<00:00,  1.80s/it]\n",
            "                 Class     Images  Instances      Box(P          R      mAP50  mAP50-95): 100%|██████████| 1/1 [00:01<00:00,  1.70s/it]"
          ]
        },
        {
          "output_type": "stream",
          "name": "stdout",
          "text": [
            "                   all        108       1611       0.86      0.853      0.929      0.802\n"
          ]
        },
        {
          "output_type": "stream",
          "name": "stderr",
          "text": [
            "\n"
          ]
        },
        {
          "output_type": "stream",
          "name": "stdout",
          "text": [
            "\n",
            "      Epoch    GPU_mem   box_loss   cls_loss   dfl_loss  Instances       Size\n"
          ]
        },
        {
          "output_type": "stream",
          "name": "stderr",
          "text": [
            "     36/100      18.2G     0.6244     0.6381      1.171       1295        640: 100%|██████████| 45/45 [01:21<00:00,  1.81s/it]\n",
            "                 Class     Images  Instances      Box(P          R      mAP50  mAP50-95): 100%|██████████| 1/1 [00:03<00:00,  3.11s/it]"
          ]
        },
        {
          "output_type": "stream",
          "name": "stdout",
          "text": [
            "                   all        108       1611      0.849      0.858      0.925      0.809\n"
          ]
        },
        {
          "output_type": "stream",
          "name": "stderr",
          "text": [
            "\n"
          ]
        },
        {
          "output_type": "stream",
          "name": "stdout",
          "text": [
            "\n",
            "      Epoch    GPU_mem   box_loss   cls_loss   dfl_loss  Instances       Size\n"
          ]
        },
        {
          "output_type": "stream",
          "name": "stderr",
          "text": [
            "     37/100      18.3G     0.6212     0.6294      1.167       1460        640: 100%|██████████| 45/45 [01:21<00:00,  1.81s/it]\n",
            "                 Class     Images  Instances      Box(P          R      mAP50  mAP50-95): 100%|██████████| 1/1 [00:02<00:00,  2.38s/it]"
          ]
        },
        {
          "output_type": "stream",
          "name": "stdout",
          "text": [
            "                   all        108       1611      0.808      0.833      0.887      0.776\n"
          ]
        },
        {
          "output_type": "stream",
          "name": "stderr",
          "text": [
            "\n"
          ]
        },
        {
          "output_type": "stream",
          "name": "stdout",
          "text": [
            "\n",
            "      Epoch    GPU_mem   box_loss   cls_loss   dfl_loss  Instances       Size\n"
          ]
        },
        {
          "output_type": "stream",
          "name": "stderr",
          "text": [
            "     38/100      17.9G     0.6182     0.6302      1.168       1233        640: 100%|██████████| 45/45 [01:21<00:00,  1.81s/it]\n",
            "                 Class     Images  Instances      Box(P          R      mAP50  mAP50-95): 100%|██████████| 1/1 [00:02<00:00,  2.48s/it]"
          ]
        },
        {
          "output_type": "stream",
          "name": "stdout",
          "text": [
            "                   all        108       1611      0.828      0.871      0.916      0.799\n"
          ]
        },
        {
          "output_type": "stream",
          "name": "stderr",
          "text": [
            "\n"
          ]
        },
        {
          "output_type": "stream",
          "name": "stdout",
          "text": [
            "\n",
            "      Epoch    GPU_mem   box_loss   cls_loss   dfl_loss  Instances       Size\n"
          ]
        },
        {
          "output_type": "stream",
          "name": "stderr",
          "text": [
            "     39/100      18.3G     0.6146      0.621      1.159       1371        640: 100%|██████████| 45/45 [01:21<00:00,  1.82s/it]\n",
            "                 Class     Images  Instances      Box(P          R      mAP50  mAP50-95): 100%|██████████| 1/1 [00:03<00:00,  3.09s/it]"
          ]
        },
        {
          "output_type": "stream",
          "name": "stdout",
          "text": [
            "                   all        108       1611      0.812      0.839      0.913      0.804\n"
          ]
        },
        {
          "output_type": "stream",
          "name": "stderr",
          "text": [
            "\n"
          ]
        },
        {
          "output_type": "stream",
          "name": "stdout",
          "text": [
            "\n",
            "      Epoch    GPU_mem   box_loss   cls_loss   dfl_loss  Instances       Size\n"
          ]
        },
        {
          "output_type": "stream",
          "name": "stderr",
          "text": [
            "     40/100      18.3G     0.6129      0.621      1.162       1311        640: 100%|██████████| 45/45 [01:22<00:00,  1.84s/it]\n",
            "                 Class     Images  Instances      Box(P          R      mAP50  mAP50-95): 100%|██████████| 1/1 [00:02<00:00,  2.92s/it]"
          ]
        },
        {
          "output_type": "stream",
          "name": "stdout",
          "text": [
            "                   all        108       1611      0.859       0.87      0.928      0.814\n"
          ]
        },
        {
          "output_type": "stream",
          "name": "stderr",
          "text": [
            "\n"
          ]
        },
        {
          "output_type": "stream",
          "name": "stdout",
          "text": [
            "\n",
            "      Epoch    GPU_mem   box_loss   cls_loss   dfl_loss  Instances       Size\n"
          ]
        },
        {
          "output_type": "stream",
          "name": "stderr",
          "text": [
            "     41/100      18.4G     0.5977     0.6011      1.146       1350        640: 100%|██████████| 45/45 [01:22<00:00,  1.83s/it]\n",
            "                 Class     Images  Instances      Box(P          R      mAP50  mAP50-95): 100%|██████████| 1/1 [00:02<00:00,  2.33s/it]"
          ]
        },
        {
          "output_type": "stream",
          "name": "stdout",
          "text": [
            "                   all        108       1611      0.875      0.855      0.929      0.818\n"
          ]
        },
        {
          "output_type": "stream",
          "name": "stderr",
          "text": [
            "\n"
          ]
        },
        {
          "output_type": "stream",
          "name": "stdout",
          "text": [
            "\n",
            "      Epoch    GPU_mem   box_loss   cls_loss   dfl_loss  Instances       Size\n"
          ]
        },
        {
          "output_type": "stream",
          "name": "stderr",
          "text": [
            "     42/100      18.3G     0.6012     0.6107      1.152       1353        640: 100%|██████████| 45/45 [01:22<00:00,  1.83s/it]\n",
            "                 Class     Images  Instances      Box(P          R      mAP50  mAP50-95): 100%|██████████| 1/1 [00:01<00:00,  1.94s/it]"
          ]
        },
        {
          "output_type": "stream",
          "name": "stdout",
          "text": [
            "                   all        108       1611       0.85      0.818      0.911      0.805\n"
          ]
        },
        {
          "output_type": "stream",
          "name": "stderr",
          "text": [
            "\n"
          ]
        },
        {
          "output_type": "stream",
          "name": "stdout",
          "text": [
            "\n",
            "      Epoch    GPU_mem   box_loss   cls_loss   dfl_loss  Instances       Size\n"
          ]
        },
        {
          "output_type": "stream",
          "name": "stderr",
          "text": [
            "     43/100      18.2G     0.5917     0.5974      1.141       1308        640: 100%|██████████| 45/45 [01:21<00:00,  1.82s/it]\n",
            "                 Class     Images  Instances      Box(P          R      mAP50  mAP50-95): 100%|██████████| 1/1 [00:02<00:00,  2.12s/it]"
          ]
        },
        {
          "output_type": "stream",
          "name": "stdout",
          "text": [
            "                   all        108       1611      0.874      0.874      0.938      0.828\n"
          ]
        },
        {
          "output_type": "stream",
          "name": "stderr",
          "text": [
            "\n"
          ]
        },
        {
          "output_type": "stream",
          "name": "stdout",
          "text": [
            "\n",
            "      Epoch    GPU_mem   box_loss   cls_loss   dfl_loss  Instances       Size\n"
          ]
        },
        {
          "output_type": "stream",
          "name": "stderr",
          "text": [
            "     44/100      18.2G     0.5909     0.5918      1.139       1048        640: 100%|██████████| 45/45 [01:21<00:00,  1.82s/it]\n",
            "                 Class     Images  Instances      Box(P          R      mAP50  mAP50-95): 100%|██████████| 1/1 [00:02<00:00,  2.70s/it]"
          ]
        },
        {
          "output_type": "stream",
          "name": "stdout",
          "text": [
            "                   all        108       1611      0.881      0.899      0.944      0.835\n"
          ]
        },
        {
          "output_type": "stream",
          "name": "stderr",
          "text": [
            "\n"
          ]
        },
        {
          "output_type": "stream",
          "name": "stdout",
          "text": [
            "\n",
            "      Epoch    GPU_mem   box_loss   cls_loss   dfl_loss  Instances       Size\n"
          ]
        },
        {
          "output_type": "stream",
          "name": "stderr",
          "text": [
            "     45/100      18.2G     0.5827     0.5832      1.135       1335        640: 100%|██████████| 45/45 [01:20<00:00,  1.80s/it]\n",
            "                 Class     Images  Instances      Box(P          R      mAP50  mAP50-95): 100%|██████████| 1/1 [00:02<00:00,  2.22s/it]"
          ]
        },
        {
          "output_type": "stream",
          "name": "stdout",
          "text": [
            "                   all        108       1611      0.865      0.893      0.933      0.831\n"
          ]
        },
        {
          "output_type": "stream",
          "name": "stderr",
          "text": [
            "\n"
          ]
        },
        {
          "output_type": "stream",
          "name": "stdout",
          "text": [
            "\n",
            "      Epoch    GPU_mem   box_loss   cls_loss   dfl_loss  Instances       Size\n"
          ]
        },
        {
          "output_type": "stream",
          "name": "stderr",
          "text": [
            "     46/100      18.1G     0.5848     0.5814      1.135       1232        640: 100%|██████████| 45/45 [01:20<00:00,  1.80s/it]\n",
            "                 Class     Images  Instances      Box(P          R      mAP50  mAP50-95): 100%|██████████| 1/1 [00:01<00:00,  1.96s/it]"
          ]
        },
        {
          "output_type": "stream",
          "name": "stdout",
          "text": [
            "                   all        108       1611      0.895      0.875      0.943      0.847\n"
          ]
        },
        {
          "output_type": "stream",
          "name": "stderr",
          "text": [
            "\n"
          ]
        },
        {
          "output_type": "stream",
          "name": "stdout",
          "text": [
            "\n",
            "      Epoch    GPU_mem   box_loss   cls_loss   dfl_loss  Instances       Size\n"
          ]
        },
        {
          "output_type": "stream",
          "name": "stderr",
          "text": [
            "     47/100      18.3G     0.5788     0.5667      1.129       1291        640: 100%|██████████| 45/45 [01:21<00:00,  1.80s/it]\n",
            "                 Class     Images  Instances      Box(P          R      mAP50  mAP50-95): 100%|██████████| 1/1 [00:02<00:00,  2.35s/it]"
          ]
        },
        {
          "output_type": "stream",
          "name": "stdout",
          "text": [
            "                   all        108       1611       0.86      0.882      0.937      0.828\n"
          ]
        },
        {
          "output_type": "stream",
          "name": "stderr",
          "text": [
            "\n"
          ]
        },
        {
          "output_type": "stream",
          "name": "stdout",
          "text": [
            "\n",
            "      Epoch    GPU_mem   box_loss   cls_loss   dfl_loss  Instances       Size\n"
          ]
        },
        {
          "output_type": "stream",
          "name": "stderr",
          "text": [
            "     48/100      18.2G     0.5707      0.564      1.127       1274        640: 100%|██████████| 45/45 [01:21<00:00,  1.80s/it]\n",
            "                 Class     Images  Instances      Box(P          R      mAP50  mAP50-95): 100%|██████████| 1/1 [00:02<00:00,  2.79s/it]"
          ]
        },
        {
          "output_type": "stream",
          "name": "stdout",
          "text": [
            "                   all        108       1611      0.897      0.864      0.939      0.834\n"
          ]
        },
        {
          "output_type": "stream",
          "name": "stderr",
          "text": [
            "\n"
          ]
        },
        {
          "output_type": "stream",
          "name": "stdout",
          "text": [
            "\n",
            "      Epoch    GPU_mem   box_loss   cls_loss   dfl_loss  Instances       Size\n"
          ]
        },
        {
          "output_type": "stream",
          "name": "stderr",
          "text": [
            "     49/100      18.3G     0.5719     0.5701      1.127       1359        640: 100%|██████████| 45/45 [01:21<00:00,  1.80s/it]\n",
            "                 Class     Images  Instances      Box(P          R      mAP50  mAP50-95): 100%|██████████| 1/1 [00:02<00:00,  2.91s/it]"
          ]
        },
        {
          "output_type": "stream",
          "name": "stdout",
          "text": [
            "                   all        108       1611      0.893      0.899       0.95      0.852\n"
          ]
        },
        {
          "output_type": "stream",
          "name": "stderr",
          "text": [
            "\n"
          ]
        },
        {
          "output_type": "stream",
          "name": "stdout",
          "text": [
            "\n",
            "      Epoch    GPU_mem   box_loss   cls_loss   dfl_loss  Instances       Size\n"
          ]
        },
        {
          "output_type": "stream",
          "name": "stderr",
          "text": [
            "     50/100      18.1G     0.5667     0.5614       1.12       1339        640: 100%|██████████| 45/45 [01:20<00:00,  1.79s/it]\n",
            "                 Class     Images  Instances      Box(P          R      mAP50  mAP50-95): 100%|██████████| 1/1 [00:02<00:00,  2.12s/it]"
          ]
        },
        {
          "output_type": "stream",
          "name": "stdout",
          "text": [
            "                   all        108       1611       0.82      0.841      0.915      0.808\n"
          ]
        },
        {
          "output_type": "stream",
          "name": "stderr",
          "text": [
            "\n"
          ]
        },
        {
          "output_type": "stream",
          "name": "stdout",
          "text": [
            "\n",
            "      Epoch    GPU_mem   box_loss   cls_loss   dfl_loss  Instances       Size\n"
          ]
        },
        {
          "output_type": "stream",
          "name": "stderr",
          "text": [
            "     51/100      18.3G     0.5657     0.5544       1.12       1454        640: 100%|██████████| 45/45 [01:21<00:00,  1.82s/it]\n",
            "                 Class     Images  Instances      Box(P          R      mAP50  mAP50-95): 100%|██████████| 1/1 [00:02<00:00,  2.85s/it]"
          ]
        },
        {
          "output_type": "stream",
          "name": "stdout",
          "text": [
            "                   all        108       1611      0.911      0.887      0.951      0.851\n"
          ]
        },
        {
          "output_type": "stream",
          "name": "stderr",
          "text": [
            "\n"
          ]
        },
        {
          "output_type": "stream",
          "name": "stdout",
          "text": [
            "\n",
            "      Epoch    GPU_mem   box_loss   cls_loss   dfl_loss  Instances       Size\n"
          ]
        },
        {
          "output_type": "stream",
          "name": "stderr",
          "text": [
            "     52/100      18.4G     0.5603     0.5474      1.113       1271        640: 100%|██████████| 45/45 [01:20<00:00,  1.79s/it]\n",
            "                 Class     Images  Instances      Box(P          R      mAP50  mAP50-95): 100%|██████████| 1/1 [00:02<00:00,  2.80s/it]"
          ]
        },
        {
          "output_type": "stream",
          "name": "stdout",
          "text": [
            "                   all        108       1611      0.876      0.891      0.944      0.849\n"
          ]
        },
        {
          "output_type": "stream",
          "name": "stderr",
          "text": [
            "\n"
          ]
        },
        {
          "output_type": "stream",
          "name": "stdout",
          "text": [
            "\n",
            "      Epoch    GPU_mem   box_loss   cls_loss   dfl_loss  Instances       Size\n"
          ]
        },
        {
          "output_type": "stream",
          "name": "stderr",
          "text": [
            "     53/100      18.2G      0.561      0.548      1.114       1289        640: 100%|██████████| 45/45 [01:20<00:00,  1.79s/it]\n",
            "                 Class     Images  Instances      Box(P          R      mAP50  mAP50-95): 100%|██████████| 1/1 [00:02<00:00,  2.31s/it]"
          ]
        },
        {
          "output_type": "stream",
          "name": "stdout",
          "text": [
            "                   all        108       1611      0.878      0.894      0.941      0.845\n"
          ]
        },
        {
          "output_type": "stream",
          "name": "stderr",
          "text": [
            "\n"
          ]
        },
        {
          "output_type": "stream",
          "name": "stdout",
          "text": [
            "\n",
            "      Epoch    GPU_mem   box_loss   cls_loss   dfl_loss  Instances       Size\n"
          ]
        },
        {
          "output_type": "stream",
          "name": "stderr",
          "text": [
            "     54/100      18.2G     0.5584     0.5342      1.113       1339        640: 100%|██████████| 45/45 [01:21<00:00,  1.81s/it]\n",
            "                 Class     Images  Instances      Box(P          R      mAP50  mAP50-95): 100%|██████████| 1/1 [00:01<00:00,  1.67s/it]"
          ]
        },
        {
          "output_type": "stream",
          "name": "stdout",
          "text": [
            "                   all        108       1611      0.898      0.913      0.954      0.854\n"
          ]
        },
        {
          "output_type": "stream",
          "name": "stderr",
          "text": [
            "\n"
          ]
        },
        {
          "output_type": "stream",
          "name": "stdout",
          "text": [
            "\n",
            "      Epoch    GPU_mem   box_loss   cls_loss   dfl_loss  Instances       Size\n"
          ]
        },
        {
          "output_type": "stream",
          "name": "stderr",
          "text": [
            "     55/100      18.3G     0.5504     0.5453      1.109       1540        640: 100%|██████████| 45/45 [01:21<00:00,  1.81s/it]\n",
            "                 Class     Images  Instances      Box(P          R      mAP50  mAP50-95): 100%|██████████| 1/1 [00:03<00:00,  3.14s/it]"
          ]
        },
        {
          "output_type": "stream",
          "name": "stdout",
          "text": [
            "                   all        108       1611      0.877      0.896      0.941      0.842\n"
          ]
        },
        {
          "output_type": "stream",
          "name": "stderr",
          "text": [
            "\n"
          ]
        },
        {
          "output_type": "stream",
          "name": "stdout",
          "text": [
            "\n",
            "      Epoch    GPU_mem   box_loss   cls_loss   dfl_loss  Instances       Size\n"
          ]
        },
        {
          "output_type": "stream",
          "name": "stderr",
          "text": [
            "     56/100      18.2G     0.5491     0.5268      1.107       1388        640: 100%|██████████| 45/45 [01:21<00:00,  1.81s/it]\n",
            "                 Class     Images  Instances      Box(P          R      mAP50  mAP50-95): 100%|██████████| 1/1 [00:02<00:00,  2.03s/it]"
          ]
        },
        {
          "output_type": "stream",
          "name": "stdout",
          "text": [
            "                   all        108       1611      0.888       0.92      0.951      0.857\n"
          ]
        },
        {
          "output_type": "stream",
          "name": "stderr",
          "text": [
            "\n"
          ]
        },
        {
          "output_type": "stream",
          "name": "stdout",
          "text": [
            "\n",
            "      Epoch    GPU_mem   box_loss   cls_loss   dfl_loss  Instances       Size\n"
          ]
        },
        {
          "output_type": "stream",
          "name": "stderr",
          "text": [
            "     57/100      18.3G     0.5412     0.5257      1.098       1388        640: 100%|██████████| 45/45 [01:20<00:00,  1.80s/it]\n",
            "                 Class     Images  Instances      Box(P          R      mAP50  mAP50-95): 100%|██████████| 1/1 [00:02<00:00,  2.44s/it]"
          ]
        },
        {
          "output_type": "stream",
          "name": "stdout",
          "text": [
            "                   all        108       1611      0.894      0.903       0.95      0.859\n"
          ]
        },
        {
          "output_type": "stream",
          "name": "stderr",
          "text": [
            "\n"
          ]
        },
        {
          "output_type": "stream",
          "name": "stdout",
          "text": [
            "\n",
            "      Epoch    GPU_mem   box_loss   cls_loss   dfl_loss  Instances       Size\n"
          ]
        },
        {
          "output_type": "stream",
          "name": "stderr",
          "text": [
            "     58/100      18.1G     0.5437     0.5253      1.097       1270        640: 100%|██████████| 45/45 [01:21<00:00,  1.80s/it]\n",
            "                 Class     Images  Instances      Box(P          R      mAP50  mAP50-95): 100%|██████████| 1/1 [00:02<00:00,  2.32s/it]"
          ]
        },
        {
          "output_type": "stream",
          "name": "stdout",
          "text": [
            "                   all        108       1611       0.88      0.885      0.945      0.849\n"
          ]
        },
        {
          "output_type": "stream",
          "name": "stderr",
          "text": [
            "\n"
          ]
        },
        {
          "output_type": "stream",
          "name": "stdout",
          "text": [
            "\n",
            "      Epoch    GPU_mem   box_loss   cls_loss   dfl_loss  Instances       Size\n"
          ]
        },
        {
          "output_type": "stream",
          "name": "stderr",
          "text": [
            "     59/100      18.3G     0.5341     0.5208      1.095       1318        640: 100%|██████████| 45/45 [01:21<00:00,  1.82s/it]\n",
            "                 Class     Images  Instances      Box(P          R      mAP50  mAP50-95): 100%|██████████| 1/1 [00:02<00:00,  2.22s/it]"
          ]
        },
        {
          "output_type": "stream",
          "name": "stdout",
          "text": [
            "                   all        108       1611      0.896      0.915      0.952      0.862\n"
          ]
        },
        {
          "output_type": "stream",
          "name": "stderr",
          "text": [
            "\n"
          ]
        },
        {
          "output_type": "stream",
          "name": "stdout",
          "text": [
            "\n",
            "      Epoch    GPU_mem   box_loss   cls_loss   dfl_loss  Instances       Size\n"
          ]
        },
        {
          "output_type": "stream",
          "name": "stderr",
          "text": [
            "     60/100      18.4G     0.5326     0.5121      1.089       1356        640: 100%|██████████| 45/45 [01:21<00:00,  1.82s/it]\n",
            "                 Class     Images  Instances      Box(P          R      mAP50  mAP50-95): 100%|██████████| 1/1 [00:02<00:00,  2.44s/it]"
          ]
        },
        {
          "output_type": "stream",
          "name": "stdout",
          "text": [
            "                   all        108       1611      0.897      0.909      0.953      0.858\n"
          ]
        },
        {
          "output_type": "stream",
          "name": "stderr",
          "text": [
            "\n"
          ]
        },
        {
          "output_type": "stream",
          "name": "stdout",
          "text": [
            "\n",
            "      Epoch    GPU_mem   box_loss   cls_loss   dfl_loss  Instances       Size\n"
          ]
        },
        {
          "output_type": "stream",
          "name": "stderr",
          "text": [
            "     61/100      18.4G     0.5307     0.5126      1.089       1512        640: 100%|██████████| 45/45 [01:23<00:00,  1.86s/it]\n",
            "                 Class     Images  Instances      Box(P          R      mAP50  mAP50-95): 100%|██████████| 1/1 [00:02<00:00,  2.11s/it]"
          ]
        },
        {
          "output_type": "stream",
          "name": "stdout",
          "text": [
            "                   all        108       1611      0.915        0.9      0.956      0.862\n"
          ]
        },
        {
          "output_type": "stream",
          "name": "stderr",
          "text": [
            "\n"
          ]
        },
        {
          "output_type": "stream",
          "name": "stdout",
          "text": [
            "\n",
            "      Epoch    GPU_mem   box_loss   cls_loss   dfl_loss  Instances       Size\n"
          ]
        },
        {
          "output_type": "stream",
          "name": "stderr",
          "text": [
            "     62/100      18.2G     0.5281     0.5079      1.086       1277        640: 100%|██████████| 45/45 [01:21<00:00,  1.81s/it]\n",
            "                 Class     Images  Instances      Box(P          R      mAP50  mAP50-95): 100%|██████████| 1/1 [00:02<00:00,  2.41s/it]"
          ]
        },
        {
          "output_type": "stream",
          "name": "stdout",
          "text": [
            "                   all        108       1611      0.872       0.91      0.948      0.854\n"
          ]
        },
        {
          "output_type": "stream",
          "name": "stderr",
          "text": [
            "\n"
          ]
        },
        {
          "output_type": "stream",
          "name": "stdout",
          "text": [
            "\n",
            "      Epoch    GPU_mem   box_loss   cls_loss   dfl_loss  Instances       Size\n"
          ]
        },
        {
          "output_type": "stream",
          "name": "stderr",
          "text": [
            "     63/100      18.3G     0.5245     0.5026      1.087       1353        640: 100%|██████████| 45/45 [01:21<00:00,  1.82s/it]\n",
            "                 Class     Images  Instances      Box(P          R      mAP50  mAP50-95): 100%|██████████| 1/1 [00:02<00:00,  2.54s/it]"
          ]
        },
        {
          "output_type": "stream",
          "name": "stdout",
          "text": [
            "                   all        108       1611      0.891      0.888      0.948       0.86\n"
          ]
        },
        {
          "output_type": "stream",
          "name": "stderr",
          "text": [
            "\n"
          ]
        },
        {
          "output_type": "stream",
          "name": "stdout",
          "text": [
            "\n",
            "      Epoch    GPU_mem   box_loss   cls_loss   dfl_loss  Instances       Size\n"
          ]
        },
        {
          "output_type": "stream",
          "name": "stderr",
          "text": [
            "     64/100      18.4G     0.5226      0.501      1.082       1457        640: 100%|██████████| 45/45 [01:20<00:00,  1.80s/it]\n",
            "                 Class     Images  Instances      Box(P          R      mAP50  mAP50-95): 100%|██████████| 1/1 [00:02<00:00,  2.32s/it]"
          ]
        },
        {
          "output_type": "stream",
          "name": "stdout",
          "text": [
            "                   all        108       1611      0.911      0.912      0.955      0.867\n"
          ]
        },
        {
          "output_type": "stream",
          "name": "stderr",
          "text": [
            "\n"
          ]
        },
        {
          "output_type": "stream",
          "name": "stdout",
          "text": [
            "\n",
            "      Epoch    GPU_mem   box_loss   cls_loss   dfl_loss  Instances       Size\n"
          ]
        },
        {
          "output_type": "stream",
          "name": "stderr",
          "text": [
            "     65/100      18.4G     0.5201     0.4957       1.08       1274        640: 100%|██████████| 45/45 [01:21<00:00,  1.82s/it]\n",
            "                 Class     Images  Instances      Box(P          R      mAP50  mAP50-95): 100%|██████████| 1/1 [00:01<00:00,  1.65s/it]"
          ]
        },
        {
          "output_type": "stream",
          "name": "stdout",
          "text": [
            "                   all        108       1611      0.915      0.915      0.958      0.871\n"
          ]
        },
        {
          "output_type": "stream",
          "name": "stderr",
          "text": [
            "\n"
          ]
        },
        {
          "output_type": "stream",
          "name": "stdout",
          "text": [
            "\n",
            "      Epoch    GPU_mem   box_loss   cls_loss   dfl_loss  Instances       Size\n"
          ]
        },
        {
          "output_type": "stream",
          "name": "stderr",
          "text": [
            "     66/100      18.4G     0.5207     0.4967       1.08       1408        640: 100%|██████████| 45/45 [01:22<00:00,  1.82s/it]\n",
            "                 Class     Images  Instances      Box(P          R      mAP50  mAP50-95): 100%|██████████| 1/1 [00:02<00:00,  2.97s/it]"
          ]
        },
        {
          "output_type": "stream",
          "name": "stdout",
          "text": [
            "                   all        108       1611      0.904       0.92      0.957      0.864\n"
          ]
        },
        {
          "output_type": "stream",
          "name": "stderr",
          "text": [
            "\n"
          ]
        },
        {
          "output_type": "stream",
          "name": "stdout",
          "text": [
            "\n",
            "      Epoch    GPU_mem   box_loss   cls_loss   dfl_loss  Instances       Size\n"
          ]
        },
        {
          "output_type": "stream",
          "name": "stderr",
          "text": [
            "     67/100      18.2G     0.5176     0.4934      1.078       1339        640: 100%|██████████| 45/45 [01:21<00:00,  1.81s/it]\n",
            "                 Class     Images  Instances      Box(P          R      mAP50  mAP50-95): 100%|██████████| 1/1 [00:01<00:00,  1.77s/it]"
          ]
        },
        {
          "output_type": "stream",
          "name": "stdout",
          "text": [
            "                   all        108       1611      0.916      0.907      0.955      0.868\n"
          ]
        },
        {
          "output_type": "stream",
          "name": "stderr",
          "text": [
            "\n"
          ]
        },
        {
          "output_type": "stream",
          "name": "stdout",
          "text": [
            "\n",
            "      Epoch    GPU_mem   box_loss   cls_loss   dfl_loss  Instances       Size\n"
          ]
        },
        {
          "output_type": "stream",
          "name": "stderr",
          "text": [
            "     68/100      18.3G     0.5127     0.4888      1.078       1182        640: 100%|██████████| 45/45 [01:20<00:00,  1.79s/it]\n",
            "                 Class     Images  Instances      Box(P          R      mAP50  mAP50-95): 100%|██████████| 1/1 [00:02<00:00,  2.53s/it]"
          ]
        },
        {
          "output_type": "stream",
          "name": "stdout",
          "text": [
            "                   all        108       1611      0.908      0.915       0.96      0.872\n"
          ]
        },
        {
          "output_type": "stream",
          "name": "stderr",
          "text": [
            "\n"
          ]
        },
        {
          "output_type": "stream",
          "name": "stdout",
          "text": [
            "\n",
            "      Epoch    GPU_mem   box_loss   cls_loss   dfl_loss  Instances       Size\n"
          ]
        },
        {
          "output_type": "stream",
          "name": "stderr",
          "text": [
            "     69/100      18.3G     0.5147     0.4907      1.077       1424        640: 100%|██████████| 45/45 [01:23<00:00,  1.86s/it]\n",
            "                 Class     Images  Instances      Box(P          R      mAP50  mAP50-95): 100%|██████████| 1/1 [00:02<00:00,  2.15s/it]"
          ]
        },
        {
          "output_type": "stream",
          "name": "stdout",
          "text": [
            "                   all        108       1611      0.895      0.911      0.957      0.874\n"
          ]
        },
        {
          "output_type": "stream",
          "name": "stderr",
          "text": [
            "\n"
          ]
        },
        {
          "output_type": "stream",
          "name": "stdout",
          "text": [
            "\n",
            "      Epoch    GPU_mem   box_loss   cls_loss   dfl_loss  Instances       Size\n"
          ]
        },
        {
          "output_type": "stream",
          "name": "stderr",
          "text": [
            "     70/100      18.2G     0.5093     0.4847      1.073       1324        640: 100%|██████████| 45/45 [01:21<00:00,  1.82s/it]\n",
            "                 Class     Images  Instances      Box(P          R      mAP50  mAP50-95): 100%|██████████| 1/1 [00:01<00:00,  1.64s/it]"
          ]
        },
        {
          "output_type": "stream",
          "name": "stdout",
          "text": [
            "                   all        108       1611      0.918       0.92      0.959      0.876\n"
          ]
        },
        {
          "output_type": "stream",
          "name": "stderr",
          "text": [
            "\n"
          ]
        },
        {
          "output_type": "stream",
          "name": "stdout",
          "text": [
            "\n",
            "      Epoch    GPU_mem   box_loss   cls_loss   dfl_loss  Instances       Size\n"
          ]
        },
        {
          "output_type": "stream",
          "name": "stderr",
          "text": [
            "     71/100      18.3G     0.5041     0.4725      1.067       1472        640: 100%|██████████| 45/45 [01:20<00:00,  1.80s/it]\n",
            "                 Class     Images  Instances      Box(P          R      mAP50  mAP50-95): 100%|██████████| 1/1 [00:01<00:00,  1.65s/it]"
          ]
        },
        {
          "output_type": "stream",
          "name": "stdout",
          "text": [
            "                   all        108       1611       0.91      0.927      0.961      0.878\n"
          ]
        },
        {
          "output_type": "stream",
          "name": "stderr",
          "text": [
            "\n"
          ]
        },
        {
          "output_type": "stream",
          "name": "stdout",
          "text": [
            "\n",
            "      Epoch    GPU_mem   box_loss   cls_loss   dfl_loss  Instances       Size\n"
          ]
        },
        {
          "output_type": "stream",
          "name": "stderr",
          "text": [
            "     72/100      18.4G      0.505     0.4758       1.07       1384        640: 100%|██████████| 45/45 [01:20<00:00,  1.78s/it]\n",
            "                 Class     Images  Instances      Box(P          R      mAP50  mAP50-95): 100%|██████████| 1/1 [00:02<00:00,  2.61s/it]"
          ]
        },
        {
          "output_type": "stream",
          "name": "stdout",
          "text": [
            "                   all        108       1611      0.921      0.917       0.96      0.878\n"
          ]
        },
        {
          "output_type": "stream",
          "name": "stderr",
          "text": [
            "\n"
          ]
        },
        {
          "output_type": "stream",
          "name": "stdout",
          "text": [
            "\n",
            "      Epoch    GPU_mem   box_loss   cls_loss   dfl_loss  Instances       Size\n"
          ]
        },
        {
          "output_type": "stream",
          "name": "stderr",
          "text": [
            "     73/100      18.5G     0.5037      0.471      1.067       1440        640: 100%|██████████| 45/45 [01:21<00:00,  1.81s/it]\n",
            "                 Class     Images  Instances      Box(P          R      mAP50  mAP50-95): 100%|██████████| 1/1 [00:02<00:00,  2.22s/it]"
          ]
        },
        {
          "output_type": "stream",
          "name": "stdout",
          "text": [
            "                   all        108       1611      0.913        0.9      0.958      0.876\n"
          ]
        },
        {
          "output_type": "stream",
          "name": "stderr",
          "text": [
            "\n"
          ]
        },
        {
          "output_type": "stream",
          "name": "stdout",
          "text": [
            "\n",
            "      Epoch    GPU_mem   box_loss   cls_loss   dfl_loss  Instances       Size\n"
          ]
        },
        {
          "output_type": "stream",
          "name": "stderr",
          "text": [
            "     74/100      18.4G     0.4972     0.4647      1.063       1467        640: 100%|██████████| 45/45 [01:21<00:00,  1.82s/it]\n",
            "                 Class     Images  Instances      Box(P          R      mAP50  mAP50-95): 100%|██████████| 1/1 [00:02<00:00,  2.85s/it]"
          ]
        },
        {
          "output_type": "stream",
          "name": "stdout",
          "text": [
            "                   all        108       1611      0.918      0.922      0.961      0.883\n"
          ]
        },
        {
          "output_type": "stream",
          "name": "stderr",
          "text": [
            "\n"
          ]
        },
        {
          "output_type": "stream",
          "name": "stdout",
          "text": [
            "\n",
            "      Epoch    GPU_mem   box_loss   cls_loss   dfl_loss  Instances       Size\n"
          ]
        },
        {
          "output_type": "stream",
          "name": "stderr",
          "text": [
            "     75/100      18.5G     0.4936     0.4622       1.06       1308        640: 100%|██████████| 45/45 [01:21<00:00,  1.81s/it]\n",
            "                 Class     Images  Instances      Box(P          R      mAP50  mAP50-95): 100%|██████████| 1/1 [00:01<00:00,  1.52s/it]"
          ]
        },
        {
          "output_type": "stream",
          "name": "stdout",
          "text": [
            "                   all        108       1611      0.925      0.923      0.963      0.882\n"
          ]
        },
        {
          "output_type": "stream",
          "name": "stderr",
          "text": [
            "\n"
          ]
        },
        {
          "output_type": "stream",
          "name": "stdout",
          "text": [
            "\n",
            "      Epoch    GPU_mem   box_loss   cls_loss   dfl_loss  Instances       Size\n"
          ]
        },
        {
          "output_type": "stream",
          "name": "stderr",
          "text": [
            "     76/100      18.1G     0.4913     0.4572      1.058       1406        640: 100%|██████████| 45/45 [01:19<00:00,  1.77s/it]\n",
            "                 Class     Images  Instances      Box(P          R      mAP50  mAP50-95): 100%|██████████| 1/1 [00:01<00:00,  1.87s/it]"
          ]
        },
        {
          "output_type": "stream",
          "name": "stdout",
          "text": [
            "                   all        108       1611      0.917       0.92      0.962      0.884\n"
          ]
        },
        {
          "output_type": "stream",
          "name": "stderr",
          "text": [
            "\n"
          ]
        },
        {
          "output_type": "stream",
          "name": "stdout",
          "text": [
            "\n",
            "      Epoch    GPU_mem   box_loss   cls_loss   dfl_loss  Instances       Size\n"
          ]
        },
        {
          "output_type": "stream",
          "name": "stderr",
          "text": [
            "     77/100      18.2G     0.4928     0.4626      1.063       1278        640: 100%|██████████| 45/45 [01:22<00:00,  1.84s/it]\n",
            "                 Class     Images  Instances      Box(P          R      mAP50  mAP50-95): 100%|██████████| 1/1 [00:02<00:00,  2.24s/it]"
          ]
        },
        {
          "output_type": "stream",
          "name": "stdout",
          "text": [
            "                   all        108       1611      0.925      0.927      0.962      0.886\n"
          ]
        },
        {
          "output_type": "stream",
          "name": "stderr",
          "text": [
            "\n"
          ]
        },
        {
          "output_type": "stream",
          "name": "stdout",
          "text": [
            "\n",
            "      Epoch    GPU_mem   box_loss   cls_loss   dfl_loss  Instances       Size\n"
          ]
        },
        {
          "output_type": "stream",
          "name": "stderr",
          "text": [
            "     78/100      18.2G     0.4875     0.4551      1.054       1480        640: 100%|██████████| 45/45 [01:20<00:00,  1.80s/it]\n",
            "                 Class     Images  Instances      Box(P          R      mAP50  mAP50-95): 100%|██████████| 1/1 [00:02<00:00,  2.50s/it]"
          ]
        },
        {
          "output_type": "stream",
          "name": "stdout",
          "text": [
            "                   all        108       1611      0.918       0.92      0.963      0.885\n"
          ]
        },
        {
          "output_type": "stream",
          "name": "stderr",
          "text": [
            "\n"
          ]
        },
        {
          "output_type": "stream",
          "name": "stdout",
          "text": [
            "\n",
            "      Epoch    GPU_mem   box_loss   cls_loss   dfl_loss  Instances       Size\n"
          ]
        },
        {
          "output_type": "stream",
          "name": "stderr",
          "text": [
            "     79/100      18.4G     0.4854      0.451      1.052       1453        640: 100%|██████████| 45/45 [01:20<00:00,  1.80s/it]\n",
            "                 Class     Images  Instances      Box(P          R      mAP50  mAP50-95): 100%|██████████| 1/1 [00:02<00:00,  2.78s/it]"
          ]
        },
        {
          "output_type": "stream",
          "name": "stdout",
          "text": [
            "                   all        108       1611      0.926      0.923      0.964      0.886\n"
          ]
        },
        {
          "output_type": "stream",
          "name": "stderr",
          "text": [
            "\n"
          ]
        },
        {
          "output_type": "stream",
          "name": "stdout",
          "text": [
            "\n",
            "      Epoch    GPU_mem   box_loss   cls_loss   dfl_loss  Instances       Size\n"
          ]
        },
        {
          "output_type": "stream",
          "name": "stderr",
          "text": [
            "     80/100      18.3G     0.4841     0.4473      1.053       1390        640: 100%|██████████| 45/45 [01:20<00:00,  1.80s/it]\n",
            "                 Class     Images  Instances      Box(P          R      mAP50  mAP50-95): 100%|██████████| 1/1 [00:02<00:00,  2.13s/it]"
          ]
        },
        {
          "output_type": "stream",
          "name": "stdout",
          "text": [
            "                   all        108       1611      0.923      0.916      0.963      0.883\n"
          ]
        },
        {
          "output_type": "stream",
          "name": "stderr",
          "text": [
            "\n"
          ]
        },
        {
          "output_type": "stream",
          "name": "stdout",
          "text": [
            "\n",
            "      Epoch    GPU_mem   box_loss   cls_loss   dfl_loss  Instances       Size\n"
          ]
        },
        {
          "output_type": "stream",
          "name": "stderr",
          "text": [
            "     81/100      18.2G     0.4809     0.4411       1.05       1321        640: 100%|██████████| 45/45 [01:21<00:00,  1.82s/it]\n",
            "                 Class     Images  Instances      Box(P          R      mAP50  mAP50-95): 100%|██████████| 1/1 [00:02<00:00,  2.13s/it]"
          ]
        },
        {
          "output_type": "stream",
          "name": "stdout",
          "text": [
            "                   all        108       1611       0.92      0.936      0.965      0.889\n"
          ]
        },
        {
          "output_type": "stream",
          "name": "stderr",
          "text": [
            "\n"
          ]
        },
        {
          "output_type": "stream",
          "name": "stdout",
          "text": [
            "\n",
            "      Epoch    GPU_mem   box_loss   cls_loss   dfl_loss  Instances       Size\n"
          ]
        },
        {
          "output_type": "stream",
          "name": "stderr",
          "text": [
            "     82/100      18.2G     0.4754     0.4398      1.046       1485        640: 100%|██████████| 45/45 [01:21<00:00,  1.81s/it]\n",
            "                 Class     Images  Instances      Box(P          R      mAP50  mAP50-95): 100%|██████████| 1/1 [00:02<00:00,  2.10s/it]"
          ]
        },
        {
          "output_type": "stream",
          "name": "stdout",
          "text": [
            "                   all        108       1611      0.909      0.927      0.961      0.887\n"
          ]
        },
        {
          "output_type": "stream",
          "name": "stderr",
          "text": [
            "\n"
          ]
        },
        {
          "output_type": "stream",
          "name": "stdout",
          "text": [
            "\n",
            "      Epoch    GPU_mem   box_loss   cls_loss   dfl_loss  Instances       Size\n"
          ]
        },
        {
          "output_type": "stream",
          "name": "stderr",
          "text": [
            "     83/100      18.1G      0.473     0.4365      1.041       1477        640: 100%|██████████| 45/45 [01:20<00:00,  1.79s/it]\n",
            "                 Class     Images  Instances      Box(P          R      mAP50  mAP50-95): 100%|██████████| 1/1 [00:02<00:00,  2.11s/it]"
          ]
        },
        {
          "output_type": "stream",
          "name": "stdout",
          "text": [
            "                   all        108       1611      0.923      0.921      0.963      0.888\n"
          ]
        },
        {
          "output_type": "stream",
          "name": "stderr",
          "text": [
            "\n"
          ]
        },
        {
          "output_type": "stream",
          "name": "stdout",
          "text": [
            "\n",
            "      Epoch    GPU_mem   box_loss   cls_loss   dfl_loss  Instances       Size\n"
          ]
        },
        {
          "output_type": "stream",
          "name": "stderr",
          "text": [
            "     84/100      18.3G     0.4702     0.4315      1.041       1382        640: 100%|██████████| 45/45 [01:21<00:00,  1.81s/it]\n",
            "                 Class     Images  Instances      Box(P          R      mAP50  mAP50-95): 100%|██████████| 1/1 [00:02<00:00,  2.86s/it]"
          ]
        },
        {
          "output_type": "stream",
          "name": "stdout",
          "text": [
            "                   all        108       1611      0.929      0.925      0.964      0.889\n"
          ]
        },
        {
          "output_type": "stream",
          "name": "stderr",
          "text": [
            "\n"
          ]
        },
        {
          "output_type": "stream",
          "name": "stdout",
          "text": [
            "\n",
            "      Epoch    GPU_mem   box_loss   cls_loss   dfl_loss  Instances       Size\n"
          ]
        },
        {
          "output_type": "stream",
          "name": "stderr",
          "text": [
            "     85/100      18.4G     0.4712     0.4338      1.043       1301        640: 100%|██████████| 45/45 [01:22<00:00,  1.82s/it]\n",
            "                 Class     Images  Instances      Box(P          R      mAP50  mAP50-95): 100%|██████████| 1/1 [00:02<00:00,  2.15s/it]"
          ]
        },
        {
          "output_type": "stream",
          "name": "stdout",
          "text": [
            "                   all        108       1611      0.923      0.918      0.963       0.89\n"
          ]
        },
        {
          "output_type": "stream",
          "name": "stderr",
          "text": [
            "\n"
          ]
        },
        {
          "output_type": "stream",
          "name": "stdout",
          "text": [
            "\n",
            "      Epoch    GPU_mem   box_loss   cls_loss   dfl_loss  Instances       Size\n"
          ]
        },
        {
          "output_type": "stream",
          "name": "stderr",
          "text": [
            "     86/100      18.3G     0.4693     0.4334      1.041       1359        640: 100%|██████████| 45/45 [01:20<00:00,  1.78s/it]\n",
            "                 Class     Images  Instances      Box(P          R      mAP50  mAP50-95): 100%|██████████| 1/1 [00:02<00:00,  2.47s/it]"
          ]
        },
        {
          "output_type": "stream",
          "name": "stdout",
          "text": [
            "                   all        108       1611      0.939       0.92      0.965      0.891\n"
          ]
        },
        {
          "output_type": "stream",
          "name": "stderr",
          "text": [
            "\n"
          ]
        },
        {
          "output_type": "stream",
          "name": "stdout",
          "text": [
            "\n",
            "      Epoch    GPU_mem   box_loss   cls_loss   dfl_loss  Instances       Size\n"
          ]
        },
        {
          "output_type": "stream",
          "name": "stderr",
          "text": [
            "     87/100      18.3G     0.4652     0.4267      1.038       1228        640: 100%|██████████| 45/45 [01:20<00:00,  1.79s/it]\n",
            "                 Class     Images  Instances      Box(P          R      mAP50  mAP50-95): 100%|██████████| 1/1 [00:01<00:00,  1.87s/it]"
          ]
        },
        {
          "output_type": "stream",
          "name": "stdout",
          "text": [
            "                   all        108       1611      0.924      0.927      0.965       0.89\n"
          ]
        },
        {
          "output_type": "stream",
          "name": "stderr",
          "text": [
            "\n"
          ]
        },
        {
          "output_type": "stream",
          "name": "stdout",
          "text": [
            "\n",
            "      Epoch    GPU_mem   box_loss   cls_loss   dfl_loss  Instances       Size\n"
          ]
        },
        {
          "output_type": "stream",
          "name": "stderr",
          "text": [
            "     88/100      18.4G     0.4686     0.4283      1.041       1324        640: 100%|██████████| 45/45 [01:22<00:00,  1.82s/it]\n",
            "                 Class     Images  Instances      Box(P          R      mAP50  mAP50-95): 100%|██████████| 1/1 [00:02<00:00,  2.66s/it]"
          ]
        },
        {
          "output_type": "stream",
          "name": "stdout",
          "text": [
            "                   all        108       1611       0.93      0.926      0.965      0.892\n"
          ]
        },
        {
          "output_type": "stream",
          "name": "stderr",
          "text": [
            "\n"
          ]
        },
        {
          "output_type": "stream",
          "name": "stdout",
          "text": [
            "\n",
            "      Epoch    GPU_mem   box_loss   cls_loss   dfl_loss  Instances       Size\n"
          ]
        },
        {
          "output_type": "stream",
          "name": "stderr",
          "text": [
            "     89/100      18.3G     0.4612     0.4219      1.035       1341        640: 100%|██████████| 45/45 [01:21<00:00,  1.81s/it]\n",
            "                 Class     Images  Instances      Box(P          R      mAP50  mAP50-95): 100%|██████████| 1/1 [00:02<00:00,  2.31s/it]"
          ]
        },
        {
          "output_type": "stream",
          "name": "stdout",
          "text": [
            "                   all        108       1611      0.925      0.927      0.965      0.895\n"
          ]
        },
        {
          "output_type": "stream",
          "name": "stderr",
          "text": [
            "\n"
          ]
        },
        {
          "output_type": "stream",
          "name": "stdout",
          "text": [
            "\n",
            "      Epoch    GPU_mem   box_loss   cls_loss   dfl_loss  Instances       Size\n"
          ]
        },
        {
          "output_type": "stream",
          "name": "stderr",
          "text": [
            "     90/100      18.2G     0.4622     0.4203      1.036       1292        640: 100%|██████████| 45/45 [01:21<00:00,  1.81s/it]\n",
            "                 Class     Images  Instances      Box(P          R      mAP50  mAP50-95): 100%|██████████| 1/1 [00:03<00:00,  3.08s/it]"
          ]
        },
        {
          "output_type": "stream",
          "name": "stdout",
          "text": [
            "                   all        108       1611      0.931      0.923      0.963       0.89\n"
          ]
        },
        {
          "output_type": "stream",
          "name": "stderr",
          "text": [
            "\n"
          ]
        },
        {
          "output_type": "stream",
          "name": "stdout",
          "text": [
            "Closing dataloader mosaic\n",
            "\u001b[34m\u001b[1malbumentations: \u001b[0mBlur(p=0.01, blur_limit=(3, 7)), MedianBlur(p=0.01, blur_limit=(3, 7)), ToGray(p=0.01), CLAHE(p=0.01, clip_limit=(1, 4.0), tile_grid_size=(8, 8))\n"
          ]
        },
        {
          "output_type": "stream",
          "name": "stderr",
          "text": [
            "/usr/lib/python3.10/multiprocessing/popen_fork.py:66: RuntimeWarning: os.fork() was called. os.fork() is incompatible with multithreaded code, and JAX is multithreaded, so this will likely lead to a deadlock.\n",
            "  self.pid = os.fork()\n"
          ]
        },
        {
          "output_type": "stream",
          "name": "stdout",
          "text": [
            "\n",
            "      Epoch    GPU_mem   box_loss   cls_loss   dfl_loss  Instances       Size\n"
          ]
        },
        {
          "output_type": "stream",
          "name": "stderr",
          "text": [
            "     91/100      18.6G     0.4036     0.3592      1.012        760        640: 100%|██████████| 45/45 [01:10<00:00,  1.57s/it]\n",
            "                 Class     Images  Instances      Box(P          R      mAP50  mAP50-95): 100%|██████████| 1/1 [00:01<00:00,  1.21s/it]"
          ]
        },
        {
          "output_type": "stream",
          "name": "stdout",
          "text": [
            "                   all        108       1611      0.937      0.907      0.962      0.889\n"
          ]
        },
        {
          "output_type": "stream",
          "name": "stderr",
          "text": [
            "\n"
          ]
        },
        {
          "output_type": "stream",
          "name": "stdout",
          "text": [
            "\n",
            "      Epoch    GPU_mem   box_loss   cls_loss   dfl_loss  Instances       Size\n"
          ]
        },
        {
          "output_type": "stream",
          "name": "stderr",
          "text": [
            "     92/100      18.5G     0.3862     0.3371     0.9984        779        640: 100%|██████████| 45/45 [01:06<00:00,  1.48s/it]\n",
            "                 Class     Images  Instances      Box(P          R      mAP50  mAP50-95): 100%|██████████| 1/1 [00:01<00:00,  1.20s/it]"
          ]
        },
        {
          "output_type": "stream",
          "name": "stdout",
          "text": [
            "                   all        108       1611      0.935      0.926      0.966      0.895\n"
          ]
        },
        {
          "output_type": "stream",
          "name": "stderr",
          "text": [
            "\n"
          ]
        },
        {
          "output_type": "stream",
          "name": "stdout",
          "text": [
            "\n",
            "      Epoch    GPU_mem   box_loss   cls_loss   dfl_loss  Instances       Size\n"
          ]
        },
        {
          "output_type": "stream",
          "name": "stderr",
          "text": [
            "     93/100      18.5G     0.3849     0.3356     0.9985        776        640: 100%|██████████| 45/45 [01:06<00:00,  1.48s/it]\n",
            "                 Class     Images  Instances      Box(P          R      mAP50  mAP50-95): 100%|██████████| 1/1 [00:01<00:00,  1.20s/it]"
          ]
        },
        {
          "output_type": "stream",
          "name": "stdout",
          "text": [
            "                   all        108       1611      0.932      0.922      0.968      0.895\n"
          ]
        },
        {
          "output_type": "stream",
          "name": "stderr",
          "text": [
            "\n"
          ]
        },
        {
          "output_type": "stream",
          "name": "stdout",
          "text": [
            "\n",
            "      Epoch    GPU_mem   box_loss   cls_loss   dfl_loss  Instances       Size\n"
          ]
        },
        {
          "output_type": "stream",
          "name": "stderr",
          "text": [
            "     94/100      18.5G     0.3809     0.3271     0.9924        747        640: 100%|██████████| 45/45 [01:06<00:00,  1.48s/it]\n",
            "                 Class     Images  Instances      Box(P          R      mAP50  mAP50-95): 100%|██████████| 1/1 [00:01<00:00,  1.27s/it]"
          ]
        },
        {
          "output_type": "stream",
          "name": "stdout",
          "text": [
            "                   all        108       1611      0.923      0.939      0.967      0.899\n"
          ]
        },
        {
          "output_type": "stream",
          "name": "stderr",
          "text": [
            "\n"
          ]
        },
        {
          "output_type": "stream",
          "name": "stdout",
          "text": [
            "\n",
            "      Epoch    GPU_mem   box_loss   cls_loss   dfl_loss  Instances       Size\n"
          ]
        },
        {
          "output_type": "stream",
          "name": "stderr",
          "text": [
            "     95/100      18.5G     0.3801     0.3261     0.9906        764        640: 100%|██████████| 45/45 [01:06<00:00,  1.48s/it]\n",
            "                 Class     Images  Instances      Box(P          R      mAP50  mAP50-95): 100%|██████████| 1/1 [00:01<00:00,  1.23s/it]"
          ]
        },
        {
          "output_type": "stream",
          "name": "stdout",
          "text": [
            "                   all        108       1611      0.927      0.937      0.968      0.901\n"
          ]
        },
        {
          "output_type": "stream",
          "name": "stderr",
          "text": [
            "\n"
          ]
        },
        {
          "output_type": "stream",
          "name": "stdout",
          "text": [
            "\n",
            "      Epoch    GPU_mem   box_loss   cls_loss   dfl_loss  Instances       Size\n"
          ]
        },
        {
          "output_type": "stream",
          "name": "stderr",
          "text": [
            "     96/100      18.5G     0.3737      0.317     0.9865        772        640: 100%|██████████| 45/45 [01:06<00:00,  1.48s/it]\n",
            "                 Class     Images  Instances      Box(P          R      mAP50  mAP50-95): 100%|██████████| 1/1 [00:01<00:00,  1.26s/it]"
          ]
        },
        {
          "output_type": "stream",
          "name": "stdout",
          "text": [
            "                   all        108       1611      0.934      0.925      0.966      0.899\n"
          ]
        },
        {
          "output_type": "stream",
          "name": "stderr",
          "text": [
            "\n"
          ]
        },
        {
          "output_type": "stream",
          "name": "stdout",
          "text": [
            "\n",
            "      Epoch    GPU_mem   box_loss   cls_loss   dfl_loss  Instances       Size\n"
          ]
        },
        {
          "output_type": "stream",
          "name": "stderr",
          "text": [
            "     97/100      18.5G     0.3728     0.3186     0.9856        782        640: 100%|██████████| 45/45 [01:06<00:00,  1.48s/it]\n",
            "                 Class     Images  Instances      Box(P          R      mAP50  mAP50-95): 100%|██████████| 1/1 [00:01<00:00,  1.20s/it]"
          ]
        },
        {
          "output_type": "stream",
          "name": "stdout",
          "text": [
            "                   all        108       1611       0.94      0.924      0.967      0.899\n"
          ]
        },
        {
          "output_type": "stream",
          "name": "stderr",
          "text": [
            "\n"
          ]
        },
        {
          "output_type": "stream",
          "name": "stdout",
          "text": [
            "\n",
            "      Epoch    GPU_mem   box_loss   cls_loss   dfl_loss  Instances       Size\n"
          ]
        },
        {
          "output_type": "stream",
          "name": "stderr",
          "text": [
            "     98/100      18.5G     0.3715     0.3182     0.9851        693        640: 100%|██████████| 45/45 [01:06<00:00,  1.48s/it]\n",
            "                 Class     Images  Instances      Box(P          R      mAP50  mAP50-95): 100%|██████████| 1/1 [00:01<00:00,  1.20s/it]"
          ]
        },
        {
          "output_type": "stream",
          "name": "stdout",
          "text": [
            "                   all        108       1611      0.936      0.927      0.967        0.9\n"
          ]
        },
        {
          "output_type": "stream",
          "name": "stderr",
          "text": [
            "\n"
          ]
        },
        {
          "output_type": "stream",
          "name": "stdout",
          "text": [
            "\n",
            "      Epoch    GPU_mem   box_loss   cls_loss   dfl_loss  Instances       Size\n"
          ]
        },
        {
          "output_type": "stream",
          "name": "stderr",
          "text": [
            "     99/100      18.8G     0.3677     0.3124     0.9819        769        640: 100%|██████████| 45/45 [01:06<00:00,  1.48s/it]\n",
            "                 Class     Images  Instances      Box(P          R      mAP50  mAP50-95): 100%|██████████| 1/1 [00:01<00:00,  1.19s/it]"
          ]
        },
        {
          "output_type": "stream",
          "name": "stdout",
          "text": [
            "                   all        108       1611       0.95      0.918      0.968      0.902\n"
          ]
        },
        {
          "output_type": "stream",
          "name": "stderr",
          "text": [
            "\n"
          ]
        },
        {
          "output_type": "stream",
          "name": "stdout",
          "text": [
            "\n",
            "      Epoch    GPU_mem   box_loss   cls_loss   dfl_loss  Instances       Size\n"
          ]
        },
        {
          "output_type": "stream",
          "name": "stderr",
          "text": [
            "    100/100      18.8G     0.3673     0.3109     0.9845        800        640: 100%|██████████| 45/45 [01:06<00:00,  1.48s/it]\n",
            "                 Class     Images  Instances      Box(P          R      mAP50  mAP50-95): 100%|██████████| 1/1 [00:01<00:00,  1.19s/it]"
          ]
        },
        {
          "output_type": "stream",
          "name": "stdout",
          "text": [
            "                   all        108       1611      0.945      0.922      0.967      0.901\n"
          ]
        },
        {
          "output_type": "stream",
          "name": "stderr",
          "text": [
            "\n"
          ]
        },
        {
          "output_type": "stream",
          "name": "stdout",
          "text": [
            "\n",
            "100 epochs completed in 2.399 hours.\n",
            "Optimizer stripped from runs/detect/train/weights/last.pt, 104.3MB\n",
            "Optimizer stripped from runs/detect/train/weights/best.pt, 104.3MB\n",
            "\n",
            "Validating runs/detect/train/weights/best.pt...\n",
            "Ultralytics YOLOv8.2.73 🚀 Python-3.10.12 torch-2.3.1+cu121 CUDA:0 (NVIDIA L4, 22700MiB)\n",
            "YOLOv6m summary (fused): 194 layers, 51,980,386 parameters, 0 gradients, 161.2 GFLOPs\n"
          ]
        },
        {
          "output_type": "stream",
          "name": "stderr",
          "text": [
            "                 Class     Images  Instances      Box(P          R      mAP50  mAP50-95): 100%|██████████| 1/1 [00:01<00:00,  1.41s/it]\n"
          ]
        },
        {
          "output_type": "stream",
          "name": "stdout",
          "text": [
            "                   all        108       1611      0.949      0.918      0.968      0.902\n",
            "    Calcium Deficiency         44        296      0.932      0.936      0.971      0.911\n",
            "               Healthy         59        317      0.902      0.757      0.902      0.769\n",
            "  Magnesium Deficiency         25        198      0.979      0.935      0.986      0.933\n",
            "   Nitrogen Deficiency         30        258      0.958      0.972      0.986      0.962\n",
            " Phosphorus Deficiency         39        298       0.95      0.956      0.982      0.901\n",
            "  Potassium Deficiency         45        244      0.975      0.951      0.979      0.937\n",
            "Speed: 0.2ms preprocess, 7.2ms inference, 0.0ms loss, 1.0ms postprocess per image\n",
            "Results saved to \u001b[1mruns/detect/train\u001b[0m\n"
          ]
        }
      ]
    }
  ]
}